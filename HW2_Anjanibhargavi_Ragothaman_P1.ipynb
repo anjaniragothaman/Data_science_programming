{
 "cells": [
  {
   "cell_type": "markdown",
   "metadata": {},
   "source": [
    "# Affine Transformation of 2-d polygons"
   ]
  },
  {
   "cell_type": "code",
   "execution_count": 1,
   "metadata": {
    "collapsed": true
   },
   "outputs": [],
   "source": [
    "import numpy as np\n",
    "import matplotlib.pyplot as plt\n",
    "from matplotlib.path import Path\n",
    "from matplotlib.patches import Polygon\n",
    "from matplotlib.collections import PatchCollection\n",
    "from math import cos, sin, radians\n",
    "%matplotlib inline\n",
    "from ipywidgets import interactive, interact\n",
    "import ipywidgets as widgets"
   ]
  },
  {
   "cell_type": "code",
   "execution_count": 2,
   "metadata": {
    "collapsed": true
   },
   "outputs": [],
   "source": [
    "# function to create the polygon\n",
    "# N = number of vertices\n",
    "# t_x, t_y = translation along x and y axes\n",
    "# theta = rotation angle\n",
    "\n",
    "def create_poly(N=3,t_x=0.0,t_y=0.0,theta=0):\n",
    "    np.random.seed(1)\n",
    "    patches = []\n",
    "    xy = np.random.rand(N,2)*10\n",
    "    #print('xy_original:\\n',xy) \n",
    "    \n",
    "    # for translation\n",
    "    translate_by = np.array([t_x, t_y])\n",
    "    \n",
    "    # for rotation\n",
    "    cos_th = cos(radians(theta))\n",
    "    sin_th = sin(radians(theta))\n",
    "    rotation_matrix = np.array([[cos_th, -1*sin_th],[sin_th, cos_th]])\n",
    "    \n",
    "    #translation and rotation\n",
    "    xy_transformed = np.dot((xy + translate_by),rotation_matrix)\n",
    "    print('xy_transformed:\\n',xy_transformed)\n",
    "    \n",
    "    # make polygon\n",
    "    polygon = Polygon(xy_transformed, True) # Connected vertices = True or False\n",
    "    patches.append(polygon)\n",
    "    \n",
    "    # plot figure\n",
    "    fig, ax = plt.subplots()\n",
    "    p = PatchCollection(patches,alpha=0.2)\n",
    "    ax.add_collection(p)\n",
    "    plt.axis('square')\n",
    "    plt.xlim(-15.0,15.0)\n",
    "    plt.ylim(-15.0,15.0)\n",
    "    plt.grid()\n",
    "    return patches"
   ]
  },
  {
   "cell_type": "markdown",
   "metadata": {},
   "source": [
    "## Plot the polygon"
   ]
  },
  {
   "cell_type": "markdown",
   "metadata": {},
   "source": [
    "### No transformations"
   ]
  },
  {
   "cell_type": "code",
   "execution_count": 3,
   "metadata": {},
   "outputs": [
    {
     "name": "stdout",
     "output_type": "stream",
     "text": [
      "xy_transformed:\n",
      " [[  4.17022005e+00   7.20324493e+00]\n",
      " [  1.14374817e-03   3.02332573e+00]\n",
      " [  1.46755891e+00   9.23385948e-01]]\n"
     ]
    },
    {
     "data": {
      "image/png": "[encoded data removed]",
      "text/plain": [
       "<matplotlib.figure.Figure at 0x11286f358>"
      ]
     },
     "metadata": {},
     "output_type": "display_data"
    }
   ],
   "source": [
    "# plot the polygon\n",
    "patches = create_poly()"
   ]
  },
  {
   "cell_type": "markdown",
   "metadata": {},
   "source": [
    "### Translate the polygon"
   ]
  },
  {
   "cell_type": "code",
   "execution_count": 4,
   "metadata": {},
   "outputs": [
    {
     "name": "stdout",
     "output_type": "stream",
     "text": [
      "xy_transformed:\n",
      " [[ 5.07022005  7.70324493]\n",
      " [ 0.90114375  3.52332573]\n",
      " [ 2.36755891  1.42338595]]\n"
     ]
    },
    {
     "data": {
      "image/png": "[encoded data removed]",
      "text/plain": [
       "<matplotlib.figure.Figure at 0x113b15e48>"
      ]
     },
     "metadata": {},
     "output_type": "display_data"
    }
   ],
   "source": [
    "# translate the polygon\n",
    "t_x = 0.9\n",
    "t_y = 0.5\n",
    "patches = create_poly(3,t_x,t_y)\n"
   ]
  },
  {
   "cell_type": "markdown",
   "metadata": {},
   "source": [
    "### Do a rotation"
   ]
  },
  {
   "cell_type": "code",
   "execution_count": 5,
   "metadata": {},
   "outputs": [
    {
     "name": "stdout",
     "output_type": "stream",
     "text": [
      "xy_transformed:\n",
      " [[ 8.32330313 -0.00989403]\n",
      " [ 2.61884876  1.51067235]\n",
      " [ 1.53345514 -0.80925032]]\n"
     ]
    },
    {
     "data": {
      "image/png": "[encoded data removed]",
      "text/plain": [
       "<matplotlib.figure.Figure at 0x113b0a908>"
      ]
     },
     "metadata": {},
     "output_type": "display_data"
    }
   ],
   "source": [
    "theta = 60; t_x = 0. ; t_y = 0.\n",
    "patches = create_poly(3,t_x,t_y,theta)"
   ]
  },
  {
   "cell_type": "markdown",
   "metadata": {},
   "source": [
    "## Interactive plot widget animation"
   ]
  },
  {
   "cell_type": "code",
   "execution_count": 6,
   "metadata": {},
   "outputs": [
    {
     "data": {
      "application/vnd.jupyter.widget-view+json": {
       "model_id": "7ff3b84d424b4f6ab2c721b230eb60d5",
       "version_major": 2,
       "version_minor": 0
      },
      "text/plain": [
       "A Jupyter Widget"
      ]
     },
     "metadata": {},
     "output_type": "display_data"
    }
   ],
   "source": [
    "# Interactive plot\n",
    "interactive_plot = interactive(create_poly, N=(3,10,1), t_x=(-5.,5.,0.1),t_y=(-5.,5.,0.1), theta=(0,360,10))\n",
    "# avoid flickering\n",
    "output = interactive_plot.children[-1]\n",
    "output.layout.height = '400px'\n",
    "interactive_plot"
   ]
  },
  {
   "cell_type": "markdown",
   "metadata": {},
   "source": [
    "# References\n",
    "1. [Polygon creation](https://matplotlib.org/search.html?q=Circles%2C%20Wedges%20and%20Polygons&check_keywords=yes&area=default)\n",
    "3. [iPython widgets](https://ipywidgets.readthedocs.io/en/stable/)"
   ]
  },
  {
   "cell_type": "code",
   "execution_count": 7,
   "metadata": {},
   "outputs": [
    {
     "data": {
      "application/vnd.jupyter.widget-view+json": {
       "model_id": "e7c4a26770494b6c9f456dabb0a4d57c",
       "version_major": 2,
       "version_minor": 0
      },
      "text/plain": [
       "A Jupyter Widget"
      ]
     },
     "metadata": {},
     "output_type": "display_data"
    }
   ],
   "source": [
    "widgets.Dropdown(\n",
    "    options=['1', '2', '3'],\n",
    "    value='2',\n",
    "    description='Number:',\n",
    "    disabled=False,\n",
    ")"
   ]
  },
  {
   "cell_type": "code",
   "execution_count": 8,
   "metadata": {},
   "outputs": [
    {
     "data": {
      "application/vnd.jupyter.widget-view+json": {
       "model_id": "3616d4e748eb4b92a15f7d39d34811c8",
       "version_major": 2,
       "version_minor": 0
      },
      "text/plain": [
       "A Jupyter Widget"
      ]
     },
     "metadata": {},
     "output_type": "display_data"
    }
   ],
   "source": [
    "\n",
    "widgets.RadioButtons(\n",
    "    options=['pepperoni', 'pineapple', 'anchovies'],\n",
    "#     value='pineapple',\n",
    "    description='Pizza topping:',\n",
    "    disabled=False\n",
    ")"
   ]
  },
  {
   "cell_type": "code",
   "execution_count": 9,
   "metadata": {},
   "outputs": [
    {
     "data": {
      "application/vnd.jupyter.widget-view+json": {
       "model_id": "9de7cb619dc94389b05e329a1311d13b",
       "version_major": 2,
       "version_minor": 0
      },
      "text/plain": [
       "A Jupyter Widget"
      ]
     },
     "metadata": {},
     "output_type": "display_data"
    }
   ],
   "source": [
    "widgets.Select(\n",
    "    options=['Linux', 'Windows', 'OSX'],\n",
    "    value='OSX',\n",
    "    # rows=10,\n",
    "    description='OS:',\n",
    "    disabled=False\n",
    ")"
   ]
  },
  {
   "cell_type": "code",
   "execution_count": 10,
   "metadata": {},
   "outputs": [
    {
     "data": {
      "application/vnd.jupyter.widget-view+json": {
       "model_id": "e59d4682e98a4c199a1824169f5a7551",
       "version_major": 2,
       "version_minor": 0
      },
      "text/plain": [
       "A Jupyter Widget"
      ]
     },
     "metadata": {},
     "output_type": "display_data"
    }
   ],
   "source": [
    "widgets.ToggleButtons(\n",
    "    options=['Slow', 'Regular', 'Fast'],\n",
    "    description='Speed:',\n",
    "    disabled=False,\n",
    "    button_style='', # 'success', 'info', 'warning', 'danger' or ''\n",
    "    tooltips=['Description of slow', 'Description of regular', 'Description of fast'],\n",
    "#     icons=['check'] * 3\n",
    ")"
   ]
  },
  {
   "cell_type": "code",
   "execution_count": 11,
   "metadata": {},
   "outputs": [
    {
     "data": {
      "application/vnd.jupyter.widget-view+json": {
       "model_id": "4eff69c10cb84cc5a4c62701465ec807",
       "version_major": 2,
       "version_minor": 0
      },
      "text/plain": [
       "A Jupyter Widget"
      ]
     },
     "metadata": {},
     "output_type": "display_data"
    }
   ],
   "source": [
    "widgets.SelectMultiple(\n",
    "    options=['Apples', 'Oranges', 'Pears'],\n",
    "    value=['Oranges'],\n",
    "    #rows=10,\n",
    "    description='Fruits',\n",
    "    disabled=False\n",
    ")"
   ]
  },
  {
   "cell_type": "code",
   "execution_count": 12,
   "metadata": {},
   "outputs": [
    {
     "data": {
      "application/vnd.jupyter.widget-view+json": {
       "model_id": "9b91afe4ea374ecea823fe9970dbb505",
       "version_major": 2,
       "version_minor": 0
      },
      "text/plain": [
       "A Jupyter Widget"
      ]
     },
     "metadata": {},
     "output_type": "display_data"
    }
   ],
   "source": [
    "widgets.DatePicker(\n",
    "    description='Pick a Date',\n",
    "    disabled=False\n",
    ")"
   ]
  },
  {
   "cell_type": "code",
   "execution_count": 13,
   "metadata": {
    "collapsed": true
   },
   "outputs": [],
   "source": [
    "color = widgets.ColorPicker(\n",
    "    concise=False,\n",
    "    description='Pick a color',\n",
    "    value='blue',\n",
    "    disabled=False\n",
    ")"
   ]
  },
  {
   "cell_type": "code",
   "execution_count": 14,
   "metadata": {},
   "outputs": [
    {
     "data": {
      "application/vnd.jupyter.widget-view+json": {
       "model_id": "97dec1e34a34490288542319325d6e33",
       "version_major": 2,
       "version_minor": 0
      },
      "text/plain": [
       "A Jupyter Widget"
      ]
     },
     "metadata": {},
     "output_type": "display_data"
    }
   ],
   "source": [
    "accordion = widgets.Accordion(children=[widgets.IntSlider(), widgets.Text(),color])\n",
    "accordion.set_title(0, 'Slider')\n",
    "accordion.set_title(1, 'Text')\n",
    "accordion.set_title(2, 'Colour')\n",
    "accordion"
   ]
  },
  {
   "cell_type": "code",
   "execution_count": 15,
   "metadata": {},
   "outputs": [
    {
     "data": {
      "application/vnd.jupyter.widget-view+json": {
       "model_id": "880a05e37ea84fd7a179098f82ee3e75",
       "version_major": 2,
       "version_minor": 0
      },
      "text/plain": [
       "A Jupyter Widget"
      ]
     },
     "metadata": {},
     "output_type": "display_data"
    }
   ],
   "source": [
    "widgets.Checkbox(\n",
    "    value=False,\n",
    "    description='Check me',\n",
    "    disabled=False\n",
    ")"
   ]
  },
  {
   "cell_type": "code",
   "execution_count": 16,
   "metadata": {},
   "outputs": [
    {
     "data": {
      "application/vnd.jupyter.widget-view+json": {
       "model_id": "cfd31b2230824fde8f3db5bb675c4163",
       "version_major": 2,
       "version_minor": 0
      },
      "text/plain": [
       "A Jupyter Widget"
      ]
     },
     "metadata": {},
     "output_type": "display_data"
    }
   ],
   "source": [
    "from ipywidgets import Layout, Button, Box\n",
    "\n",
    "items = [\n",
    "    Button(description='weight=1'),\n",
    "    Button(description='weight=2', layout=Layout(flex='2 1 auto', width='auto')),\n",
    "    Button(description='weight=1'),\n",
    " ]\n",
    "\n",
    "box_layout = Layout(display='flex',\n",
    "                    flex_flow='row',\n",
    "                    align_items='stretch',\n",
    "                    border='solid',\n",
    "                    width='50%')\n",
    "box = Box(children=items, layout=box_layout)\n",
    "box"
   ]
  },
  {
   "cell_type": "code",
   "execution_count": 17,
   "metadata": {},
   "outputs": [
    {
     "data": {
      "application/vnd.jupyter.widget-view+json": {
       "model_id": "a5929fb5e37f4d4a8dce5ec1a8adb8a5",
       "version_major": 2,
       "version_minor": 0
      },
      "text/plain": [
       "A Jupyter Widget"
      ]
     },
     "metadata": {},
     "output_type": "display_data"
    }
   ],
   "source": [
    "from ipywidgets import Layout, Button, Box, FloatText, Textarea, Dropdown, Label, IntSlider, FloatSlider\n",
    "\n",
    "form_item_layout = Layout(\n",
    "    display='flex-grow',\n",
    "    flex_flow='row',\n",
    "    justify_content='space-between'\n",
    ")\n",
    "\n",
    "form_items = [\n",
    "    Box([Label(value='Age of the captain'), IntSlider(min=40, max=60)], layout=form_item_layout),\n",
    "    Box([Label(value='Egg style'),\n",
    "         Dropdown(options=['Scrambled', 'Sunny side up', 'Over easy'])], layout=form_item_layout),\n",
    "    Box([Label(value='Ship size'),\n",
    "         FloatText()], layout=form_item_layout),\n",
    "    Box([Label(value='Information'),\n",
    "         Textarea()], layout=form_item_layout)\n",
    "]\n",
    "\n",
    "form = Box(form_items, layout=Layout(\n",
    "    display='flex',\n",
    "    flex_flow='column',\n",
    "    border='solid 2px',\n",
    "    align_items='stretch',\n",
    "    width='50%'\n",
    "))\n",
    "form"
   ]
  },
  {
   "cell_type": "code",
   "execution_count": 18,
   "metadata": {
    "collapsed": true
   },
   "outputs": [],
   "source": [
    "from IPython.display import display\n",
    "def f(a, b):\n",
    "    display(a + b)\n",
    "    return a+b"
   ]
  },
  {
   "cell_type": "code",
   "execution_count": 19,
   "metadata": {},
   "outputs": [
    {
     "data": {
      "application/vnd.jupyter.widget-view+json": {
       "model_id": "0a06203c39944b2795d8065820cc6a79",
       "version_major": 2,
       "version_minor": 0
      },
      "text/plain": [
       "A Jupyter Widget"
      ]
     },
     "metadata": {},
     "output_type": "display_data"
    }
   ],
   "source": [
    "w = interactive(f, a=10, b=20)\n",
    "w"
   ]
  },
  {
   "cell_type": "code",
   "execution_count": 20,
   "metadata": {},
   "outputs": [
    {
     "data": {
      "application/vnd.jupyter.widget-view+json": {
       "model_id": "91b7ee31ef304fabb27142e3a3225a1a",
       "version_major": 2,
       "version_minor": 0
      },
      "text/plain": [
       "A Jupyter Widget"
      ]
     },
     "metadata": {},
     "output_type": "display_data"
    },
    {
     "data": {
      "application/vnd.jupyter.widget-view+json": {
       "model_id": "989eda3bdb0d473b9002a73f7d0344bc",
       "version_major": 2,
       "version_minor": 0
      },
      "text/plain": [
       "A Jupyter Widget"
      ]
     },
     "metadata": {},
     "output_type": "display_data"
    }
   ],
   "source": [
    "a = widgets.IntSlider()\n",
    "b = widgets.IntSlider()\n",
    "c = widgets.IntSlider()\n",
    "ui = widgets.HBox([a, b, c])\n",
    "def f(a, b, c):\n",
    "    print((a, b, c))\n",
    "\n",
    "out = widgets.interactive_output(f, {'a': a, 'b': b, 'c': c})\n",
    "\n",
    "display(ui, out)"
   ]
  },
  {
   "cell_type": "code",
   "execution_count": 21,
   "metadata": {},
   "outputs": [
    {
     "data": {
      "application/vnd.jupyter.widget-view+json": {
       "model_id": "ab4255d7b69e49f7826827edf5ea5ae6",
       "version_major": 2,
       "version_minor": 0
      },
      "text/plain": [
       "A Jupyter Widget"
      ]
     },
     "metadata": {},
     "output_type": "display_data"
    }
   ],
   "source": [
    "x_widget = FloatSlider(min=0.0, max=10.0, step=0.05)\n",
    "y_widget = FloatSlider(min=0.5, max=10.0, step=0.05, value=5.0)\n",
    "\n",
    "def update_x_range(*args):\n",
    "    x_widget.max = 2.0 * y_widget.value\n",
    "y_widget.observe(update_x_range, 'value')\n",
    "\n",
    "def printer(x, y):\n",
    "    print(x, y)\n",
    "interact(printer,x=x_widget, y=y_widget);"
   ]
  },
  {
   "cell_type": "code",
   "execution_count": 32,
   "metadata": {},
   "outputs": [
    {
     "data": {
      "application/vnd.jupyter.widget-view+json": {
       "model_id": "4cf72f3efa0d4ed182ad95c19b300aff",
       "version_major": 2,
       "version_minor": 0
      },
      "text/plain": [
       "A Jupyter Widget"
      ]
     },
     "metadata": {},
     "output_type": "display_data"
    }
   ],
   "source": [
    "w = widgets.Text(\n",
    "    value='Type your filename',\n",
    "    #placeholder='Type something',\n",
    "    description='Input filename:',\n",
    "    disabled=False, \n",
    "    style={'description_width': 'initial'}\n",
    ")\n",
    "w"
   ]
  },
  {
   "cell_type": "code",
   "execution_count": 34,
   "metadata": {},
   "outputs": [
    {
     "data": {
      "text/plain": [
       "'test.txt'"
      ]
     },
     "execution_count": 34,
     "metadata": {},
     "output_type": "execute_result"
    }
   ],
   "source": [
    "w.value"
   ]
  },
  {
   "cell_type": "code",
   "execution_count": null,
   "metadata": {
    "collapsed": true
   },
   "outputs": [],
   "source": []
  }
 ],
 "metadata": {
  "kernelspec": {
   "display_name": "Python 3",
   "language": "python",
   "name": "python3"
  },
  "language_info": {
   "codemirror_mode": {
    "name": "ipython",
    "version": 3
   },
   "file_extension": ".py",
   "mimetype": "text/x-python",
   "name": "python",
   "nbconvert_exporter": "python",
   "pygments_lexer": "ipython3",
   "version": "3.6.4"
  },
  "widgets": {
   "application/vnd.jupyter.widget-state+json": {
    "state": {
     "01fef6cda3ae472dbd9b88d3e58e1c35": {
      "model_module": "@jupyter-widgets/output",
      "model_module_version": "1.0.0",
      "model_name": "OutputModel",
      "state": {
       "layout": "IPY_MODEL_92b9b633e45541139e9d888567215317",
       "outputs": [
        {
         "data": {
          "text/plain": "10"
         },
         "metadata": {},
         "output_type": "display_data"
        }
       ]
      }
     },
     "027b2a1ead3a421eb0b4712267394c9e": {
      "model_module": "@jupyter-widgets/output",
      "model_module_version": "1.0.0",
      "model_name": "OutputModel",
      "state": {
       "layout": "IPY_MODEL_bdbebc7670664cafa9680e578708fbe3",
       "outputs": [
        {
         "name": "stdout",
         "output_type": "stream",
         "text": "xy_transformed:\n [[ 0.57051729  0.56452876]\n [ 0.48844183  0.33647775]\n [ 0.37586818  0.53203587]]\n"
        },
        {
         "data": {
          "image/png": "iVBORw0KGgoAAAANSUhEUgAAAQgAAAD8CAYAAACLgjpEAAAABHNCSVQICAgIfAhkiAAAAAlwSFlz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\nEelLASEifSkgRKSv/w+u8MFXtrEzOwAAAABJRU5ErkJggg==\n",
          "text/plain": "<matplotlib.figure.Figure at 0x11285ce10>"
         },
         "metadata": {},
         "output_type": "display_data"
        }
       ]
      }
     },
     "02d08d17b6ed43f7998ad2afca905640": {
      "model_module": "@jupyter-widgets/controls",
      "model_module_version": "1.0.0",
      "model_name": "SliderStyleModel",
      "state": {
       "description_width": ""
      }
     },
     "039545ebc693427693a20a3a36aaa173": {
      "model_module": "@jupyter-widgets/controls",
      "model_module_version": "1.0.0",
      "model_name": "IntSliderModel",
      "state": {
       "description": "N",
       "layout": "IPY_MODEL_469b40da482949c3986e5425a1888849",
       "max": 10,
       "min": 3,
       "style": "IPY_MODEL_29532d0ce6184c67969823bdbba6b761",
       "value": 3
      }
     },
     "03d8f3c54d124f078f08d389312f4df8": {
      "model_module": "@jupyter-widgets/controls",
      "model_module_version": "1.0.0",
      "model_name": "VBoxModel",
      "state": {
       "_dom_classes": [
        "widget-interact"
       ],
       "children": [
        "IPY_MODEL_7b2ab2a70e3d4c34bcae942c0bd642de",
        "IPY_MODEL_c9ffe76e0f3945fba934f75f00895da0",
        "IPY_MODEL_0f1b262301624e99bb9bffd7f2ed2bbb",
        "IPY_MODEL_dd95eea26d224f8ab0c85781bfabf13c",
        "IPY_MODEL_f133031cc96f4c5f9c55fa7b8b38ed74"
       ],
       "layout": "IPY_MODEL_e8b0d799f3ce4645829de27a16b81f38"
      }
     },
     "03d93828831b42f391a110afd58298b1": {
      "model_module": "@jupyter-widgets/controls",
      "model_module_version": "1.0.0",
      "model_name": "SliderStyleModel",
      "state": {
       "description_width": ""
      }
     },
     "0441a4d95aee4dd5aa95a348e3197875": {
      "model_module": "@jupyter-widgets/output",
      "model_module_version": "1.0.0",
      "model_name": "OutputModel",
      "state": {
       "layout": "IPY_MODEL_ddf5d1dc49f24fe591efd8c19754c260",
       "outputs": [
        {
         "data": {
          "text/plain": "30"
         },
         "metadata": {},
         "output_type": "display_data"
        }
       ]
      }
     },
     "046d4205c2fd4324859cef39e6e9f8f9": {
      "model_module": "@jupyter-widgets/controls",
      "model_module_version": "1.0.0",
      "model_name": "FloatSliderModel",
      "state": {
       "description": "t_x",
       "layout": "IPY_MODEL_b8656d1dd58849cbb7dc6db0f4fd7753",
       "max": 1,
       "step": 0.01,
       "style": "IPY_MODEL_caf4f36ff75645f59f04a45486b1dddb",
       "value": 0.33
      }
     },
     "048121a059294e91a4f10c541366dcd0": {
      "model_module": "@jupyter-widgets/base",
      "model_module_version": "1.0.0",
      "model_name": "LayoutModel",
      "state": {}
     },
     "05420f5787904b80930686ed6835ec95": {
      "model_module": "@jupyter-widgets/controls",
      "model_module_version": "1.0.0",
      "model_name": "SliderStyleModel",
      "state": {
       "description_width": ""
      }
     },
     "0597622befdb45a28f38581d9a4e4aca": {
      "model_module": "@jupyter-widgets/output",
      "model_module_version": "1.0.0",
      "model_name": "OutputModel",
      "state": {
       "layout": "IPY_MODEL_5c2b7f8b95f84215bbdf687347dee645",
       "outputs": [
        {
         "data": {
          "text/plain": "True"
         },
         "metadata": {},
         "output_type": "display_data"
        }
       ]
      }
     },
     "069fef6ca9cc4bf7994991a15052eaa2": {
      "model_module": "@jupyter-widgets/output",
      "model_module_version": "1.0.0",
      "model_name": "OutputModel",
      "state": {
       "layout": "IPY_MODEL_eadbb5bd67cb42dcb773e3f5491c4831",
       "outputs": [
        {
         "name": "stdout",
         "output_type": "stream",
         "text": "xy_original:\n [[ 0.68950928  0.57797539]\n [ 0.04968657  0.1790961 ]\n [ 0.50718443  0.4092611 ]]\nxy_transformed:\n [[-0.87143199 -0.97141073]\n [-0.17206496 -0.68969536]\n [-0.66258013 -0.83691997]]\n"
        },
        {
         "data": {
          "image/png": "iVBORw0KGgoAAAANSUhEUgAAAQoAAAD8CAYAAACPd+p5AAAABHNCSVQICAgIfAhkiAAAAAlwSFlz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\nCVJQiEiQgkJEghQUIhKkoBCRoP8HUz2Hk0VzBD0AAAAASUVORK5CYII=\n",
          "text/plain": "<matplotlib.figure.Figure at 0x11b6b7f60>"
         },
         "metadata": {},
         "output_type": "display_data"
        },
        {
         "data": {
          "text/plain": "[<matplotlib.patches.Polygon at 0x11b0538d0>]"
         },
         "metadata": {},
         "output_type": "display_data"
        }
       ]
      }
     },
     "06e61f1cb19045f1a292ec4b144bc986": {
      "model_module": "@jupyter-widgets/base",
      "model_module_version": "1.0.0",
      "model_name": "LayoutModel",
      "state": {}
     },
     "0834746bdd704544a33d55a73793d37d": {
      "model_module": "@jupyter-widgets/controls",
      "model_module_version": "1.0.0",
      "model_name": "SliderStyleModel",
      "state": {
       "description_width": ""
      }
     },
     "08ecf648f463414b909d24705941810c": {
      "model_module": "@jupyter-widgets/controls",
      "model_module_version": "1.0.0",
      "model_name": "SliderStyleModel",
      "state": {
       "description_width": ""
      }
     },
     "090d6e6e78e749c59f4a78590bd11195": {
      "model_module": "@jupyter-widgets/controls",
      "model_module_version": "1.0.0",
      "model_name": "SliderStyleModel",
      "state": {
       "description_width": ""
      }
     },
     "0912786217dc4a228eeaccb017605710": {
      "model_module": "@jupyter-widgets/base",
      "model_module_version": "1.0.0",
      "model_name": "LayoutModel",
      "state": {}
     },
     "096e05a4b476446cb0dfc07070b0a3c5": {
      "model_module": "@jupyter-widgets/controls",
      "model_module_version": "1.0.0",
      "model_name": "FloatSliderModel",
      "state": {
       "layout": "IPY_MODEL_acadbd5eb5f44c279623a835dbd51d75",
       "step": 0.1,
       "style": "IPY_MODEL_7e5dd928285a48efa741d0965beb5aee"
      }
     },
     "09b26e5d0e8e45cca60ab910146cc62d": {
      "model_module": "@jupyter-widgets/controls",
      "model_module_version": "1.0.0",
      "model_name": "BoundedFloatTextModel",
      "state": {
       "description": "Text:",
       "layout": "IPY_MODEL_f661bc8893b24c6cb64619fb42cae8ba",
       "max": 10,
       "step": 0.01,
       "style": "IPY_MODEL_fbc78adbc617465f9e886aa6124ca28e",
       "value": 7.66
      }
     },
     "09bc3edb05404393be8a7e1a9213ea6d": {
      "model_module": "@jupyter-widgets/controls",
      "model_module_version": "1.0.0",
      "model_name": "SliderStyleModel",
      "state": {
       "description_width": ""
      }
     },
     "09e7e7f101d841d6beb7df3e9fdd0ced": {
      "model_module": "@jupyter-widgets/controls",
      "model_module_version": "1.0.0",
      "model_name": "CheckboxModel",
      "state": {
       "description": "x",
       "disabled": false,
       "layout": "IPY_MODEL_f01ae03df95f4eaf93c728e2e79a2a9a",
       "style": "IPY_MODEL_7a9b80a707e04e2299f850b354d86845",
       "value": true
      }
     },
     "0a0ed3e9033c4caea1624ee909f16608": {
      "model_module": "@jupyter-widgets/controls",
      "model_module_version": "1.0.0",
      "model_name": "SliderStyleModel",
      "state": {
       "description_width": ""
      }
     },
     "0a99aab8b6654d469f4d72f6874ac254": {
      "model_module": "@jupyter-widgets/controls",
      "model_module_version": "1.0.0",
      "model_name": "VBoxModel",
      "state": {
       "_dom_classes": [
        "widget-interact"
       ],
       "children": [
        "IPY_MODEL_57d9c9d83bfc4365a0f9b1d89613053f",
        "IPY_MODEL_ed6d6ea447b54566b3d07537e5e9d724",
        "IPY_MODEL_880e28c2e11843f883d16bea3c5dc903",
        "IPY_MODEL_dc9f3f76bcad4c439d08f514eceb7770",
        "IPY_MODEL_84f02d2b75bf4105bf65c5b63c2e89f8"
       ],
       "layout": "IPY_MODEL_a4b3903d92674e41901fdb61fc94f6e3"
      }
     },
     "0aa4612dc44d4ca2b294d6fb1446468d": {
      "model_module": "@jupyter-widgets/controls",
      "model_module_version": "1.0.0",
      "model_name": "SliderStyleModel",
      "state": {
       "description_width": ""
      }
     },
     "0b37af54e3e648959f44b3579efcfbeb": {
      "model_module": "@jupyter-widgets/base",
      "model_module_version": "1.0.0",
      "model_name": "LayoutModel",
      "state": {}
     },
     "0c055b4cf2e143cf984d598da3965018": {
      "model_module": "@jupyter-widgets/output",
      "model_module_version": "1.0.0",
      "model_name": "OutputModel",
      "state": {
       "layout": "IPY_MODEL_fea499e6fd8c400eb10aa46a1e18395e",
       "outputs": [
        {
         "name": "stdout",
         "output_type": "stream",
         "text": "xy_transformed:\n [[ 0.68950928  0.57797539]\n [ 0.04968657  0.1790961 ]\n [ 0.50718443  0.4092611 ]]\n"
        },
        {
         "data": {
          "image/png": "iVBORw0KGgoAAAANSUhEUgAAAQIAAAD8CAYAAACcoKqNAAAABHNCSVQICAgIfAhkiAAAAAlwSFlz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\nAAAASUVORK5CYII=\n",
          "text/plain": "<matplotlib.figure.Figure at 0x11b4030f0>"
         },
         "metadata": {},
         "output_type": "display_data"
        }
       ]
      }
     },
     "0c8b7fc37f834336996445a21cda8dc3": {
      "model_module": "@jupyter-widgets/controls",
      "model_module_version": "1.0.0",
      "model_name": "FloatSliderModel",
      "state": {
       "continuous_update": false,
       "description": "t_x",
       "layout": "IPY_MODEL_9dd8701d9bb749e68c5d147f795b4fce",
       "max": 1,
       "readout_format": ".1f",
       "step": 0.01,
       "style": "IPY_MODEL_16758b3c50c248aaa42121b779fb3664",
       "value": 0.9
      }
     },
     "0cd04c324faa4590ae54247cc9407626": {
      "model_module": "@jupyter-widgets/base",
      "model_module_version": "1.0.0",
      "model_name": "LayoutModel",
      "state": {}
     },
     "0d33a65cd2324f279bcff210d827da25": {
      "model_module": "@jupyter-widgets/base",
      "model_module_version": "1.0.0",
      "model_name": "LayoutModel",
      "state": {}
     },
     "0d7e2c3a731f445ab51c579ef2598345": {
      "model_module": "@jupyter-widgets/base",
      "model_module_version": "1.0.0",
      "model_name": "LayoutModel",
      "state": {}
     },
     "0d90f3d7c8e74460a00596348fbe4814": {
      "model_module": "@jupyter-widgets/base",
      "model_module_version": "1.0.0",
      "model_name": "LayoutModel",
      "state": {}
     },
     "0dad3002ac60483cb722e7d2e6764a39": {
      "model_module": "@jupyter-widgets/controls",
      "model_module_version": "1.0.0",
      "model_name": "IntSliderModel",
      "state": {
       "description": "N",
       "layout": "IPY_MODEL_8b8c853db42748dab319de67cf8aea47",
       "max": 10,
       "min": 3,
       "style": "IPY_MODEL_8ce29d0c7cdb4bcdb83c13bb0d20517a",
       "value": 3
      }
     },
     "0df12cab14d442f5a92bd60e77044a9f": {
      "model_module": "@jupyter-widgets/base",
      "model_module_version": "1.0.0",
      "model_name": "LayoutModel",
      "state": {}
     },
     "0df8f7e6a9cc4b31bfe4c54f5fad376e": {
      "model_module": "@jupyter-widgets/controls",
      "model_module_version": "1.0.0",
      "model_name": "FloatSliderModel",
      "state": {
       "layout": "IPY_MODEL_c1a1568abc17417f9563aed0432bb2fa",
       "step": 0.1,
       "style": "IPY_MODEL_0fc3f1b68e9a444fa597ace94ee51203"
      }
     },
     "0e63ebf918a847219cb3fcceabc46090": {
      "model_module": "@jupyter-widgets/controls",
      "model_module_version": "1.0.0",
      "model_name": "SliderStyleModel",
      "state": {
       "description_width": ""
      }
     },
     "0e6a2d665fda45ac97fe68533cdb2119": {
      "model_module": "@jupyter-widgets/base",
      "model_module_version": "1.0.0",
      "model_name": "LayoutModel",
      "state": {}
     },
     "0e7a55a43dc84d20b004a4aea3d6d044": {
      "model_module": "@jupyter-widgets/controls",
      "model_module_version": "1.0.0",
      "model_name": "SliderStyleModel",
      "state": {
       "description_width": ""
      }
     },
     "0e877985479c43229234821dd8286f76": {
      "model_module": "@jupyter-widgets/controls",
      "model_module_version": "1.0.0",
      "model_name": "SliderStyleModel",
      "state": {
       "description_width": ""
      }
     },
     "0ea9fc9d413f493299d1ea195339246e": {
      "model_module": "@jupyter-widgets/controls",
      "model_module_version": "1.0.0",
      "model_name": "SliderStyleModel",
      "state": {
       "description_width": ""
      }
     },
     "0eeb50a303e84c059198ebe50d4c1d70": {
      "model_module": "@jupyter-widgets/controls",
      "model_module_version": "1.0.0",
      "model_name": "VBoxModel",
      "state": {
       "_dom_classes": [
        "widget-interact"
       ],
       "layout": "IPY_MODEL_96e1e3e413c04f47a5b5be657bba355f"
      }
     },
     "0f1b262301624e99bb9bffd7f2ed2bbb": {
      "model_module": "@jupyter-widgets/controls",
      "model_module_version": "1.0.0",
      "model_name": "FloatSliderModel",
      "state": {
       "description": "t_y",
       "layout": "IPY_MODEL_34d59f6b170940a48ed36938dc2def9a",
       "max": 1,
       "step": 0.01,
       "style": "IPY_MODEL_4aed75e58cce434c89cf1177d4facce9"
      }
     },
     "0f71e86de53b4349bb3b9faf5d3595b8": {
      "model_module": "@jupyter-widgets/controls",
      "model_module_version": "1.0.0",
      "model_name": "SliderStyleModel",
      "state": {
       "description_width": ""
      }
     },
     "0fad5749ebe04da0ae34c93fa1de6cda": {
      "model_module": "@jupyter-widgets/controls",
      "model_module_version": "1.0.0",
      "model_name": "SliderStyleModel",
      "state": {
       "description_width": ""
      }
     },
     "0fc3f1b68e9a444fa597ace94ee51203": {
      "model_module": "@jupyter-widgets/controls",
      "model_module_version": "1.0.0",
      "model_name": "SliderStyleModel",
      "state": {
       "description_width": ""
      }
     },
     "10106b4c8067469cbe560484d2151407": {
      "model_module": "@jupyter-widgets/controls",
      "model_module_version": "1.0.0",
      "model_name": "SliderStyleModel",
      "state": {
       "description_width": ""
      }
     },
     "107412c640c04c6698ff279bda94dd02": {
      "model_module": "@jupyter-widgets/base",
      "model_module_version": "1.0.0",
      "model_name": "LayoutModel",
      "state": {}
     },
     "107995e3235e4b28b9c3133f63bbc43a": {
      "model_module": "@jupyter-widgets/base",
      "model_module_version": "1.0.0",
      "model_name": "LayoutModel",
      "state": {}
     },
     "10a04867d12744358372696c6630b3aa": {
      "model_module": "@jupyter-widgets/base",
      "model_module_version": "1.0.0",
      "model_name": "LayoutModel",
      "state": {}
     },
     "10e9b53473e54344aa20f495803d3b60": {
      "model_module": "@jupyter-widgets/controls",
      "model_module_version": "1.0.0",
      "model_name": "IntSliderModel",
      "state": {
       "description": "theta",
       "layout": "IPY_MODEL_2fb14844591d4a26aed905ac1e143a31",
       "max": 360,
       "step": 10,
       "style": "IPY_MODEL_83c053d818094ae8b4a819bfee0af58f"
      }
     },
     "1101573b90974332af95e0f7f5f134b3": {
      "model_module": "@jupyter-widgets/base",
      "model_module_version": "1.0.0",
      "model_name": "LayoutModel",
      "state": {}
     },
     "1103407051554f4987e658b70de88014": {
      "model_module": "@jupyter-widgets/controls",
      "model_module_version": "1.0.0",
      "model_name": "SliderStyleModel",
      "state": {
       "description_width": ""
      }
     },
     "117702683dee445490acb3062c34298e": {
      "model_module": "@jupyter-widgets/controls",
      "model_module_version": "1.0.0",
      "model_name": "SliderStyleModel",
      "state": {
       "description_width": ""
      }
     },
     "118c07dfcfec477caf9cee6c59aba916": {
      "model_module": "@jupyter-widgets/controls",
      "model_module_version": "1.0.0",
      "model_name": "TextModel",
      "state": {
       "description": "x",
       "layout": "IPY_MODEL_4099e5faa24844cc9e21b794a92db31f",
       "style": "IPY_MODEL_942227e78be84c8886acf0b37a669fd3",
       "value": "Hello"
      }
     },
     "11a29a9832a844b5be6f7227b034e08e": {
      "model_module": "@jupyter-widgets/base",
      "model_module_version": "1.0.0",
      "model_name": "LayoutModel",
      "state": {}
     },
     "11b67bdc0b8f49b88f3f9b5ec5ded1e1": {
      "model_module": "@jupyter-widgets/controls",
      "model_module_version": "1.0.0",
      "model_name": "IntSliderModel",
      "state": {
       "description": "N",
       "layout": "IPY_MODEL_1325b73947a945cbb8ed45258013e682",
       "max": 10,
       "min": 3,
       "style": "IPY_MODEL_67c0e60307b649d295c317029bfa9dbe",
       "value": 3
      }
     },
     "11ce16beee4e4cda9f59e649a2994501": {
      "model_module": "@jupyter-widgets/controls",
      "model_module_version": "1.0.0",
      "model_name": "VBoxModel",
      "state": {
       "_dom_classes": [
        "widget-interact"
       ],
       "children": [
        "IPY_MODEL_039545ebc693427693a20a3a36aaa173",
        "IPY_MODEL_e568dc942be34171bd64334004cb041a",
        "IPY_MODEL_6996a8bfffb342eeb613e8ac55c29a6a",
        "IPY_MODEL_f881731f88924c93b3392f7334f9658b",
        "IPY_MODEL_4a9aa6b0051045e89eeabb217584c2d8"
       ],
       "layout": "IPY_MODEL_5df2d37f287f4dd287d619cd9151d2eb"
      }
     },
     "1250feff5b194704aafeb628deeefefa": {
      "model_module": "@jupyter-widgets/controls",
      "model_module_version": "1.0.0",
      "model_name": "IntRangeSliderModel",
      "state": {
       "_model_name": "IntRangeSliderModel",
       "_view_name": "IntRangeSliderView",
       "layout": "IPY_MODEL_9c8920f6b99249b7a1d4d748547406f1",
       "style": "IPY_MODEL_05420f5787904b80930686ed6835ec95",
       "value": [
        25,
        75
       ]
      }
     },
     "12dd96a14d4d4875b3de4084f146f1f1": {
      "model_module": "@jupyter-widgets/base",
      "model_module_version": "1.0.0",
      "model_name": "LayoutModel",
      "state": {}
     },
     "1325b73947a945cbb8ed45258013e682": {
      "model_module": "@jupyter-widgets/base",
      "model_module_version": "1.0.0",
      "model_name": "LayoutModel",
      "state": {}
     },
     "136343b3d80d428c8893f059954dbb19": {
      "model_module": "@jupyter-widgets/controls",
      "model_module_version": "1.0.0",
      "model_name": "VBoxModel",
      "state": {
       "_dom_classes": [
        "widget-interact"
       ],
       "children": [
        "IPY_MODEL_ce3394029f9d45a49a0894a530df025f",
        "IPY_MODEL_046d4205c2fd4324859cef39e6e9f8f9",
        "IPY_MODEL_df4c7d427fd346fe8ff64f10b6a21b38",
        "IPY_MODEL_9fcb961c81744fe48ab8a9c779c14fc1",
        "IPY_MODEL_20d5864081c34cd2b56ceaff39d71aac"
       ],
       "layout": "IPY_MODEL_705389294ef34126930c784b8024c397"
      }
     },
     "1376701dec1b4c00b127459220a4b964": {
      "model_module": "@jupyter-widgets/base",
      "model_module_version": "1.0.0",
      "model_name": "LayoutModel",
      "state": {}
     },
     "13f0fc73c53f431a9bcf0cccf2a25f13": {
      "model_module": "@jupyter-widgets/controls",
      "model_module_version": "1.0.0",
      "model_name": "SliderStyleModel",
      "state": {
       "description_width": ""
      }
     },
     "147bc3384ccf436e8eb8d7d23c2f8b36": {
      "model_module": "@jupyter-widgets/controls",
      "model_module_version": "1.0.0",
      "model_name": "VBoxModel",
      "state": {
       "_dom_classes": [
        "widget-interact"
       ],
       "children": [
        "IPY_MODEL_6e3b7856a13d4e41ab319a2f18401e8a",
        "IPY_MODEL_96058fb2e3684ddfb8c1b0e80b40e465",
        "IPY_MODEL_9d1183e130bf4d85bc6c58e8359724ed",
        "IPY_MODEL_e87327a6fa1e42039c52af16eba1976f",
        "IPY_MODEL_8f896abcda43418694cc1bde9de7729e"
       ],
       "layout": "IPY_MODEL_f59de0c4def24cff87fd62766722c6ed"
      }
     },
     "15480b7f38a945cab6a7bb83457306cf": {
      "model_module": "@jupyter-widgets/base",
      "model_module_version": "1.0.0",
      "model_name": "LayoutModel",
      "state": {}
     },
     "15798567b39b4037ba93b93c411f7eb5": {
      "model_module": "@jupyter-widgets/base",
      "model_module_version": "1.0.0",
      "model_name": "LayoutModel",
      "state": {}
     },
     "15b8fe42883f412bb9291dad19b6f4ef": {
      "model_module": "@jupyter-widgets/controls",
      "model_module_version": "1.0.0",
      "model_name": "SliderStyleModel",
      "state": {
       "description_width": ""
      }
     },
     "16758b3c50c248aaa42121b779fb3664": {
      "model_module": "@jupyter-widgets/controls",
      "model_module_version": "1.0.0",
      "model_name": "SliderStyleModel",
      "state": {
       "description_width": ""
      }
     },
     "1693350057f4479eb9f692401d3d0527": {
      "model_module": "@jupyter-widgets/base",
      "model_module_version": "1.0.0",
      "model_name": "LayoutModel",
      "state": {}
     },
     "169616fa70814c579e22ba71660ee024": {
      "model_module": "@jupyter-widgets/base",
      "model_module_version": "1.0.0",
      "model_name": "LayoutModel",
      "state": {}
     },
     "16baab7c28334c879c5be7346e256265": {
      "model_module": "@jupyter-widgets/base",
      "model_module_version": "1.0.0",
      "model_name": "LayoutModel",
      "state": {
       "height": "350px"
      }
     },
     "16ecf5ec6c7d4a979062662a6a744ac4": {
      "model_module": "@jupyter-widgets/controls",
      "model_module_version": "1.0.0",
      "model_name": "FloatSliderModel",
      "state": {
       "description": "t_y",
       "layout": "IPY_MODEL_e5a0e4cc205b4c12931e7e1efb2305e7",
       "max": 1,
       "step": 0.01,
       "style": "IPY_MODEL_37b3e3a599f04826ba6fd04ff36be3bf"
      }
     },
     "172223486ba0462ea33a680e708e8a84": {
      "model_module": "@jupyter-widgets/controls",
      "model_module_version": "1.0.0",
      "model_name": "FloatSliderModel",
      "state": {
       "description": "t_y",
       "layout": "IPY_MODEL_7c3015801cce41608ef23437d0db750f",
       "max": 1,
       "step": 0.01,
       "style": "IPY_MODEL_e5720d0be53149dc99cb04afc1a4f96f"
      }
     },
     "17572929d710480a8fcd747bcc92315d": {
      "model_module": "@jupyter-widgets/base",
      "model_module_version": "1.0.0",
      "model_name": "LayoutModel",
      "state": {}
     },
     "17ac1b4baeb84e12b2786defcc1517e4": {
      "model_module": "@jupyter-widgets/controls",
      "model_module_version": "1.0.0",
      "model_name": "SliderStyleModel",
      "state": {
       "description_width": ""
      }
     },
     "17b258d560384e879025ed940587977c": {
      "model_module": "@jupyter-widgets/base",
      "model_module_version": "1.0.0",
      "model_name": "LayoutModel",
      "state": {}
     },
     "17bf46b64a634be596dce9b4eb414f9f": {
      "model_module": "@jupyter-widgets/controls",
      "model_module_version": "1.0.0",
      "model_name": "SliderStyleModel",
      "state": {
       "description_width": ""
      }
     },
     "17bfa3925d5844c99e9a0a2edb40d57f": {
      "model_module": "@jupyter-widgets/controls",
      "model_module_version": "1.0.0",
      "model_name": "IntSliderModel",
      "state": {
       "description": "theta",
       "layout": "IPY_MODEL_5ef9d74d8057498aa12db9bba49f2ee0",
       "max": 360,
       "step": 10,
       "style": "IPY_MODEL_e3b688d866a1492287fe5caee326cc3a",
       "value": 90
      }
     },
     "182bb16978474acc807508a5986fe674": {
      "model_module": "@jupyter-widgets/controls",
      "model_module_version": "1.0.0",
      "model_name": "SliderStyleModel",
      "state": {
       "description_width": ""
      }
     },
     "182cafb00509442fb6fa96d2ff0be843": {
      "model_module": "@jupyter-widgets/base",
      "model_module_version": "1.0.0",
      "model_name": "LayoutModel",
      "state": {}
     },
     "183d3149b3a54c92a9e499cc5a80dd5d": {
      "model_module": "@jupyter-widgets/controls",
      "model_module_version": "1.0.0",
      "model_name": "SliderStyleModel",
      "state": {
       "description_width": ""
      }
     },
     "18768278ae4a4f6ab1adedc38a87be78": {
      "model_module": "@jupyter-widgets/controls",
      "model_module_version": "1.0.0",
      "model_name": "IntSliderModel",
      "state": {
       "description": "theta",
       "layout": "IPY_MODEL_899b1f3fc9a6460099dc635c11b48266",
       "max": 360,
       "step": 10,
       "style": "IPY_MODEL_3dcc6602892b4d78ae488a01f5b2a328"
      }
     },
     "18832e89dc66485fac3eee7ed90e94fc": {
      "model_module": "@jupyter-widgets/base",
      "model_module_version": "1.0.0",
      "model_name": "LayoutModel",
      "state": {}
     },
     "18d766e7d20443b59f30184ef1f86f18": {
      "model_module": "@jupyter-widgets/controls",
      "model_module_version": "1.0.0",
      "model_name": "SliderStyleModel",
      "state": {
       "description_width": ""
      }
     },
     "1990ac81a188405badc19581f4ddf4fc": {
      "model_module": "@jupyter-widgets/controls",
      "model_module_version": "1.0.0",
      "model_name": "IntSliderModel",
      "state": {
       "description": "N",
       "layout": "IPY_MODEL_3f5419e67e474187803b06fd8b3d71d8",
       "max": 9,
       "min": -3,
       "style": "IPY_MODEL_08ecf648f463414b909d24705941810c",
       "value": 3
      }
     },
     "1a305483a31644a982229427150aea15": {
      "model_module": "@jupyter-widgets/base",
      "model_module_version": "1.0.0",
      "model_name": "LayoutModel",
      "state": {
       "height": "350px"
      }
     },
     "1b1de5e367834c548b23baf1fbb6eefe": {
      "model_module": "@jupyter-widgets/output",
      "model_module_version": "1.0.0",
      "model_name": "OutputModel",
      "state": {
       "layout": "IPY_MODEL_048121a059294e91a4f10c541366dcd0",
       "outputs": [
        {
         "data": {
          "text/plain": "True"
         },
         "metadata": {},
         "output_type": "display_data"
        }
       ]
      }
     },
     "1b6104175fd642d5bc1c820f33c07dc7": {
      "model_module": "@jupyter-widgets/base",
      "model_module_version": "1.0.0",
      "model_name": "LayoutModel",
      "state": {}
     },
     "1b78d829f9d04973bc816d7467c8101a": {
      "model_module": "@jupyter-widgets/base",
      "model_module_version": "1.0.0",
      "model_name": "LayoutModel",
      "state": {}
     },
     "1bdbf55f65944b79881bba8a5e63fb38": {
      "model_module": "@jupyter-widgets/controls",
      "model_module_version": "1.0.0",
      "model_name": "SliderStyleModel",
      "state": {
       "description_width": ""
      }
     },
     "1cd70541fdf34fa6a2f02e5a8fa62f22": {
      "model_module": "@jupyter-widgets/base",
      "model_module_version": "1.0.0",
      "model_name": "LayoutModel",
      "state": {}
     },
     "1de0a19e09eb46f1a88304b83f0be1aa": {
      "model_module": "@jupyter-widgets/controls",
      "model_module_version": "1.0.0",
      "model_name": "SliderStyleModel",
      "state": {
       "description_width": ""
      }
     },
     "1e2059acd0d14c3492a65525d08a0a72": {
      "model_module": "@jupyter-widgets/base",
      "model_module_version": "1.0.0",
      "model_name": "LayoutModel",
      "state": {}
     },
     "1e84e93a9e2d4f0d82d5f42cb755be02": {
      "model_module": "@jupyter-widgets/controls",
      "model_module_version": "1.0.0",
      "model_name": "SliderStyleModel",
      "state": {
       "description_width": ""
      }
     },
     "1ed81152603a4c70942ed569a3beca4e": {
      "model_module": "@jupyter-widgets/base",
      "model_module_version": "1.0.0",
      "model_name": "LayoutModel",
      "state": {}
     },
     "1f3d24333d2c41c6b718168d40d2367a": {
      "model_module": "@jupyter-widgets/controls",
      "model_module_version": "1.0.0",
      "model_name": "SliderStyleModel",
      "state": {
       "description_width": ""
      }
     },
     "1f5b0a6ac97e44cc8b1c16a933824e7d": {
      "model_module": "@jupyter-widgets/controls",
      "model_module_version": "1.0.0",
      "model_name": "SliderStyleModel",
      "state": {
       "description_width": ""
      }
     },
     "1f5d91a1277f4c8c8c98efb0dd835412": {
      "model_module": "@jupyter-widgets/controls",
      "model_module_version": "1.0.0",
      "model_name": "FloatSliderModel",
      "state": {
       "continuous_update": false,
       "description": "t_y",
       "layout": "IPY_MODEL_71a265abaa01452abe71db9b3955e333",
       "max": 1,
       "step": 0.01,
       "style": "IPY_MODEL_9bdfe499077f41b4a92b7bbe4c6016f7",
       "value": 0.1
      }
     },
     "1f601b8ebfdc481c856a959175efd411": {
      "model_module": "@jupyter-widgets/controls",
      "model_module_version": "1.0.0",
      "model_name": "SliderStyleModel",
      "state": {
       "description_width": ""
      }
     },
     "1f6ba515778a473096d45c998e8af057": {
      "model_module": "@jupyter-widgets/base",
      "model_module_version": "1.0.0",
      "model_name": "LayoutModel",
      "state": {}
     },
     "1fd8cb702556403b9214f32e505b4395": {
      "model_module": "@jupyter-widgets/base",
      "model_module_version": "1.0.0",
      "model_name": "LayoutModel",
      "state": {}
     },
     "2047c78d17ff492780d8841eebb8325f": {
      "model_module": "@jupyter-widgets/base",
      "model_module_version": "1.0.0",
      "model_name": "LayoutModel",
      "state": {}
     },
     "20bf05729d564cb89e4692472a1a3fd6": {
      "model_module": "@jupyter-widgets/controls",
      "model_module_version": "1.0.0",
      "model_name": "VBoxModel",
      "state": {
       "_dom_classes": [
        "widget-interact"
       ],
       "children": [
        "IPY_MODEL_630a6b2220af41918e32e99b666b12c6",
        "IPY_MODEL_31a030400d434a098ce8c4a5797b2700"
       ],
       "layout": "IPY_MODEL_8a84fa4517584caa8cb5c43766e09c76"
      }
     },
     "20d5864081c34cd2b56ceaff39d71aac": {
      "model_module": "@jupyter-widgets/output",
      "model_module_version": "1.0.0",
      "model_name": "OutputModel",
      "state": {
       "layout": "IPY_MODEL_50a3c3fd1748423188d2867711bff64f",
       "outputs": [
        {
         "name": "stdout",
         "output_type": "stream",
         "text": "xy_transformed:\n [[ 1.45766455  0.33622076]\n [ 1.24820274  0.21428064]\n [ 1.28766865  0.4364478 ]]\n"
        },
        {
         "data": {
          "image/png": "iVBORw0KGgoAAAANSUhEUgAAAQgAAAD8CAYAAACLgjpEAAAABHNCSVQICAgIfAhkiAAAAAlwSFlz\nAAALEgAACxIB0t1+/AAAADl0RVh0U29mdHdhcmUAbWF0cGxvdGxpYiB2ZXJzaW9uIDIuMS4wLCBo\ndHRwOi8vbWF0cGxvdGxpYi5vcmcvpW3flQAAGPxJREFUeJzt3WuMXPd53/HvMzM7l72TXO5ySUom\nXdOB5Cb1ZasAdeCwgRzLCSA5qIGoudRFAxBurTaA39RBDRWQYSBwgbRvlNpEoZeukNS1QbRMVSfW\nIg0MJVohQhSJprSkZGlNmSved/Y2t6cvZtYaLmd2z+zM7LnM7wMQ2jlzhnp2OPvb/+38j7k7IiKt\npMIuQESiSwEhIm0pIESkLQWEiLSlgBCRthQQItKWAkJE2lJAiEhbCggRaSsTdgHbTU1N+YkTJwKd\nu7q6ysjISH8L6rG41Ry3eiF+NYdR70svvXTN3Q/veqK7R+rPJz7xCQ/q+eefD3xuVMSt5rjV6x6/\nmsOoF1jwAD+P6mKISFsKCBFpSwEhIm0pIESkLQWEiLSlgBCRthQQItKWAkJE2lJAdGmzUuXGagnX\n3p6SQAqILq2Xqvzk5jqX3iuyVqqEXY5ITykgurRRrgGwXqpxaXmVd26sUa7WQq5KpDcid7FW3GyU\nq3c9vrVW5s5GmemxPFOjWcwspMpEuqcWRJc2KtV7jtVq8NPbG7yxXGRloxxCVSK9oYDoQrXmlCvt\nByc3yzXeurbGj6+vUqqo2yHxoy5GF7Z3L9q5s15hZWOFw2O5Plck0ltqQXQhaEAAuMPynU02KjVu\nr6vbIfGggOjCxh66De7O29fXePPaakcBIxIGBUQXuvkBL25UWFwu8u7tdao1LbKSaFJAdKHbFoA7\nXFsp8frVFW6ulnpUlUjvKCD2qFSpUevRxESl6izdXGdxuch6Sd0OiQ4FxB61Wv/QrfVSlcXlIks3\n16hoNaZEgKY596ifA4w3V8vcXi8zM57n0IhWY0p41ILYo81yf3/D12rw7q0NFpeLFDd1EZiEQwGx\nR+v7NEW5Ua7x5nurvH19TasxZd+pi7EH7r7vP6y31xsXgY3nmBrJkUqp2yH9pxbEHmyUa4SxP4w7\nXL29yRvLRe7oIjDZBwqIPQh7BWSpUuPH19Z469oqm32YTRHZooDYg35Mce7FykaFN64W+entDWpa\njSl9oIDYg40+z2B0wh3eW9nk4tUVbq1pNab0lgJiD8LuYrRSqTrv3KjvjRnF+iSeFBAdqlRrVKrR\nbc6vbVZ542qRn9xa12pM6ZqmOTu0l0u8w3CjWOL2WpmZ8RwHtRpT9kgtiA7FqflerTlXbm1w6b0i\nq1qNKXuggOhQnAJiy3qpxuX3tCW/dE5djA5FaQajU9qSXzqlFkSH4tiCaKYt+aUTCogObFaqoSyx\n7ofmLfm1GlPaCRQQZvaImV00s0Uz+8oO533ezNzM5pqO/UHjdRfN7DO9KDosce5etHNnvb4a8+od\nrcaUe+06BmFmaeBp4NPAEvCimZ1z99e2nTcG/Dvgr5uOPQg8DnwEOAr8uZl92N1j+StrM+bdi3a2\ntuS/uVZidrzAxPBQ2CVJRARpQTwELLr7ZXcvAc8Cj7U472vAN4CNpmOPAc+6+6a7vwksNv6+WEpi\nC6JZueK8fWONy1qNKQ1BAuIY8E7T46XGsZ8xs48B97n7/+r0tXGyX5vEhG11s7435pVb62GXIiEL\nMs3Zai7sZ51VM0sB/xn4l52+tunvOAOcAZiZmWF+fj5AWVAsFgOf2wu9CIjyxhpLFxZ6UE3/vUO9\n3r/4wfOkY7RBzX5/LroV5XqDBMQScF/T4+PAlabHY8A/BOYb8+pHgHNm9miA1wLg7meBswBzc3N+\n+vTpQMXPz88T9NxurZUqXFpe7frvWbqwwPEH5nY/MSKWLiww/eGPU8imOTqZZzgb/aUz+/m56IUo\n1xuki/EicMrMTppZlvqg47mtJ939trtPufsJdz8BvAA86u4LjfMeN7OcmZ0ETgF/0/PvYh8kffxh\nN+ulKpeWV7Ul/4DZ9deBu1fM7AngOSANPOPur5rZU8CCu5/b4bWvmtmfAK8BFeBLcZ3B0KBdnbbk\nHyyB2ovufh44v+3Yk23OPb3t8deBr++xvshQQLxva0v+m6slZicLjOai3+2QvdFKyoAGvYvRirbk\nTz5FfwDlak134N7Bz7bkH8sxNaot+ZNELYgA1L3YnTtcvVPfkv/2ui4CSwoFRADqXgRXqtR4+/oa\nb15bVbAmgAIiAH3QO1fcqLC4XN+SX92z+FJABKDLofdma0v+17Ulf2wpIHbh7upidKl5S/71ksI2\nThQQu9ishHMfziRaa1wEpi3540PTnLvYVOuh57Qlf3yoBbGLqNyHM2m0JX88KCB2oRmM/tKW/NGm\nLsYuBmWTmLDdWqtfBDY9nuPwaE7djohQC2IH1ZpTrmiEcr+4w9Xbm9qSP0IUEDtQ9yIc2pI/OtTF\n2IECIlx31iusbBQ5PFbvdugisP2nFsQO4nIn7yTb2pL/9eUVbq+p27HfFBA7UAsiOrQlfzgUEDvQ\nBzF6mrfk10Vg/aeAaKNUqVFTDyOS3OF6scTFn65wY1UXgfWTAqINraCMvmrN+cnNdRaXi6yVtBqz\nHxQQbah7ER/NW/JrNWZvaZqzDV2kFT9bW/JXao67azVmD6gF0YZaEPFUq9U3GV5cLlLURWBdU0C0\n4O5sag1ErGlL/t5QF6MFbRKTHNqSvztqQbSg7kWyaEv+vVNAtKA9KJNJW/J3TgHRgj48yba1Jf+7\nt7UaczcKiBa0SUzyucO1lZK25N+FAmKbSrVGparfKoNCW/LvTAGxjS7xHkzakr81BcQ2Gn8YbDeK\nJS5eXeF6cRPXXLcCYjsFhNRqcOXWBovL2pJfAbGNpjhly0ZZW/JrJeU2akHIdoO8Jb9aEE02K1Ut\nsZaWtrbkf/1qkTsDtCV/oIAws0fM7KKZLZrZV1o8/0Uze8XMXjazvzKzBxvHT5jZeuP4y2b2zV5/\nA72k7oXsplSp8eNra7x1bTC25N+1i2FmaeBp4NPAEvCimZ1z99eaTvu2u3+zcf6jwB8BjzSeu+Tu\nH+1t2f2xqe6FBLSyUaF4tcjUaI7pseReBBakBfEQsOjul929BDwLPNZ8grvfaXo4AsSyoa4WhHTC\nHd5bSfaW/EEGKY8B7zQ9XgJ+cftJZvYl4MtAFviVpqdOmtnfAneAr7r7/2vx2jPAGYCZmRnm5+cD\nFV8sFgOfG8RmpUatz4MQ5Y01li4s9PX/0UtxqxfCqflNIG3GUDpFp2OYvf4c91KQgGj17d7zU+Tu\nTwNPm9lvAV8FvgC8C9zv7tfN7BPA98zsI9taHLj7WeAswNzcnJ8+fTpQ8fPz8wQ9dze1mvPqlTu7\nn9ilpQsLHH9gru//n16JW70Qbs1mcHAky8x4nnTAbkcvP8e9FqSLsQTc1/T4OHBlh/OfBT4H4O6b\n7n698fVLwCXgw3srtb+0g5T0QtK25A8SEC8Cp8zspJllgceBc80nmNmppoe/DrzROH64MciJmX0Q\nOAVc7kXhvab1D9JL72/JvxLrLfl37WK4e8XMngCeA9LAM+7+qpk9BSy4+zngCTN7GCgDN6l3LwA+\nBTxlZhWgCnzR3W/04xvplu6DIf2wXqpxaXmVyeEhjkzkGUrHa+lRoJWU7n4eOL/t2JNNX/9+m9d9\nB/hONwXuF81gSD/dWtvaGzPP1Gg2Nqsx4xVnfaS9AKTfajX46e0N3ojRlvwKCOr3UdDWY7JfNmO0\nJb8u1kIDlBKOrS35KzWnVvNIrsZUCwKNP0h43Ost2NeXVyK5Jb8CArUgJHzlikdyS34FBAzEVXkS\nD1Hbkn/gA8Ld1cWQSNnakn/p5lro+2IO/CCl7sMpUZNJG0fG8xwYyYZdigJiU60HiQgzODSaZXos\n+IVe/TbwAaEl1hIFY/kMRyby5IfSYZdyFwVEhEaMZfDkhlLkMilOTI2EXUpLAz9IqQFKCUMqBUcm\n8pyaHiUV4esyBroFUat55Je6SvIcGBliZjweV3YOdEBo/EH2UyGb5thkgUI2WuMMOxnsgFD3QvZB\nJm3MTuSZHA5/2rJTAx4QakFI/5gR+23xFRAifTBeqE9b5jLx6U60MtABsa6AkB7LDaWYncgzlh8K\nu5SeGNiAKFdr1DQEIT2SSsHMeJ5DI/HZTi6IgQ0ItR6kVw6MDHFkPE8mBtOWnRrYgND4g3RrOJfm\n6ES8pi07NbABoYu0ZK+GMvWrLeM4bdmpgQ0ItSCkU2ZweCzH4dH4Tlt2aiADwt11qz3pyEShfuOb\nbCZ54ww7GciA0CYxElR+KMXsZIHR3ED+qAxmQKh7IbtJ6rRlpwY0INS9kPYOjmaZGcslctqyUwMa\nEGpByL1GcmmOThYit6tTmAYzIHSZtzQZyhiz4wUmhpOxPLqXBi4gqjWnXNEIpdSnLafHckwN0LRl\npwYuINS9EBjcactOKSBkoAz6tGWnBu5d2tACqYGUThkz4zkODvi0ZacGLyDUghgoZnBwJMu0pi33\nRAEhiaVpy+4FilQze8TMLprZopl9pcXzXzSzV8zsZTP7KzN7sOm5P2i87qKZfaaXxXeqVNEmMYPA\nzLj/0DAfPDyqcOjSrgFhZmngaeCzwIPAP28OgIZvu/vPu/tHgW8Af9R47YPA48BHgEeAP278faHQ\nJjHJZgYz4znymRQTBa1p6IUgLYiHgEV3v+zuJeBZ4LHmE9z9TtPDEWBrocFjwLPuvunubwKLjb8v\nFJsKiMSaHB7iwzNjTI/nwy4lUYKMQRwD3ml6vAT84vaTzOxLwJeBLPArTa99Ydtrj+2p0h7QNRjJ\nU8immJ0oMKJpy74I8q62mhO6Zymiuz8NPG1mvwV8FfhC0Nea2RngDMDMzAzz8/MByoJisRj4XKhf\n5l0L+Trv8sYaSxcWQq2hE1Gt1zCG0kY6ZSxte67Tz0XYolxvkIBYAu5renwcuLLD+c8C/7WT17r7\nWeAswNzcnJ8+fTpAWTA/P0/Qc2s157V374S+D8TShQWOPzAXbhEdiFq9W9OWM+N50m2WR3fyuYiC\nKNcbZAziReCUmZ00syz1QcdzzSeY2ammh78OvNH4+hzwuJnlzOwkcAr4m+7L7pw2iYm/0XyGD02P\ncnSy0DYcpLd2bUG4e8XMngCeA9LAM+7+qpk9BSy4+zngCTN7GCgDN6l3L2ic9yfAa0AF+JK7hzJS\nqPUP8ZXNpJidzDOekJvRxEmgkR13Pw+c33bsyaavf3+H134d+PpeC+wVXeIdP2YwPV7fJFbLo8Mx\nMEO/msGIl8nh+tWWQ1oeHaoBCgi1IOKgkE1zdDLPcHZgPpqRNhD/CpVqjUpVI5RRlknXb0ZzYCT5\nN6OJk4EICF3iHV1mcGg0y/RY+2lLCc9gBIS6F5E0ls9wZCKvC6oiTAEh+y43lOLIhKYt42BAAkJd\njChIpWB6LM/UqHZ1iovEB4S7qwURAZq2jKfEB0SpqiXWYdK0Zbwl/l9to6TuRRg0bZkMyQ8ILbHe\nV2YwNZrj8FhO05YJkPyA0PjDvhkv1KctcxlNWybFAASEuhj9lhtKMTuRZ0zTlomT6ICo1ZySVlH2\nTSoFM+N5DulmNImV6IDQ+EP/HBgZ4sh4XjejSbhkB4S6Fz03nEtzdKJAIatxhkGQ8IBQC6JXMmlj\ndiLP5LCmLQeJAkJ2ZLy/q1NK05YDJ9EdSHUxujNeyJAbSjMznlc4DKjEtiDK1RrVmtZY70V+KMXs\nZIHRXIY3wy5GQpXYgFD3onOatpTtEhwQ6l504uBolpmxnKYt5S4JDgi1IILQtKXsRAExoIYyxux4\ngYlhLY+W9hIZEO7OppZYt2QGh8c0bSnBJDIgdB/O1iYK9V2dshmNM0gwiQwIdS/u1jxtKdKJRH5i\nNINRl04ZM+M5DmraUvYooQEx2C0IMzg4kmVa05bSpWQGxABf5j2SS3N0sqCb0UhPJC4gqjWnXBm8\nEUpNW0o/JC4gBq17YQbTYzmmNG0pfaCAiLHJ4SFmxjVtKf2TvIAYgAVShWyK2YkCI5q2lD5L3Ccs\nyS2IdMo4MpHnwPCQpi1lXwRqm5rZI2Z20cwWzewrLZ7/spm9ZmZ/Z2Z/YWYfaHquamYvN/6c62Xx\nrSQxIMzg0GiWnzsypjUNsq92bUGYWRp4Gvg0sAS8aGbn3P21ptP+Fphz9zUz+9fAN4DfbDy37u4f\n7XHdLZUqNWoJ62GM5jPMTuQ1bSmhCNKCeAhYdPfL7l4CngUeaz7B3Z9397XGwxeA470tM5gkrX/I\nZlLcf2iYk1MjCgcJTZCAOAa80/R4qXGsnd8D/qzpcd7MFszsBTP73B5qDCwJ3QszmJnIcWp6lImC\n1jRIuIIMUrbq8LZciWRmvwPMAb/cdPh+d79iZh8EfmBmr7j7pW2vOwOcAZiZmWF+fj5I7RSLxbvO\nLVdrVCK+D2V5Y42lCwstn8ukjEw6xbV9rmkn29/jOIhbzVGuN0hALAH3NT0+DlzZfpKZPQz8B+CX\n3X1z67i7X2n897KZzQMfA+4KCHc/C5wFmJub89OnTwcqfn5+nuZzX7+6wmbEL9RaurDA8Qfm7jpW\nyKY4OllgOBu9SaXt73EcxK3mKNcbpIvxInDKzE6aWRZ4HLhrNsLMPgZ8C3jU3Zebjh8ws1zj6yng\nk0Dz4GbPuMfvPpzplHHsQIEPTY9FMhxEdv1UunvFzJ4AngPSwDPu/qqZPQUsuPs54D8Bo8CfNqbg\n3nb3R4EHgG+ZWY16GP3httmPntkox2eTmK1py+mxPGktj5YIC/Rry93PA+e3HXuy6euH27zuh8DP\nd1NgUHEZoEyb8aHpUc1MSCwkZhF/1Kc4s5kUH5gaJptJKRwkNhLT8Y3qLlJm79/bUisgJW4SFBDR\na0FMDtc3iR3Srk4SU4kIiEq1RqUanRHKQjbN0cm8ZiYk9hLxCY7KJd6ZtHFkPM+BkWzYpYj0RDIC\nIuTuhRlMjeY4PJbTtKUkigKiS2P5DLOTeXIZzUxI8iQkIPa/i5EbSjE7kWcsrwuqJLkSEhD714JI\npWB6LM/UqDZukeSLfUBsVqr7tsT6wEh9k1hNW8qgiH1A7Ef3YjiX5uhEgUJW4wwyWGIfEJt97F5k\n0sbsRJ7JYU1bymCKfUD0owWxNW05Paab0chgi31ArPe4BTFeyHBkQtOWIpCAgOjVJjGathS5V6wD\nohfbT6ZSMDOe55DuNyFyj1gHhHc5v3lwNMvMWI6Mpi1FWop1QOy1BaFpS5FgYh0QnbYghjLG7HiB\niWGNM4gEEeuACNqCMIPDY/VdnTRtKRJcbAOiXK3hre/fc5eJQn1Xp2xG4wwinYptQOx2gVZ+KMXs\nZIHRXGy/RZHQxfanp90KynTKmBnPcVDTliJdi3FA3NuC0LSlSG/FNiA2m+6DMZJLc3SyoPtNiPRY\nLAPC3dko1zAz7j84rGlLkT6JZVu8XHWmx3LkMymFg0gfxTIgspkU0+P5sMsQSbxYBoSI7A8FhIi0\npYAQkbYUECLSlgJCRNpSQIhIWwoIEWlLASEibSkgRKQt63bj114zs/eAHwc8fQq41sdy+iFuNcet\nXohfzWHU+wF3P7zbSZELiE6Y2YK7z4VdRyfiVnPc6oX41RzletXFEJG2FBAi0lbcA+Js2AXsQdxq\njlu9EL+aI1tvrMcgRKS/4t6CEJE+imRAmNkzZrZsZn/f5vnfNrO/a/z5oZn9o6bn3jKzV8zsZTNb\niFDNjzXqfdnMFszsl5qe+4KZvdH484UY1FttHH/ZzM7tR71Bam467x83avx807HIvcdN57WqN5T3\n+B7uHrk/wKeAjwN/3+b5fwIcaHz9WeCvm557C5iKYM2jvN+l+wXgR42vDwKXG/890Pj6QFTrbTwu\nRvFz0TgnDfwAOA98Psrvcbt6w3yPt/+JZAvC3f8SuLHD8z9095uNhy8Ax/elsB0EqLnojX95YAR+\ndluwzwDfd/cbje/p+8AjfS2WruoNzW41N/xb4DvActOxSL7HDa3qjYxIBkSHfg/4s6bHDvxfM3vJ\nzM6EVFNLZvYbZvYj4H8D/6px+BjwTtNpS41joWtTL0C+0e14wcw+F1J59zCzY8BvAN/c9lQk3+Md\n6oWIvMex3PZ+i5n9U+oB8UtNhz/p7lfMbBr4vpn9qJHkoXP37wLfNbNPAV8DHgZa3f4r9N/W0LZe\ngPsb7/EHgR+Y2Svufim0Qt/3X4B/7+7VbXdVi+p73K5eiMh7HNuAMLNfAP4b8Fl3v7513N2vNP67\nbGbfBR4CIhEQW9z9L83sH5jZFPXfZqebnj4OzIdRVzvN9br7tab3+LKZzQMfA6IQEHPAs40fting\n18ysQnTf45b1uvv3ovIex7KLYWb3A/8T+F13f73p+IiZjW19DfwqsOMI8n4xsw9Z45NgZh8HssB1\n4DngV83sgJkdoF7zc+FVWteu3kaducbxKeCTwGvhVfo+dz/p7ifc/QTwP4B/4+7fI6Lvcbt6o/Qe\nR7IFYWb/nXriT5nZEvAfgSEAd/8m8CRwCPjjxme44vWLXWaoN4mh/r19293/T0Rq/mfAvzCzMrAO\n/GZjEPCGmX0NeLHxVz3l7rsNbIVWr5k9AHzLzGrUf8H8obvvy4c3QM0tuXtU3+N2QnuPt9NKShFp\nK5ZdDBHZHwoIEWlLASEibSkgRKQtBYSItKWAEJG2FBAi0pYCQkTa+v+Hyyl0Mm3pXwAAAABJRU5E\nrkJggg==\n",
          "text/plain": "<matplotlib.figure.Figure at 0x118f384e0>"
         },
         "metadata": {},
         "output_type": "display_data"
        }
       ]
      }
     },
     "21548327135d442489d1e375d35cdfdf": {
      "model_module": "@jupyter-widgets/controls",
      "model_module_version": "1.0.0",
      "model_name": "SliderStyleModel",
      "state": {
       "description_width": ""
      }
     },
     "2164d650300e4568adf739fb52484aa5": {
      "model_module": "@jupyter-widgets/controls",
      "model_module_version": "1.0.0",
      "model_name": "SliderStyleModel",
      "state": {
       "description_width": ""
      }
     },
     "21ff788403f24ab085e6a182655bf395": {
      "model_module": "@jupyter-widgets/controls",
      "model_module_version": "1.0.0",
      "model_name": "SliderStyleModel",
      "state": {
       "description_width": ""
      }
     },
     "2221a42cf1c14824877703d4e749a8cd": {
      "model_module": "@jupyter-widgets/output",
      "model_module_version": "1.0.0",
      "model_name": "OutputModel",
      "state": {
       "layout": "IPY_MODEL_b817617452b447e7a2597d782be86ae2",
       "outputs": [
        {
         "name": "stdout",
         "output_type": "stream",
         "text": "xy_original:\n [[ 0.68950928  0.57797539]\n [ 0.04968657  0.1790961 ]\n [ 0.50718443  0.4092611 ]]\nxy_transformed:\n [[ 0.68950928  0.57797539]\n [ 0.04968657  0.1790961 ]\n [ 0.50718443  0.4092611 ]]\n"
        },
        {
         "data": {
          "image/png": "iVBORw0KGgoAAAANSUhEUgAAAQIAAAD8CAYAAACcoKqNAAAABHNCSVQICAgIfAhkiAAAAAlwSFlz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\nAAAASUVORK5CYII=\n",
          "text/plain": "<matplotlib.figure.Figure at 0x11b5e0a20>"
         },
         "metadata": {},
         "output_type": "display_data"
        }
       ]
      }
     },
     "2240d43fc93e436f94e4addf9f248be5": {
      "model_module": "@jupyter-widgets/controls",
      "model_module_version": "1.0.0",
      "model_name": "FloatSliderModel",
      "state": {
       "description": "t_y",
       "layout": "IPY_MODEL_fd430368fc364d1f985460fffa3b24e3",
       "max": 1,
       "step": 0.01,
       "style": "IPY_MODEL_5b8c95e3c07344f68d7b11455d167ced",
       "value": 0.53
      }
     },
     "224c0426f94d45a3b564f8c768a19b2b": {
      "model_module": "@jupyter-widgets/controls",
      "model_module_version": "1.0.0",
      "model_name": "SliderStyleModel",
      "state": {
       "description_width": ""
      }
     },
     "22d88e54f4d640f5bd3f3fe4fa1c9faf": {
      "model_module": "@jupyter-widgets/controls",
      "model_module_version": "1.0.0",
      "model_name": "SliderStyleModel",
      "state": {
       "description_width": ""
      }
     },
     "231439bc241f4c15867715d1b32804ac": {
      "model_module": "@jupyter-widgets/base",
      "model_module_version": "1.0.0",
      "model_name": "LayoutModel",
      "state": {
       "height": "400px"
      }
     },
     "232998afa6a545609d999d75bfc2d164": {
      "model_module": "@jupyter-widgets/controls",
      "model_module_version": "1.0.0",
      "model_name": "SliderStyleModel",
      "state": {
       "description_width": ""
      }
     },
     "23ba1194981d462f9c531bf1b9d47980": {
      "model_module": "@jupyter-widgets/controls",
      "model_module_version": "1.0.0",
      "model_name": "SliderStyleModel",
      "state": {
       "description_width": ""
      }
     },
     "24671012b12a4a368fa3efe35f12b6a8": {
      "model_module": "@jupyter-widgets/base",
      "model_module_version": "1.0.0",
      "model_name": "LayoutModel",
      "state": {}
     },
     "249049b49609459fba756d2625de1f1b": {
      "model_module": "@jupyter-widgets/base",
      "model_module_version": "1.0.0",
      "model_name": "LayoutModel",
      "state": {}
     },
     "24ac6439769343a5b343b9623070d2fc": {
      "model_module": "@jupyter-widgets/controls",
      "model_module_version": "1.0.0",
      "model_name": "FloatSliderModel",
      "state": {
       "description": "t_x",
       "layout": "IPY_MODEL_cf554a76e99347b082ec105ab965490f",
       "max": 1,
       "step": 0.01,
       "style": "IPY_MODEL_64a29b5fc0b849e180f424069cabe3f1"
      }
     },
     "25a0cef7571247ff8dee87e5916a79f4": {
      "model_module": "@jupyter-widgets/controls",
      "model_module_version": "1.0.0",
      "model_name": "SliderStyleModel",
      "state": {
       "description_width": ""
      }
     },
     "25a4f2dfe3f349e2a52a8a0f49848b5a": {
      "model_module": "@jupyter-widgets/controls",
      "model_module_version": "1.0.0",
      "model_name": "TextModel",
      "state": {
       "description": "x",
       "layout": "IPY_MODEL_a39deb2d58a9473ba39154ac6d7c7fb9",
       "style": "IPY_MODEL_de7d1bf5118240a8bc8ab3923f051d4c",
       "value": "Hi there!"
      }
     },
     "25f7feb6834346858d7573321e105a3b": {
      "model_module": "@jupyter-widgets/base",
      "model_module_version": "1.0.0",
      "model_name": "LayoutModel",
      "state": {}
     },
     "262ab424c1a24eddad3a9d2fd9e01417": {
      "model_module": "@jupyter-widgets/controls",
      "model_module_version": "1.0.0",
      "model_name": "IntSliderModel",
      "state": {
       "description": "N",
       "layout": "IPY_MODEL_7a3be0bb8af242dfab5f7019c35c6223",
       "max": 10,
       "min": 3,
       "style": "IPY_MODEL_939f7cb841ca4410a5291dd5b472ba76",
       "value": 3
      }
     },
     "2648a11fb2c54f03970bd8d79158a8fe": {
      "model_module": "@jupyter-widgets/controls",
      "model_module_version": "1.0.0",
      "model_name": "FloatSliderModel",
      "state": {
       "description": "t_y",
       "layout": "IPY_MODEL_c7371bd7ece54b7e9b5f1699972fb569",
       "max": 1,
       "step": 0.01,
       "style": "IPY_MODEL_ad90d6e7f0434613bc71c1068ff9554a"
      }
     },
     "265fd524cd1a40c4a41c38ac76b3af92": {
      "model_module": "@jupyter-widgets/base",
      "model_module_version": "1.0.0",
      "model_name": "LayoutModel",
      "state": {}
     },
     "266b559beebb4a61901f7d8cb019c5b2": {
      "model_module": "@jupyter-widgets/controls",
      "model_module_version": "1.0.0",
      "model_name": "SliderStyleModel",
      "state": {
       "description_width": ""
      }
     },
     "26a02e0d6f2547ed9b7b451ebd51cd81": {
      "model_module": "@jupyter-widgets/base",
      "model_module_version": "1.0.0",
      "model_name": "LayoutModel",
      "state": {}
     },
     "26b58f9824de4c44a4b20e8fbe90934d": {
      "model_module": "@jupyter-widgets/base",
      "model_module_version": "1.0.0",
      "model_name": "LayoutModel",
      "state": {}
     },
     "26c9f3d412ab4cac9120095e3fe52d48": {
      "model_module": "@jupyter-widgets/controls",
      "model_module_version": "1.0.0",
      "model_name": "SliderStyleModel",
      "state": {
       "description_width": ""
      }
     },
     "27011ff4361a4e8a8c599cc16bb04057": {
      "model_module": "@jupyter-widgets/output",
      "model_module_version": "1.0.0",
      "model_name": "OutputModel",
      "state": {
       "layout": "IPY_MODEL_16baab7c28334c879c5be7346e256265",
       "outputs": [
        {
         "name": "stdout",
         "output_type": "stream",
         "text": "xy_transformed:\n [[ 0.68950928  0.57797539]\n [ 0.04968657  0.1790961 ]\n [ 0.50718443  0.4092611 ]]\n"
        },
        {
         "data": {
          "image/png": "iVBORw0KGgoAAAANSUhEUgAAAQIAAAD8CAYAAACcoKqNAAAABHNCSVQICAgIfAhkiAAAAAlwSFlz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\nAAAASUVORK5CYII=\n",
          "text/plain": "<matplotlib.figure.Figure at 0x11b15a080>"
         },
         "metadata": {},
         "output_type": "display_data"
        }
       ]
      }
     },
     "2716fe8a86f24397a27cfa4f6cd27fe9": {
      "model_module": "@jupyter-widgets/base",
      "model_module_version": "1.0.0",
      "model_name": "LayoutModel",
      "state": {}
     },
     "2914ca00a8cf40dfa5ab3b1595d2b45a": {
      "model_module": "@jupyter-widgets/controls",
      "model_module_version": "1.0.0",
      "model_name": "SliderStyleModel",
      "state": {
       "description_width": ""
      }
     },
     "29532d0ce6184c67969823bdbba6b761": {
      "model_module": "@jupyter-widgets/controls",
      "model_module_version": "1.0.0",
      "model_name": "SliderStyleModel",
      "state": {
       "description_width": ""
      }
     },
     "29705fda391a4c75817d2c86321a3ebf": {
      "model_module": "@jupyter-widgets/controls",
      "model_module_version": "1.0.0",
      "model_name": "FloatSliderModel",
      "state": {
       "description": "t_y",
       "layout": "IPY_MODEL_5ac5fa550f8e49208d4496fd1238d170",
       "max": 1,
       "step": 0.01,
       "style": "IPY_MODEL_9c4e295c0e844fc8b18b093403bd5acc"
      }
     },
     "297d353550df4bdaa3efe4ccd4ae1b7e": {
      "model_module": "@jupyter-widgets/controls",
      "model_module_version": "1.0.0",
      "model_name": "SliderStyleModel",
      "state": {
       "description_width": ""
      }
     },
     "29b9c51d640a429da7fff2501fb1957e": {
      "model_module": "@jupyter-widgets/controls",
      "model_module_version": "1.0.0",
      "model_name": "FloatSliderModel",
      "state": {
       "description": "t_y",
       "layout": "IPY_MODEL_f81f7a14280142368202ffa6d91a85ba",
       "max": 1,
       "step": 0.01,
       "style": "IPY_MODEL_41b1bef603804b5c91250923218ff119"
      }
     },
     "29e3c8f82b8f4c9087f8b703cee46c66": {
      "model_module": "@jupyter-widgets/base",
      "model_module_version": "1.0.0",
      "model_name": "LayoutModel",
      "state": {}
     },
     "2a6c926e8073429f990772d90d2d7bed": {
      "model_module": "@jupyter-widgets/controls",
      "model_module_version": "1.0.0",
      "model_name": "SliderStyleModel",
      "state": {
       "description_width": ""
      }
     },
     "2ac400970c1f41dbbd3e61e82a37f1a7": {
      "model_module": "@jupyter-widgets/controls",
      "model_module_version": "1.0.0",
      "model_name": "SliderStyleModel",
      "state": {
       "description_width": ""
      }
     },
     "2adcede3783a4afb8e91ed0fd3391f66": {
      "model_module": "@jupyter-widgets/base",
      "model_module_version": "1.0.0",
      "model_name": "LayoutModel",
      "state": {}
     },
     "2b56a3d88da74b02bb70dfd534034b58": {
      "model_module": "@jupyter-widgets/controls",
      "model_module_version": "1.0.0",
      "model_name": "IntSliderModel",
      "state": {
       "description": "N",
       "layout": "IPY_MODEL_182cafb00509442fb6fa96d2ff0be843",
       "max": 10,
       "min": 3,
       "style": "IPY_MODEL_6f46558ef5d1417f84b35659fa437761",
       "value": 3
      }
     },
     "2b70d4bec35b4eda954f733dbdd10d03": {
      "model_module": "@jupyter-widgets/controls",
      "model_module_version": "1.0.0",
      "model_name": "SliderStyleModel",
      "state": {
       "description_width": ""
      }
     },
     "2bf0c4cc023b481288cd8c3c6b85687b": {
      "model_module": "@jupyter-widgets/controls",
      "model_module_version": "1.0.0",
      "model_name": "SliderStyleModel",
      "state": {
       "description_width": ""
      }
     },
     "2c30761cc7a54f4cbcc281893d1dafbc": {
      "model_module": "@jupyter-widgets/base",
      "model_module_version": "1.0.0",
      "model_name": "LayoutModel",
      "state": {}
     },
     "2c372274774646669aeb272ae4cbddf1": {
      "model_module": "@jupyter-widgets/controls",
      "model_module_version": "1.0.0",
      "model_name": "IntSliderModel",
      "state": {
       "layout": "IPY_MODEL_4a5874e706754fc58552d7656ba03a97",
       "style": "IPY_MODEL_bc4c8c6672c843e7ac82df4dd14286a6"
      }
     },
     "2c40f59f0f224b57ae28a8c62ca28c1f": {
      "model_module": "@jupyter-widgets/controls",
      "model_module_version": "1.0.0",
      "model_name": "SliderStyleModel",
      "state": {
       "description_width": ""
      }
     },
     "2c54c8ba1a1f448ca5d806e288244f09": {
      "model_module": "@jupyter-widgets/base",
      "model_module_version": "1.0.0",
      "model_name": "LayoutModel",
      "state": {}
     },
     "2cac1f55e78748309d3b761be73d8b46": {
      "model_module": "@jupyter-widgets/output",
      "model_module_version": "1.0.0",
      "model_name": "OutputModel",
      "state": {
       "layout": "IPY_MODEL_607ba88d491e47a3b7e5663e3d8b11d7",
       "outputs": [
        {
         "name": "stdout",
         "output_type": "stream",
         "text": "xy_transformed:\n [[ 0.57051729  0.56452876]\n [ 0.48844183  0.33647775]\n [ 0.37586818  0.53203587]]\n"
        },
        {
         "data": {
          "image/png": "iVBORw0KGgoAAAANSUhEUgAAAQgAAAD8CAYAAACLgjpEAAAABHNCSVQICAgIfAhkiAAAAAlwSFlz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\nEelLASEifSkgRKSv/w+u8MFXtrEzOwAAAABJRU5ErkJggg==\n",
          "text/plain": "<matplotlib.figure.Figure at 0x109647080>"
         },
         "metadata": {},
         "output_type": "display_data"
        }
       ]
      }
     },
     "2d8d067d55154688a55a01926e6702be": {
      "model_module": "@jupyter-widgets/controls",
      "model_module_version": "1.0.0",
      "model_name": "SliderStyleModel",
      "state": {
       "description_width": ""
      }
     },
     "2df9a1e2dc2149389c386dca5beb700e": {
      "model_module": "@jupyter-widgets/base",
      "model_module_version": "1.0.0",
      "model_name": "LayoutModel",
      "state": {}
     },
     "2e367da01532497a96d639a2906c3525": {
      "model_module": "@jupyter-widgets/controls",
      "model_module_version": "1.0.0",
      "model_name": "SliderStyleModel",
      "state": {
       "description_width": ""
      }
     },
     "2e73ccf4023f4632b45531dfb01c6411": {
      "model_module": "@jupyter-widgets/controls",
      "model_module_version": "1.0.0",
      "model_name": "IntSliderModel",
      "state": {
       "description": "theta",
       "layout": "IPY_MODEL_15480b7f38a945cab6a7bb83457306cf",
       "max": 360,
       "step": 10,
       "style": "IPY_MODEL_5b608c1b309e465dab2930591e974dbc"
      }
     },
     "2ef639380a014c8aaa7255f0abbd383b": {
      "model_module": "@jupyter-widgets/controls",
      "model_module_version": "1.0.0",
      "model_name": "DescriptionStyleModel",
      "state": {
       "description_width": ""
      }
     },
     "2f5114db30eb46edbaaa7629385ab6ed": {
      "model_module": "@jupyter-widgets/controls",
      "model_module_version": "1.0.0",
      "model_name": "VBoxModel",
      "state": {
       "_dom_classes": [
        "widget-interact"
       ],
       "children": [
        "IPY_MODEL_8e7830343e8c42749109a37adba0b2ec",
        "IPY_MODEL_60566dc3924b4ca5aca1f5e36ad43434",
        "IPY_MODEL_defcbc146f1143498c13ae9fe489eb61",
        "IPY_MODEL_eff14b003ca54c399ebe4c54a0587de7",
        "IPY_MODEL_eb94e8118ee349c9998c9ff117df9d5f"
       ],
       "layout": "IPY_MODEL_f1d8e9e1b1054b32b4a606241ba6a4a5"
      }
     },
     "2fb14844591d4a26aed905ac1e143a31": {
      "model_module": "@jupyter-widgets/base",
      "model_module_version": "1.0.0",
      "model_name": "LayoutModel",
      "state": {}
     },
     "2fce2c44f749445ba385126ce387a32c": {
      "model_module": "@jupyter-widgets/controls",
      "model_module_version": "1.0.0",
      "model_name": "IntSliderModel",
      "state": {
       "description": "N",
       "layout": "IPY_MODEL_66c7be4340ff466297fdaa8a11ec63bb",
       "max": 10,
       "min": 3,
       "style": "IPY_MODEL_d197d47a740842809b7fb8da1698cdf2",
       "value": 3
      }
     },
     "2fef3cd2982c44feada64881d4af881d": {
      "model_module": "@jupyter-widgets/controls",
      "model_module_version": "1.0.0",
      "model_name": "SliderStyleModel",
      "state": {
       "description_width": ""
      }
     },
     "2ff7ace81ac549be9bcbbaf11c6b3cc6": {
      "model_module": "@jupyter-widgets/controls",
      "model_module_version": "1.0.0",
      "model_name": "FloatSliderModel",
      "state": {
       "description": "t_y",
       "layout": "IPY_MODEL_88e0c33d9a7442aca775e575539670b4",
       "max": 1,
       "step": 0.01,
       "style": "IPY_MODEL_eb8fc717a6fb49959a64c5fe138848a9"
      }
     },
     "30882a02d20f4badb3428764d36e47e9": {
      "model_module": "@jupyter-widgets/base",
      "model_module_version": "1.0.0",
      "model_name": "LayoutModel",
      "state": {}
     },
     "30baef8ca6124f3f99b8295d858718d6": {
      "model_module": "@jupyter-widgets/base",
      "model_module_version": "1.0.0",
      "model_name": "LayoutModel",
      "state": {}
     },
     "31a030400d434a098ce8c4a5797b2700": {
      "model_module": "@jupyter-widgets/output",
      "model_module_version": "1.0.0",
      "model_name": "OutputModel",
      "state": {
       "layout": "IPY_MODEL_71e6bdc640554b898e6331a8ce6ee662",
       "outputs": [
        {
         "data": {
          "text/plain": "10"
         },
         "metadata": {},
         "output_type": "display_data"
        }
       ]
      }
     },
     "31dbb6ecb8a44a5089e6623ec5728fae": {
      "model_module": "@jupyter-widgets/controls",
      "model_module_version": "1.0.0",
      "model_name": "SliderStyleModel",
      "state": {
       "description_width": ""
      }
     },
     "32455d134cff4a75b995a4f5f216c4a9": {
      "model_module": "@jupyter-widgets/controls",
      "model_module_version": "1.0.0",
      "model_name": "VBoxModel",
      "state": {
       "_dom_classes": [
        "widget-interact"
       ],
       "children": [
        "IPY_MODEL_c3cf87954f69441088993f8a5f10d0ec",
        "IPY_MODEL_5be66409e6cb4926a3fc686ed7ab91cb"
       ],
       "layout": "IPY_MODEL_e501cb46b05644049b550288400baba1"
      }
     },
     "32da22970b084039b306f683c1cb0d37": {
      "model_module": "@jupyter-widgets/controls",
      "model_module_version": "1.0.0",
      "model_name": "IntSliderModel",
      "state": {
       "description": "theta",
       "layout": "IPY_MODEL_1cd70541fdf34fa6a2f02e5a8fa62f22",
       "max": 360,
       "step": 10,
       "style": "IPY_MODEL_4cdef3da54b245beb7a9bedfcc560863",
       "value": 240
      }
     },
     "33aebbe42d064bd5b31a1e508e23818d": {
      "model_module": "@jupyter-widgets/base",
      "model_module_version": "1.0.0",
      "model_name": "LayoutModel",
      "state": {}
     },
     "33bbbdc3c371440aaa49f33bcc692506": {
      "model_module": "@jupyter-widgets/base",
      "model_module_version": "1.0.0",
      "model_name": "LayoutModel",
      "state": {}
     },
     "340e8921a23448009d56510de5bebc40": {
      "model_module": "@jupyter-widgets/base",
      "model_module_version": "1.0.0",
      "model_name": "LayoutModel",
      "state": {}
     },
     "34af5e3ec037476097d6a1759b31df00": {
      "model_module": "@jupyter-widgets/base",
      "model_module_version": "1.0.0",
      "model_name": "LayoutModel",
      "state": {}
     },
     "34cac97a54c743cf9a2273251f37ccba": {
      "model_module": "@jupyter-widgets/base",
      "model_module_version": "1.0.0",
      "model_name": "LayoutModel",
      "state": {}
     },
     "34d59f6b170940a48ed36938dc2def9a": {
      "model_module": "@jupyter-widgets/base",
      "model_module_version": "1.0.0",
      "model_name": "LayoutModel",
      "state": {}
     },
     "34ea6b6f93764ea8bfa74801198a7d01": {
      "model_module": "@jupyter-widgets/output",
      "model_module_version": "1.0.0",
      "model_name": "OutputModel",
      "state": {
       "layout": "IPY_MODEL_602f2579e299443882ad160aa42802c9",
       "outputs": [
        {
         "data": {
          "text/plain": "True"
         },
         "metadata": {},
         "output_type": "display_data"
        }
       ]
      }
     },
     "3563fc3c1132430f88e08e9eec00ac49": {
      "model_module": "@jupyter-widgets/controls",
      "model_module_version": "1.0.0",
      "model_name": "IntSliderModel",
      "state": {
       "continuous_update": false,
       "description": "Theta:",
       "layout": "IPY_MODEL_dfbe1bbcf50d4e419e8ca22d1a884f96",
       "max": 360,
       "style": "IPY_MODEL_3654c98e1bc94271b9ab8f55cac6e7cb",
       "value": 30
      }
     },
     "35bd08b8dcc0409f9b967c3b8f0aab87": {
      "model_module": "@jupyter-widgets/controls",
      "model_module_version": "1.0.0",
      "model_name": "SliderStyleModel",
      "state": {
       "description_width": ""
      }
     },
     "364a847540ce48518fba8506b8172e65": {
      "model_module": "@jupyter-widgets/controls",
      "model_module_version": "1.0.0",
      "model_name": "VBoxModel",
      "state": {
       "_dom_classes": [
        "widget-interact"
       ],
       "children": [
        "IPY_MODEL_704e267992264994a0a1d3f52c03100b",
        "IPY_MODEL_7322a231886041e591cc0a8528aba7b1"
       ],
       "layout": "IPY_MODEL_79d505f07cc24e24863b23902d48b340"
      }
     },
     "3654c98e1bc94271b9ab8f55cac6e7cb": {
      "model_module": "@jupyter-widgets/controls",
      "model_module_version": "1.0.0",
      "model_name": "SliderStyleModel",
      "state": {
       "description_width": ""
      }
     },
     "366ca6d4dd4441a6b0a404bcad6b201b": {
      "model_module": "@jupyter-widgets/controls",
      "model_module_version": "1.0.0",
      "model_name": "VBoxModel",
      "state": {
       "_dom_classes": [
        "widget-interact"
       ],
       "children": [
        "IPY_MODEL_c873dfc4f6344be78a48c9817808aa27",
        "IPY_MODEL_b683d48becdb4ca6ab7eb33eddcdd194",
        "IPY_MODEL_b11e10f8c34a46b19dbf565306593e6d",
        "IPY_MODEL_c7aa679c199749c7ae2aef74a31b160a",
        "IPY_MODEL_a4b22559e6a248499206e92e9ec09cee"
       ],
       "layout": "IPY_MODEL_7d02e098f4a943e6befacf34048200fa"
      }
     },
     "36a88c41d26c4390b5e8e535fc26e9f1": {
      "model_module": "@jupyter-widgets/controls",
      "model_module_version": "1.0.0",
      "model_name": "SliderStyleModel",
      "state": {
       "description_width": ""
      }
     },
     "37b3e3a599f04826ba6fd04ff36be3bf": {
      "model_module": "@jupyter-widgets/controls",
      "model_module_version": "1.0.0",
      "model_name": "SliderStyleModel",
      "state": {
       "description_width": ""
      }
     },
     "37ba66bfd2eb4e0b855dc047280fa4a9": {
      "model_module": "@jupyter-widgets/output",
      "model_module_version": "1.0.0",
      "model_name": "OutputModel",
      "state": {
       "layout": "IPY_MODEL_7a1b5ff33ad64b7382e06791a08be425",
       "outputs": [
        {
         "name": "stdout",
         "output_type": "stream",
         "text": "xy_original:\n [[ 0.68950928  0.57797539]\n [ 0.04968657  0.1790961 ]\n [ 0.50718443  0.4092611 ]]\nxy_transformed:\n [[ 0.68950928  0.57797539]\n [ 0.04968657  0.1790961 ]\n [ 0.50718443  0.4092611 ]]\n"
        },
        {
         "data": {
          "image/png": "iVBORw0KGgoAAAANSUhEUgAAAQIAAAD8CAYAAACcoKqNAAAABHNCSVQICAgIfAhkiAAAAAlwSFlz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\nAAAASUVORK5CYII=\n",
          "text/plain": "<matplotlib.figure.Figure at 0x11b28cbe0>"
         },
         "metadata": {},
         "output_type": "display_data"
        },
        {
         "data": {
          "text/plain": "[<matplotlib.patches.Polygon at 0x11b28c978>]"
         },
         "metadata": {},
         "output_type": "display_data"
        }
       ]
      }
     },
     "37eed1078b9646168729f3f34ad95918": {
      "model_module": "@jupyter-widgets/base",
      "model_module_version": "1.0.0",
      "model_name": "LayoutModel",
      "state": {
       "height": "350px"
      }
     },
     "3a5b270c22f148ab960f6455c2dee61d": {
      "model_module": "@jupyter-widgets/base",
      "model_module_version": "1.0.0",
      "model_name": "LayoutModel",
      "state": {}
     },
     "3a5c30c40cb4480483eabf3ae4bc0008": {
      "model_module": "@jupyter-widgets/controls",
      "model_module_version": "1.0.0",
      "model_name": "VBoxModel",
      "state": {
       "_dom_classes": [
        "widget-interact"
       ],
       "children": [
        "IPY_MODEL_cbd1ff7fc2684c8aa0ed727efa60fd60",
        "IPY_MODEL_24ac6439769343a5b343b9623070d2fc",
        "IPY_MODEL_f347b1d95f6242699b1a72f284548561",
        "IPY_MODEL_64cedc87ade34564b66d4bccd7d93991",
        "IPY_MODEL_8d7657ff87f94776a99bb666316414e9"
       ],
       "layout": "IPY_MODEL_10a04867d12744358372696c6630b3aa"
      }
     },
     "3a89c7dee246429d95750a10fcbc25f8": {
      "model_module": "@jupyter-widgets/output",
      "model_module_version": "1.0.0",
      "model_name": "OutputModel",
      "state": {
       "layout": "IPY_MODEL_b1f3fbba00364669b24bb5735cb1114c",
       "outputs": [
        {
         "name": "stdout",
         "output_type": "stream",
         "text": "xy_transformed:\n [[ 10.43487701  -1.259416  ]\n [  7.80583302   1.84457628]\n [  7.94556625  -2.7338065 ]]\n"
        },
        {
         "data": {
          "image/png": "iVBORw0KGgoAAAANSUhEUgAAARMAAAD8CAYAAABUzEBbAAAABHNCSVQICAgIfAhkiAAAAAlwSFlz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\nQmCC\n",
          "text/plain": "<matplotlib.figure.Figure at 0x112eb4550>"
         },
         "metadata": {},
         "output_type": "display_data"
        }
       ]
      }
     },
     "3a9552a7c98d4bd48123f59708ec0d27": {
      "model_module": "@jupyter-widgets/base",
      "model_module_version": "1.0.0",
      "model_name": "LayoutModel",
      "state": {}
     },
     "3a95a468d5654d5ba800fc0ef9b45d2a": {
      "model_module": "@jupyter-widgets/controls",
      "model_module_version": "1.0.0",
      "model_name": "SliderStyleModel",
      "state": {
       "description_width": ""
      }
     },
     "3aa02d4dc384414d84b4bde0dbcba143": {
      "model_module": "@jupyter-widgets/output",
      "model_module_version": "1.0.0",
      "model_name": "OutputModel",
      "state": {
       "layout": "IPY_MODEL_4cb0e12ed1374b26a96797e4ddd40a36",
       "outputs": [
        {
         "data": {
          "text/plain": "'Hi there!'"
         },
         "metadata": {},
         "output_type": "display_data"
        }
       ]
      }
     },
     "3b06c63fcbe14740b8ef1c8b063a0ff3": {
      "model_module": "@jupyter-widgets/base",
      "model_module_version": "1.0.0",
      "model_name": "LayoutModel",
      "state": {}
     },
     "3b32d21fe9ee4f71b12730ab87f98777": {
      "model_module": "@jupyter-widgets/controls",
      "model_module_version": "1.0.0",
      "model_name": "VBoxModel",
      "state": {
       "_dom_classes": [
        "widget-interact"
       ],
       "children": [
        "IPY_MODEL_7ab8d1161c3f449e8e8a15c89a732d19",
        "IPY_MODEL_64b003e5e7ec43158e9d7717e89642d2",
        "IPY_MODEL_97726b24f7ce4272bd6cf34c5c5db60c",
        "IPY_MODEL_bf95aba5951245ff8724fda533c2d638",
        "IPY_MODEL_429684957e914e0199cfac6f2362fced"
       ],
       "layout": "IPY_MODEL_55b3124904314e6998df7dc750702667"
      }
     },
     "3b61430f0cb74dbab13ac0a7af3eca5d": {
      "model_module": "@jupyter-widgets/base",
      "model_module_version": "1.0.0",
      "model_name": "LayoutModel",
      "state": {}
     },
     "3b619ae4bafd47848f852b3754008bc8": {
      "model_module": "@jupyter-widgets/base",
      "model_module_version": "1.0.0",
      "model_name": "LayoutModel",
      "state": {}
     },
     "3b8bbc24da024ab2b37fb9104365e9b3": {
      "model_module": "@jupyter-widgets/base",
      "model_module_version": "1.0.0",
      "model_name": "LayoutModel",
      "state": {}
     },
     "3bbf9696a9ed429d893ede1afcf45da9": {
      "model_module": "@jupyter-widgets/controls",
      "model_module_version": "1.0.0",
      "model_name": "SliderStyleModel",
      "state": {
       "description_width": ""
      }
     },
     "3cdeee53623745f2a2f07657d560591e": {
      "model_module": "@jupyter-widgets/controls",
      "model_module_version": "1.0.0",
      "model_name": "FloatSliderModel",
      "state": {
       "description": "t_x",
       "layout": "IPY_MODEL_e36c0b1ae340497ebf45ea3509af10a5",
       "max": 1,
       "step": 0.01,
       "style": "IPY_MODEL_acf815e8b57e420f9c58d9cc8933c0db"
      }
     },
     "3ce04161fe9e47abb99a684bd2d0a061": {
      "model_module": "@jupyter-widgets/output",
      "model_module_version": "1.0.0",
      "model_name": "OutputModel",
      "state": {
       "layout": "IPY_MODEL_69bbc4440f9241ff8a900db61e314370",
       "outputs": [
        {
         "data": {
          "text/plain": "10"
         },
         "metadata": {},
         "output_type": "display_data"
        }
       ]
      }
     },
     "3cf7e53458f849f087ab17c72f266844": {
      "model_module": "@jupyter-widgets/base",
      "model_module_version": "1.0.0",
      "model_name": "LayoutModel",
      "state": {}
     },
     "3dcc6602892b4d78ae488a01f5b2a328": {
      "model_module": "@jupyter-widgets/controls",
      "model_module_version": "1.0.0",
      "model_name": "SliderStyleModel",
      "state": {
       "description_width": ""
      }
     },
     "3e2828e0e311412f84baa03842ee8fdb": {
      "model_module": "@jupyter-widgets/base",
      "model_module_version": "1.0.0",
      "model_name": "LayoutModel",
      "state": {}
     },
     "3e49b93af0084b5ebc2fe855daac6054": {
      "model_module": "@jupyter-widgets/controls",
      "model_module_version": "1.0.0",
      "model_name": "SliderStyleModel",
      "state": {
       "description_width": ""
      }
     },
     "3ed0c6157b46484ea9e1a6f8cdcedcf9": {
      "model_module": "@jupyter-widgets/controls",
      "model_module_version": "1.0.0",
      "model_name": "VBoxModel",
      "state": {
       "_dom_classes": [
        "widget-interact"
       ],
       "children": [
        "IPY_MODEL_2fce2c44f749445ba385126ce387a32c",
        "IPY_MODEL_53ec6387889948579a282d7ab5e2f47b",
        "IPY_MODEL_75cd516ab9104bcf8770ab986152939a",
        "IPY_MODEL_7ead6e4ac6cf4c4581491e79a9905264",
        "IPY_MODEL_2cac1f55e78748309d3b761be73d8b46"
       ],
       "layout": "IPY_MODEL_585dfb062f834f47ac126b536e64133b"
      }
     },
     "3ee67cf209c9430ab357e674a3807df0": {
      "model_module": "@jupyter-widgets/controls",
      "model_module_version": "1.0.0",
      "model_name": "FloatSliderModel",
      "state": {
       "description": "t_x",
       "layout": "IPY_MODEL_d8dc636c74614840a220b6b639ecde0e",
       "max": 1,
       "step": 0.01,
       "style": "IPY_MODEL_2e367da01532497a96d639a2906c3525"
      }
     },
     "3f0e45d18b944734bdc6f9b37e471a97": {
      "model_module": "@jupyter-widgets/controls",
      "model_module_version": "1.0.0",
      "model_name": "SliderStyleModel",
      "state": {
       "description_width": ""
      }
     },
     "3f5419e67e474187803b06fd8b3d71d8": {
      "model_module": "@jupyter-widgets/base",
      "model_module_version": "1.0.0",
      "model_name": "LayoutModel",
      "state": {}
     },
     "3fc3fea4771640868391f8b52803f96a": {
      "model_module": "@jupyter-widgets/controls",
      "model_module_version": "1.0.0",
      "model_name": "SliderStyleModel",
      "state": {
       "description_width": ""
      }
     },
     "402a941996e942819cf803eba1a0fa4d": {
      "model_module": "@jupyter-widgets/base",
      "model_module_version": "1.0.0",
      "model_name": "LayoutModel",
      "state": {}
     },
     "4042201de31e4fc18210fb7d719d0a81": {
      "model_module": "@jupyter-widgets/base",
      "model_module_version": "1.0.0",
      "model_name": "LayoutModel",
      "state": {}
     },
     "4099e5faa24844cc9e21b794a92db31f": {
      "model_module": "@jupyter-widgets/base",
      "model_module_version": "1.0.0",
      "model_name": "LayoutModel",
      "state": {}
     },
     "4179d73e49044c71b796e0edf823e324": {
      "model_module": "@jupyter-widgets/controls",
      "model_module_version": "1.0.0",
      "model_name": "IntSliderModel",
      "state": {
       "description": "theta",
       "layout": "IPY_MODEL_402a941996e942819cf803eba1a0fa4d",
       "max": 360,
       "step": 10,
       "style": "IPY_MODEL_02d08d17b6ed43f7998ad2afca905640",
       "value": 20
      }
     },
     "419fca4abda64c89bf66582f421703d0": {
      "model_module": "@jupyter-widgets/base",
      "model_module_version": "1.0.0",
      "model_name": "LayoutModel",
      "state": {}
     },
     "41b1bef603804b5c91250923218ff119": {
      "model_module": "@jupyter-widgets/controls",
      "model_module_version": "1.0.0",
      "model_name": "SliderStyleModel",
      "state": {
       "description_width": ""
      }
     },
     "41e80193502a4f2ab5cd62530e0f1911": {
      "model_module": "@jupyter-widgets/controls",
      "model_module_version": "1.0.0",
      "model_name": "DescriptionStyleModel",
      "state": {
       "description_width": ""
      }
     },
     "42066c2119834463b4f0274402a83add": {
      "model_module": "@jupyter-widgets/controls",
      "model_module_version": "1.0.0",
      "model_name": "IntSliderModel",
      "state": {
       "description": "N",
       "layout": "IPY_MODEL_b4c51d3f3e734bbcae379a4b30055930",
       "max": 10,
       "min": 3,
       "style": "IPY_MODEL_3fc3fea4771640868391f8b52803f96a",
       "value": 3
      }
     },
     "429684957e914e0199cfac6f2362fced": {
      "model_module": "@jupyter-widgets/output",
      "model_module_version": "1.0.0",
      "model_name": "OutputModel",
      "state": {
       "layout": "IPY_MODEL_9cfe114b258b4f7bbe55759d3a757ca1",
       "outputs": [
        {
         "name": "stdout",
         "output_type": "stream",
         "text": "xy_transformed:\n [[ 5.04022005  8.04324493]\n [ 0.87114375  3.86332573]\n [ 2.33755891  1.76338595]]\n"
        },
        {
         "data": {
          "image/png": "iVBORw0KGgoAAAANSUhEUgAAARMAAAD8CAYAAABUzEBbAAAABHNCSVQICAgIfAhkiAAAAAlwSFlz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\nrkJggg==\n",
          "text/plain": "<matplotlib.figure.Figure at 0x10978b8d0>"
         },
         "metadata": {},
         "output_type": "display_data"
        }
       ]
      }
     },
     "42971a9039744b8fb588ef77c09d66c6": {
      "model_module": "@jupyter-widgets/output",
      "model_module_version": "1.0.0",
      "model_name": "OutputModel",
      "state": {
       "layout": "IPY_MODEL_c87ae96d59b4416187298d40dc0dbfef",
       "outputs": [
        {
         "data": {
          "image/png": "iVBORw0KGgoAAAANSUhEUgAAAXYAAAD8CAYAAABjAo9vAAAABHNCSVQICAgIfAhkiAAAAAlwSFlz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\nowAAAABJRU5ErkJggg==\n",
          "text/plain": "<matplotlib.figure.Figure at 0x11b17e630>"
         },
         "metadata": {},
         "output_type": "display_data"
        }
       ]
      }
     },
     "42a65a216fd84e5e959e409c9f5e0af6": {
      "model_module": "@jupyter-widgets/base",
      "model_module_version": "1.0.0",
      "model_name": "LayoutModel",
      "state": {}
     },
     "43385c543b9c4aa0bf33e81bfed67041": {
      "model_module": "@jupyter-widgets/controls",
      "model_module_version": "1.0.0",
      "model_name": "FloatSliderModel",
      "state": {
       "description": "t_x",
       "layout": "IPY_MODEL_30882a02d20f4badb3428764d36e47e9",
       "max": 1,
       "step": 0.01,
       "style": "IPY_MODEL_21ff788403f24ab085e6a182655bf395",
       "value": 0.9
      }
     },
     "4407118d43604e47af9c9a46af53310c": {
      "model_module": "@jupyter-widgets/controls",
      "model_module_version": "1.0.0",
      "model_name": "FloatSliderModel",
      "state": {
       "continuous_update": false,
       "description": "t_y",
       "layout": "IPY_MODEL_45c7c201f9e04e1790f7b118d7777325",
       "max": 1,
       "readout_format": ".1f",
       "step": 0.01,
       "style": "IPY_MODEL_63030940d6e444d69d59531e517efed1",
       "value": 0.01
      }
     },
     "4462d9e832c546a2b5bd9b11858d7f5b": {
      "model_module": "@jupyter-widgets/controls",
      "model_module_version": "1.0.0",
      "model_name": "FloatSliderModel",
      "state": {
       "layout": "IPY_MODEL_83678088fb984e3c9f3fe16b04bce043",
       "step": 0.1,
       "style": "IPY_MODEL_1f601b8ebfdc481c856a959175efd411"
      }
     },
     "44a0dac153a94fce82ca8ae5916c6106": {
      "model_module": "@jupyter-widgets/controls",
      "model_module_version": "1.0.0",
      "model_name": "SliderStyleModel",
      "state": {
       "description_width": ""
      }
     },
     "44b57dbca9a242e4af9a36e7df763db4": {
      "model_module": "@jupyter-widgets/base",
      "model_module_version": "1.0.0",
      "model_name": "LayoutModel",
      "state": {}
     },
     "452fd9a2b6754586ab5041d177387528": {
      "model_module": "@jupyter-widgets/controls",
      "model_module_version": "1.0.0",
      "model_name": "SliderStyleModel",
      "state": {
       "description_width": ""
      }
     },
     "458bd929b6924bc08eda0e5eeb0c2773": {
      "model_module": "@jupyter-widgets/base",
      "model_module_version": "1.0.0",
      "model_name": "LayoutModel",
      "state": {}
     },
     "45c7c201f9e04e1790f7b118d7777325": {
      "model_module": "@jupyter-widgets/base",
      "model_module_version": "1.0.0",
      "model_name": "LayoutModel",
      "state": {}
     },
     "4638231acc2047eeae687fbdeaf6af8c": {
      "model_module": "@jupyter-widgets/base",
      "model_module_version": "1.0.0",
      "model_name": "LayoutModel",
      "state": {}
     },
     "469b40da482949c3986e5425a1888849": {
      "model_module": "@jupyter-widgets/base",
      "model_module_version": "1.0.0",
      "model_name": "LayoutModel",
      "state": {}
     },
     "46a273ef90a14a71af947b0ba4280bd4": {
      "model_module": "@jupyter-widgets/controls",
      "model_module_version": "1.0.0",
      "model_name": "FloatSliderModel",
      "state": {
       "layout": "IPY_MODEL_b9ebd69677a54818a2356d03bcc40cfe",
       "step": 0.1,
       "style": "IPY_MODEL_f48388689c89442f9f7b2d9121a3a2a3"
      }
     },
     "4790a1e9a23547d28d656fb0df938c83": {
      "model_module": "@jupyter-widgets/base",
      "model_module_version": "1.0.0",
      "model_name": "LayoutModel",
      "state": {}
     },
     "47fced2c5e2144dda76e8af586e3024b": {
      "model_module": "@jupyter-widgets/base",
      "model_module_version": "1.0.0",
      "model_name": "LayoutModel",
      "state": {}
     },
     "4829dce10bee419dac8ba7388beb6e60": {
      "model_module": "@jupyter-widgets/base",
      "model_module_version": "1.0.0",
      "model_name": "LayoutModel",
      "state": {}
     },
     "48485596f0f544389496b553af16a407": {
      "model_module": "@jupyter-widgets/controls",
      "model_module_version": "1.0.0",
      "model_name": "FloatSliderModel",
      "state": {
       "description": "b",
       "layout": "IPY_MODEL_e4261cea901c438c81fcd6f20eb6bcdd",
       "max": 3,
       "min": -3,
       "step": 0.5,
       "style": "IPY_MODEL_6275e33254a442109381d8ab9fac7ea2",
       "value": -2.5
      }
     },
     "491d59bdf502462f88c3a6e87b616801": {
      "model_module": "@jupyter-widgets/controls",
      "model_module_version": "1.0.0",
      "model_name": "TextModel",
      "state": {
       "disabled": true,
       "layout": "IPY_MODEL_3cf7e53458f849f087ab17c72f266844",
       "style": "IPY_MODEL_fb7ea8623f7545249e36391518f94877",
       "value": "Hello World!"
      }
     },
     "4973cd1ba2484aa586b75c410a45b5a9": {
      "model_module": "@jupyter-widgets/base",
      "model_module_version": "1.0.0",
      "model_name": "LayoutModel",
      "state": {}
     },
     "49f0b67103e34398a06e792bee1d57b0": {
      "model_module": "@jupyter-widgets/base",
      "model_module_version": "1.0.0",
      "model_name": "LayoutModel",
      "state": {
       "height": "400px"
      }
     },
     "4a28365c5d9a41f9b422339e8d482f79": {
      "model_module": "@jupyter-widgets/controls",
      "model_module_version": "1.0.0",
      "model_name": "IntSliderModel",
      "state": {
       "continuous_update": false,
       "description": "Theta:",
       "layout": "IPY_MODEL_76d265db8fb445d5935ee28d602443d6",
       "max": 360,
       "style": "IPY_MODEL_60c1f5bc162549499b9a2601bbcda8ea",
       "value": 30
      }
     },
     "4a4c11638fd647e3848185881372dbce": {
      "model_module": "@jupyter-widgets/base",
      "model_module_version": "1.0.0",
      "model_name": "LayoutModel",
      "state": {}
     },
     "4a5874e706754fc58552d7656ba03a97": {
      "model_module": "@jupyter-widgets/base",
      "model_module_version": "1.0.0",
      "model_name": "LayoutModel",
      "state": {}
     },
     "4a9aa6b0051045e89eeabb217584c2d8": {
      "model_module": "@jupyter-widgets/output",
      "model_module_version": "1.0.0",
      "model_name": "OutputModel",
      "state": {
       "layout": "IPY_MODEL_6595f9daa7e1490abafb9a5d92fd9a8f",
       "outputs": [
        {
         "name": "stdout",
         "output_type": "stream",
         "text": "xy_transformed:\n [[ 0.68950928  0.57797539]\n [ 0.04968657  0.1790961 ]\n [ 0.50718443  0.4092611 ]]\n"
        },
        {
         "data": {
          "image/png": "iVBORw0KGgoAAAANSUhEUgAAAQIAAAD8CAYAAACcoKqNAAAABHNCSVQICAgIfAhkiAAAAAlwSFlz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\nAAAASUVORK5CYII=\n",
          "text/plain": "<matplotlib.figure.Figure at 0x11b0cf828>"
         },
         "metadata": {},
         "output_type": "display_data"
        }
       ]
      }
     },
     "4aa1416822624d338ff0a704ce7b7e65": {
      "model_module": "@jupyter-widgets/output",
      "model_module_version": "1.0.0",
      "model_name": "OutputModel",
      "state": {
       "layout": "IPY_MODEL_a3b40840598b4f9894df3ff653f61440",
       "outputs": [
        {
         "name": "stdout",
         "output_type": "stream",
         "text": "xy_transformed:\n [[ 0.57051729  0.56452876]\n [ 0.48844183  0.33647775]\n [ 0.37586818  0.53203587]]\n"
        },
        {
         "data": {
          "image/png": "iVBORw0KGgoAAAANSUhEUgAAAQgAAAD8CAYAAACLgjpEAAAABHNCSVQICAgIfAhkiAAAAAlwSFlz\nAAALEgAACxIB0t1+/AAAADl0RVh0U29mdHdhcmUAbWF0cGxvdGxpYiB2ZXJzaW9uIDIuMS4wLCBo\ndHRwOi8vbWF0cGxvdGxpYi5vcmcvpW3flQAAGOFJREFUeJzt3W+MHPd93/H3d/bv3d4/UndcHkU5\npAMKkeQEFnSQixYxDkYVsw1CpbARqH4ipUkIAREcJH0iIYEKyAjqukDcAhHg0oYAP3GUIAYc2iAg\nOKg3/auEp1qJIrG0KSoOL5QRiVQln0geeXffPtg5arna5c3tzu78+7yAw93Mzux+d3b2czPzm5mf\nuTsiIr0ESRcgIumlgBCRvhQQItKXAkJE+lJAiEhfCggR6UsBISJ9KSBEpC8FhIj0VU66gG7z8/N+\n6NChsb/u+++/T6PRGPvrDkK1jk6W6h2m1pdeeultd1/YcUJ3T9XPAw884En43ve+l8jrDkK1jk6W\n6h2mVmDFI3wftYshIn0pIESkLwWEiPSlgBCRvhQQItKXAkJE+lJAiEhfCggR6St1Z1KKZM3G5hbr\nG1tcu7HJtY0tpqplZicrSZcVCwWESESdQXAzEG5ssbl1642f72hWE6owfgoIkS69gmB9Y4uNzZ3v\nAD9RDahXSmOocjwUEFJY/bYIzrz5k4Gfc24yP1sPoICQAtjNFoEzeD8xZjA7kY9jD9sUEJIbw+wa\nxGGqVqZSylfDoAJCMmdzy8PdgWSCoJ+5nLRcdFJASGptB8EHxwfSEQS9mMFMXQEhErvuINj+ncYg\n6Gd2okIQWNJlxC5SQJjZUeA/AyXga+7+xa7HHwP+I/AP4ag/dPevhY9tAq+E4//e3Y/FULdkUB6C\noJ887l5AhIAwsxLwLPAQsAqcNrOT7v5a16R/7O5P9HiKq+7+8eFLlazoDIIbm84bb7+fmyDopVwy\npmr53BiP8q4eBM65+3kAM3seeBjoDggpmChbBBtbW6xd20iwytGbm6xglr/dC4gWEHcCFzqGV4FP\n9JjuM2b2SeAHwG+7+/Y8dTNbATaAL7r7t4YpWMZvc8tZ32ifRJS3XYM4zE3k6+SoTlEColc0dq8Z\n3wb+yN3Xzexx4OvAp8LHPuLuF83so8B/NbNX3P31W17A7DhwHKDZbNJqtXbzHmKxtraWyOsOYpS1\nbnn7Tue3/B7i5KEb166wemYlxgpHa7f1BmZcOpfMuQ/jWGejBMQqcFfH8EHgYucE7n6pY/CrwH/o\neOxi+Pu8mbWA+4HXu+Y/AZwAWFpa8uXl5chvIC6tVoskXncQw9bauUXQ+fvGRvxbBKtnVjh4z1Ls\nzzsqu623OVtj33R9hBX1N451NkpAnAaOmNlh2q0UjwCf65zAzBbd/c1w8BhwJhy/B7gSblnMA/8M\n+FJcxcvtjTMIiirPuxcQISDcfcPMngBeoN3M+Zy7v2pmz9DufOMk8HkzO0b7OMNl4LFw9nuA/2Jm\nW7RvTvPFHq0fMiQFQTImayWq5XydWt0tUtuMu58CTnWNe7rj76eAp3rM97+Anx2yRgltB8HmlvPm\nu1cVBAnbk7MrN3vJZ+Ntxu20RXB9c4u3f3I94SqLLY9XbvaigEjQdhCs39jimnYNMmWmXqGUw1Or\nuykgxmBry7nWEQTbvxUE2ZWXe07uRAERIwVBMQQBzNSL8dUpxruMmYKg2OYmq7k9tbqbAuI2FATS\ny1wBDk5uU0DQDoIth3fev64gkNuqlI1GTq/c7KU475R2EHzQwcmtQbC+scnqO1eTLlFSrgjnPnTK\nZUB0BkFnIGiLQIZVhHMfOmU6IHoFwfrGFtc3tpIuTXIob53iRJG5gHB3Vt+5ypXrmwoCGau8dYoT\nReauNDEzauVA4SBjVZRTq7tlLiAA5qdqVMrFaIeWdGjksFOcKDL5joPAWJyZSLoMKZA9BTm1ulsm\nAwLa58JP1op1wEiSkddOcaLIbEAAHJjVVoSMXl47xYki0wExUS2xp1HMZJfxyWunOFFkOiAAmjN1\ngsy/C0mrPHeKE0Xmv1qVUpDYXYUl//LcKU4UmQ8IgPmpau5vHirJyPtdq3eSi2+VmbF/VlsREq9a\nJWCiWuyWslwEBLSPNE8V5C4/Mh5FPji5LTcBAbCorQiJUdF3LyBnAVGvlNg7pQ9VhleETnGiyN0S\naE7X1OwpQyvajWH6yd1XqVwKaM5oV0MGV9QrN3vJXUAA3NGoUqvk8q3JGEzXy4XoFCeKXH6LzEwH\nLGVgRbwxTD+5DAiA6XqFaTV7yi4ZxekUJ4rcBgTA/tk6BT5LVgZQCqzQp1Z3y3VA1Csl7lCzp+xC\nSU1gt8j90tg3XdcBJ4mkUja0qtwq9wFRCnSdhkSjcx8+LPcBAe37CdbV7Ck70LkPH1aIb42ZsTin\n29NJf0XsFCeKSAFhZkfN7KyZnTOzJ3s8/piZvWVmL4c/v97x2KNm9sPw59E4i9+NqVpZ/yGkL537\n0NuODb5mVgKeBR4CVoHTZnbS3V/rmvSP3f2Jrnn3Av8OWAIceCmc951Yqt+l5myN967dwNVFp3TR\nP4/eomxBPAicc/fz7n4deB54OOLzfxr4rrtfDkPhu8DRwUodXq1cYn6qltTLS0pN1YvZKU4UUU4Z\nuxO40DG8Cnyix3SfMbNPAj8AftvdL/SZ987uGc3sOHAcoNls0mq1IhU/qGs3tnBu3Yy4ce0Kq2dW\nRvq6cVGt8aqWAn4Utm+ura2NfP2LyzhqjRIQvVqGuzfSvw38kbuvm9njwNeBT0WcF3c/AZwAWFpa\n8uXl5QhlDe6d96+z+s7VW8atnlnh4D1LI33duKjW+JjBvYszN/u9aLVajHr9i8s4ao2yXbUK3NUx\nfBC42DmBu19y9/Vw8KvAA1HnTcKeRrXw9xqUtiJ3ihNFlIA4DRwxs8NmVgUeAU52TmBmix2Dx4Az\n4d8vAL9gZnvMbA/wC+G4xB2Y08lTovtO7mTHXQx33zCzJ2h/sUvAc+7+qpk9A6y4+0ng82Z2DNgA\nLgOPhfNeNrMv0A4ZgGfc/fII3seuTVbLzE1W+H9XbiRdiiSk6J3iRBFp6bj7KeBU17inO/5+Cniq\nz7zPAc8NUePINGfqvHtVzZ5FNTtR7E5xoih02061HLBvWs2eRaVrL3ZW6IAAmJ+qUSnrv0jRqFOc\naAofEEFgLM7oOo2i0cHJaAofEACzkxUC7YsWijrFiUYBEarqVNvCUKc40WkphcxgT0ObnUWgg5PR\nKSA6NGfq6pUr59Qpzu7o69ChUgpYULNnrqlTnN1RQHRZmKpp/zTHdGOY3dE3oYuZbnKbV0GgTnF2\nSwHRw+xEhUZNJ9HkjU6t3j0FRB8HdJPb3FHrxe4pIPqoV0rsVa9cuVEpGw1dublrCojbaE7X1OyZ\nEzpzcjBa/W+jXApozuiAZR7o2ovBKCB2cEejSk29cmWaOsUZnNb8HZgZi2r2zLRZ7V4MTAERwXS9\nwrTazzNLuxeDU0BEtH+2jprQs0ed4gxHSy6ieqXEHWr2zJw92noYigJiF/ZN13WhT4aYwUxdATEM\nBcQulAKjOaOrPbNCneIMTwGxS3sbVepq9swEHZwcntb0XTIzFnWdRuqVAnWKEwcFxACmamVmJrTy\npdncpK7cjIMCYkBq9kw3XbkZDwXEgGrlEvNTOmCZRuoUJz4KiCEsTNcol7QZkTZzuiltbBQQQygF\nxn5d7Zk6s2q9iI0CYkh7GlVtzqbIZK1ErazPIy4KiBjoas/00O5FvBQQMWjUyjopJwXUKU78FBAx\nac6o2TNp0/UyZV25GSstzZhUywH71CtXotQpTvwiBYSZHTWzs2Z2zsyevM10nzUzN7OlcPiQmV01\ns5fDn6/EVXgazU/VqJS1GZGEIIBpnVodux2XqJmVgGeBh4BV4LSZnXT317qmmwY+D/xl11O87u4f\nj6neVAvCZs8Ll68mXUrh6MrN0YiyBfEgcM7dz7v7deB54OEe030B+BJwLcb6MmdussqkeuUaO51a\nPRpRAuJO4ELH8Go47iYzux+4y92/02P+w2b2fTP7CzP7+cFLzY4Ds7rac5zUKc7oRFmqvbbb/OaD\nZgHwZeCxHtO9CXzE3S+Z2QPAt8zsPnd/75YXMDsOHAdoNpu0Wq1o1cdobW0t1te9sbnFxpbvPOEg\nz33tCqtnVkby3HEbR62VIODH/zee3Yu414NRGketUQJiFbirY/ggcLFjeBr4GNAKL6/dD5w0s2Pu\nvgKsA7j7S2b2OnA3cMsa4+4ngBMAS0tLvry8PNCbGUar1SLO172xucXZH/8EH0FGrJ5Z4eA9S/E/\n8QiMo9YjzanY+r2Iez0YpXHUGmUX4zRwxMwOm1kVeAQ4uf2gu7/r7vPufsjdDwEvAsfcfcXMFsKD\nnJjZR4EjwPnY30UKVUoB+3R7upFTpzijtWNAuPsG8ATwAnAG+BN3f9XMnjGzYzvM/kngb8zsr4E/\nBR5398vDFp0VC1M1qmWdajJK6hRntCId2XH3U8CprnFP95l2uePvbwLfHKK+TDMz9s/W+ftLV5Iu\nJbd0ivto6d/biM1OVGio2XMk1CnO6GnpjsEB3eR2JHTl5ugpIMagXimxV71yxUpXbo6HAmJMmtM1\nAi3t2OjU6vHQKjsm5VJAU7eni41uKzceCogxuqNRpaZeuYZWCkxXbo6J1tYx2m72lOGoU5zxUUCM\n2Uy9wnRd//2GoSs3x0cBkQD1yjU4dYozXgqIBNQrJfY29F9wEDr3YbwUEAlpztQpqZlu19R6MV4K\niISUAqOpqz13RZ3ijJ8CIkF7G1XqavaMTLsX46e1M0FmxqKu04hEp1YnQwGRsKlamZkJNXvuRJ3i\nJENLPAXU7LmzOd0YJhEKiBSolUvMT+mAZT9BgE4uS4gCIiUWpmuUS9qM6EVXbiZHAZESpbBXLvkw\n9bmZHAVEiuxpVJmo6iPpVCkbU7pyMzFaG1NmUb1y3UIHJ5OlgEiZRq2sOzV30LJIlgIihZozavYE\ndYqTBgqIFKqWAxam1eypTnGSp4BIqYWpGpVysTcjtHuRPAVESgUFb/ZUpzjpoE8gxeYmq0wWtFcu\nXbmZDgqIlDtQwGZPM5hRQKSCAiLlJqqlwu2Lz05UdLetlFBAZEDRrvbUbeXSQwGRAZVSwL6C3J5O\nneKkiwIiI+YbNarl/H9c6hQnXfK/xuVEEBSjV66iHW9JOwVEhsxOVGjkuNmzVgmYrGr3Ik0iBYSZ\nHTWzs2Z2zsyevM10nzUzN7OljnFPhfOdNbNPx1F0kR3I8U1ude5D+uwY12ZWAp4FHgJWgdNmdtLd\nX+uabhr4PPCXHePuBR4B7gMOAH9uZne7+2Z8b6FY6pUS5SCfG35qvUifKGvag8A5dz/v7teB54GH\ne0z3BeBLwLWOcQ8Dz7v7uru/AZwLn0+GUCkZecsIdYqTTlFWszuBCx3Dq+G4m8zsfuAud//ObueV\nwTRzdp2Gdi/SKcoRoV5tTn7zQbMA+DLw2G7n7XiO48BxgGazSavVilBWvNbW1hJ53UGsra3xtyv/\nm/WNLbb8Q4szVW5cu8LqmZXbTmPApZTc9yFr68Goa40SEKvAXR3DB4GLHcPTwMeAVth+vR84aWbH\nIswLgLufAE4ALC0t+fLycvR3EJNWq0USrzuI7Vrfu3aDH719Jelybmv1zAoH71m67TQzE2V+6o7G\nmCq6vSyuB6MUZRfjNHDEzA6bWZX2QceT2w+6+7vuPu/uh9z9EPAicMzdV8LpHjGzmpkdBo4AfxX7\nuyiomXolF/1F6L6T6bXj2uXuG2b2BPACUAKec/dXzewZYMXdT95m3lfN7E+A14AN4DfVghGv/bN1\n1tbXSPmeRl/qFCfdIn0y7n4KONU17uk+0y53Df8+8PsD1ic7qFdK7G1UubR2PelSBqJOcdItZ41l\nxdScqWf28mh1ipNuCogcKAVGM4NXe6pTnPRTQOTE3kaVeiVbH6cOTqZfttYo6cvMWMzYdRq6cjP9\nFBA5MlUrMzORjU12dYqTDQqInMnK7enUKU42KCByplYuMT+V/gOW2r3IBgVEDi1M1yiX0rsZoU5x\nskOfUg6VUt4rl67czA4FRE7taVSZqKbv41WnONmSvjVIYrOYwl651ClOtiggcqxRK6fuYKBuK5ct\nCoica86kp9lTneJkjwIi56rlgIXpdDR7qlOc7FFAFMDCVI1KOfkvZtp2d2RnCogCCFLQ7Fktq1Oc\nLFJAFMTcZJXJBHvl2qOth0xSQBTIYoJ9e6r1IpsUEAUyWU2m2VOd4mSXAqJgkrjaU6dWZ5cComAq\npYB9Y7w9ndE+e1KySQFRQPONGtXyeD76IDDKunIzs/TJFVAQGPvHdMCypBOjMk0BUVCzExUaI272\nDAJ0YVbGKSAK7MCIb3KrYw/Zp4AosHqlxN6p0d0bUp3iZJ8CouCa0zWCEawF6hQnHxQQBVcuBeyb\njv+ApTrFyQcFhDA/VaUWc69cunIzHxQQglm8zZ71ijrFyQsFhAAwU68wVY/nmIEOTuaHAkJuWozp\nOg3tXuSHAkJuqldK7G0M999fneLkiz5JuUVzpj7U2Y+6cjNfFBByi1JgNAe82lOd4uRPpIAws6Nm\ndtbMzpnZkz0ef9zMXjGzl83sf5jZveH4Q2Z2NRz/spl9Je43IPHb26hSH6DZU53i5M+Oh63NrAQ8\nCzwErAKnzeyku7/WMdk33P0r4fTHgD8AjoaPve7uH4+3bBklM2NxboI33np/V/PptnL5E+XfxIPA\nOXc/7+7XgeeBhzsncPf3OgYbgMdXoiRhqlZmZiJ6s6c6xcmnKJ/oncCFjuFV4BPdE5nZbwK/A1SB\nT3U8dNjMvg+8B/yeu//3HvMeB44DNJtNWq1W1Ppjs7a2lsjrDmJctTqwfmMzUtqXg4B//MGHdy+y\ntFwhW/WOo9YoAdFrp/JD64y7Pws8a2afA34PeBR4E/iIu18ysweAb5nZfV1bHLj7CeAEwNLSki8v\nL+/uXcSg1WqRxOsOYpy1/vjda7z1k/Udp/vpfY2e/V5kablCtuodR61RdjFWgbs6hg8CF28z/fPA\nLwO4+7q7Xwr/fgl4Hbh7sFIlCQvTNcql2x94VKc4+RUlIE4DR8zssJlVgUeAk50TmNmRjsFfBH4Y\njl8ID3JiZh8FjgDn4yhcxqPd7Hn76zTUKU5+7Rj77r5hZk8ALwAl4Dl3f9XMngFW3P0k8ISZ/XPg\nBvAO7d0LgE8Cz5jZBrAJPO7ul0fxRmR09jaqXH5/navXt3o+rtaL/Iq0Xejup4BTXeOe7vj7t/rM\n903gm8MUKOmwODvB+R7NnhNVdYqTZzqTUiJp1Mo97zGp3Yt8U0BIZN29cpnpxrR5p4CQyKrlgIXp\nD67TmK6X1SlOzunTlV1ZmPqg2VP3ncw/BYTsShAYi7N1gqC9BSH5pk9Ydm1ussqWt8NC8k1bEDKQ\nYe88JdmggBCRvhQQItKXAkJE+lJAiEhfCggR6UsBISJ9KSBEpC8FhIj0pYAQkb7MPV13qDezt4Af\nJfDS88DbCbzuIFTr6GSp3mFq/Sl3X9hpotQFRFLMbMXdl5KuIwrVOjpZqncctWoXQ0T6UkCISF8K\niA+cSLqAXVCto5Olekdeq45BiEhf2oIQkb5yHxBmdtTMzprZOTN78jbTfdbM3MyWOsY9Fc531sw+\nneZ6zeyQmV01s5fDn68kXauZPWZmb3XU9Osdjz1qZj8Mfx7tnjdltW52jD/ZPW8S9YbT/IqZvWZm\nr5rZNzrGx7ds3T23P7R7Ansd+CjtXsf/Gri3x3TTwH8DXgSWwnH3htPXgMPh85RSXO8h4G/TtGyB\nx4A/7DHvXtpdMO4F9oR/70ljreFja2lbb2l3Y/n97eUG7BvFss37FsSDwDl3P+/u12l3LPxwj+m+\nAHwJuNYx7mHgeW93QPwGcC58vrTWO25Ra+3l08B33f2yu78DfBc4OqI6YbhakxCl3t8Ang2XH+7+\nj+H4WJdt3gPiTuBCx/BqOO4mM7sfuMvdv7PbeUdgmHoBDpvZ983sL8zs50dYJ0RfPp8xs78xsz81\ns+1e4se9bIepFaBuZitm9qKZ/fII69wWpd67gbvN7H+GdR3dxbyR5T0get12+WazjZkFwJeBf7vb\neUdkmHrfBD7i7vcDvwN8w8xmRlJlWE6Pcd3L59vAIXf/OeDPga/vYt44DVMrtJfrEvA54D+Z2U+P\npsybotRbpr2bsQz8a+BrZjYXcd7I8h4Qq0Dnf4KDwMWO4WngY0DLzP4O+CfAyfDA307zjsLA9Ya7\nQpcA3P0l2vuwdydYK+5+yd3Xw8GvAg9EnTdmw9SKu18Mf58HWsD9I6wVoi2fVeDP3P1GuAt8lnZg\nxLtsx3nwZdw/tFP2PO2DjNsHe+67zfQtPjjodx+3HqQ8z+gPUg5T78J2fbQPbv0DsDfJWoHFjr//\nFfBi+Pde4A3aB9H2hH+ntdY9QC38ex74IT0OHCdQ71Hg6x11XQDuiHvZjuxNpuUH+JfAD2j/R/3d\ncNwzwLEe0978woXDvxvOdxb4F2muF/gM8Gq4Mv0f4JeSrhX49x01fQ/4mY55/w3tA7/ngF9Na63A\nPwVeCce/AvxaGtYD2rsSfwC8Ftb1yCiWrc6kFJG+8n4MQkSGoIAQkb4UECLSlwJCRPpSQIhIXwoI\nEelLASEifSkgRKSv/w+u8MFXtrEzOwAAAABJRU5ErkJggg==\n",
          "text/plain": "<matplotlib.figure.Figure at 0x11b6b0358>"
         },
         "metadata": {},
         "output_type": "display_data"
        }
       ]
      }
     },
     "4aed75e58cce434c89cf1177d4facce9": {
      "model_module": "@jupyter-widgets/controls",
      "model_module_version": "1.0.0",
      "model_name": "SliderStyleModel",
      "state": {
       "description_width": ""
      }
     },
     "4b6a83a52e214cdfa6a125f616090b00": {
      "model_module": "@jupyter-widgets/controls",
      "model_module_version": "1.0.0",
      "model_name": "SliderStyleModel",
      "state": {
       "description_width": ""
      }
     },
     "4bac6f21f11a44e299cb016ef03ee630": {
      "model_module": "@jupyter-widgets/controls",
      "model_module_version": "1.0.0",
      "model_name": "SliderStyleModel",
      "state": {
       "description_width": ""
      }
     },
     "4bba291d54c7408b90a8256bb3b31ea1": {
      "model_module": "@jupyter-widgets/base",
      "model_module_version": "1.0.0",
      "model_name": "LayoutModel",
      "state": {}
     },
     "4c18a6bbc1e94cdb941b680df5990aa5": {
      "model_module": "@jupyter-widgets/base",
      "model_module_version": "1.0.0",
      "model_name": "LayoutModel",
      "state": {}
     },
     "4c36538cd3e34067be9d162ef1fbe266": {
      "model_module": "@jupyter-widgets/controls",
      "model_module_version": "1.0.0",
      "model_name": "IntSliderModel",
      "state": {
       "description": "theta",
       "layout": "IPY_MODEL_e65a241bdf5c4a75ab9c0a0c09eef22d",
       "max": 360,
       "step": 10,
       "style": "IPY_MODEL_dd3e73a827c2416bb2fb54b420e08253"
      }
     },
     "4c9d6b51fa564d938daad8f677eda775": {
      "model_module": "@jupyter-widgets/controls",
      "model_module_version": "1.0.0",
      "model_name": "FloatSliderModel",
      "state": {
       "description": "t_x",
       "layout": "IPY_MODEL_2047c78d17ff492780d8841eebb8325f",
       "max": 1,
       "step": 0.01,
       "style": "IPY_MODEL_6c6d3a68b82c4f4992c9713a50c4622d"
      }
     },
     "4cb0e12ed1374b26a96797e4ddd40a36": {
      "model_module": "@jupyter-widgets/base",
      "model_module_version": "1.0.0",
      "model_name": "LayoutModel",
      "state": {}
     },
     "4cc2b5bbe1b34bfdba37d1d853ec14cb": {
      "model_module": "@jupyter-widgets/controls",
      "model_module_version": "1.0.0",
      "model_name": "FloatSliderModel",
      "state": {
       "continuous_update": false,
       "description": "Test:",
       "layout": "IPY_MODEL_107412c640c04c6698ff279bda94dd02",
       "max": 10,
       "readout_format": ".1f",
       "step": 0.1,
       "style": "IPY_MODEL_31dbb6ecb8a44a5089e6623ec5728fae",
       "value": 7.5
      }
     },
     "4cdef3da54b245beb7a9bedfcc560863": {
      "model_module": "@jupyter-widgets/controls",
      "model_module_version": "1.0.0",
      "model_name": "SliderStyleModel",
      "state": {
       "description_width": ""
      }
     },
     "4d24781f7e4640c286c2015c19fb57c1": {
      "model_module": "@jupyter-widgets/controls",
      "model_module_version": "1.0.0",
      "model_name": "SliderStyleModel",
      "state": {
       "description_width": ""
      }
     },
     "4d43b63304b34ca7b43945421416cf58": {
      "model_module": "@jupyter-widgets/controls",
      "model_module_version": "1.0.0",
      "model_name": "SliderStyleModel",
      "state": {
       "description_width": ""
      }
     },
     "4d6aeeb6327b4ee09265891a94daa75c": {
      "model_module": "@jupyter-widgets/base",
      "model_module_version": "1.0.0",
      "model_name": "LayoutModel",
      "state": {}
     },
     "4d7aa4db1fa74e0bb3e2e623ff753b34": {
      "model_module": "@jupyter-widgets/base",
      "model_module_version": "1.0.0",
      "model_name": "LayoutModel",
      "state": {}
     },
     "4d84c0c4372e4ea9a701892c98646329": {
      "model_module": "@jupyter-widgets/base",
      "model_module_version": "1.0.0",
      "model_name": "LayoutModel",
      "state": {}
     },
     "4dd79aebb5714976a80f4118e421eabf": {
      "model_module": "@jupyter-widgets/controls",
      "model_module_version": "1.0.0",
      "model_name": "SliderStyleModel",
      "state": {
       "description_width": ""
      }
     },
     "4e387d52735b42eeb84acf595a9d6471": {
      "model_module": "@jupyter-widgets/base",
      "model_module_version": "1.0.0",
      "model_name": "LayoutModel",
      "state": {}
     },
     "50a3c3fd1748423188d2867711bff64f": {
      "model_module": "@jupyter-widgets/base",
      "model_module_version": "1.0.0",
      "model_name": "LayoutModel",
      "state": {
       "height": "400px"
      }
     },
     "50de6dbe255645f890159f192b3839b3": {
      "model_module": "@jupyter-widgets/controls",
      "model_module_version": "1.0.0",
      "model_name": "IntSliderModel",
      "state": {
       "description": "N",
       "layout": "IPY_MODEL_4638231acc2047eeae687fbdeaf6af8c",
       "max": 10,
       "min": 3,
       "style": "IPY_MODEL_5e6d256a91b7445185694b5b12895e0a",
       "value": 3
      }
     },
     "50f5d29db59f4263b9c16fff87b94bd4": {
      "model_module": "@jupyter-widgets/controls",
      "model_module_version": "1.0.0",
      "model_name": "IntSliderModel",
      "state": {
       "description": "x",
       "layout": "IPY_MODEL_1b78d829f9d04973bc816d7467c8101a",
       "max": 30,
       "min": -10,
       "style": "IPY_MODEL_a5845011372241adbe7c533bae6b408b",
       "value": 10
      }
     },
     "513b7bea41e24b65b10e9d0ed5b95806": {
      "model_module": "@jupyter-widgets/controls",
      "model_module_version": "1.0.0",
      "model_name": "SliderStyleModel",
      "state": {
       "description_width": ""
      }
     },
     "514249384f744c9cb00450b232354552": {
      "model_module": "@jupyter-widgets/controls",
      "model_module_version": "1.0.0",
      "model_name": "SliderStyleModel",
      "state": {
       "description_width": ""
      }
     },
     "5198d233292e4d9b8cf15237dc3f83c1": {
      "model_module": "@jupyter-widgets/controls",
      "model_module_version": "1.0.0",
      "model_name": "FloatSliderModel",
      "state": {
       "description": "t_y",
       "layout": "IPY_MODEL_586e212e2ce4417fad4a3ec3b14c4654",
       "max": 1,
       "step": 0.01,
       "style": "IPY_MODEL_2fef3cd2982c44feada64881d4af881d"
      }
     },
     "519c606a30bd429286b57ffc093b47d6": {
      "model_module": "@jupyter-widgets/base",
      "model_module_version": "1.0.0",
      "model_name": "LayoutModel",
      "state": {}
     },
     "52a457a36dae4f8397eb5d58c11840c4": {
      "model_module": "@jupyter-widgets/controls",
      "model_module_version": "1.0.0",
      "model_name": "FloatSliderModel",
      "state": {
       "continuous_update": false,
       "description": "t_x",
       "layout": "IPY_MODEL_8fe35edaf36a49ef82e07a0855435958",
       "max": 1,
       "step": 0.01,
       "style": "IPY_MODEL_266b559beebb4a61901f7d8cb019c5b2",
       "value": 0.9
      }
     },
     "53012bcfbdb64e9584260decde62278f": {
      "model_module": "@jupyter-widgets/controls",
      "model_module_version": "1.0.0",
      "model_name": "VBoxModel",
      "state": {
       "_dom_classes": [
        "widget-interact"
       ],
       "children": [
        "IPY_MODEL_11b67bdc0b8f49b88f3f9b5ec5ded1e1",
        "IPY_MODEL_5bd1aed160674067a61e9c24d9b42536",
        "IPY_MODEL_cebb77475e9d4fdb8113f793107a9a27",
        "IPY_MODEL_6b30b6c9752746aa88271f87e5f5f6f2",
        "IPY_MODEL_a9257cf53c1040f590a684f0c192693a"
       ],
       "layout": "IPY_MODEL_9faef86717d34e6798368957f336b069"
      }
     },
     "5340d33c279443ada913080c106289f2": {
      "model_module": "@jupyter-widgets/controls",
      "model_module_version": "1.0.0",
      "model_name": "IntSliderModel",
      "state": {
       "description": "N",
       "layout": "IPY_MODEL_fc7537027f914eaa995c022d0c7ce305",
       "max": 10,
       "min": 3,
       "style": "IPY_MODEL_2b70d4bec35b4eda954f733dbdd10d03",
       "value": 3
      }
     },
     "5368f1fb3b2043a0aea393bf1d2ff32c": {
      "model_module": "@jupyter-widgets/controls",
      "model_module_version": "1.0.0",
      "model_name": "FloatSliderModel",
      "state": {
       "description": "b",
       "layout": "IPY_MODEL_b814840c72d1458b85b8f39840ffc750",
       "max": 3,
       "min": -3,
       "step": 0.5,
       "style": "IPY_MODEL_a1a7a216129c4d93b8f520eb53b8e3e2"
      }
     },
     "53d0b0c23c784b428a95b2c8a1f035ac": {
      "model_module": "@jupyter-widgets/controls",
      "model_module_version": "1.0.0",
      "model_name": "VBoxModel",
      "state": {
       "_dom_classes": [
        "widget-interact"
       ],
       "children": [
        "IPY_MODEL_42066c2119834463b4f0274402a83add",
        "IPY_MODEL_4c9d6b51fa564d938daad8f677eda775",
        "IPY_MODEL_eb4cfb03ecfb4876b8e421ca366f5cb0",
        "IPY_MODEL_10e9b53473e54344aa20f495803d3b60",
        "IPY_MODEL_37ba66bfd2eb4e0b855dc047280fa4a9"
       ],
       "layout": "IPY_MODEL_9371f72428994930bbd5003ecad94508"
      }
     },
     "53d9a59aee5a4645a1cefc1d15cfba87": {
      "model_module": "@jupyter-widgets/base",
      "model_module_version": "1.0.0",
      "model_name": "LayoutModel",
      "state": {}
     },
     "53ec6387889948579a282d7ab5e2f47b": {
      "model_module": "@jupyter-widgets/controls",
      "model_module_version": "1.0.0",
      "model_name": "FloatSliderModel",
      "state": {
       "description": "t_x",
       "layout": "IPY_MODEL_3a5b270c22f148ab960f6455c2dee61d",
       "max": 1,
       "step": 0.01,
       "style": "IPY_MODEL_17ac1b4baeb84e12b2786defcc1517e4"
      }
     },
     "5433606e1a5845558bb2c4997d4fdb9d": {
      "model_module": "@jupyter-widgets/controls",
      "model_module_version": "1.0.0",
      "model_name": "SliderStyleModel",
      "state": {
       "description_width": ""
      }
     },
     "545197a73fc8429382f87db05ec6d245": {
      "model_module": "@jupyter-widgets/controls",
      "model_module_version": "1.0.0",
      "model_name": "FloatSliderModel",
      "state": {
       "description": "t_y",
       "layout": "IPY_MODEL_b3daedcf22ad44c4afb8183bb4a5955e",
       "max": 1,
       "step": 0.1,
       "style": "IPY_MODEL_c2daa493d986432fbd0ff764bce041a9"
      }
     },
     "54845db54204476cb32b1a91d9a2d234": {
      "model_module": "@jupyter-widgets/base",
      "model_module_version": "1.0.0",
      "model_name": "LayoutModel",
      "state": {}
     },
     "552ab6b833f140efaeacbae27a268ce9": {
      "model_module": "@jupyter-widgets/base",
      "model_module_version": "1.0.0",
      "model_name": "LayoutModel",
      "state": {}
     },
     "5556cb4d29644a0195d8a9a42a52c695": {
      "model_module": "@jupyter-widgets/controls",
      "model_module_version": "1.0.0",
      "model_name": "SliderStyleModel",
      "state": {
       "description_width": ""
      }
     },
     "55b3124904314e6998df7dc750702667": {
      "model_module": "@jupyter-widgets/base",
      "model_module_version": "1.0.0",
      "model_name": "LayoutModel",
      "state": {}
     },
     "57052604ec854b5a92bfcb6f7dfc79bf": {
      "model_module": "@jupyter-widgets/controls",
      "model_module_version": "1.0.0",
      "model_name": "VBoxModel",
      "state": {
       "_dom_classes": [
        "widget-interact"
       ],
       "children": [
        "IPY_MODEL_a67b81f3067f49c7bc4247ba83ec2045",
        "IPY_MODEL_c89009503f9846a294193df36177b7bc"
       ],
       "layout": "IPY_MODEL_5d52c7e6b3e14eedb217327b2d8329e6"
      }
     },
     "574601748cbf4cf5a1966bab4541b418": {
      "model_module": "@jupyter-widgets/base",
      "model_module_version": "1.0.0",
      "model_name": "LayoutModel",
      "state": {}
     },
     "57d9c9d83bfc4365a0f9b1d89613053f": {
      "model_module": "@jupyter-widgets/controls",
      "model_module_version": "1.0.0",
      "model_name": "IntSliderModel",
      "state": {
       "description": "N",
       "layout": "IPY_MODEL_c912beb540a742ab99a4b2dd1044cc5c",
       "max": 10,
       "min": 3,
       "style": "IPY_MODEL_af2a3555b1fa4ba0ae939ac68fbc8b94",
       "value": 3
      }
     },
     "585dfb062f834f47ac126b536e64133b": {
      "model_module": "@jupyter-widgets/base",
      "model_module_version": "1.0.0",
      "model_name": "LayoutModel",
      "state": {}
     },
     "5860404eddd6405dbed2f0089037d22e": {
      "model_module": "@jupyter-widgets/base",
      "model_module_version": "1.0.0",
      "model_name": "LayoutModel",
      "state": {}
     },
     "586e212e2ce4417fad4a3ec3b14c4654": {
      "model_module": "@jupyter-widgets/base",
      "model_module_version": "1.0.0",
      "model_name": "LayoutModel",
      "state": {}
     },
     "58f4c66a9a244d909a1acf264f45c7f8": {
      "model_module": "@jupyter-widgets/controls",
      "model_module_version": "1.0.0",
      "model_name": "FloatSliderModel",
      "state": {
       "description": "t_y",
       "layout": "IPY_MODEL_3b8bbc24da024ab2b37fb9104365e9b3",
       "max": 1,
       "step": 0.01,
       "style": "IPY_MODEL_1bdbf55f65944b79881bba8a5e63fb38"
      }
     },
     "592183051ba3465e89a3a88a8b657610": {
      "model_module": "@jupyter-widgets/controls",
      "model_module_version": "1.0.0",
      "model_name": "SliderStyleModel",
      "state": {
       "description_width": ""
      }
     },
     "5939be72b5194efbb553be6515f77cf4": {
      "model_module": "@jupyter-widgets/controls",
      "model_module_version": "1.0.0",
      "model_name": "SliderStyleModel",
      "state": {
       "description_width": ""
      }
     },
     "5959ff69be1842bf8bb5f750f71774f0": {
      "model_module": "@jupyter-widgets/controls",
      "model_module_version": "1.0.0",
      "model_name": "SliderStyleModel",
      "state": {
       "description_width": ""
      }
     },
     "598eecf3e8814542ac3fbb93f83305e5": {
      "model_module": "@jupyter-widgets/base",
      "model_module_version": "1.0.0",
      "model_name": "LayoutModel",
      "state": {}
     },
     "59d07c7bc4114034888412d014389f0f": {
      "model_module": "@jupyter-widgets/base",
      "model_module_version": "1.0.0",
      "model_name": "LayoutModel",
      "state": {}
     },
     "59da835880634f08a50cb74724267c6d": {
      "model_module": "@jupyter-widgets/controls",
      "model_module_version": "1.0.0",
      "model_name": "SliderStyleModel",
      "state": {
       "description_width": ""
      }
     },
     "5a1d2f2cf2814656a7c09270d35efc78": {
      "model_module": "@jupyter-widgets/controls",
      "model_module_version": "1.0.0",
      "model_name": "FloatSliderModel",
      "state": {
       "description": "t_x",
       "layout": "IPY_MODEL_4e387d52735b42eeb84acf595a9d6471",
       "max": 1,
       "step": 0.01,
       "style": "IPY_MODEL_d776c39a3d954d1bbcb7ef7b62c8a1d6",
       "value": 0.9
      }
     },
     "5a1d7b8310dc40a98a3fa7a7a51301d3": {
      "model_module": "@jupyter-widgets/controls",
      "model_module_version": "1.0.0",
      "model_name": "IntSliderModel",
      "state": {
       "description": "theta",
       "layout": "IPY_MODEL_6e96071f8e3e4e4ea9c2590dedc0ff5f",
       "max": 360,
       "step": 10,
       "style": "IPY_MODEL_797dde361c2c448b91150617ed0c18ec"
      }
     },
     "5ac5fa550f8e49208d4496fd1238d170": {
      "model_module": "@jupyter-widgets/base",
      "model_module_version": "1.0.0",
      "model_name": "LayoutModel",
      "state": {}
     },
     "5ad3145c0b60466785ba06c1d455ea9e": {
      "model_module": "@jupyter-widgets/controls",
      "model_module_version": "1.0.0",
      "model_name": "FloatSliderModel",
      "state": {
       "description": "t_x",
       "layout": "IPY_MODEL_2df9a1e2dc2149389c386dca5beb700e",
       "max": 1,
       "step": 0.01,
       "style": "IPY_MODEL_fb7f76fa1477418fa039d1558fadce4e"
      }
     },
     "5b608c1b309e465dab2930591e974dbc": {
      "model_module": "@jupyter-widgets/controls",
      "model_module_version": "1.0.0",
      "model_name": "SliderStyleModel",
      "state": {
       "description_width": ""
      }
     },
     "5b8c95e3c07344f68d7b11455d167ced": {
      "model_module": "@jupyter-widgets/controls",
      "model_module_version": "1.0.0",
      "model_name": "SliderStyleModel",
      "state": {
       "description_width": ""
      }
     },
     "5bd1aed160674067a61e9c24d9b42536": {
      "model_module": "@jupyter-widgets/controls",
      "model_module_version": "1.0.0",
      "model_name": "FloatSliderModel",
      "state": {
       "description": "t_x",
       "layout": "IPY_MODEL_fb8d292386be4ab7b8730c4370447bcc",
       "max": 5,
       "min": -5,
       "step": 0.1,
       "style": "IPY_MODEL_4dd79aebb5714976a80f4118e421eabf",
       "value": 4.3
      }
     },
     "5be66409e6cb4926a3fc686ed7ab91cb": {
      "model_module": "@jupyter-widgets/output",
      "model_module_version": "1.0.0",
      "model_name": "OutputModel",
      "state": {
       "layout": "IPY_MODEL_552ab6b833f140efaeacbae27a268ce9",
       "outputs": [
        {
         "data": {
          "text/plain": "True"
         },
         "metadata": {},
         "output_type": "display_data"
        }
       ]
      }
     },
     "5bf0d056f94842e3b714a2f0a325c300": {
      "model_module": "@jupyter-widgets/controls",
      "model_module_version": "1.0.0",
      "model_name": "IntSliderModel",
      "state": {
       "description": "theta",
       "layout": "IPY_MODEL_3a9552a7c98d4bd48123f59708ec0d27",
       "max": 360,
       "step": 10,
       "style": "IPY_MODEL_5959ff69be1842bf8bb5f750f71774f0"
      }
     },
     "5c0b9681b7a242b6832e330c2a0e3521": {
      "model_module": "@jupyter-widgets/controls",
      "model_module_version": "1.0.0",
      "model_name": "FloatSliderModel",
      "state": {
       "description": "m",
       "layout": "IPY_MODEL_7f36f7f009774032b7e619bcdeb031c1",
       "max": 2,
       "min": -2,
       "step": 0.1,
       "style": "IPY_MODEL_2d8d067d55154688a55a01926e6702be"
      }
     },
     "5c2b7f8b95f84215bbdf687347dee645": {
      "model_module": "@jupyter-widgets/base",
      "model_module_version": "1.0.0",
      "model_name": "LayoutModel",
      "state": {}
     },
     "5c3bb48a835e42d5a3a87b484d8b8927": {
      "model_module": "@jupyter-widgets/base",
      "model_module_version": "1.0.0",
      "model_name": "LayoutModel",
      "state": {
       "height": "350px"
      }
     },
     "5c3bd6f482fd4ea9942045911d9b1f62": {
      "model_module": "@jupyter-widgets/base",
      "model_module_version": "1.0.0",
      "model_name": "LayoutModel",
      "state": {}
     },
     "5cbb8bcf868443309502d881ca08d4e8": {
      "model_module": "@jupyter-widgets/controls",
      "model_module_version": "1.0.0",
      "model_name": "SliderStyleModel",
      "state": {
       "description_width": ""
      }
     },
     "5ce815f2e3764b63a9c3ec370a14098b": {
      "model_module": "@jupyter-widgets/base",
      "model_module_version": "1.0.0",
      "model_name": "LayoutModel",
      "state": {}
     },
     "5d28f5c106514dceaeec9e0b6663f3c2": {
      "model_module": "@jupyter-widgets/base",
      "model_module_version": "1.0.0",
      "model_name": "LayoutModel",
      "state": {}
     },
     "5d52c7e6b3e14eedb217327b2d8329e6": {
      "model_module": "@jupyter-widgets/base",
      "model_module_version": "1.0.0",
      "model_name": "LayoutModel",
      "state": {}
     },
     "5df2d37f287f4dd287d619cd9151d2eb": {
      "model_module": "@jupyter-widgets/base",
      "model_module_version": "1.0.0",
      "model_name": "LayoutModel",
      "state": {}
     },
     "5e11f7628f284347891a5cbddaa26295": {
      "model_module": "@jupyter-widgets/controls",
      "model_module_version": "1.0.0",
      "model_name": "DescriptionStyleModel",
      "state": {
       "description_width": ""
      }
     },
     "5e29ae8a3c0d475c99a209d262a2642f": {
      "model_module": "@jupyter-widgets/controls",
      "model_module_version": "1.0.0",
      "model_name": "IntSliderModel",
      "state": {
       "layout": "IPY_MODEL_b0d8fb5068a14c4a9b660e66840645e6",
       "style": "IPY_MODEL_3f0e45d18b944734bdc6f9b37e471a97"
      }
     },
     "5e45c2f271c24c388f0c6982ebfbd63a": {
      "model_module": "@jupyter-widgets/controls",
      "model_module_version": "1.0.0",
      "model_name": "VBoxModel",
      "state": {
       "_dom_classes": [
        "widget-interact"
       ],
       "children": [
        "IPY_MODEL_1990ac81a188405badc19581f4ddf4fc",
        "IPY_MODEL_c2c35f70b5714a22ae380dd4b063a795",
        "IPY_MODEL_70d438c31f334349ba0cac8e035a1502",
        "IPY_MODEL_60078be357cb4fa3b6c0c21b0d916d62",
        "IPY_MODEL_751a8e80010f4a03ab378b0e6cfaddd9"
       ],
       "layout": "IPY_MODEL_f2686cf157db425fa86374bb24437841"
      }
     },
     "5e6d256a91b7445185694b5b12895e0a": {
      "model_module": "@jupyter-widgets/controls",
      "model_module_version": "1.0.0",
      "model_name": "SliderStyleModel",
      "state": {
       "description_width": ""
      }
     },
     "5ed42966251d48278eb1bb4464c1a289": {
      "model_module": "@jupyter-widgets/controls",
      "model_module_version": "1.0.0",
      "model_name": "SliderStyleModel",
      "state": {
       "description_width": ""
      }
     },
     "5ef9d74d8057498aa12db9bba49f2ee0": {
      "model_module": "@jupyter-widgets/base",
      "model_module_version": "1.0.0",
      "model_name": "LayoutModel",
      "state": {}
     },
     "5f13dc854ae043a1ab1ec8f536f47290": {
      "model_module": "@jupyter-widgets/controls",
      "model_module_version": "1.0.0",
      "model_name": "SliderStyleModel",
      "state": {
       "description_width": ""
      }
     },
     "5f1f168893f64a93af8f53df8cd10364": {
      "model_module": "@jupyter-widgets/controls",
      "model_module_version": "1.0.0",
      "model_name": "IntSliderModel",
      "state": {
       "description": "theta",
       "layout": "IPY_MODEL_0df12cab14d442f5a92bd60e77044a9f",
       "max": 360,
       "step": 10,
       "style": "IPY_MODEL_aa1e99df1ecd49ae99798e4eb89da0b0"
      }
     },
     "5f3a39da82eb4e6f8b988fc1d1afaf47": {
      "model_module": "@jupyter-widgets/controls",
      "model_module_version": "1.0.0",
      "model_name": "IntSliderModel",
      "state": {
       "description": "N",
       "layout": "IPY_MODEL_1ed81152603a4c70942ed569a3beca4e",
       "max": 9,
       "min": -3,
       "style": "IPY_MODEL_69bf1d0c3847484d8d3123b95e52537b",
       "value": 4
      }
     },
     "5f928e29b31c44f887ba6bac7341f412": {
      "model_module": "@jupyter-widgets/base",
      "model_module_version": "1.0.0",
      "model_name": "LayoutModel",
      "state": {}
     },
     "5f9ab2f3f95541229b1ef6e37a9856b3": {
      "model_module": "@jupyter-widgets/controls",
      "model_module_version": "1.0.0",
      "model_name": "IntSliderModel",
      "state": {
       "description": "theta",
       "layout": "IPY_MODEL_93628f0f098e44c682249c71ce7a7dbd",
       "max": 360,
       "step": 10,
       "style": "IPY_MODEL_5ed42966251d48278eb1bb4464c1a289"
      }
     },
     "5fbfec9b9e7a4ccf82fa6ca6fc5b5305": {
      "model_module": "@jupyter-widgets/base",
      "model_module_version": "1.0.0",
      "model_name": "LayoutModel",
      "state": {}
     },
     "60078be357cb4fa3b6c0c21b0d916d62": {
      "model_module": "@jupyter-widgets/controls",
      "model_module_version": "1.0.0",
      "model_name": "IntSliderModel",
      "state": {
       "description": "theta",
       "layout": "IPY_MODEL_2716fe8a86f24397a27cfa4f6cd27fe9",
       "max": 360,
       "step": 10,
       "style": "IPY_MODEL_183d3149b3a54c92a9e499cc5a80dd5d",
       "value": 220
      }
     },
     "602f2579e299443882ad160aa42802c9": {
      "model_module": "@jupyter-widgets/base",
      "model_module_version": "1.0.0",
      "model_name": "LayoutModel",
      "state": {}
     },
     "60566dc3924b4ca5aca1f5e36ad43434": {
      "model_module": "@jupyter-widgets/controls",
      "model_module_version": "1.0.0",
      "model_name": "FloatSliderModel",
      "state": {
       "description": "t_x",
       "layout": "IPY_MODEL_653ce396511544ecadb00a1079abb275",
       "max": 1,
       "step": 0.01,
       "style": "IPY_MODEL_0aa4612dc44d4ca2b294d6fb1446468d",
       "value": 0.14
      }
     },
     "607b367f761742d6b61788743f93997b": {
      "model_module": "@jupyter-widgets/base",
      "model_module_version": "1.0.0",
      "model_name": "LayoutModel",
      "state": {}
     },
     "607ba88d491e47a3b7e5663e3d8b11d7": {
      "model_module": "@jupyter-widgets/base",
      "model_module_version": "1.0.0",
      "model_name": "LayoutModel",
      "state": {
       "height": "400px"
      }
     },
     "607bacd655304e16aad20fcf2e493052": {
      "model_module": "@jupyter-widgets/controls",
      "model_module_version": "1.0.0",
      "model_name": "SliderStyleModel",
      "state": {
       "description_width": ""
      }
     },
     "6096b206a97746fba5aaea4a9046ed3b": {
      "model_module": "@jupyter-widgets/controls",
      "model_module_version": "1.0.0",
      "model_name": "VBoxModel",
      "state": {
       "_dom_classes": [
        "widget-interact"
       ],
       "children": [
        "IPY_MODEL_8f91f86eecba4178816b4a82d10899b5",
        "IPY_MODEL_db8ba130512a44aea34f48c9f0fa2fbf"
       ],
       "layout": "IPY_MODEL_dc91b0638407477da72f0b7639a82531"
      }
     },
     "609cfa853cb14c13a16d24d7e53089dd": {
      "model_module": "@jupyter-widgets/controls",
      "model_module_version": "1.0.0",
      "model_name": "VBoxModel",
      "state": {
       "_dom_classes": [
        "widget-interact"
       ],
       "children": [
        "IPY_MODEL_50f5d29db59f4263b9c16fff87b94bd4",
        "IPY_MODEL_01fef6cda3ae472dbd9b88d3e58e1c35"
       ],
       "layout": "IPY_MODEL_26b58f9824de4c44a4b20e8fbe90934d"
      }
     },
     "60c1f5bc162549499b9a2601bbcda8ea": {
      "model_module": "@jupyter-widgets/controls",
      "model_module_version": "1.0.0",
      "model_name": "SliderStyleModel",
      "state": {
       "description_width": ""
      }
     },
     "610ba248f81d46d0be071fe3046cd85b": {
      "model_module": "@jupyter-widgets/controls",
      "model_module_version": "1.0.0",
      "model_name": "FloatSliderModel",
      "state": {
       "description": "b",
       "layout": "IPY_MODEL_1fd8cb702556403b9214f32e505b4395",
       "max": 3,
       "min": -3,
       "step": 0.5,
       "style": "IPY_MODEL_13f0fc73c53f431a9bcf0cccf2a25f13"
      }
     },
     "615cae77905740fda9c5806d9a01360b": {
      "model_module": "@jupyter-widgets/controls",
      "model_module_version": "1.0.0",
      "model_name": "VBoxModel",
      "state": {
       "_dom_classes": [
        "widget-interact"
       ],
       "children": [
        "IPY_MODEL_72582139d195413bb4632ce92e67742d",
        "IPY_MODEL_a3da07ca43214abcac8388240112125a",
        "IPY_MODEL_2648a11fb2c54f03970bd8d79158a8fe",
        "IPY_MODEL_ece52c8327e644938221521eb4c58372",
        "IPY_MODEL_d5d844e953f84e4b9aeb0ec667ec0864"
       ],
       "layout": "IPY_MODEL_63f5387be22a4b15ad29266b7e0144aa"
      }
     },
     "623aba54a4444adda5dddb5f8bc677ee": {
      "model_module": "@jupyter-widgets/base",
      "model_module_version": "1.0.0",
      "model_name": "LayoutModel",
      "state": {}
     },
     "6275e33254a442109381d8ab9fac7ea2": {
      "model_module": "@jupyter-widgets/controls",
      "model_module_version": "1.0.0",
      "model_name": "SliderStyleModel",
      "state": {
       "description_width": ""
      }
     },
     "62795ada1026406fa7542165e74e1f60": {
      "model_module": "@jupyter-widgets/controls",
      "model_module_version": "1.0.0",
      "model_name": "VBoxModel",
      "state": {
       "_dom_classes": [
        "widget-interact"
       ],
       "children": [
        "IPY_MODEL_2b56a3d88da74b02bb70dfd534034b58",
        "IPY_MODEL_82176e5945c64a398e7aa76be470de08",
        "IPY_MODEL_172223486ba0462ea33a680e708e8a84",
        "IPY_MODEL_eb4d650ff19c4323b8b945f8d7ff2296",
        "IPY_MODEL_027b2a1ead3a421eb0b4712267394c9e"
       ],
       "layout": "IPY_MODEL_4c18a6bbc1e94cdb941b680df5990aa5"
      }
     },
     "63030940d6e444d69d59531e517efed1": {
      "model_module": "@jupyter-widgets/controls",
      "model_module_version": "1.0.0",
      "model_name": "SliderStyleModel",
      "state": {
       "description_width": ""
      }
     },
     "630a6b2220af41918e32e99b666b12c6": {
      "model_module": "@jupyter-widgets/controls",
      "model_module_version": "1.0.0",
      "model_name": "IntSliderModel",
      "state": {
       "description": "x",
       "layout": "IPY_MODEL_c17d7d7772f74d26a0db98cfd0764d63",
       "max": 30,
       "min": -10,
       "style": "IPY_MODEL_1f3d24333d2c41c6b718168d40d2367a",
       "value": 10
      }
     },
     "630fbc3b887d4c9998b10f1ba54bcfc2": {
      "model_module": "@jupyter-widgets/controls",
      "model_module_version": "1.0.0",
      "model_name": "VBoxModel",
      "state": {
       "_dom_classes": [
        "widget-interact"
       ],
       "children": [
        "IPY_MODEL_09e7e7f101d841d6beb7df3e9fdd0ced",
        "IPY_MODEL_bcada339ef94440b812cb925e6ccbd77"
       ],
       "layout": "IPY_MODEL_3b619ae4bafd47848f852b3754008bc8"
      }
     },
     "637fbbafd39041a699325b24fa44e1c0": {
      "model_module": "@jupyter-widgets/base",
      "model_module_version": "1.0.0",
      "model_name": "LayoutModel",
      "state": {}
     },
     "63a22c41410145e5b79fb17af6306b85": {
      "model_module": "@jupyter-widgets/controls",
      "model_module_version": "1.0.0",
      "model_name": "FloatSliderModel",
      "state": {
       "description": "t_x",
       "layout": "IPY_MODEL_a71ac23e5f85489aaf6d44f8f6f36a37",
       "max": 1,
       "step": 0.01,
       "style": "IPY_MODEL_907395babd9f4b439891f95f715ab949"
      }
     },
     "63f5387be22a4b15ad29266b7e0144aa": {
      "model_module": "@jupyter-widgets/base",
      "model_module_version": "1.0.0",
      "model_name": "LayoutModel",
      "state": {}
     },
     "641bbdf744be4d4eb4c3b9835e57cc7c": {
      "model_module": "@jupyter-widgets/controls",
      "model_module_version": "1.0.0",
      "model_name": "SliderStyleModel",
      "state": {
       "description_width": ""
      }
     },
     "64a29b5fc0b849e180f424069cabe3f1": {
      "model_module": "@jupyter-widgets/controls",
      "model_module_version": "1.0.0",
      "model_name": "SliderStyleModel",
      "state": {
       "description_width": ""
      }
     },
     "64b003e5e7ec43158e9d7717e89642d2": {
      "model_module": "@jupyter-widgets/controls",
      "model_module_version": "1.0.0",
      "model_name": "FloatSliderModel",
      "state": {
       "description": "t_x",
       "layout": "IPY_MODEL_d4b06912e9c44b7aaf729dc31fdf5f4b",
       "max": 1,
       "step": 0.01,
       "style": "IPY_MODEL_59da835880634f08a50cb74724267c6d",
       "value": 0.87
      }
     },
     "64b1536f0abe432bb5f99b114c19668e": {
      "model_module": "@jupyter-widgets/base",
      "model_module_version": "1.0.0",
      "model_name": "LayoutModel",
      "state": {}
     },
     "64cedc87ade34564b66d4bccd7d93991": {
      "model_module": "@jupyter-widgets/controls",
      "model_module_version": "1.0.0",
      "model_name": "IntSliderModel",
      "state": {
       "description": "theta",
       "layout": "IPY_MODEL_f941a7abaaf64f25a4ef90aa773f2d6f",
       "max": 360,
       "step": 10,
       "style": "IPY_MODEL_3e49b93af0084b5ebc2fe855daac6054"
      }
     },
     "64e62ba6381b41699728b30ff4a4105c": {
      "model_module": "@jupyter-widgets/controls",
      "model_module_version": "1.0.0",
      "model_name": "SliderStyleModel",
      "state": {
       "description_width": ""
      }
     },
     "653ce396511544ecadb00a1079abb275": {
      "model_module": "@jupyter-widgets/base",
      "model_module_version": "1.0.0",
      "model_name": "LayoutModel",
      "state": {}
     },
     "6573636d04184310a9a8bc0e089214ad": {
      "model_module": "@jupyter-widgets/base",
      "model_module_version": "1.0.0",
      "model_name": "LayoutModel",
      "state": {}
     },
     "6595f9daa7e1490abafb9a5d92fd9a8f": {
      "model_module": "@jupyter-widgets/base",
      "model_module_version": "1.0.0",
      "model_name": "LayoutModel",
      "state": {
       "height": "350px"
      }
     },
     "6608f0bec16d4003a3590bc9cacc9a70": {
      "model_module": "@jupyter-widgets/controls",
      "model_module_version": "1.0.0",
      "model_name": "SliderStyleModel",
      "state": {
       "description_width": ""
      }
     },
     "6631d18ca76143268001991eefad7500": {
      "model_module": "@jupyter-widgets/controls",
      "model_module_version": "1.0.0",
      "model_name": "SliderStyleModel",
      "state": {
       "description_width": ""
      }
     },
     "66569585c17c4af6828fbd83f7de1347": {
      "model_module": "@jupyter-widgets/base",
      "model_module_version": "1.0.0",
      "model_name": "LayoutModel",
      "state": {}
     },
     "66c7be4340ff466297fdaa8a11ec63bb": {
      "model_module": "@jupyter-widgets/base",
      "model_module_version": "1.0.0",
      "model_name": "LayoutModel",
      "state": {}
     },
     "66d568e4337d4fab94c6d375da4f3092": {
      "model_module": "@jupyter-widgets/base",
      "model_module_version": "1.0.0",
      "model_name": "LayoutModel",
      "state": {}
     },
     "670b2ffbeaac4671adf7d80373299697": {
      "model_module": "@jupyter-widgets/controls",
      "model_module_version": "1.0.0",
      "model_name": "VBoxModel",
      "state": {
       "_dom_classes": [
        "widget-interact"
       ],
       "children": [
        "IPY_MODEL_5340d33c279443ada913080c106289f2",
        "IPY_MODEL_7953eeb365ed43e4972ac5151d5967e9",
        "IPY_MODEL_29705fda391a4c75817d2c86321a3ebf",
        "IPY_MODEL_7d239e904f114371a0886425d9ed1087",
        "IPY_MODEL_2221a42cf1c14824877703d4e749a8cd"
       ],
       "layout": "IPY_MODEL_68db61635f8e4cd79f061dbfe85302d6"
      }
     },
     "6743b5f191e742c1844741d7a85dc3b3": {
      "model_module": "@jupyter-widgets/output",
      "model_module_version": "1.0.0",
      "model_name": "OutputModel",
      "state": {
       "layout": "IPY_MODEL_921b3251995741de9b08d8f35abd6d2c",
       "outputs": [
        {
         "name": "stdout",
         "output_type": "stream",
         "text": "xy_original:\n [[ 0.68950928  0.57797539]\n [ 0.04968657  0.1790961 ]\n [ 0.50718443  0.4092611 ]]\nxy_transformed:\n [[ 0.68950928  0.57797539]\n [ 0.04968657  0.1790961 ]\n [ 0.50718443  0.4092611 ]]\n"
        },
        {
         "data": {
          "image/png": "iVBORw0KGgoAAAANSUhEUgAAAQIAAAD8CAYAAACcoKqNAAAABHNCSVQICAgIfAhkiAAAAAlwSFlz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\nAAAASUVORK5CYII=\n",
          "text/plain": "<matplotlib.figure.Figure at 0x11b28c240>"
         },
         "metadata": {},
         "output_type": "display_data"
        },
        {
         "data": {
          "text/plain": "[<matplotlib.patches.Polygon at 0x11b2c1be0>]"
         },
         "metadata": {},
         "output_type": "display_data"
        }
       ]
      }
     },
     "67c0e60307b649d295c317029bfa9dbe": {
      "model_module": "@jupyter-widgets/controls",
      "model_module_version": "1.0.0",
      "model_name": "SliderStyleModel",
      "state": {
       "description_width": ""
      }
     },
     "68d3c4bd021b4a389f3e9d242ec4b5b4": {
      "model_module": "@jupyter-widgets/base",
      "model_module_version": "1.0.0",
      "model_name": "LayoutModel",
      "state": {}
     },
     "68db61635f8e4cd79f061dbfe85302d6": {
      "model_module": "@jupyter-widgets/base",
      "model_module_version": "1.0.0",
      "model_name": "LayoutModel",
      "state": {}
     },
     "691b1b1ad3134cbabee7c932d04412e3": {
      "model_module": "@jupyter-widgets/controls",
      "model_module_version": "1.0.0",
      "model_name": "SliderStyleModel",
      "state": {
       "description_width": ""
      }
     },
     "69868b8b7a344e9ca84d149cd0927f60": {
      "model_module": "@jupyter-widgets/controls",
      "model_module_version": "1.0.0",
      "model_name": "IntSliderModel",
      "state": {
       "continuous_update": false,
       "description": "Theta:",
       "layout": "IPY_MODEL_a4bc9d17e2274d449f55afe9ba5e9c80",
       "max": 360,
       "style": "IPY_MODEL_a1aee42c448f4b3780279e20e1e7cc07",
       "value": 30
      }
     },
     "6994a2c1e9e74643a37f01cf8e4ebe2e": {
      "model_module": "@jupyter-widgets/controls",
      "model_module_version": "1.0.0",
      "model_name": "IntSliderModel",
      "state": {
       "description": "N",
       "layout": "IPY_MODEL_ac7caccf3ddc4f6f97ce04b8d0ad4f80",
       "max": 10,
       "min": 3,
       "style": "IPY_MODEL_36a88c41d26c4390b5e8e535fc26e9f1",
       "value": 3
      }
     },
     "6996a8bfffb342eeb613e8ac55c29a6a": {
      "model_module": "@jupyter-widgets/controls",
      "model_module_version": "1.0.0",
      "model_name": "FloatSliderModel",
      "state": {
       "description": "t_y",
       "layout": "IPY_MODEL_47fced2c5e2144dda76e8af586e3024b",
       "max": 1,
       "step": 0.01,
       "style": "IPY_MODEL_2164d650300e4568adf739fb52484aa5"
      }
     },
     "69bbc4440f9241ff8a900db61e314370": {
      "model_module": "@jupyter-widgets/base",
      "model_module_version": "1.0.0",
      "model_name": "LayoutModel",
      "state": {}
     },
     "69bf1d0c3847484d8d3123b95e52537b": {
      "model_module": "@jupyter-widgets/controls",
      "model_module_version": "1.0.0",
      "model_name": "SliderStyleModel",
      "state": {
       "description_width": ""
      }
     },
     "69e23d3e552b4a8c807f9f309d43f77e": {
      "model_module": "@jupyter-widgets/output",
      "model_module_version": "1.0.0",
      "model_name": "OutputModel",
      "state": {
       "layout": "IPY_MODEL_f3f8331f1d844b35b815acbaae51bfa1",
       "outputs": [
        {
         "name": "stdout",
         "output_type": "stream",
         "text": "xy_transformed:\n [[ 12.17022005   8.20324493]\n [  8.00114375   4.02332573]\n [  9.46755891   1.92338595]]\n"
        },
        {
         "data": {
          "image/png": "iVBORw0KGgoAAAANSUhEUgAAARMAAAD8CAYAAABUzEBbAAAABHNCSVQICAgIfAhkiAAAAAlwSFlz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\n",
          "text/plain": "<matplotlib.figure.Figure at 0x1097c8128>"
         },
         "metadata": {},
         "output_type": "display_data"
        }
       ]
      }
     },
     "69fecde070e04d6a8bb0b9f16376fb5f": {
      "model_module": "@jupyter-widgets/base",
      "model_module_version": "1.0.0",
      "model_name": "LayoutModel",
      "state": {}
     },
     "6a4377d44a484800ac7c312a50e45f3c": {
      "model_module": "@jupyter-widgets/output",
      "model_module_version": "1.0.0",
      "model_name": "OutputModel",
      "state": {
       "layout": "IPY_MODEL_c8ebcb49ac1c453b98ea51640d59e606",
       "outputs": [
        {
         "name": "stdout",
         "output_type": "stream",
         "text": "xy_transformed:\n [[ 0.57051729  0.56452876]\n [ 0.48844183  0.33647775]\n [ 0.37586818  0.53203587]]\n"
        },
        {
         "data": {
          "image/png": "iVBORw0KGgoAAAANSUhEUgAAAQgAAAD8CAYAAACLgjpEAAAABHNCSVQICAgIfAhkiAAAAAlwSFlz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\nEelLASEifSkgRKSv/w+u8MFXtrEzOwAAAABJRU5ErkJggg==\n",
          "text/plain": "<matplotlib.figure.Figure at 0x109b66438>"
         },
         "metadata": {},
         "output_type": "display_data"
        }
       ]
      }
     },
     "6a62837c93cf4b138cd66629049f0bde": {
      "model_module": "@jupyter-widgets/controls",
      "model_module_version": "1.0.0",
      "model_name": "FloatSliderModel",
      "state": {
       "description": "t_x",
       "layout": "IPY_MODEL_9441a6c7ae33401da34bdd07490c833d",
       "max": 1,
       "step": 0.01,
       "style": "IPY_MODEL_c81408f269264b3284c9f1bb076adaad"
      }
     },
     "6b27388d857d44f2a6316927cb115132": {
      "model_module": "@jupyter-widgets/controls",
      "model_module_version": "1.0.0",
      "model_name": "IntSliderModel",
      "state": {
       "description": "N",
       "layout": "IPY_MODEL_c5eb7ee6b58243aaa704fd9c333c0555",
       "max": 10,
       "min": 3,
       "style": "IPY_MODEL_0e63ebf918a847219cb3fcceabc46090",
       "value": 3
      }
     },
     "6b30b6c9752746aa88271f87e5f5f6f2": {
      "model_module": "@jupyter-widgets/controls",
      "model_module_version": "1.0.0",
      "model_name": "IntSliderModel",
      "state": {
       "description": "theta",
       "layout": "IPY_MODEL_f216118f6ea1436c9c811e3f615522ce",
       "max": 360,
       "step": 10,
       "style": "IPY_MODEL_77d928d75f76430db67207bedffb5956"
      }
     },
     "6c6d3a68b82c4f4992c9713a50c4622d": {
      "model_module": "@jupyter-widgets/controls",
      "model_module_version": "1.0.0",
      "model_name": "SliderStyleModel",
      "state": {
       "description_width": ""
      }
     },
     "6ccbe1f65169429c830207b8a8ee14bf": {
      "model_module": "@jupyter-widgets/base",
      "model_module_version": "1.0.0",
      "model_name": "LayoutModel",
      "state": {}
     },
     "6d1f7e59fafc4f539f4194d3a443e452": {
      "model_module": "@jupyter-widgets/controls",
      "model_module_version": "1.0.0",
      "model_name": "IntSliderModel",
      "state": {
       "description": "N",
       "layout": "IPY_MODEL_607b367f761742d6b61788743f93997b",
       "max": 9,
       "min": -3,
       "style": "IPY_MODEL_0fad5749ebe04da0ae34c93fa1de6cda",
       "value": 3
      }
     },
     "6d803d98c96c456b98f155ec46bc13b6": {
      "model_module": "@jupyter-widgets/controls",
      "model_module_version": "1.0.0",
      "model_name": "FloatSliderModel",
      "state": {
       "continuous_update": false,
       "description": "t_x",
       "layout": "IPY_MODEL_0e6a2d665fda45ac97fe68533cdb2119",
       "max": 1,
       "readout_format": ".1f",
       "step": 0.1,
       "style": "IPY_MODEL_1de0a19e09eb46f1a88304b83f0be1aa",
       "value": 1
      }
     },
     "6da8536e34fd475689094fc11275de12": {
      "model_module": "@jupyter-widgets/controls",
      "model_module_version": "1.0.0",
      "model_name": "SliderStyleModel",
      "state": {
       "description_width": ""
      }
     },
     "6db7fdb34de4484e9d8450911327157d": {
      "model_module": "@jupyter-widgets/base",
      "model_module_version": "1.0.0",
      "model_name": "LayoutModel",
      "state": {}
     },
     "6e19a8b0d8ca4b18bc99346f2e71c6c2": {
      "model_module": "@jupyter-widgets/controls",
      "model_module_version": "1.0.0",
      "model_name": "SliderStyleModel",
      "state": {
       "description_width": ""
      }
     },
     "6e3b7856a13d4e41ab319a2f18401e8a": {
      "model_module": "@jupyter-widgets/controls",
      "model_module_version": "1.0.0",
      "model_name": "IntSliderModel",
      "state": {
       "description": "N",
       "layout": "IPY_MODEL_c3b9820d22b940f2a8720597b791be4b",
       "max": 10,
       "min": 3,
       "style": "IPY_MODEL_2ac400970c1f41dbbd3e61e82a37f1a7",
       "value": 3
      }
     },
     "6e96071f8e3e4e4ea9c2590dedc0ff5f": {
      "model_module": "@jupyter-widgets/base",
      "model_module_version": "1.0.0",
      "model_name": "LayoutModel",
      "state": {}
     },
     "6f46558ef5d1417f84b35659fa437761": {
      "model_module": "@jupyter-widgets/controls",
      "model_module_version": "1.0.0",
      "model_name": "SliderStyleModel",
      "state": {
       "description_width": ""
      }
     },
     "6f7cc034b48e41c79337b5d26b7e3058": {
      "model_module": "@jupyter-widgets/controls",
      "model_module_version": "1.0.0",
      "model_name": "SliderStyleModel",
      "state": {
       "description_width": ""
      }
     },
     "6f9b71159ab2401691bbdf33b8e9d050": {
      "model_module": "@jupyter-widgets/base",
      "model_module_version": "1.0.0",
      "model_name": "LayoutModel",
      "state": {}
     },
     "6fa7a4fa9ab940cf8deadf65ae6434d9": {
      "model_module": "@jupyter-widgets/controls",
      "model_module_version": "1.0.0",
      "model_name": "SliderStyleModel",
      "state": {
       "description_width": ""
      }
     },
     "6fe09d644d394d428a9131693605c2f3": {
      "model_module": "@jupyter-widgets/controls",
      "model_module_version": "1.0.0",
      "model_name": "IntSliderModel",
      "state": {
       "description": "N",
       "layout": "IPY_MODEL_5d28f5c106514dceaeec9e0b6663f3c2",
       "max": 10,
       "min": 3,
       "style": "IPY_MODEL_cec3a6bf4f53448dbbfa8c6d65438ec3",
       "value": 3
      }
     },
     "704e267992264994a0a1d3f52c03100b": {
      "model_module": "@jupyter-widgets/controls",
      "model_module_version": "1.0.0",
      "model_name": "TextModel",
      "state": {
       "description": "x",
       "layout": "IPY_MODEL_4d84c0c4372e4ea9a701892c98646329",
       "style": "IPY_MODEL_ff49c6078c24404bbe53593939afc719",
       "value": "Hi there!"
      }
     },
     "705389294ef34126930c784b8024c397": {
      "model_module": "@jupyter-widgets/base",
      "model_module_version": "1.0.0",
      "model_name": "LayoutModel",
      "state": {}
     },
     "7060c259b5e14e4186717df0cdb78c2a": {
      "model_module": "@jupyter-widgets/controls",
      "model_module_version": "1.0.0",
      "model_name": "SliderStyleModel",
      "state": {
       "description_width": ""
      }
     },
     "7071527f8e184ce1bf9c8ba31d4eefec": {
      "model_module": "@jupyter-widgets/controls",
      "model_module_version": "1.0.0",
      "model_name": "SliderStyleModel",
      "state": {
       "description_width": ""
      }
     },
     "70a7c328cb094caa803ff3c31d70315c": {
      "model_module": "@jupyter-widgets/base",
      "model_module_version": "1.0.0",
      "model_name": "LayoutModel",
      "state": {}
     },
     "70bc87ce5e4d44d6b60c95742da469ef": {
      "model_module": "@jupyter-widgets/base",
      "model_module_version": "1.0.0",
      "model_name": "LayoutModel",
      "state": {}
     },
     "70d438c31f334349ba0cac8e035a1502": {
      "model_module": "@jupyter-widgets/controls",
      "model_module_version": "1.0.0",
      "model_name": "FloatSliderModel",
      "state": {
       "description": "t_y",
       "layout": "IPY_MODEL_fc8b627ce1144d528cc3f9742aed2053",
       "max": 1,
       "step": 0.01,
       "style": "IPY_MODEL_641bbdf744be4d4eb4c3b9835e57cc7c",
       "value": 0.35
      }
     },
     "7184ca30ec664926903302a3c16649cc": {
      "model_module": "@jupyter-widgets/controls",
      "model_module_version": "1.0.0",
      "model_name": "VBoxModel",
      "state": {
       "_dom_classes": [
        "widget-interact"
       ],
       "children": [
        "IPY_MODEL_793310373e554b4dbbcc049d77db67eb",
        "IPY_MODEL_9f2438ae8eb7418babf5901c70d18e3c"
       ],
       "layout": "IPY_MODEL_74dec3b8bf2940299f24f87c7d462550"
      }
     },
     "71a265abaa01452abe71db9b3955e333": {
      "model_module": "@jupyter-widgets/base",
      "model_module_version": "1.0.0",
      "model_name": "LayoutModel",
      "state": {}
     },
     "71e6bdc640554b898e6331a8ce6ee662": {
      "model_module": "@jupyter-widgets/base",
      "model_module_version": "1.0.0",
      "model_name": "LayoutModel",
      "state": {}
     },
     "71f25ffdb8804dceb2699e76f1fdfc54": {
      "model_module": "@jupyter-widgets/base",
      "model_module_version": "1.0.0",
      "model_name": "LayoutModel",
      "state": {}
     },
     "72513135d0fc47c6aa7d778206714c60": {
      "model_module": "@jupyter-widgets/base",
      "model_module_version": "1.0.0",
      "model_name": "LayoutModel",
      "state": {}
     },
     "72582139d195413bb4632ce92e67742d": {
      "model_module": "@jupyter-widgets/controls",
      "model_module_version": "1.0.0",
      "model_name": "IntSliderModel",
      "state": {
       "description": "N",
       "layout": "IPY_MODEL_169616fa70814c579e22ba71660ee024",
       "max": 10,
       "min": 3,
       "style": "IPY_MODEL_cfc10176ecd943f9bcc4045a0e44953a",
       "value": 3
      }
     },
     "727d546b0aa2488d9e7bfd72e11e11cb": {
      "model_module": "@jupyter-widgets/controls",
      "model_module_version": "1.0.0",
      "model_name": "IntSliderModel",
      "state": {
       "description": "theta",
       "layout": "IPY_MODEL_cc27ca0f71364a00a09d9527e98b58ae",
       "max": 360,
       "step": 10,
       "style": "IPY_MODEL_9489d40f172f4d4490ae191404a96efe"
      }
     },
     "72ea085d31ae4cb8b5c9964a30e62951": {
      "model_module": "@jupyter-widgets/base",
      "model_module_version": "1.0.0",
      "model_name": "LayoutModel",
      "state": {}
     },
     "730ee136a59f4e1b9eab046167861fad": {
      "model_module": "@jupyter-widgets/base",
      "model_module_version": "1.0.0",
      "model_name": "LayoutModel",
      "state": {}
     },
     "7322a231886041e591cc0a8528aba7b1": {
      "model_module": "@jupyter-widgets/output",
      "model_module_version": "1.0.0",
      "model_name": "OutputModel",
      "state": {
       "layout": "IPY_MODEL_7a40ff48a1314a2eb74d5b2ad2974f83",
       "outputs": [
        {
         "data": {
          "text/plain": "'Hi there!'"
         },
         "metadata": {},
         "output_type": "display_data"
        }
       ]
      }
     },
     "73b99453e549488296df7f760f04e754": {
      "model_module": "@jupyter-widgets/controls",
      "model_module_version": "1.0.0",
      "model_name": "SliderStyleModel",
      "state": {
       "description_width": ""
      }
     },
     "742b0dee59a84171839aa50c4b9c2bbf": {
      "model_module": "@jupyter-widgets/controls",
      "model_module_version": "1.0.0",
      "model_name": "DescriptionStyleModel",
      "state": {
       "description_width": ""
      }
     },
     "7443f29340d2467e968d7f37a5398fa6": {
      "model_module": "@jupyter-widgets/controls",
      "model_module_version": "1.0.0",
      "model_name": "SliderStyleModel",
      "state": {
       "description_width": ""
      }
     },
     "74dec3b8bf2940299f24f87c7d462550": {
      "model_module": "@jupyter-widgets/base",
      "model_module_version": "1.0.0",
      "model_name": "LayoutModel",
      "state": {}
     },
     "7508e23180e04cd1a3bd355abe916a86": {
      "model_module": "@jupyter-widgets/controls",
      "model_module_version": "1.0.0",
      "model_name": "FloatSliderModel",
      "state": {
       "description": "t_y",
       "layout": "IPY_MODEL_1101573b90974332af95e0f7f5f134b3",
       "max": 1,
       "step": 0.01,
       "style": "IPY_MODEL_feb103516848483e82a654c09215d488"
      }
     },
     "751a8e80010f4a03ab378b0e6cfaddd9": {
      "model_module": "@jupyter-widgets/output",
      "model_module_version": "1.0.0",
      "model_name": "OutputModel",
      "state": {
       "layout": "IPY_MODEL_894dd2f5eca84b50ab394886943ddb02",
       "outputs": [
        {
         "name": "stdout",
         "output_type": "stream",
         "text": "xy_original:\n [[ 0.68950928  0.57797539]\n [ 0.04968657  0.1790961 ]\n [ 0.50718443  0.4092611 ]]\nxy_transformed:\n [[-1.38514094 -0.04911459]\n [-0.63861365 -0.15482543]\n [-1.13702455 -0.0370681 ]]\n"
        },
        {
         "data": {
          "image/png": "iVBORw0KGgoAAAANSUhEUgAAARMAAAD8CAYAAABUzEBbAAAABHNCSVQICAgIfAhkiAAAAAlwSFlz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\niAShMBGRIBQmIhKEwkREglCYiEgQ/w9i6cE3M4Q+iAAAAABJRU5ErkJggg==\n",
          "text/plain": "<matplotlib.figure.Figure at 0x11b5b67f0>"
         },
         "metadata": {},
         "output_type": "display_data"
        },
        {
         "data": {
          "text/plain": "[<matplotlib.patches.Polygon at 0x11b5b6cc0>]"
         },
         "metadata": {},
         "output_type": "display_data"
        }
       ]
      }
     },
     "7561420dfb634b4baa1adc756dce9b35": {
      "model_module": "@jupyter-widgets/controls",
      "model_module_version": "1.0.0",
      "model_name": "VBoxModel",
      "state": {
       "_dom_classes": [
        "widget-interact"
       ],
       "children": [
        "IPY_MODEL_6994a2c1e9e74643a37f01cf8e4ebe2e",
        "IPY_MODEL_f5a75af024bf42f0b90bcd7ba1b29289",
        "IPY_MODEL_58f4c66a9a244d909a1acf264f45c7f8",
        "IPY_MODEL_5f9ab2f3f95541229b1ef6e37a9856b3",
        "IPY_MODEL_4aa1416822624d338ff0a704ce7b7e65"
       ],
       "layout": "IPY_MODEL_1f6ba515778a473096d45c998e8af057"
      }
     },
     "75cd516ab9104bcf8770ab986152939a": {
      "model_module": "@jupyter-widgets/controls",
      "model_module_version": "1.0.0",
      "model_name": "FloatSliderModel",
      "state": {
       "description": "t_y",
       "layout": "IPY_MODEL_68d3c4bd021b4a389f3e9d242ec4b5b4",
       "max": 1,
       "step": 0.01,
       "style": "IPY_MODEL_5556cb4d29644a0195d8a9a42a52c695"
      }
     },
     "760d9bd3058a486c84d36526437b0c42": {
      "model_module": "@jupyter-widgets/output",
      "model_module_version": "1.0.0",
      "model_name": "OutputModel",
      "state": {
       "layout": "IPY_MODEL_9dd49eda962d4711aabde766c35aee83",
       "outputs": [
        {
         "data": {
          "image/png": "iVBORw0KGgoAAAANSUhEUgAAAXYAAAD8CAYAAABjAo9vAAAABHNCSVQICAgIfAhkiAAAAAlwSFlz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\naBjCDgANQ9gBoGEIOwA0DGEHgIb5f9R10prwmCNxAAAAAElFTkSuQmCC\n",
          "text/plain": "<matplotlib.figure.Figure at 0x11b30d780>"
         },
         "metadata": {},
         "output_type": "display_data"
        }
       ]
      }
     },
     "76d265db8fb445d5935ee28d602443d6": {
      "model_module": "@jupyter-widgets/base",
      "model_module_version": "1.0.0",
      "model_name": "LayoutModel",
      "state": {}
     },
     "7791f2297bbb437894bde8c7171334a3": {
      "model_module": "@jupyter-widgets/controls",
      "model_module_version": "1.0.0",
      "model_name": "FloatSliderModel",
      "state": {
       "continuous_update": false,
       "description": "Test:",
       "layout": "IPY_MODEL_3b06c63fcbe14740b8ef1c8b063a0ff3",
       "max": 10,
       "readout_format": ".1f",
       "step": 0.1,
       "style": "IPY_MODEL_09bc3edb05404393be8a7e1a9213ea6d"
      }
     },
     "77d7e031f0dc48a19eb780a46534813c": {
      "model_module": "@jupyter-widgets/base",
      "model_module_version": "1.0.0",
      "model_name": "LayoutModel",
      "state": {}
     },
     "77d928d75f76430db67207bedffb5956": {
      "model_module": "@jupyter-widgets/controls",
      "model_module_version": "1.0.0",
      "model_name": "SliderStyleModel",
      "state": {
       "description_width": ""
      }
     },
     "7808cc10d06e4873af0cd7da7f9a8ed0": {
      "model_module": "@jupyter-widgets/controls",
      "model_module_version": "1.0.0",
      "model_name": "IntSliderModel",
      "state": {
       "description": "N",
       "layout": "IPY_MODEL_12dd96a14d4d4875b3de4084f146f1f1",
       "max": 10,
       "min": 3,
       "style": "IPY_MODEL_73b99453e549488296df7f760f04e754",
       "value": 3
      }
     },
     "78224b49e88a449ea67a0bdf1497f881": {
      "model_module": "@jupyter-widgets/controls",
      "model_module_version": "1.0.0",
      "model_name": "VBoxModel",
      "state": {
       "_dom_classes": [
        "widget-interact"
       ],
       "children": [
        "IPY_MODEL_ea1eedcb6b5a452783e0243167d96369",
        "IPY_MODEL_79cf2f8d343b49b08d68fa85be7fc149",
        "IPY_MODEL_f126396002aa4d9f8465b6900cc8fb86",
        "IPY_MODEL_de301383f2b2456ba2fbabeb64a69311",
        "IPY_MODEL_69e23d3e552b4a8c807f9f309d43f77e"
       ],
       "layout": "IPY_MODEL_25f7feb6834346858d7573321e105a3b"
      }
     },
     "7869a22fba774a0a913f117240715de7": {
      "model_module": "@jupyter-widgets/controls",
      "model_module_version": "1.0.0",
      "model_name": "IntSliderModel",
      "state": {
       "description": "N",
       "layout": "IPY_MODEL_e283a4c4f7eb489fa3f5a5dac441d611",
       "max": 10,
       "min": 3,
       "style": "IPY_MODEL_adc74026607b4114a39df56534aa1dac",
       "value": 3
      }
     },
     "789199ad50ac40d0b964a66f669dc145": {
      "model_module": "@jupyter-widgets/controls",
      "model_module_version": "1.0.0",
      "model_name": "VBoxModel",
      "state": {
       "_dom_classes": [
        "widget-interact"
       ],
       "children": [
        "IPY_MODEL_bea5667a5175426cbc5ff41b440ca0fe",
        "IPY_MODEL_3cdeee53623745f2a2f07657d560591e",
        "IPY_MODEL_29b9c51d640a429da7fff2501fb1957e",
        "IPY_MODEL_5f1f168893f64a93af8f53df8cd10364",
        "IPY_MODEL_6743b5f191e742c1844741d7a85dc3b3"
       ],
       "layout": "IPY_MODEL_70a7c328cb094caa803ff3c31d70315c"
      }
     },
     "78b6cc14615d495f8e3181926b7318a5": {
      "model_module": "@jupyter-widgets/controls",
      "model_module_version": "1.0.0",
      "model_name": "IntSliderModel",
      "state": {
       "description": "N",
       "layout": "IPY_MODEL_70bc87ce5e4d44d6b60c95742da469ef",
       "max": 10,
       "min": 3,
       "style": "IPY_MODEL_15b8fe42883f412bb9291dad19b6f4ef",
       "value": 3
      }
     },
     "793310373e554b4dbbcc049d77db67eb": {
      "model_module": "@jupyter-widgets/controls",
      "model_module_version": "1.0.0",
      "model_name": "TextModel",
      "state": {
       "description": "x",
       "layout": "IPY_MODEL_d812db643429422dad37feaf37b1645a",
       "style": "IPY_MODEL_b91d047cd8884f80aece89ba3bf02504",
       "value": "Hi there!"
      }
     },
     "7953eeb365ed43e4972ac5151d5967e9": {
      "model_module": "@jupyter-widgets/controls",
      "model_module_version": "1.0.0",
      "model_name": "FloatSliderModel",
      "state": {
       "description": "t_x",
       "layout": "IPY_MODEL_59d07c7bc4114034888412d014389f0f",
       "max": 1,
       "step": 0.01,
       "style": "IPY_MODEL_18d766e7d20443b59f30184ef1f86f18"
      }
     },
     "797dde361c2c448b91150617ed0c18ec": {
      "model_module": "@jupyter-widgets/controls",
      "model_module_version": "1.0.0",
      "model_name": "SliderStyleModel",
      "state": {
       "description_width": ""
      }
     },
     "79cf2f8d343b49b08d68fa85be7fc149": {
      "model_module": "@jupyter-widgets/controls",
      "model_module_version": "1.0.0",
      "model_name": "FloatSliderModel",
      "state": {
       "description": "t_x",
       "layout": "IPY_MODEL_17b258d560384e879025ed940587977c",
       "max": 8,
       "min": -8,
       "step": 0.1,
       "style": "IPY_MODEL_5cbb8bcf868443309502d881ca08d4e8",
       "value": 8
      }
     },
     "79d505f07cc24e24863b23902d48b340": {
      "model_module": "@jupyter-widgets/base",
      "model_module_version": "1.0.0",
      "model_name": "LayoutModel",
      "state": {}
     },
     "79e2383a11ea4c119aa2f86b127314ec": {
      "model_module": "@jupyter-widgets/controls",
      "model_module_version": "1.0.0",
      "model_name": "FloatSliderModel",
      "state": {
       "description": "t_x",
       "layout": "IPY_MODEL_1693350057f4479eb9f692401d3d0527",
       "max": 1,
       "step": 0.01,
       "style": "IPY_MODEL_a131d1f8dbb64d9a98c324e014d28c1a"
      }
     },
     "7a1b5ff33ad64b7382e06791a08be425": {
      "model_module": "@jupyter-widgets/base",
      "model_module_version": "1.0.0",
      "model_name": "LayoutModel",
      "state": {}
     },
     "7a3be0bb8af242dfab5f7019c35c6223": {
      "model_module": "@jupyter-widgets/base",
      "model_module_version": "1.0.0",
      "model_name": "LayoutModel",
      "state": {}
     },
     "7a40ff48a1314a2eb74d5b2ad2974f83": {
      "model_module": "@jupyter-widgets/base",
      "model_module_version": "1.0.0",
      "model_name": "LayoutModel",
      "state": {}
     },
     "7a49512140ff49bc9abfd1e01ebb3f5b": {
      "model_module": "@jupyter-widgets/controls",
      "model_module_version": "1.0.0",
      "model_name": "VBoxModel",
      "state": {
       "_dom_classes": [
        "widget-interact"
       ],
       "children": [
        "IPY_MODEL_c76faa83f36f4c16994a5d19e5a48397",
        "IPY_MODEL_0441a4d95aee4dd5aa95a348e3197875"
       ],
       "layout": "IPY_MODEL_4042201de31e4fc18210fb7d719d0a81"
      }
     },
     "7a9b80a707e04e2299f850b354d86845": {
      "model_module": "@jupyter-widgets/controls",
      "model_module_version": "1.0.0",
      "model_name": "DescriptionStyleModel",
      "state": {
       "description_width": ""
      }
     },
     "7ab1180474914f438a16966fb37a732d": {
      "model_module": "@jupyter-widgets/base",
      "model_module_version": "1.0.0",
      "model_name": "LayoutModel",
      "state": {}
     },
     "7ab8d1161c3f449e8e8a15c89a732d19": {
      "model_module": "@jupyter-widgets/controls",
      "model_module_version": "1.0.0",
      "model_name": "IntSliderModel",
      "state": {
       "description": "N",
       "layout": "IPY_MODEL_1e2059acd0d14c3492a65525d08a0a72",
       "max": 10,
       "min": 3,
       "style": "IPY_MODEL_2bf0c4cc023b481288cd8c3c6b85687b",
       "value": 3
      }
     },
     "7b2ab2a70e3d4c34bcae942c0bd642de": {
      "model_module": "@jupyter-widgets/controls",
      "model_module_version": "1.0.0",
      "model_name": "IntSliderModel",
      "state": {
       "description": "N",
       "layout": "IPY_MODEL_faafb522bd474b3ba3a8df2547ca7627",
       "max": 10,
       "min": 3,
       "style": "IPY_MODEL_4d24781f7e4640c286c2015c19fb57c1",
       "value": 3
      }
     },
     "7bb8ce2062c64759bf4f7aaab2ddc398": {
      "model_module": "@jupyter-widgets/controls",
      "model_module_version": "1.0.0",
      "model_name": "IntSliderModel",
      "state": {
       "description": "N",
       "layout": "IPY_MODEL_5c3bd6f482fd4ea9942045911d9b1f62",
       "max": 10,
       "min": 3,
       "style": "IPY_MODEL_99121a0b5da944fb925292f53393cacc",
       "value": 3
      }
     },
     "7c3015801cce41608ef23437d0db750f": {
      "model_module": "@jupyter-widgets/base",
      "model_module_version": "1.0.0",
      "model_name": "LayoutModel",
      "state": {}
     },
     "7c42c1fbc9144158a4750f7a7a8ce9f8": {
      "model_module": "@jupyter-widgets/controls",
      "model_module_version": "1.0.0",
      "model_name": "VBoxModel",
      "state": {
       "_dom_classes": [
        "widget-interact"
       ],
       "children": [
        "IPY_MODEL_9b5b8620278b4ff69f52f3dc7d116731",
        "IPY_MODEL_5ad3145c0b60466785ba06c1d455ea9e",
        "IPY_MODEL_d34862b83cf0419eb08c4140aee120da",
        "IPY_MODEL_bcc52e744ef04d249f4ce6ca9f30d7ca",
        "IPY_MODEL_6a4377d44a484800ac7c312a50e45f3c"
       ],
       "layout": "IPY_MODEL_cf2a83bb0a7f4337b969217b68bc651b"
      }
     },
     "7c4680f45db14280891bb3cba403eb33": {
      "model_module": "@jupyter-widgets/base",
      "model_module_version": "1.0.0",
      "model_name": "LayoutModel",
      "state": {}
     },
     "7d02e098f4a943e6befacf34048200fa": {
      "model_module": "@jupyter-widgets/base",
      "model_module_version": "1.0.0",
      "model_name": "LayoutModel",
      "state": {}
     },
     "7d239e904f114371a0886425d9ed1087": {
      "model_module": "@jupyter-widgets/controls",
      "model_module_version": "1.0.0",
      "model_name": "IntSliderModel",
      "state": {
       "description": "theta",
       "layout": "IPY_MODEL_730ee136a59f4e1b9eab046167861fad",
       "max": 360,
       "step": 10,
       "style": "IPY_MODEL_b9e5c181c81e43f2b9cba734bee7fa81"
      }
     },
     "7d2989f9b9c24e0297a8edb64846833a": {
      "model_module": "@jupyter-widgets/output",
      "model_module_version": "1.0.0",
      "model_name": "OutputModel",
      "state": {
       "layout": "IPY_MODEL_231439bc241f4c15867715d1b32804ac",
       "outputs": [
        {
         "name": "stdout",
         "output_type": "stream",
         "text": "xy_transformed:\n [[ 0.57051729  0.56452876]\n [ 0.48844183  0.33647775]\n [ 0.37586818  0.53203587]]\n"
        },
        {
         "data": {
          "image/png": "iVBORw0KGgoAAAANSUhEUgAAAQgAAAD8CAYAAACLgjpEAAAABHNCSVQICAgIfAhkiAAAAAlwSFlz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\nEelLASEifSkgRKSv/w+u8MFXtrEzOwAAAABJRU5ErkJggg==\n",
          "text/plain": "<matplotlib.figure.Figure at 0x11b0b29b0>"
         },
         "metadata": {},
         "output_type": "display_data"
        }
       ]
      }
     },
     "7d4eab2d0c7a40b180460dd4e1323f59": {
      "model_module": "@jupyter-widgets/controls",
      "model_module_version": "1.0.0",
      "model_name": "VBoxModel",
      "state": {
       "_dom_classes": [
        "widget-interact"
       ],
       "children": [
        "IPY_MODEL_6d1f7e59fafc4f539f4194d3a443e452",
        "IPY_MODEL_89325bc21a844ece9a39debd139156a7",
        "IPY_MODEL_7508e23180e04cd1a3bd355abe916a86",
        "IPY_MODEL_a563029b299a4cf1a715681de0b84b8a",
        "IPY_MODEL_c6bba8b562814074807303acc1bc2d07"
       ],
       "layout": "IPY_MODEL_29e3c8f82b8f4c9087f8b703cee46c66"
      }
     },
     "7d515cdc9e954d9eaa816b0677f10f0b": {
      "model_module": "@jupyter-widgets/base",
      "model_module_version": "1.0.0",
      "model_name": "LayoutModel",
      "state": {
       "height": "400px"
      }
     },
     "7da0dc6c4cc14bb5a3b681eabd4944c2": {
      "model_module": "@jupyter-widgets/base",
      "model_module_version": "1.0.0",
      "model_name": "LayoutModel",
      "state": {}
     },
     "7e47ab38cc07446993b3f04a17a529e6": {
      "model_module": "@jupyter-widgets/base",
      "model_module_version": "1.0.0",
      "model_name": "LayoutModel",
      "state": {
       "height": "500px"
      }
     },
     "7e59082316c543c39ab4d53c1fdf611f": {
      "model_module": "@jupyter-widgets/base",
      "model_module_version": "1.0.0",
      "model_name": "LayoutModel",
      "state": {}
     },
     "7e5dd928285a48efa741d0965beb5aee": {
      "model_module": "@jupyter-widgets/controls",
      "model_module_version": "1.0.0",
      "model_name": "SliderStyleModel",
      "state": {
       "description_width": ""
      }
     },
     "7ead6e4ac6cf4c4581491e79a9905264": {
      "model_module": "@jupyter-widgets/controls",
      "model_module_version": "1.0.0",
      "model_name": "IntSliderModel",
      "state": {
       "description": "theta",
       "layout": "IPY_MODEL_42a65a216fd84e5e959e409c9f5e0af6",
       "max": 360,
       "step": 10,
       "style": "IPY_MODEL_2c40f59f0f224b57ae28a8c62ca28c1f"
      }
     },
     "7f28de13d69246f68ecf18d37b7ba47a": {
      "model_module": "@jupyter-widgets/controls",
      "model_module_version": "1.0.0",
      "model_name": "VBoxModel",
      "state": {
       "_dom_classes": [
        "widget-interact"
       ],
       "children": [
        "IPY_MODEL_7808cc10d06e4873af0cd7da7f9a8ed0",
        "IPY_MODEL_a2d6abc0752844f5bfd43db45eea56ed",
        "IPY_MODEL_16ecf5ec6c7d4a979062662a6a744ac4",
        "IPY_MODEL_5bf0d056f94842e3b714a2f0a325c300",
        "IPY_MODEL_27011ff4361a4e8a8c599cc16bb04057"
       ],
       "layout": "IPY_MODEL_994745e4ded74718bf2b9b3245b65794"
      }
     },
     "7f36f7f009774032b7e619bcdeb031c1": {
      "model_module": "@jupyter-widgets/base",
      "model_module_version": "1.0.0",
      "model_name": "LayoutModel",
      "state": {}
     },
     "7f73e588005b4cc88390920add7532bd": {
      "model_module": "@jupyter-widgets/controls",
      "model_module_version": "1.0.0",
      "model_name": "SliderStyleModel",
      "state": {
       "description_width": ""
      }
     },
     "80186b24a45b4ec4bf2bab0b68ad2609": {
      "model_module": "@jupyter-widgets/base",
      "model_module_version": "1.0.0",
      "model_name": "LayoutModel",
      "state": {}
     },
     "8061ecbdf0d1486e9915b6a456f824fb": {
      "model_module": "@jupyter-widgets/output",
      "model_module_version": "1.0.0",
      "model_name": "OutputModel",
      "state": {
       "layout": "IPY_MODEL_8e26fe7b85424868adfb84344a2319a3",
       "outputs": [
        {
         "name": "stdout",
         "output_type": "stream",
         "text": "xy_transformed:\n [[ 5.17022005  8.20324493]\n [ 1.00114375  4.02332573]\n [ 2.46755891  1.92338595]]\n"
        },
        {
         "data": {
          "image/png": "iVBORw0KGgoAAAANSUhEUgAAARMAAAD8CAYAAABUzEBbAAAABHNCSVQICAgIfAhkiAAAAAlwSFlz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\nZpaEw8TMknCYmFkSDhMzS+L/Ae1UwbwjRomNAAAAAElFTkSuQmCC\n",
          "text/plain": "<matplotlib.figure.Figure at 0x109d26a90>"
         },
         "metadata": {},
         "output_type": "display_data"
        }
       ]
      }
     },
     "80a9b7f41a5446ecac2c5913fcda6097": {
      "model_module": "@jupyter-widgets/controls",
      "model_module_version": "1.0.0",
      "model_name": "SliderStyleModel",
      "state": {
       "description_width": ""
      }
     },
     "81796da31cf14a8e8f3ee52d99d6357b": {
      "model_module": "@jupyter-widgets/output",
      "model_module_version": "1.0.0",
      "model_name": "OutputModel",
      "state": {
       "layout": "IPY_MODEL_86b3d0fbf88a4c9bae5fb79af765efb5",
       "outputs": [
        {
         "name": "stdout",
         "output_type": "stream",
         "text": "xy_transformed:\n [[ 0.57051729  0.56452876]\n [ 0.48844183  0.33647775]\n [ 0.37586818  0.53203587]]\n"
        },
        {
         "data": {
          "image/png": "iVBORw0KGgoAAAANSUhEUgAAAQgAAAD8CAYAAACLgjpEAAAABHNCSVQICAgIfAhkiAAAAAlwSFlz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\nEelLASEifSkgRKSv/w+u8MFXtrEzOwAAAABJRU5ErkJggg==\n",
          "text/plain": "<matplotlib.figure.Figure at 0x10fa20f28>"
         },
         "metadata": {},
         "output_type": "display_data"
        }
       ]
      }
     },
     "81b52dcca8d74cacba89491ab69c65a5": {
      "model_module": "@jupyter-widgets/controls",
      "model_module_version": "1.0.0",
      "model_name": "FloatSliderModel",
      "state": {
       "continuous_update": false,
       "description": "t_x",
       "layout": "IPY_MODEL_c224c018c3a1438cbb6bd2c4d443f00a",
       "max": 1,
       "readout_format": ".1f",
       "step": 0.1,
       "style": "IPY_MODEL_9154d749f2d248f0bec6d6066a9c74c5",
       "value": 0.9
      }
     },
     "81fe0ec4af7e4732808ffa14b8ec0a45": {
      "model_module": "@jupyter-widgets/controls",
      "model_module_version": "1.0.0",
      "model_name": "SliderStyleModel",
      "state": {
       "description_width": ""
      }
     },
     "82176e5945c64a398e7aa76be470de08": {
      "model_module": "@jupyter-widgets/controls",
      "model_module_version": "1.0.0",
      "model_name": "FloatSliderModel",
      "state": {
       "description": "t_x",
       "layout": "IPY_MODEL_71f25ffdb8804dceb2699e76f1fdfc54",
       "max": 1,
       "step": 0.01,
       "style": "IPY_MODEL_8b55b921decb42338159153768d5b7d9"
      }
     },
     "834b57f46c5441a9b82245b3556e1172": {
      "model_module": "@jupyter-widgets/controls",
      "model_module_version": "1.0.0",
      "model_name": "VBoxModel",
      "state": {
       "_dom_classes": [
        "widget-interact"
       ],
       "children": [
        "IPY_MODEL_ddb8ffe91f6c42719a3f20678c2dd05d",
        "IPY_MODEL_48485596f0f544389496b553af16a407",
        "IPY_MODEL_42971a9039744b8fb588ef77c09d66c6"
       ],
       "layout": "IPY_MODEL_1b6104175fd642d5bc1c820f33c07dc7"
      }
     },
     "83678088fb984e3c9f3fe16b04bce043": {
      "model_module": "@jupyter-widgets/base",
      "model_module_version": "1.0.0",
      "model_name": "LayoutModel",
      "state": {}
     },
     "83a12729f2d042318c84c2e9ce5b8d4c": {
      "model_module": "@jupyter-widgets/base",
      "model_module_version": "1.0.0",
      "model_name": "LayoutModel",
      "state": {}
     },
     "83a771b90ed140ebbab66c7d2ddd9121": {
      "model_module": "@jupyter-widgets/base",
      "model_module_version": "1.0.0",
      "model_name": "LayoutModel",
      "state": {}
     },
     "83c053d818094ae8b4a819bfee0af58f": {
      "model_module": "@jupyter-widgets/controls",
      "model_module_version": "1.0.0",
      "model_name": "SliderStyleModel",
      "state": {
       "description_width": ""
      }
     },
     "84559433dc7f4742b3b3d6a84d700232": {
      "model_module": "@jupyter-widgets/controls",
      "model_module_version": "1.0.0",
      "model_name": "SliderStyleModel",
      "state": {
       "description_width": ""
      }
     },
     "84f02d2b75bf4105bf65c5b63c2e89f8": {
      "model_module": "@jupyter-widgets/output",
      "model_module_version": "1.0.0",
      "model_name": "OutputModel",
      "state": {
       "layout": "IPY_MODEL_7e47ab38cc07446993b3f04a17a529e6",
       "outputs": [
        {
         "name": "stdout",
         "output_type": "stream",
         "text": "xy_transformed:\n [[-0.57051729 -0.56452876]\n [-0.48844183 -0.33647775]\n [-0.37586818 -0.53203587]]\n"
        },
        {
         "data": {
          "image/png": "iVBORw0KGgoAAAANSUhEUgAAARAAAAD8CAYAAAC/+/tYAAAABHNCSVQICAgIfAhkiAAAAAlwSFlz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\npilARKRpChARaZoCRESa9v8B1dUUDm5+EB0AAAAASUVORK5CYII=\n",
          "text/plain": "<matplotlib.figure.Figure at 0x11b2d0400>"
         },
         "metadata": {},
         "output_type": "display_data"
        }
       ]
      }
     },
     "86b3d0fbf88a4c9bae5fb79af765efb5": {
      "model_module": "@jupyter-widgets/base",
      "model_module_version": "1.0.0",
      "model_name": "LayoutModel",
      "state": {
       "height": "400px"
      }
     },
     "876b3f86e758412cb4fef1c1940cf70d": {
      "model_module": "@jupyter-widgets/base",
      "model_module_version": "1.0.0",
      "model_name": "LayoutModel",
      "state": {}
     },
     "87e7a6ceda9946b39875ee758c37ecca": {
      "model_module": "@jupyter-widgets/controls",
      "model_module_version": "1.0.0",
      "model_name": "IntSliderModel",
      "state": {
       "layout": "IPY_MODEL_876b3f86e758412cb4fef1c1940cf70d",
       "style": "IPY_MODEL_6e19a8b0d8ca4b18bc99346f2e71c6c2"
      }
     },
     "880e28c2e11843f883d16bea3c5dc903": {
      "model_module": "@jupyter-widgets/controls",
      "model_module_version": "1.0.0",
      "model_name": "FloatSliderModel",
      "state": {
       "description": "t_y",
       "layout": "IPY_MODEL_a53a8544551b437fb71a24f8107c8964",
       "max": 1,
       "step": 0.01,
       "style": "IPY_MODEL_7f73e588005b4cc88390920add7532bd"
      }
     },
     "88e0c33d9a7442aca775e575539670b4": {
      "model_module": "@jupyter-widgets/base",
      "model_module_version": "1.0.0",
      "model_name": "LayoutModel",
      "state": {}
     },
     "89325bc21a844ece9a39debd139156a7": {
      "model_module": "@jupyter-widgets/controls",
      "model_module_version": "1.0.0",
      "model_name": "FloatSliderModel",
      "state": {
       "description": "t_x",
       "layout": "IPY_MODEL_e4fa7e2c8f3c4b50b4367aa81f330b7f",
       "max": 1,
       "step": 0.01,
       "style": "IPY_MODEL_7443f29340d2467e968d7f37a5398fa6"
      }
     },
     "894dd2f5eca84b50ab394886943ddb02": {
      "model_module": "@jupyter-widgets/base",
      "model_module_version": "1.0.0",
      "model_name": "LayoutModel",
      "state": {}
     },
     "899b1f3fc9a6460099dc635c11b48266": {
      "model_module": "@jupyter-widgets/base",
      "model_module_version": "1.0.0",
      "model_name": "LayoutModel",
      "state": {}
     },
     "89be65cf4ec841f4a6c6e73c7656b20a": {
      "model_module": "@jupyter-widgets/base",
      "model_module_version": "1.0.0",
      "model_name": "LayoutModel",
      "state": {}
     },
     "89e4f338a966445a83ca6caf5598b2e1": {
      "model_module": "@jupyter-widgets/controls",
      "model_module_version": "1.0.0",
      "model_name": "FloatSliderModel",
      "state": {
       "continuous_update": false,
       "description": "t_y",
       "layout": "IPY_MODEL_903e007c975c43cb8065cdf15c1ad443",
       "max": 1,
       "step": 0.01,
       "style": "IPY_MODEL_691b1b1ad3134cbabee7c932d04412e3"
      }
     },
     "8a1d0e32d06d4e4ebb39c143d3e3d928": {
      "model_module": "@jupyter-widgets/base",
      "model_module_version": "1.0.0",
      "model_name": "LayoutModel",
      "state": {}
     },
     "8a84fa4517584caa8cb5c43766e09c76": {
      "model_module": "@jupyter-widgets/base",
      "model_module_version": "1.0.0",
      "model_name": "LayoutModel",
      "state": {}
     },
     "8ae5b8ae4dc04a31a02649a453aa3d49": {
      "model_module": "@jupyter-widgets/base",
      "model_module_version": "1.0.0",
      "model_name": "LayoutModel",
      "state": {}
     },
     "8b55b921decb42338159153768d5b7d9": {
      "model_module": "@jupyter-widgets/controls",
      "model_module_version": "1.0.0",
      "model_name": "SliderStyleModel",
      "state": {
       "description_width": ""
      }
     },
     "8b8c853db42748dab319de67cf8aea47": {
      "model_module": "@jupyter-widgets/base",
      "model_module_version": "1.0.0",
      "model_name": "LayoutModel",
      "state": {}
     },
     "8c68d7d321ee442fa0f67c79f3966872": {
      "model_module": "@jupyter-widgets/base",
      "model_module_version": "1.0.0",
      "model_name": "LayoutModel",
      "state": {}
     },
     "8ccbb2cff59e4820ad403f1bd050871b": {
      "model_module": "@jupyter-widgets/controls",
      "model_module_version": "1.0.0",
      "model_name": "FloatSliderModel",
      "state": {
       "continuous_update": false,
       "description": "t_y",
       "layout": "IPY_MODEL_77d7e031f0dc48a19eb780a46534813c",
       "max": 1,
       "step": 0.01,
       "style": "IPY_MODEL_d154382951a347eb8a419dc9253a3cfd",
       "value": 0.1
      }
     },
     "8ce29d0c7cdb4bcdb83c13bb0d20517a": {
      "model_module": "@jupyter-widgets/controls",
      "model_module_version": "1.0.0",
      "model_name": "SliderStyleModel",
      "state": {
       "description_width": ""
      }
     },
     "8cf0526456844ac8970d5cbbdc2fc374": {
      "model_module": "@jupyter-widgets/controls",
      "model_module_version": "1.0.0",
      "model_name": "IntSliderModel",
      "state": {
       "description": "N",
       "layout": "IPY_MODEL_c8f29cfce32a4274a74396cd4c79010a",
       "max": 10,
       "min": 3,
       "style": "IPY_MODEL_1f5b0a6ac97e44cc8b1c16a933824e7d",
       "value": 3
      }
     },
     "8d7657ff87f94776a99bb666316414e9": {
      "model_module": "@jupyter-widgets/output",
      "model_module_version": "1.0.0",
      "model_name": "OutputModel",
      "state": {
       "layout": "IPY_MODEL_e7f121ccfa514f95a4910902ce50565a",
       "outputs": [
        {
         "name": "stdout",
         "output_type": "stream",
         "text": "xy_original:\n [[ 0.68950928  0.57797539]\n [ 0.04968657  0.1790961 ]\n [ 0.50718443  0.4092611 ]\n [ 0.75102422  0.51932056]\n [ 0.98334839  0.97132962]\n [ 0.3500723   0.09793639]\n [ 0.8743089   0.59847578]\n [ 0.63077184  0.23245065]\n [ 0.43755973  0.5897802 ]]\nxy_transformed:\n [[ 0.68950928  0.57797539]\n [ 0.04968657  0.1790961 ]\n [ 0.50718443  0.4092611 ]\n [ 0.75102422  0.51932056]\n [ 0.98334839  0.97132962]\n [ 0.3500723   0.09793639]\n [ 0.8743089   0.59847578]\n [ 0.63077184  0.23245065]\n [ 0.43755973  0.5897802 ]]\n"
        },
        {
         "data": {
          "image/png": "iVBORw0KGgoAAAANSUhEUgAAAQIAAAD8CAYAAACcoKqNAAAABHNCSVQICAgIfAhkiAAAAAlwSFlz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\nUwsDLAAAAABJRU5ErkJggg==\n",
          "text/plain": "<matplotlib.figure.Figure at 0x11ba5ab00>"
         },
         "metadata": {},
         "output_type": "display_data"
        },
        {
         "data": {
          "text/plain": "[<matplotlib.patches.Polygon at 0x11ba5a940>]"
         },
         "metadata": {},
         "output_type": "display_data"
        }
       ]
      }
     },
     "8daf7da2df0f4e15a3cfc4bdacfd58d9": {
      "model_module": "@jupyter-widgets/controls",
      "model_module_version": "1.0.0",
      "model_name": "SliderStyleModel",
      "state": {
       "description_width": ""
      }
     },
     "8dbd0d9fce6d4568829bf415c1feb6e1": {
      "model_module": "@jupyter-widgets/controls",
      "model_module_version": "1.0.0",
      "model_name": "SliderStyleModel",
      "state": {
       "description_width": ""
      }
     },
     "8dfdb1da8b9a4b30bce1c5a298c7373f": {
      "model_module": "@jupyter-widgets/base",
      "model_module_version": "1.0.0",
      "model_name": "LayoutModel",
      "state": {}
     },
     "8e26fe7b85424868adfb84344a2319a3": {
      "model_module": "@jupyter-widgets/base",
      "model_module_version": "1.0.0",
      "model_name": "LayoutModel",
      "state": {
       "height": "400px"
      }
     },
     "8e7830343e8c42749109a37adba0b2ec": {
      "model_module": "@jupyter-widgets/controls",
      "model_module_version": "1.0.0",
      "model_name": "IntSliderModel",
      "state": {
       "description": "N",
       "layout": "IPY_MODEL_fc92d839d58a47249e87f08b9b1ee809",
       "max": 10,
       "min": 3,
       "style": "IPY_MODEL_26c9f3d412ab4cac9120095e3fe52d48",
       "value": 3
      }
     },
     "8f23270d2c2e4f9eb6dec78127e5d1f8": {
      "model_module": "@jupyter-widgets/output",
      "model_module_version": "1.0.0",
      "model_name": "OutputModel",
      "state": {
       "layout": "IPY_MODEL_37eed1078b9646168729f3f34ad95918",
       "outputs": [
        {
         "name": "stdout",
         "output_type": "stream",
         "text": "xy_transformed:\n [[ 0.57051729  0.56452876]\n [ 0.48844183  0.33647775]\n [ 0.37586818  0.53203587]]\n"
        },
        {
         "data": {
          "image/png": "iVBORw0KGgoAAAANSUhEUgAAAQgAAAD8CAYAAACLgjpEAAAABHNCSVQICAgIfAhkiAAAAAlwSFlz\nAAALEgAACxIB0t1+/AAAADl0RVh0U29mdHdhcmUAbWF0cGxvdGxpYiB2ZXJzaW9uIDIuMS4wLCBo\ndHRwOi8vbWF0cGxvdGxpYi5vcmcvpW3flQAAGoBJREFUeJzt3WuMXPd53/HvM5ed2Z29c5e73Dsl\nk6FESrwt5KJFBNqpY6ZFqRQ2AsVAIbV1CQERXCR9IyGBCsgI6qpA3AIR4NKGAL9xGCMuXNogKtio\nVk2TKCVlK1YkkRZFpxZNuRFJ3Va87eXpi5mlhquZ3bM7Z+Zc5vcBBtw5c87MM7OzP55z/uecx9wd\nEZFaMlEXICLxpYAQkboUECJSlwJCROpSQIhIXQoIEalLASEidSkgRKQuBYSI1JWLuoDVhoaGfGZm\npuWv++GHH1IqlVr+upuhWpsnSfU2UuuLL754yd2H153R3WN1O3jwoEfhueeei+R1N0O1Nk+S6m2k\nVuC0B/h71CaGiNSlgBCRuhQQIlKXAkJE6lJAiEhdCggRqUsBISJ1KSBEpK7YHUkpkjTXF5Z4/9oC\n71VuW3uKTG3pirqsUCggRAJaHQQrt+sLy7fNt2OkJ6IKw6eAEFnl+sIS719f4L2rawdBLYOlDvo6\n8y2osjUUENK2biwulf/4ry7w/vUF3r26wAdXF/hvP/rFpp9z+1AyTvQKSgEhqbcSBCubB+9WAuHa\nzY+vERQb6BNjBtMp2fewQgEhqbE6CFZutYKgGUb7ihTz2Za8VqsoICRxog6CerZvSdfmBSggJMbi\nGgS15DLGxEBn1GWETgEhkbu5uMy7124mIgjqmRjsJJdN33GHgQLCzA4D/wXIAt9w96+sevxh4D8B\nK7t//9jdv1F5bAl4uTL95+5+JIS6JYE+CoJF3rt2M5FBUE/aRi9WrBsQZpYFngY+A1wATpnZCXd/\nddWsf+ruj9Z4imvuvq/xUiUpbi4u3/rjv3pziefO/D3vXruZiiCopbMjw0hPMeoymiLIGsR9wDl3\nPw9gZseBB4DVASFtpjoIVvYVrA6C4sIS7753PcIqm296S4lMxqIuoymCBMQ48GbV/QvAJ2vM9zkz\nux/4KfC77r6yTNHMTgOLwFfc/buNFCytVysIVtYOBGZSOHqxIkhA1IrG1UeTfA/4E3e/YWaPAN8E\nPl15bMrdL5rZHcD/NLOX3f2N217A7ChwFGBkZIS5ubmNvIdQzM/PR/K6m9GsWh1YWvbbb+4sL9c+\neCjISnVm8TrFS2dCrbOZNlpvNmP85NT5JlZUXyu+s0EC4gIwWXV/ArhYPYO7X666+3XgP1Y9drHy\n73kzmwP2A2+sWv4YcAxgdnbWDx06FPgNhGVubo4oXnczGq21lWsExUtnuD60K/TnbZaN1rt3so/d\nY31NrKi+VnxngwTEKWCHmW2nPErxIPCF6hnMbJu7v1W5ewR4rTJ9ALhaWbMYAv4R8FRYxcvabi4u\n3zrHQJsGzZHmzQsIEBDuvmhmjwLPUh7mfMbdXzGzJyk33zgBfMnMjlDez3AFeLiy+F3AfzWzZcoX\np/lKjdEPadBKENxaK7iqIGiFrT0FSoV0H0oU6N25+0ng5KppT1T9/DjweI3l/hK4p8EapWIlCG4s\nLvOjn79z6yzED28oCKIwk9JjH6qlO/4SamHp9n0EK5sHK0FQvLHI5bc+iLjK9pYxmBpM15mbtSgg\nIrReEEh8jQ900pFL36HVqykgWkBBkD5p3zm5QgERopUgKB9RqCBIq45chrH+9J25WYsCYhMWlpY/\nujqRgqDtTA12kU3podWrKSDWUB0E1TcFQXubGUr/zskVCgjKQbC07Jx/e15BIGsqFbIMdxeiLqNl\n2iogFmvsLFwJguK1BV44fyXqEiXmZraUMGuPzQtIaUCsFQQijWiHg6OqJTogFpeWef/6Iu9evakg\nkKZLW1OcIBIXEMvLzl+dv8yl+RsKAmmptF5Wbi2JOxQskzH6OvMKB2mpNDbFCSJxAQGwa7SHUiFd\nDUok3tLYFCeIRAZELpth/+RA1GVIG0ljU5wgEhkQAFNbuhjuaZ/xaIlOWpviBJHYgAA4OK21CGm+\ntDbFCSLR73qw1MGdw+256iet046jFysSHRAAeyf7yWXb58g2aa00N8UJIvEBUcxn2RPRVYUl/aYG\n09sUJ4jEBwTAr4z20F1M3DFfkgDtvHkBKQmIbMY4MNUfdRmSMr2dOQZLHVGXEalUBATAxEAXo30a\n9pTwtMtl5daSmoAAODA1QBudiStN1m5nbtaSqoDo7+pgx9buqMuQFNjaU6A75U1xgkhVQADsGe9r\ni8uRS3Np7aEsdX9JxXyWe8Y17CmblzGYHGzPQ6tXS11AAOzY2k1vp1YPZXPGBzop5NrvzM1aUhkQ\nmYzpPA3ZNI1efCSVAQGwra+Tsf72PURWNsfM2qYpThCpDQiAA9MDtPFRsrIJhVymbZriBJHqgOgt\n5tk52hN1GZIgGgG7Xeo/jT1jfRT0S5cASoUsOa093Cb1fzkduQx7JzXsKevTzsmPS31AANw53M1A\nV3v1M5CN08FRH9cWAWFmHNCwp6xhsJRvu6Y4QQQKCDM7bGZnzeycmT1W4/GHzextM3upcvti1WMP\nmdnrldtDYRa/ESO9RR0dJ3Vp7aG2dQ83NLMs8DTwGeACcMrMTrj7q6tm/VN3f3TVsoPAvwdmAQde\nrCz7TijVb9D+qQEuvnuNpeUoXl3iygymBxUQtQRZg7gPOOfu5939JnAceCDg838W+IG7X6mEwg+A\nw5srtXHdhRy7RnujenmJqdHeIp0dOrS6liAnLIwDb1bdvwB8ssZ8nzOz+4GfAr/r7m/WWXZ89YJm\ndhQ4CjAyMsLc3Fyg4jfDga5rCywv+23TM4vXKV4607TXDZNqDdfCBznmfln+v3J+fr6p378wtaLW\nIAFRa2DYV93/HvAn7n7DzB4Bvgl8OuCyuPsx4BjA7OysHzp0KEBZm3f+7XleOH/ltmnFS2e4PrSr\nqa8bFtUanlzG+PSB8Vt9L+bm5mj29y8srag1yCbGBWCy6v4EcLF6Bne/7O43Kne/DhwMumwUtg+V\n2NLd3tcalLJ2booTRJBP5hSww8y2m1kH8CBwonoGM9tWdfcI8Frl52eBXzezATMbAH69Mi1SZsaB\nKQ17iq5avZ51NzHcfdHMHqX8h50FnnH3V8zsSeC0u58AvmRmR4BF4ArwcGXZK2b2ZcohA/Cku1/5\n2ItEYLinwMyWLv7u8tWoS5GIFPPt3RQniEBXVXH3k8DJVdOeqPr5ceDxOss+AzzTQI1Ns2+qnwvv\nXGNx+WO7RaQNTG9p76Y4QbT1xldXR467xzTs2a60ebG+tg4IgF2jPZQKGgNvN2qKE0zbB0Qum2Hf\npLpytRuduRlM2wcElLdF8xrqais69yIY/VVUdOlQ27YxrKY4gSkgKrIZ445h/a/SDrYPdUVdQmIo\nIKrsnegnl9WwV5qVm+IoIIJSQFTp7MiyZ0yXp0uzsX41xdkIBcQqvzLaQ3dR26dppWMfNkYBsUo2\nY+zXsGcq5bNqirNRCogaJge7GO0rRF2GhGx6S0lNcTZIAVHHgakBTN+lVJnR6MWGKSDq6O/q4BNb\nu6MuQ0JSKmQZ7tZa4UYpINZwz3gfeQ17psLMlhKmVcINU0CsoZjPcu+Edlimgc692BwFxDp2bO2m\nt1PDnkk2WMrTp85qm6KAWEcmo8vTJZ1OzNo8BUQAY/2djPXr0mRJpKY4jVFABLR/agANoSePmuI0\nRgERUF9nnh0jPVGXIRukzYvGKCA24J7xPgo5fWRJkcsYEwM6tLoR+rZvQEcuw95Jne2ZFBMDnbpS\nWIP06W3QncPd9GvILBG0edE4BcQGmRkHpzXsGXfFfIbRXo08NUoBsQkjvUUmB7VtG2fTW7rUFCcE\nCohN2jfZr2HPGNs+pBPtwqCA2KSeYp5d29SVK47UFCc8CogG7B7rpbNDH2Hc6MSs8Ojb3YB8NsNe\nne0ZOxq9CI8CokHbh0panY0RNcUJlwKiQRr2jBc1xQmXAiIEwz0FZrboixk1NcUJnwIiJHsn+8lp\n3DNSaooTPgVESEqFHHdp2DNSaooTvkABYWaHzeysmZ0zs8fWmO/zZuZmNlu5P2Nm18zspcrta2EV\nHkd3beuhVND/YFFQU5zmWHd3r5llgaeBzwAXgFNmdsLdX101Xw/wJeCvVz3FG+6+L6R6Yy2XzbBv\nsp+/OHc56lLaztRgl5riNEGQNYj7gHPuft7dbwLHgQdqzPdl4Cngeoj1Jc70lhLDPeq/0GravGiO\nIAExDrxZdf9CZdotZrYfmHT379dYfruZ/djMnjezX918qcmhYc/WKhWyCuUmCXJESa31Nr/1oFkG\n+CrwcI353gKm3P2ymR0Evmtmu939/dtewOwocBRgZGSEubm5YNWHaH5+PtTX7bu5xI2FpdCer1pm\n8TrFS2ea8txha0WtHR1Znn/+9VCeK+zvQTO1otYgAXEBmKy6PwFcrLrfA+wB5iqdi0aBE2Z2xN1P\nAzcA3P1FM3sD2Amcrn4Bdz8GHAOYnZ31Q4cOberNNGJubo4wX/fazSW+95OLLC75+jNvUPHSGa4P\n7Qr9eZuhFbX+2j3bQut7Efb3oJlaUWuQTYxTwA4z225mHcCDwImVB939PXcfcvcZd58BXgCOuPtp\nMxuu7OTEzO4AdgDnQ38XMdTZkWX3mIY9m01NcZpr3YBw90XgUeBZ4DXg2+7+ipk9aWZH1ln8fuAn\nZvY3wJ8Bj7j7lUaLTopdo710F3VeQDPpxKzmCvTtdfeTwMlV056oM++hqp+/A3yngfoSLZsx9k/2\n8+evX4q6lFRSU5zm05GUTTY52MVIr/awN4Oa4jSfAqIFDk4PoM7z4dPmRfMpIFqgv6uDT2zVNRLD\npKY4raGAaJF7xvvIZ7UaERY1xWkNfcItUsxnuVeXpwuNNi9aQwHRQju2dtPbqWHPRqkpTusoIFoo\nkzEOTOk8jUapKU7rKCBabKy/k7F+/e/XCF3WvnUUEBHYPzWgrlyb1NuZY0u3jitpFQVEBPo68+wY\n6Ym6jETS2kNrKSAisme8l0JOH/9GTevq4S2lb2hECrks9070RV1Gogz3FOgp6szNVlJAROjO4W76\ndapyYOo90noKiAhlMurKFVTGYEoB0XIKiIiN9BZ1TkEAaooTDQVEDOyf6tew5zp01epoKCBioKeY\nZ5e6ctWlpjjRUUDExO6xXjo79OuoRU1xoqNvZEzksxn26mzPmrR5ER0FRIxsHyoxWOqIuoxYUVOc\naCkgYsTMODCttYhq01tKmK7XFxkFRMxs7SnqgKAq23XuRaQUEDG0d7KfnHbKqSlODCggYqhUyHGX\nhj2Z1tpD5BQQMXXXth662rjng5lO7Y4DBURM5bIZ9k227w5LNcWJBwVEjM0Mldp2iE/XfYgHBUTM\nHZhqv7WIXMaYHFRAxIECIua2dBfa7khCNcWJD/0WEmDfZD+5NurKpaY48aGASIDOjiy7x9pj2LOQ\nU1OcOFFAJMSu0V5KhfTv1Z8ZUlOcOFFAJES2Tbpy6diHeFFAJMjkYBcjvekd9uwpqilO3AQKCDM7\nbGZnzeycmT22xnyfNzM3s9mqaY9XljtrZp8No+h2dnB6AFK6Bt5uozVJsG6raTPLAk8DnwEuAKfM\n7IS7v7pqvh7gS8BfV027G3gQ2A2MAT80s53uvhTeW2gv/V0dFHNZrkddSBPo4Kj4CbIGcR9wzt3P\nu/tN4DjwQI35vgw8Bbd9dx8Ajrv7DXf/GXCu8nzSgM58lnzKhj3VFCeeggTEOPBm1f0LlWm3mNl+\nYNLdv7/RZWXjzOCelHXl0jUw4mndTQxqb/H6rQfNMsBXgYc3umzVcxwFjgKMjIwwNzcXoKxwzc/P\nR/K6mzE/P88vz/yI0rUFlpY/9nHGSmbxOsVLZ9acxwwuXO3gF6+1qKg1JO170OxagwTEBWCy6v4E\ncLHqfg+wB5irXBpsFDhhZkcCLAuAux8DjgHMzs76oUOHgr+DkMzNzRHF627GSq2/ePcaz599O+py\n1lS8dIbrQ7vWnGdioJP7dw63qKK1JfF70ExBNjFOATvMbLuZdVDe6Xhi5UF3f8/dh9x9xt1ngBeA\nI+5+ujLfg2ZWMLPtwA7g/4T+LtrUeH8n2/qTf9Shjn2Ir3UDwt0XgUeBZ4HXgG+7+ytm9mRlLWGt\nZV8Bvg28CvwP4Hc0ghGuA1MDie7Klc8a42o9GFtBNjFw95PAyVXTnqgz76FV9/8Q+MNN1ifr6OvM\ns2Okm7O/nI+6lE1RU5x405GUKbBnvI9CLpm/Sh0cFW/J/FbJbQq5LPcmcNhTTXHiTwGREncOd9Of\nsEvEqylO/CkgUiKTwLM91RQn/hQQKTLaV2QiISMCA11qipMECoiU2T/Vn4hhT11WLhkUECnTU8yz\nKwFduXRwVDIoIFJo91gvxXx8f7WjfQU1xUmI+H6LZNPy2Qx7Y9yVS2sPyaGASKk7hkoMluK3E1BN\ncZJFAZFSZsaB6fgNe6opTrLoN5ViW3uKsbuM27RGLxJFAZFy+yb7ycVk3LOQy7BNTXESRQGRcqVC\njl3beqIuA1BTnCRSQLSBu7f10hWDYcVpjV4kjgKiDeSyGfZFPOzZU8wxpKY4iaOAaBMzQyWGujsi\ne31d9yGZFBBt5GCEw55xG02RYBQQbWRLdyGS/8mHujvUFCehFBBtZt9kP7kWd+XS5kVyKSDaTGdH\nlt1jrTvb0wwdWp1gCog2tGu0l1KhNcOe+WyGYj76IVbZHAVEG8q28PJ0HQm92raU6bfXpiYHuxjp\nbe5xCfms0aETsxJNv702dmBqgGZeVHpK+x4STwHRxgZKHdw53N2059d1J5NPAdHm7p3oI9+EYc+u\njixb1RQn8RQQba6Yz3JPE7pyzQypKU4aKCCEnVt76CkG6uMc2IwOrU4FBYSUu3KFeJ7GQFee/q7o\nTgyT8CggBIDx/k629YdztSftnEwPBYTcEtawpy5rnx4KCLmlrzPPzpHGhj3VFCddFBBymz3jfRQa\nODxaaw/pooCQ2xRyWe7d5LBnLmNMDGj0Ik0CBYSZHTazs2Z2zsweq/H4I2b2spm9ZGb/28zurkyf\nMbNrlekvmdnXwn4DEr47h7vp79r4BV7GBzp1clbKrPvbNLMs8DTwG8DdwG+vBECVb7n7Pe6+D3gK\n+KOqx95w932V2yNhFS7Nk9nk2Z4avUifIHF/H3DO3c+7+03gOPBA9Qzu/n7V3RLg4ZUoURjtKzIx\n0Bl4fjXFSSdzX/tv2cw+Dxx29y9W7v8L4JPu/uiq+X4H+D2gA/i0u79uZjPAK8BPgfeBP3D3P6/x\nGkeBowAjIyMHjx8/3uDb2rj5+Xm6u5t34lKYWlXrsjvvXVtgna8IUD5ku1bvjSR9rpCsehup9VOf\n+tSL7j673nxBjq+tNTL+sa+Muz8NPG1mXwD+AHgIeAuYcvfLZnYQ+K6Z7V61xoG7HwOOAczOzvqh\nQ4cClBWuubk5onjdzWhlrT/++Tu89tYH6853/+6Rmn0vkvS5QrLqbUWtQTYxLgCTVfcngItrzH8c\n+E0Ad7/h7pcrP78IvAHs3FypEoXdY30U82t/TdQUJ72CBMQpYIeZbTezDuBB4ET1DGa2o+ruPwVe\nr0wfruzkxMzuAHYA58MoXFqjI5dh7zpduXTV6vRadxPD3RfN7FHgWSALPOPur5jZk8Bpdz8BPGpm\n/xhYAN6hvHkBcD/wpJktAkvAI+5+pRlvRJrnjqESr/+/D7jy4ULNx9UUJ70CnePr7ieBk6umPVH1\n87+ts9x3gO80UqBEz6x8tucPX/37jz2mpjjppqNaJJCtPcWaawravEg3BYQEtm+yn+qLVGfUFCf1\nFBASWKmQ465tH3Xl2tbfqaY4KaeAkA25e1vvrQOituvMzdRTQMiG5LIZ9k32k88aYyFdgUriK9wr\nlUpbmBkqsbjs5NQ1K/X0G5ZN+cTWZJyvII1RQIhIXQoIEalLASEidSkgRKQuBYSI1KWAEJG6FBAi\nUpcCQkTqUkCISF3rXtW61czsbeD/RvDSQ8ClCF53M1Rr8ySp3kZqnXb34fVmil1ARMXMTge5DHgc\nqNbmSVK9rahVmxgiUpcCQkTqUkB85FjUBWyAam2eJNXb9Fq1D0JE6tIahIjUlfqAMLPDZnbWzM6Z\n2WNrzPd5M3Mzm62a9nhlubNm9tk412tmM2Z2zcxeqty+FnWtZvawmb1dVdMXqx57yMxer9weWr1s\nzGpdqpp+YvWyUdRbmee3zOxVM3vFzL5VNT28z9bdU3uj3AnsDeAOyl3H/wa4u8Z8PcD/Al4AZivT\n7q7MXwC2V54nG+N6Z4C/jdNnCzwM/HGNZQcpt2AcBAYqPw/EsdbKY/Nx+95SbmP545XPDdjajM82\n7WsQ9wHn3P28u9+k3Fj4gRrzfRl4CrheNe0B4LiXGxD/DDhXeb641ttqQWut5bPAD9z9iru/A/wA\nONykOqGxWqMQpN5/Azxd+fxw95W2Z6F+tmkPiHHgzar7FyrTbjGz/cCku39/o8s2QSP1Amw3sx+b\n2fNm9qtNrBOCfz6fM7OfmNmfmdlKl/hWf7aN1ApQNLPTZvaCmf1mE+tcEaTencBOM/uLSl2HN7Bs\nYGkPCKsx7dawjZllgK8C/26jyzZJI/W+BUy5+37g94BvmVlvjfnCEuTz+R4w4+73Aj8EvrmBZcPU\nSK1Q/lxngS8A/9nM7mxOmbcEqTdHeTPjEPDbwDfMrD/gsoGlPSAuANX/E0wAF6vu9wB7gDkz+zvg\nHwAnKjv+1lu2GTZdb2VT6DKAu79IeRt2Z4S14u6X3f1G5e7XgYNBlw1ZI7Xi7hcr/54H5oD9TawV\ngn0+F4D/7u4LlU3gs5QDI9zPtpU7X1p9o5yy5ynvZFzZ2bN7jfnn+Gin325u30l5nubvpGyk3uGV\n+ijv3PoFMBhlrcC2qp//OfBC5edB4GeUd6INVH6Oa60DQKHy8xDwOjV2HEdQ72Hgm1V1vQlsCfuz\nbdqbjMsN+CfATyn/j/r7lWlPAkdqzHvrD65y//cry50FfiPO9QKfA16pfJl+BPyzqGsF/kNVTc8B\nu6qW/VeUd/yeA/5lXGsF/iHwcmX6y8C/jsP3gPKmxB8Br1bqerAZn62OpBSRutK+D0JEGqCAEJG6\nFBAiUpcCQkTqUkCISF0KCBGpSwEhInUpIESkrv8PsdvsBwy7vR8AAAAASUVORK5CYII=\n",
          "text/plain": "<matplotlib.figure.Figure at 0x11b6bf6a0>"
         },
         "metadata": {},
         "output_type": "display_data"
        }
       ]
      }
     },
     "8f896abcda43418694cc1bde9de7729e": {
      "model_module": "@jupyter-widgets/output",
      "model_module_version": "1.0.0",
      "model_name": "OutputModel",
      "state": {
       "layout": "IPY_MODEL_5c3bb48a835e42d5a3a87b484d8b8927",
       "outputs": [
        {
         "name": "stdout",
         "output_type": "stream",
         "text": "xy_transformed:\n [[ 0.65502158 -0.46382046]\n [ 0.41618293 -0.42259255]\n [ 0.58922187 -0.27777084]]\n"
        },
        {
         "data": {
          "image/png": "iVBORw0KGgoAAAANSUhEUgAAARAAAAD8CAYAAAC/+/tYAAAABHNCSVQICAgIfAhkiAAAAAlwSFlz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\n",
          "text/plain": "<matplotlib.figure.Figure at 0x11b0ba5c0>"
         },
         "metadata": {},
         "output_type": "display_data"
        }
       ]
      }
     },
     "8f91f86eecba4178816b4a82d10899b5": {
      "model_module": "@jupyter-widgets/controls",
      "model_module_version": "1.0.0",
      "model_name": "IntSliderModel",
      "state": {
       "description": "x",
       "layout": "IPY_MODEL_44b57dbca9a242e4af9a36e7df763db4",
       "max": 30,
       "min": -10,
       "style": "IPY_MODEL_0ea9fc9d413f493299d1ea195339246e",
       "value": 10
      }
     },
     "8f9307a404ee43d5be9cf6a78ec52617": {
      "model_module": "@jupyter-widgets/base",
      "model_module_version": "1.0.0",
      "model_name": "LayoutModel",
      "state": {}
     },
     "8fd2f4663ea3453781cd485157ebc4af": {
      "model_module": "@jupyter-widgets/base",
      "model_module_version": "1.0.0",
      "model_name": "LayoutModel",
      "state": {}
     },
     "8fe35edaf36a49ef82e07a0855435958": {
      "model_module": "@jupyter-widgets/base",
      "model_module_version": "1.0.0",
      "model_name": "LayoutModel",
      "state": {}
     },
     "903e007c975c43cb8065cdf15c1ad443": {
      "model_module": "@jupyter-widgets/base",
      "model_module_version": "1.0.0",
      "model_name": "LayoutModel",
      "state": {}
     },
     "907395babd9f4b439891f95f715ab949": {
      "model_module": "@jupyter-widgets/controls",
      "model_module_version": "1.0.0",
      "model_name": "SliderStyleModel",
      "state": {
       "description_width": ""
      }
     },
     "90ae4530c3e341b79ae1eb070070e603": {
      "model_module": "@jupyter-widgets/controls",
      "model_module_version": "1.0.0",
      "model_name": "VBoxModel",
      "state": {
       "_dom_classes": [
        "widget-interact"
       ],
       "children": [
        "IPY_MODEL_262ab424c1a24eddad3a9d2fd9e01417",
        "IPY_MODEL_79e2383a11ea4c119aa2f86b127314ec",
        "IPY_MODEL_ffa2e5509d414b78be93b610486068ff",
        "IPY_MODEL_18768278ae4a4f6ab1adedc38a87be78",
        "IPY_MODEL_94b4719071ba4fdaac44fc362c41d37a"
       ],
       "layout": "IPY_MODEL_265fd524cd1a40c4a41c38ac76b3af92"
      }
     },
     "90ddd7ab46b546149de1ca81ba6e3208": {
      "model_module": "@jupyter-widgets/base",
      "model_module_version": "1.0.0",
      "model_name": "LayoutModel",
      "state": {}
     },
     "910b294bb90a45e592e00c1abf7d1a0e": {
      "model_module": "@jupyter-widgets/controls",
      "model_module_version": "1.0.0",
      "model_name": "FloatSliderModel",
      "state": {
       "continuous_update": false,
       "description": "t_y",
       "layout": "IPY_MODEL_4790a1e9a23547d28d656fb0df938c83",
       "max": 1,
       "readout_format": ".1f",
       "step": 0.1,
       "style": "IPY_MODEL_f8ff7d42ae3346a7acfab26f71aaaabf",
       "value": 1
      }
     },
     "9154d749f2d248f0bec6d6066a9c74c5": {
      "model_module": "@jupyter-widgets/controls",
      "model_module_version": "1.0.0",
      "model_name": "SliderStyleModel",
      "state": {
       "description_width": ""
      }
     },
     "92005921395b48d29f8d4e7133139247": {
      "model_module": "@jupyter-widgets/controls",
      "model_module_version": "1.0.0",
      "model_name": "SliderStyleModel",
      "state": {
       "description_width": ""
      }
     },
     "921b3251995741de9b08d8f35abd6d2c": {
      "model_module": "@jupyter-widgets/base",
      "model_module_version": "1.0.0",
      "model_name": "LayoutModel",
      "state": {}
     },
     "9234f095e48a4cd28dfb02d446043882": {
      "model_module": "@jupyter-widgets/controls",
      "model_module_version": "1.0.0",
      "model_name": "SliderStyleModel",
      "state": {
       "description_width": ""
      }
     },
     "923d1dac547041399645060b5a12af28": {
      "model_module": "@jupyter-widgets/base",
      "model_module_version": "1.0.0",
      "model_name": "LayoutModel",
      "state": {}
     },
     "9263e4802a42499eaf89fe65a553df97": {
      "model_module": "@jupyter-widgets/output",
      "model_module_version": "1.0.0",
      "model_name": "OutputModel",
      "state": {
       "layout": "IPY_MODEL_d7e32e6ddbe54b839305af52763b2e93",
       "outputs": [
        {
         "name": "stdout",
         "output_type": "stream",
         "text": "xy_transformed:\n [[ 5.07022005  7.20324493]\n [ 0.90114375  3.02332573]\n [ 2.36755891  0.92338595]]\n"
        },
        {
         "data": {
          "image/png": "iVBORw0KGgoAAAANSUhEUgAAARMAAAD8CAYAAABUzEBbAAAABHNCSVQICAgIfAhkiAAAAAlwSFlz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\ncJiYWRIOEzNLwmFiZkn8P/4KqC6f52PYAAAAAElFTkSuQmCC\n",
          "text/plain": "<matplotlib.figure.Figure at 0x109ac04e0>"
         },
         "metadata": {},
         "output_type": "display_data"
        }
       ]
      }
     },
     "92b9b633e45541139e9d888567215317": {
      "model_module": "@jupyter-widgets/base",
      "model_module_version": "1.0.0",
      "model_name": "LayoutModel",
      "state": {}
     },
     "92e21b7bef0d42518e2fbb907f56e32c": {
      "model_module": "@jupyter-widgets/controls",
      "model_module_version": "1.0.0",
      "model_name": "SliderStyleModel",
      "state": {
       "description_width": ""
      }
     },
     "93628f0f098e44c682249c71ce7a7dbd": {
      "model_module": "@jupyter-widgets/base",
      "model_module_version": "1.0.0",
      "model_name": "LayoutModel",
      "state": {}
     },
     "9371f72428994930bbd5003ecad94508": {
      "model_module": "@jupyter-widgets/base",
      "model_module_version": "1.0.0",
      "model_name": "LayoutModel",
      "state": {}
     },
     "939f7cb841ca4410a5291dd5b472ba76": {
      "model_module": "@jupyter-widgets/controls",
      "model_module_version": "1.0.0",
      "model_name": "SliderStyleModel",
      "state": {
       "description_width": ""
      }
     },
     "93d2a49a27234936ad2ce4781a761e98": {
      "model_module": "@jupyter-widgets/controls",
      "model_module_version": "1.0.0",
      "model_name": "FloatSliderModel",
      "state": {
       "description": "t_x",
       "layout": "IPY_MODEL_15798567b39b4037ba93b93c411f7eb5",
       "max": 1,
       "step": 0.01,
       "style": "IPY_MODEL_8dbd0d9fce6d4568829bf415c1feb6e1",
       "value": 0.76
      }
     },
     "942227e78be84c8886acf0b37a669fd3": {
      "model_module": "@jupyter-widgets/controls",
      "model_module_version": "1.0.0",
      "model_name": "DescriptionStyleModel",
      "state": {
       "description_width": ""
      }
     },
     "9441a6c7ae33401da34bdd07490c833d": {
      "model_module": "@jupyter-widgets/base",
      "model_module_version": "1.0.0",
      "model_name": "LayoutModel",
      "state": {}
     },
     "947fb6eb053040e794242299d5d01b09": {
      "model_module": "@jupyter-widgets/controls",
      "model_module_version": "1.0.0",
      "model_name": "CheckboxModel",
      "state": {
       "description": "x",
       "disabled": false,
       "layout": "IPY_MODEL_34cac97a54c743cf9a2273251f37ccba",
       "style": "IPY_MODEL_2ef639380a014c8aaa7255f0abbd383b",
       "value": true
      }
     },
     "9489d40f172f4d4490ae191404a96efe": {
      "model_module": "@jupyter-widgets/controls",
      "model_module_version": "1.0.0",
      "model_name": "SliderStyleModel",
      "state": {
       "description_width": ""
      }
     },
     "94a892c231784d8db95cfce2f7c5f81c": {
      "model_module": "@jupyter-widgets/controls",
      "model_module_version": "1.0.0",
      "model_name": "IntSliderModel",
      "state": {
       "description": "N",
       "layout": "IPY_MODEL_e2b798cf4d354442b53d554d7765f348",
       "max": 9,
       "min": -3,
       "style": "IPY_MODEL_c2bb19799805415699e450624d83a51c",
       "value": 3
      }
     },
     "94b4719071ba4fdaac44fc362c41d37a": {
      "model_module": "@jupyter-widgets/output",
      "model_module_version": "1.0.0",
      "model_name": "OutputModel",
      "state": {
       "layout": "IPY_MODEL_efd2c9737b814360854b5a19ce175ce0",
       "outputs": [
        {
         "name": "stdout",
         "output_type": "stream",
         "text": "xy_original:\n [[ 0.68950928  0.57797539]\n [ 0.04968657  0.1790961 ]\n [ 0.50718443  0.4092611 ]]\nxy_transformed:\n [[ 0.68950928  0.57797539]\n [ 0.04968657  0.1790961 ]\n [ 0.50718443  0.4092611 ]]\n"
        },
        {
         "data": {
          "image/png": "iVBORw0KGgoAAAANSUhEUgAAAQIAAAD8CAYAAACcoKqNAAAABHNCSVQICAgIfAhkiAAAAAlwSFlz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\nAAAASUVORK5CYII=\n",
          "text/plain": "<matplotlib.figure.Figure at 0x11b07cc88>"
         },
         "metadata": {},
         "output_type": "display_data"
        },
        {
         "data": {
          "text/plain": "[<matplotlib.patches.Polygon at 0x11ba87c88>]"
         },
         "metadata": {},
         "output_type": "display_data"
        }
       ]
      }
     },
     "95381390604f4ee8a485f08b4376169a": {
      "model_module": "@jupyter-widgets/base",
      "model_module_version": "1.0.0",
      "model_name": "LayoutModel",
      "state": {}
     },
     "9557f34e85584ba8a94af9e8174d7fcd": {
      "model_module": "@jupyter-widgets/controls",
      "model_module_version": "1.0.0",
      "model_name": "VBoxModel",
      "state": {
       "_dom_classes": [
        "widget-interact"
       ],
       "children": [
        "IPY_MODEL_a6094f81cb284db6b7ea9655eed01755",
        "IPY_MODEL_6a62837c93cf4b138cd66629049f0bde",
        "IPY_MODEL_e9b7bc6e8a90480d87c248930d5eef12",
        "IPY_MODEL_727d546b0aa2488d9e7bfd72e11e11cb",
        "IPY_MODEL_81796da31cf14a8e8f3ee52d99d6357b"
       ],
       "layout": "IPY_MODEL_5fbfec9b9e7a4ccf82fa6ca6fc5b5305"
      }
     },
     "96058fb2e3684ddfb8c1b0e80b40e465": {
      "model_module": "@jupyter-widgets/controls",
      "model_module_version": "1.0.0",
      "model_name": "FloatSliderModel",
      "state": {
       "description": "t_x",
       "layout": "IPY_MODEL_11a29a9832a844b5be6f7227b034e08e",
       "max": 1,
       "step": 0.01,
       "style": "IPY_MODEL_117702683dee445490acb3062c34298e"
      }
     },
     "9667e2ba929e40bcb1f2b3f8c651c63d": {
      "model_module": "@jupyter-widgets/controls",
      "model_module_version": "1.0.0",
      "model_name": "VBoxModel",
      "state": {
       "_dom_classes": [
        "widget-interact"
       ],
       "children": [
        "IPY_MODEL_f6ac64e2c1874aa4a40cafe470ecc800",
        "IPY_MODEL_34ea6b6f93764ea8bfa74801198a7d01"
       ],
       "layout": "IPY_MODEL_cbee76b522d34f4f8c703640c7473f02"
      }
     },
     "96e1e3e413c04f47a5b5be657bba355f": {
      "model_module": "@jupyter-widgets/base",
      "model_module_version": "1.0.0",
      "model_name": "LayoutModel",
      "state": {}
     },
     "971259ce8d574b8cba06a55ccc74bd60": {
      "model_module": "@jupyter-widgets/controls",
      "model_module_version": "1.0.0",
      "model_name": "FloatSliderModel",
      "state": {
       "description": "t_y",
       "layout": "IPY_MODEL_83a12729f2d042318c84c2e9ce5b8d4c",
       "max": 10,
       "min": 1,
       "step": 0.1,
       "style": "IPY_MODEL_1e84e93a9e2d4f0d82d5f42cb755be02",
       "value": 1
      }
     },
     "97726b24f7ce4272bd6cf34c5c5db60c": {
      "model_module": "@jupyter-widgets/controls",
      "model_module_version": "1.0.0",
      "model_name": "FloatSliderModel",
      "state": {
       "description": "t_y",
       "layout": "IPY_MODEL_deb66204bfbd4ce58ed41434a2953009",
       "max": 1,
       "step": 0.01,
       "style": "IPY_MODEL_6f7cc034b48e41c79337b5d26b7e3058",
       "value": 0.84
      }
     },
     "989aeca43aa04900924c050a2f04cfe3": {
      "model_module": "@jupyter-widgets/controls",
      "model_module_version": "1.0.0",
      "model_name": "IntSliderModel",
      "state": {
       "description": "theta",
       "layout": "IPY_MODEL_24671012b12a4a368fa3efe35f12b6a8",
       "max": 360,
       "step": 10,
       "style": "IPY_MODEL_e5acf3cd239a4d5f8dda0b3da19e46f8"
      }
     },
     "9903e0e8f7bf4bb1a38d69cf57860e28": {
      "model_module": "@jupyter-widgets/controls",
      "model_module_version": "1.0.0",
      "model_name": "SliderStyleModel",
      "state": {
       "description_width": ""
      }
     },
     "99121a0b5da944fb925292f53393cacc": {
      "model_module": "@jupyter-widgets/controls",
      "model_module_version": "1.0.0",
      "model_name": "SliderStyleModel",
      "state": {
       "description_width": ""
      }
     },
     "99276b5b7ac94690b2fdecb9fd261892": {
      "model_module": "@jupyter-widgets/base",
      "model_module_version": "1.0.0",
      "model_name": "LayoutModel",
      "state": {}
     },
     "994667823eaa47d7ac76b140b9419c27": {
      "model_module": "@jupyter-widgets/controls",
      "model_module_version": "1.0.0",
      "model_name": "SliderStyleModel",
      "state": {
       "description_width": ""
      }
     },
     "994745e4ded74718bf2b9b3245b65794": {
      "model_module": "@jupyter-widgets/base",
      "model_module_version": "1.0.0",
      "model_name": "LayoutModel",
      "state": {}
     },
     "99a432066e734732912fa306ae8f6859": {
      "model_module": "@jupyter-widgets/controls",
      "model_module_version": "1.0.0",
      "model_name": "BoundedFloatTextModel",
      "state": {
       "description": "Text:",
       "layout": "IPY_MODEL_f05f061cc1774d3388b713ce3354313b",
       "max": 10,
       "step": 0.001,
       "style": "IPY_MODEL_41e80193502a4f2ab5cd62530e0f1911",
       "value": 7.533
      }
     },
     "9a83b414bcc04fdc89165cc79248be11": {
      "model_module": "@jupyter-widgets/controls",
      "model_module_version": "1.0.0",
      "model_name": "FloatSliderModel",
      "state": {
       "description": "t_x",
       "layout": "IPY_MODEL_b412d8e579b54255b4f8b768db1a22b6",
       "max": 1,
       "step": 0.01,
       "style": "IPY_MODEL_80a9b7f41a5446ecac2c5913fcda6097",
       "value": 0.9
      }
     },
     "9abb68bf63124f55af4a59e048a34152": {
      "model_module": "@jupyter-widgets/base",
      "model_module_version": "1.0.0",
      "model_name": "LayoutModel",
      "state": {}
     },
     "9b0f490e86e248d2bc4ed23a22b8de61": {
      "model_module": "@jupyter-widgets/base",
      "model_module_version": "1.0.0",
      "model_name": "LayoutModel",
      "state": {}
     },
     "9b11eced03e9452b8681a334cb30c1f5": {
      "model_module": "@jupyter-widgets/base",
      "model_module_version": "1.0.0",
      "model_name": "LayoutModel",
      "state": {}
     },
     "9b4bba53bab2457da7d38e626adcb80a": {
      "model_module": "@jupyter-widgets/base",
      "model_module_version": "1.0.0",
      "model_name": "LayoutModel",
      "state": {}
     },
     "9b5b8620278b4ff69f52f3dc7d116731": {
      "model_module": "@jupyter-widgets/controls",
      "model_module_version": "1.0.0",
      "model_name": "IntSliderModel",
      "state": {
       "description": "N",
       "layout": "IPY_MODEL_ba3e74e4fb52402d9685b1ecbbaa2f99",
       "max": 10,
       "min": 3,
       "style": "IPY_MODEL_452fd9a2b6754586ab5041d177387528",
       "value": 3
      }
     },
     "9bdfe499077f41b4a92b7bbe4c6016f7": {
      "model_module": "@jupyter-widgets/controls",
      "model_module_version": "1.0.0",
      "model_name": "SliderStyleModel",
      "state": {
       "description_width": ""
      }
     },
     "9c4e295c0e844fc8b18b093403bd5acc": {
      "model_module": "@jupyter-widgets/controls",
      "model_module_version": "1.0.0",
      "model_name": "SliderStyleModel",
      "state": {
       "description_width": ""
      }
     },
     "9c6cff13d5fd4d4389054b458dec6288": {
      "model_module": "@jupyter-widgets/controls",
      "model_module_version": "1.0.0",
      "model_name": "VBoxModel",
      "state": {
       "_dom_classes": [
        "widget-interact"
       ],
       "children": [
        "IPY_MODEL_6fe09d644d394d428a9131693605c2f3",
        "IPY_MODEL_c3ab3f6efb1f4cdfa458ed8ee35c821f",
        "IPY_MODEL_2240d43fc93e436f94e4addf9f248be5",
        "IPY_MODEL_b0b4d8a5e6e841f7befbba0e7fd5a827",
        "IPY_MODEL_069fef6ca9cc4bf7994991a15052eaa2"
       ],
       "layout": "IPY_MODEL_e97f7abf561b4c5f805f0d24d98987c7"
      }
     },
     "9c8920f6b99249b7a1d4d748547406f1": {
      "model_module": "@jupyter-widgets/base",
      "model_module_version": "1.0.0",
      "model_name": "LayoutModel",
      "state": {}
     },
     "9cfe114b258b4f7bbe55759d3a757ca1": {
      "model_module": "@jupyter-widgets/base",
      "model_module_version": "1.0.0",
      "model_name": "LayoutModel",
      "state": {
       "height": "400px"
      }
     },
     "9d1183e130bf4d85bc6c58e8359724ed": {
      "model_module": "@jupyter-widgets/controls",
      "model_module_version": "1.0.0",
      "model_name": "FloatSliderModel",
      "state": {
       "description": "t_y",
       "layout": "IPY_MODEL_f8ef47cc7c034e9d9a2339ff0ddbf1b2",
       "max": 1,
       "step": 0.01,
       "style": "IPY_MODEL_a947e3b2be5b41f4afbf945e5519c189"
      }
     },
     "9d4e45bdcc14472b8d04b4742f377279": {
      "model_module": "@jupyter-widgets/controls",
      "model_module_version": "1.0.0",
      "model_name": "FloatSliderModel",
      "state": {
       "description": "m",
       "layout": "IPY_MODEL_8ae5b8ae4dc04a31a02649a453aa3d49",
       "max": 2,
       "min": -2,
       "step": 0.1,
       "style": "IPY_MODEL_21548327135d442489d1e375d35cdfdf",
       "value": -1
      }
     },
     "9d9b7b2183f147a4909b7f70a400579d": {
      "model_module": "@jupyter-widgets/controls",
      "model_module_version": "1.0.0",
      "model_name": "VBoxModel",
      "state": {
       "_dom_classes": [
        "widget-interact"
       ],
       "children": [
        "IPY_MODEL_7bb8ce2062c64759bf4f7aaab2ddc398",
        "IPY_MODEL_63a22c41410145e5b79fb17af6306b85",
        "IPY_MODEL_af2d1362501b43419e0f4123c5f7e6f6",
        "IPY_MODEL_2e73ccf4023f4632b45531dfb01c6411",
        "IPY_MODEL_0c055b4cf2e143cf984d598da3965018"
       ],
       "layout": "IPY_MODEL_b75b34da93274f588bb9f2ad4b5d5d81"
      }
     },
     "9dd49eda962d4711aabde766c35aee83": {
      "model_module": "@jupyter-widgets/base",
      "model_module_version": "1.0.0",
      "model_name": "LayoutModel",
      "state": {
       "height": "350px"
      }
     },
     "9dd8701d9bb749e68c5d147f795b4fce": {
      "model_module": "@jupyter-widgets/base",
      "model_module_version": "1.0.0",
      "model_name": "LayoutModel",
      "state": {}
     },
     "9f2438ae8eb7418babf5901c70d18e3c": {
      "model_module": "@jupyter-widgets/output",
      "model_module_version": "1.0.0",
      "model_name": "OutputModel",
      "state": {
       "layout": "IPY_MODEL_4bba291d54c7408b90a8256bb3b31ea1",
       "outputs": [
        {
         "data": {
          "text/plain": "'Hi there!'"
         },
         "metadata": {},
         "output_type": "display_data"
        }
       ]
      }
     },
     "9f871d04883e4b008666fe66b7085148": {
      "model_module": "@jupyter-widgets/controls",
      "model_module_version": "1.0.0",
      "model_name": "FloatTextModel",
      "state": {
       "layout": "IPY_MODEL_8c68d7d321ee442fa0f67c79f3966872",
       "step": null,
       "style": "IPY_MODEL_5e11f7628f284347891a5cbddaa26295"
      }
     },
     "9faef86717d34e6798368957f336b069": {
      "model_module": "@jupyter-widgets/base",
      "model_module_version": "1.0.0",
      "model_name": "LayoutModel",
      "state": {}
     },
     "9fcb961c81744fe48ab8a9c779c14fc1": {
      "model_module": "@jupyter-widgets/controls",
      "model_module_version": "1.0.0",
      "model_name": "IntSliderModel",
      "state": {
       "description": "theta",
       "layout": "IPY_MODEL_ddfb0cd1709949729f66d1c7ce779db2",
       "max": 360,
       "step": 10,
       "style": "IPY_MODEL_92e21b7bef0d42518e2fbb907f56e32c",
       "value": 40
      }
     },
     "a131d1f8dbb64d9a98c324e014d28c1a": {
      "model_module": "@jupyter-widgets/controls",
      "model_module_version": "1.0.0",
      "model_name": "SliderStyleModel",
      "state": {
       "description_width": ""
      }
     },
     "a1a7a216129c4d93b8f520eb53b8e3e2": {
      "model_module": "@jupyter-widgets/controls",
      "model_module_version": "1.0.0",
      "model_name": "SliderStyleModel",
      "state": {
       "description_width": ""
      }
     },
     "a1aee42c448f4b3780279e20e1e7cc07": {
      "model_module": "@jupyter-widgets/controls",
      "model_module_version": "1.0.0",
      "model_name": "SliderStyleModel",
      "state": {
       "description_width": ""
      }
     },
     "a210bf1cb96848d7a48e78ae270aa585": {
      "model_module": "@jupyter-widgets/controls",
      "model_module_version": "1.0.0",
      "model_name": "VBoxModel",
      "state": {
       "_dom_classes": [
        "widget-interact"
       ],
       "children": [
        "IPY_MODEL_0dad3002ac60483cb722e7d2e6764a39",
        "IPY_MODEL_d29e56d5fc4640c6bf54d500294d6a5a",
        "IPY_MODEL_971259ce8d574b8cba06a55ccc74bd60",
        "IPY_MODEL_c9a3e7f7c1224c718614071fd6172b29",
        "IPY_MODEL_8061ecbdf0d1486e9915b6a456f824fb"
       ],
       "layout": "IPY_MODEL_69fecde070e04d6a8bb0b9f16376fb5f"
      }
     },
     "a2d6abc0752844f5bfd43db45eea56ed": {
      "model_module": "@jupyter-widgets/controls",
      "model_module_version": "1.0.0",
      "model_name": "FloatSliderModel",
      "state": {
       "description": "t_x",
       "layout": "IPY_MODEL_519c606a30bd429286b57ffc093b47d6",
       "max": 1,
       "step": 0.01,
       "style": "IPY_MODEL_592183051ba3465e89a3a88a8b657610"
      }
     },
     "a343170e165c407784eb111429495a6e": {
      "model_module": "@jupyter-widgets/controls",
      "model_module_version": "1.0.0",
      "model_name": "FloatSliderModel",
      "state": {
       "continuous_update": false,
       "description": "Test:",
       "layout": "IPY_MODEL_6573636d04184310a9a8bc0e089214ad",
       "max": 10,
       "readout_format": ".1f",
       "step": 0.1,
       "style": "IPY_MODEL_9903e0e8f7bf4bb1a38d69cf57860e28",
       "value": 10
      }
     },
     "a39deb2d58a9473ba39154ac6d7c7fb9": {
      "model_module": "@jupyter-widgets/base",
      "model_module_version": "1.0.0",
      "model_name": "LayoutModel",
      "state": {}
     },
     "a3b40840598b4f9894df3ff653f61440": {
      "model_module": "@jupyter-widgets/base",
      "model_module_version": "1.0.0",
      "model_name": "LayoutModel",
      "state": {
       "height": "400px"
      }
     },
     "a3da07ca43214abcac8388240112125a": {
      "model_module": "@jupyter-widgets/controls",
      "model_module_version": "1.0.0",
      "model_name": "FloatSliderModel",
      "state": {
       "description": "t_x",
       "layout": "IPY_MODEL_0d33a65cd2324f279bcff210d827da25",
       "max": 1,
       "step": 0.01,
       "style": "IPY_MODEL_be8d9740e8c64613becf986e3d74e22d"
      }
     },
     "a4b22559e6a248499206e92e9ec09cee": {
      "model_module": "@jupyter-widgets/output",
      "model_module_version": "1.0.0",
      "model_name": "OutputModel",
      "state": {
       "layout": "IPY_MODEL_ae5bcea059b640428a0d9d073f30c07c",
       "outputs": [
        {
         "name": "stdout",
         "output_type": "stream",
         "text": "xy_transformed:\n [[ 5.17022005  8.20324493]\n [ 1.00114375  4.02332573]\n [ 2.46755891  1.92338595]]\n"
        },
        {
         "data": {
          "image/png": "iVBORw0KGgoAAAANSUhEUgAAARMAAAD8CAYAAABUzEBbAAAABHNCSVQICAgIfAhkiAAAAAlwSFlz\nAAALEgAACxIB0t1+/AAAADl0RVh0U29mdHdhcmUAbWF0cGxvdGxpYiB2ZXJzaW9uIDIuMS4wLCBo\ndHRwOi8vbWF0cGxvdGxpYi5vcmcvpW3flQAAExxJREFUeJzt3X+MXFd5xvHvs7/tXTv+7SS2o0bC\nWimgEjWWUxRVsgmYEEFNUGidPyCFVFBEqlalEqFIgIgqAYVGtKGAAYu0Kkks2ggL3CRuihuQCiRG\nBmKSTYxxycZWXCchZAnE2d23f8zdMJ7M7O7snLMzc/18pNXOvffMzDmZ9ZN777lzX0UEZmat6ml3\nB8ysHBwmZpaEw8TMknCYmFkSDhMzS8JhYmZJJAkTSXsknZL0UNW6VZIOSHqs+L2ywXOvL9o8Jun6\nFP0xs8WXas/kK8BVNetuAu6LiM3AfcXyWSStAj4CXA5sBT7SKHTMrLMlCZOIuB94umb1TuC24vFt\nwFvqPPUNwIGIeDoingEO8PJQMrMu0JfxtddHxEmAiDgpaV2dNhuAx6uWx4t1LyPp3cC7AYaGhi67\n6KKLEne3/aanp+npKd9prLKOC8o7tkcfffR0RKxt5jk5w2Q+VGdd3ev7I2I3sBtgdHQ0xsbGcvar\nLQ4ePMi2bdva3Y3kyjouKO/YJP1vs8/JGalPSroAoPh9qk6bcWBT1fJG4ETGPplZJjnDZB8wMztz\nPfD1Om3uAXZIWlmceN1RrDOzLpNqavh24H+AUUnjkm4APg68XtJjwOuLZSRtkfQlgIh4GrgZeKD4\n+Vixzsy6TJJzJhFxXYNNV9Zp+yDwp1XLe4A9KfphZu1TvtPQZtYWDhMzS8JhYmZJOEzMLAmHiZkl\n4TAxsyQcJmaWhMPEzJJwmJhZEg4TM0vCYWJmSThMzCwJh4mZJeEwMbMkHCZmLQjgVy9MtrsbHcFh\nYrZAZyanOTM5zdKB3nZ3pSM4TMwW4MzkND87/St6e4RU777o5x6HiVmTZoLkxalpenscJDOyhomk\nUUmHq35+Kekva9psk/RsVZsP5+yTWStenKoEyZnJac5b0l+3Vsu5KmvdnIgYAy4FkNQLPAHcVafp\ntyPiTTn7YtaqF6emOfZ/lSABWD0ywE/b3KdOspiHOVcCP42Ipov7mLVbbZAsGehl6UC7a9h1lsUM\nk13A7Q22vUbSDyX9h6RXLmKfzOZUGyQAa0YG2tijzqSIutU4076JNEClUt8rI+LJmm3LgemImJB0\nNfCZiNhc5zVeqjW8du3ay/bu3Zu934ttYmKCkZGRdncjuW4eV1A54Tpd9e9EiKH+yv+Hu3lss9m+\nffuhiNjSzHMWK0x2Au+LiB3zaHsc2BIRpxu1ca3h7tKt45o52frCi9NnrV+/fJB1y4eA7h3bXCQ1\nHSaLdZhzHQ0OcSSdr2KiXtLWok9PLVK/zOpqFCQSrBr2IU492c8gSVpKpTzoe6rW/RlARHweuBZ4\nr6RJ4NfArliM3SWzBhoFCcB5S/rp6/XlWfVkD5OIeB5YXbPu81WPbwVuzd0Ps/mYLUgA1owMLnKP\nuocj1qwwV5AsHexlib+H05DDxIy5gwRgzbD3SmbjMLFz3nyCpK9XLF/ii9Rm4zCxc9p8ggRg9fCA\nvx08B4eJnbPmGySeDp4fh4mdk+YbJODp4PnyfyE75zQTJODp4PlymNg5ZbLJIPF08Pw5TOycMTk1\nzbEmggQ8HdwMh4mdE5rdIwHo7/N0cDMcJlZ6M0HymyaCBCozOJ4Onj+HiZXaQoNEglVLPR3cDIeJ\nldZCgwRgxVJPBzfL/7WslFoJEvB08EI4TKx0Wg2S4cFehvo9Hdwsh4mVSqtBArDaeyUL4jCx0kgR\nJP19YvmQp4MXwmFipZAiSABWDw96OniBHCbW9VIFib8d3JrsYSLpuKQfF3WEH6yzXZL+QdJRST+S\n9Hu5+2TlkSpIAFYOD7gQeQsW6+Bw+yx1cN4IbC5+Lgc+V/w2m1XKIIHKDZBs4TrhMGcn8M9R8V1g\nhaQL2t0p62yTU9McfypdkHg6uHWLsWcSwL2SAvhCROyu2b4BeLxqebxYd7K6UU15UA4ePJitw+0y\nMTHhcc3TCzUlO1s10NfDzxdw4rWsn9lCLEaYXBERJyStAw5IeiQi7q/aXu8TfNlfSRFCu6FSHrSM\nJRnLWmoy5bhm9kh+fSbNHglUgmT0/GULem5ZP7OFyH6YExEnit+ngLuArTVNxoFNVcsbqRQ5NztL\njiABz+CkkjVMJA1LWjbzGNgBPFTTbB/wjmJW5/eBZyPiJGZVcgWJp4PTyX2Ysx64q7gIqA/4akTc\nXVNreD9wNXAUeB54Z+Y+WZeZmo4sQQKeDk4pa5hExDHg1XXWV9caDuB9Ofth3WtqOvjZ6YksQQKe\nDk6pE6aGzerKHSQjQ32eDk7IYWIdKXeQAKwe8V5JSg4T6ziLESQDfT0sH+rP9vrnIoeJdZTFCBLw\nXkkODhPrKE9NvJA9SHp6YKVvFp2cw8Q6ypqRQQb78/5Zrlzq6eAcHCbWUXp6xMaVS8h5fyIf4uTh\nMLGOs3Sgj3XL8tyHddlQH4N9ng7OwWFiHWntssEsBcO9V5KPw8Q6kiQ2rUp7uDPY38MyTwdn4zCx\njjXY18uFK5Ykez1fOp+Xw8Q62qrhAZYlKD3h6eD8HCbW8TauXNLyVO6q4QF6PB2clcPEOl5fbw8b\nV7V2uON7luTnMLGusHyon5XDCzt56ungxeEwsa5x4XlLGOhr/k/W08GLw2FiXaOnp/npYk8HLx6H\niXWVpQN9rG3i6lhPBy+ebGEiaZOkb0l6WNIRSX9Rp802Sc8WpUMPS/pwrv5Yeayb59Wxng5eXDnv\nATsJvD8iflDcof6QpAMR8ZOadt+OiDdl7IeVjFT5MuDRUxPMVofL08GLK9ueSUScjIgfFI+fAx6m\nUqnPrGVD/b1ccN5Qw+0SrB7O82VBq0+RsMRiwzeRfge4H3hVRPyyav024N+oFOI6Afx1RBxp8BrV\n5UEv27t3b95Ot8HExAQjIyPt7kZyOcd1ZnKaqTp/w709YqA3/ynBsn5m27dvPxQRW5p5TvYwkTQC\n/DfwtxHx7zXblgPTETEh6WrgMxGxea7XHB0djbGxsTwdbqOylprMOa4Xp6Z57MkJpqbP/ju+eO0w\nI4P5q9+W9TOT1HSY5K7o109lz+Nfa4MEICJ+GRETxeP9QL+kNTn7ZOXS39vDhpVnXx071N+zKEFi\nZ8s5myPgy8DDEfH3DdqcX7RD0taiP0/l6pOV03lL+lmx9LfXkqwe8bmSdsgZ31cAbwd+LOlwse5v\ngIvgpap+1wLvlTQJ/BrYFYtxEsdK58IVS3j+zBRT08GKJb5IrR2yhUlEfAeYdV4uIm4Fbs3VBzt3\n9Bb3jn3uN5OeDm4TH1haaQwP9rE0w60ebX58Ob2VinLe1t5m5TAxsyQcJmaWhMPEzJJwmJhZEg4T\nM0vCYWJmSThMzCwJh4mZJeEwMbMkHCZmloTDxMyScJiYWRIOEzNLwmFiZkk4TMwsCYeJmSWRPUwk\nXSVpTNJRSTfV2T4o6c5i+/eKGjtm1mVyl7roBT4LvBG4BLhO0iU1zW4AnomIVwC3AJ/I2SczyyP3\nnslW4GhEHIuIM8AdwM6aNjuB24rHXwOulO+9Z9Z1ct9QegPweNXyOHB5ozYRMSnpWWA1cLq6UU15\nUA4ePJipy+0zMTHhcXWZMo+tWbnDpN4eRm1dnPm0ISJ2A7uhUh60jCUZy1pqsqzjgnKPrVm5D3PG\ngU1VyxupFCiv20ZSH3Ae8HTmfplZYrnD5AFgs6SLJQ0Au4B9NW32AdcXj68F/stV/cy6T9bDnOIc\nyI3APUAvsCcijkj6GPBgROyjUo/4XyQdpbJHsitnn8wsj+wV/SJiP7C/Zt2Hqx7/Bnhb7n6YWV6+\nAtbMknCYmFkSDhMzS8JhYmZJOEzMLAmHiZkl4TAxsyQcJmaWhMPEzJJwmJhZEg4TM0vCYWJmSThM\nzCwJh4mZJeEwMbMkHCZmloTDxMyScJiYWRJZbtso6e+ANwNngJ8C74yIX9Rpdxx4DpgCJiNiS47+\nmFl+ufZMDgCviojfBR4FPjhL2+0RcamDxKy7ZQmTiLg3IiaLxe9SqZdjZiWW/e70wLuAOxtsC+Be\nSQF8oajaV5fLg3avso4Lyj22Zmmh9a4k/Sdwfp1NH4qIrxdtPgRsAd5ar7CWpAsj4oSkdVQOjf48\nIu6f671HR0djbGxsQf3uZGUtNVnWcUF5xybpULOnHha8ZxIRr5ujM9cDbwKubFShLyJOFL9PSboL\n2ArMGSZm1nmynDORdBXwAeAPI+L5Bm2GJS2beQzsAB7K0R8zyy/XbM6twDLggKTDkj4PlcMaSTPV\n/dYD35H0Q+D7wDcj4u5M/TGzzLKcgI2IVzRYfwK4unh8DHh1jvc3s8XnK2DNLAmHiZkl4TAxsyQc\nJmaWhMPEzJJwmJhZEg4TM0vCYWJmSThMzCwJh4mZJeEwMbMkHCZmloTDxMyScJiYWRIOEzNLwmFi\nZkk4TMwsCYeJmSWRLUwkfVTSE8U9YA9LurpBu6skjUk6KummXP0xs7xyF+G6JSI+1WijpF7gs8Dr\ngXHgAUn7IuInmftlZom1+zBnK3A0Io5FxBngDmBnm/tkZguQe8/kRknvAB4E3h8Rz9Rs3wA8XrU8\nDlxe74VcHrR7lXVcUO6xNaulMJmtRCjwOeBmKvWEbwY+TaXu8FkvUee5jar/7QZ2Q6U8aBlLMpa1\n1GRZxwXlHluzWgqTuUqEzpD0ReAbdTaNA5uqljcCJ1rpk5m1R87ZnAuqFq+hfunPB4DNki6WNADs\nAvbl6pOZ5ZPznMknJV1K5bDlOPAeqJQIBb4UEVdHxKSkG4F7gF5gT0QcydgnM8skW5hExNsbrH+p\nRGixvB/YX6+tmXWPdk8Nm1lJOEzMLAmHiZkl4TAxsyQcJmaWhMPEzJJwmJhZEg4TM0vCYWJmSThM\nzCwJh4mZJeEwMbMkHCZmloTDxMyScJiYWRIOEzNLwmFiZkk4TMwsiSy3bZR0JzBaLK4AfhERl9Zp\ndxx4DpgCJiNiS47+mFl+WcIkIv545rGkTwPPztJ8e0ScztEPM1s8WSv6SRLwR8Brc76PmbVf7nMm\nfwA8GRGPNdgewL2SDhXlP82sSy14z2S20qAR8fXi8XXA7bO8zBURcULSOuCApEci4v4G7+daw12q\nrOOCco+tWYqoW9q39ReW+oAngMsiYnwe7T8KTETEp+ZqOzo6GmNjY613ssOUtW5tWccF5R2bpEPN\nTojkPMx5HfBIoyCRNCxp2cxjYAf1S4iaWRfIGSa7qDnEkXShpJnqfeuB70j6IfB94JsRcXfG/phZ\nRjnLg/5JnXUvlQaNiGPAq3O9v5ktLl8Ba2ZJOEzMLAmHiZkl4TAxsyQcJmaWhMPEzJJwmJhZEg4T\nM0vCYWJmSThMzCwJh4mZJeEwMbMkHCZmloTDxMyScJiYWRIOEzNLwmFiZkk4TMwsCYeJmSXRUphI\nepukI5KmJW2p2fZBSUcljUl6Q4PnXyzpe5Iek3SnpIFW+mNm7dPqnslDwFuBswpnSbqEyt3pXwlc\nBfyTpN46z/8EcEtEbAaeAW5osT9m1iYthUlEPBwR9aph7QTuiIgXIuJnwFFga3WDog7xa4GvFatu\nA97SSn/MrH1ylbrYAHy3anm8WFdtNfCLiJicpc1LqsuDAi9IKmPBrjXA6XZ3IoOyjgvKO7bRZp8w\nZ5jMs6bwy55WZ11tHdL5tPnthojdwO6iTw82W7qwG3hc3aesY5P0YLPPmTNMIuJ1C+jLOLCpankj\ncKKmzWlghaS+Yu+kXhsz6xK5pob3AbskDUq6GNhMpQToS6JSMf1bwLXFquuBRns6ZtbhWp0avkbS\nOPAa4JuS7gGIiCPAXuAnwN3A+yJiqnjOfkkXFi/xAeCvJB2lcg7ly/N8692t9LuDeVzdp6xja3pc\nquwgmJm1xlfAmlkSDhMzS6JrwqTVS/e7haSPSnpC0uHi5+p296kVkq4qPpejkm5qd39SkXRc0o+L\nz6jpadROImmPpFPV125JWiXpQPFVlwOSVs71Ol0TJrR+6X43uSUiLi1+9re7MwtVfA6fBd4IXAJc\nV3xeZbG9+Iy6/TqTr1D5t1PtJuC+4qsu9xXLs+qaMGnl0n1rm63A0Yg4FhFngDuofF7WQSLifuDp\nmtU7qXzFBeb5VZeuCZNZbAAer1qe9bL8LnGjpB8Vu59z7l52sDJ+NjMCuFfSoeKrHmWzPiJOAhS/\n1831hFzfzVmQjJfud5TZxgl8DriZyhhuBj4NvGvxepdU1302TbgiIk5IWgcckPRI8X/4c1ZHhUnG\nS/c7ynzHKemLwDcydyenrvts5isiThS/T0m6i8ohXZnC5ElJF0TESUkXAKfmekIZDnPmvHS/mxQf\n3IxrqJx47lYPAJuLm2ANUDlRvq/NfWqZpGFJy2YeAzvo7s+pnn1UvuIC8/yqS0ftmcxG0jXAPwJr\nqVy6fzgi3hARRyTNXLo/SdWl+13qk5IupXI4cBx4T3u7s3ARMSnpRuAeoBfYU3zVotutB+6q3JKH\nPuCrEXF3e7u0cJJuB7YBa4qvx3wE+DiwV9INwM+Bt835Or6c3sxSKMNhjpl1AIeJmSXhMDGzJBwm\nZpaEw8TMknCYmFkSDhMzS+L/Ae1UwbwjRomNAAAAAElFTkSuQmCC\n",
          "text/plain": "<matplotlib.figure.Figure at 0x109ac0630>"
         },
         "metadata": {},
         "output_type": "display_data"
        }
       ]
      }
     },
     "a4b3903d92674e41901fdb61fc94f6e3": {
      "model_module": "@jupyter-widgets/base",
      "model_module_version": "1.0.0",
      "model_name": "LayoutModel",
      "state": {}
     },
     "a4bc9d17e2274d449f55afe9ba5e9c80": {
      "model_module": "@jupyter-widgets/base",
      "model_module_version": "1.0.0",
      "model_name": "LayoutModel",
      "state": {}
     },
     "a53a8544551b437fb71a24f8107c8964": {
      "model_module": "@jupyter-widgets/base",
      "model_module_version": "1.0.0",
      "model_name": "LayoutModel",
      "state": {}
     },
     "a563029b299a4cf1a715681de0b84b8a": {
      "model_module": "@jupyter-widgets/controls",
      "model_module_version": "1.0.0",
      "model_name": "IntSliderModel",
      "state": {
       "description": "theta",
       "layout": "IPY_MODEL_0cd04c324faa4590ae54247cc9407626",
       "max": 360,
       "step": 10,
       "style": "IPY_MODEL_607bacd655304e16aad20fcf2e493052"
      }
     },
     "a5845011372241adbe7c533bae6b408b": {
      "model_module": "@jupyter-widgets/controls",
      "model_module_version": "1.0.0",
      "model_name": "SliderStyleModel",
      "state": {
       "description_width": ""
      }
     },
     "a5fad6b666704f25aefa5cfe47bf22b1": {
      "model_module": "@jupyter-widgets/controls",
      "model_module_version": "1.0.0",
      "model_name": "SliderStyleModel",
      "state": {
       "description_width": ""
      }
     },
     "a6094f81cb284db6b7ea9655eed01755": {
      "model_module": "@jupyter-widgets/controls",
      "model_module_version": "1.0.0",
      "model_name": "IntSliderModel",
      "state": {
       "description": "N",
       "layout": "IPY_MODEL_0d7e2c3a731f445ab51c579ef2598345",
       "max": 10,
       "min": 3,
       "style": "IPY_MODEL_5433606e1a5845558bb2c4997d4fdb9d",
       "value": 3
      }
     },
     "a67b81f3067f49c7bc4247ba83ec2045": {
      "model_module": "@jupyter-widgets/controls",
      "model_module_version": "1.0.0",
      "model_name": "IntSliderModel",
      "state": {
       "description": "x",
       "layout": "IPY_MODEL_c47c04ad6bb147ff83fdb038b613967c",
       "max": 30,
       "min": -10,
       "style": "IPY_MODEL_fb3094f680b148bea60584d6f5571f95",
       "value": 10
      }
     },
     "a6a12fc8dd9a4a37a51c715704186617": {
      "model_module": "@jupyter-widgets/output",
      "model_module_version": "1.0.0",
      "model_name": "OutputModel",
      "state": {
       "layout": "IPY_MODEL_b5c10e961e0c430aa29d4359747c9eea",
       "outputs": [
        {
         "name": "stdout",
         "output_type": "stream",
         "text": "xy_transformed:\n [[-4.2314447  -2.47741266]\n [ 1.47300967 -3.99797904]\n [ 2.55840329 -1.67805637]]\n"
        },
        {
         "data": {
          "image/png": "iVBORw0KGgoAAAANSUhEUgAAAQoAAAD8CAYAAACPd+p5AAAABHNCSVQICAgIfAhkiAAAAAlwSFlz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\nAElFTkSuQmCC\n",
          "text/plain": "<matplotlib.figure.Figure at 0x109a307f0>"
         },
         "metadata": {},
         "output_type": "display_data"
        }
       ]
      }
     },
     "a71ac23e5f85489aaf6d44f8f6f36a37": {
      "model_module": "@jupyter-widgets/base",
      "model_module_version": "1.0.0",
      "model_name": "LayoutModel",
      "state": {}
     },
     "a9257cf53c1040f590a684f0c192693a": {
      "model_module": "@jupyter-widgets/output",
      "model_module_version": "1.0.0",
      "model_name": "OutputModel",
      "state": {
       "layout": "IPY_MODEL_49f0b67103e34398a06e792bee1d57b0",
       "outputs": [
        {
         "name": "stdout",
         "output_type": "stream",
         "text": "xy_transformed:\n [[  8.47022005  12.20324493]\n [  4.30114375   8.02332573]\n [  5.76755891   5.92338595]]\n"
        },
        {
         "data": {
          "image/png": "iVBORw0KGgoAAAANSUhEUgAAARMAAAD8CAYAAABUzEBbAAAABHNCSVQICAgIfAhkiAAAAAlwSFlz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\niZkl4TAxsyQcJmaWhMPEzJL4P7QJfKOr+PNmAAAAAElFTkSuQmCC\n",
          "text/plain": "<matplotlib.figure.Figure at 0x1093291d0>"
         },
         "metadata": {},
         "output_type": "display_data"
        }
       ]
      }
     },
     "a947e3b2be5b41f4afbf945e5519c189": {
      "model_module": "@jupyter-widgets/controls",
      "model_module_version": "1.0.0",
      "model_name": "SliderStyleModel",
      "state": {
       "description_width": ""
      }
     },
     "a97b247739fc413e862b350f10653e3c": {
      "model_module": "@jupyter-widgets/controls",
      "model_module_version": "1.0.0",
      "model_name": "FloatSliderModel",
      "state": {
       "description": "t_x",
       "layout": "IPY_MODEL_cffb9191667a472a842d595492428ce1",
       "max": 1,
       "step": 0.1,
       "style": "IPY_MODEL_ef5e29eedcfb452b912d30cc241fb49b",
       "value": 0.9
      }
     },
     "a9cbc5f04ca441788ca825dfb050ed68": {
      "model_module": "@jupyter-widgets/output",
      "model_module_version": "1.0.0",
      "model_name": "OutputModel",
      "state": {
       "layout": "IPY_MODEL_ff46435d50eb42f2aa014c0f37ea7d3e",
       "outputs": [
        {
         "data": {
          "text/plain": "'Hello'"
         },
         "metadata": {},
         "output_type": "display_data"
        }
       ]
      }
     },
     "aa1e99df1ecd49ae99798e4eb89da0b0": {
      "model_module": "@jupyter-widgets/controls",
      "model_module_version": "1.0.0",
      "model_name": "SliderStyleModel",
      "state": {
       "description_width": ""
      }
     },
     "aa31336e75c34b39bfdf7456beb7b1e0": {
      "model_module": "@jupyter-widgets/controls",
      "model_module_version": "1.0.0",
      "model_name": "FloatSliderModel",
      "state": {
       "continuous_update": false,
       "description": "t_y",
       "layout": "IPY_MODEL_b83b5878f000423a8d4feac1cb1dc09e",
       "max": 1,
       "step": 0.01,
       "style": "IPY_MODEL_35bd08b8dcc0409f9b967c3b8f0aab87",
       "value": 0.1
      }
     },
     "ac06f3d6f2284e3b9e287cbfee3485f9": {
      "model_module": "@jupyter-widgets/controls",
      "model_module_version": "1.0.0",
      "model_name": "SliderStyleModel",
      "state": {
       "description_width": ""
      }
     },
     "ac1d38b4637043608d511480c746c3ee": {
      "model_module": "@jupyter-widgets/controls",
      "model_module_version": "1.0.0",
      "model_name": "FloatSliderModel",
      "state": {
       "description": "t_x",
       "layout": "IPY_MODEL_18832e89dc66485fac3eee7ed90e94fc",
       "max": 1,
       "step": 0.01,
       "style": "IPY_MODEL_c6674b99d0814bc291875eb7cf1c0129"
      }
     },
     "ac7caccf3ddc4f6f97ce04b8d0ad4f80": {
      "model_module": "@jupyter-widgets/base",
      "model_module_version": "1.0.0",
      "model_name": "LayoutModel",
      "state": {}
     },
     "acadbd5eb5f44c279623a835dbd51d75": {
      "model_module": "@jupyter-widgets/base",
      "model_module_version": "1.0.0",
      "model_name": "LayoutModel",
      "state": {}
     },
     "acf815e8b57e420f9c58d9cc8933c0db": {
      "model_module": "@jupyter-widgets/controls",
      "model_module_version": "1.0.0",
      "model_name": "SliderStyleModel",
      "state": {
       "description_width": ""
      }
     },
     "ad02690a2c7847a3a70f977c1437445a": {
      "model_module": "@jupyter-widgets/base",
      "model_module_version": "1.0.0",
      "model_name": "LayoutModel",
      "state": {}
     },
     "ad736edc11974d368369f78cdeae31ba": {
      "model_module": "@jupyter-widgets/controls",
      "model_module_version": "1.0.0",
      "model_name": "FloatSliderModel",
      "state": {
       "continuous_update": false,
       "description": "t_y",
       "layout": "IPY_MODEL_f88e1cdb58674fbbbd2f4381190bcaec",
       "max": 1,
       "step": 0.01,
       "style": "IPY_MODEL_514249384f744c9cb00450b232354552",
       "value": 0.5
      }
     },
     "ad90d6e7f0434613bc71c1068ff9554a": {
      "model_module": "@jupyter-widgets/controls",
      "model_module_version": "1.0.0",
      "model_name": "SliderStyleModel",
      "state": {
       "description_width": ""
      }
     },
     "adc74026607b4114a39df56534aa1dac": {
      "model_module": "@jupyter-widgets/controls",
      "model_module_version": "1.0.0",
      "model_name": "SliderStyleModel",
      "state": {
       "description_width": ""
      }
     },
     "ae5bcea059b640428a0d9d073f30c07c": {
      "model_module": "@jupyter-widgets/base",
      "model_module_version": "1.0.0",
      "model_name": "LayoutModel",
      "state": {
       "height": "400px"
      }
     },
     "af2a3555b1fa4ba0ae939ac68fbc8b94": {
      "model_module": "@jupyter-widgets/controls",
      "model_module_version": "1.0.0",
      "model_name": "SliderStyleModel",
      "state": {
       "description_width": ""
      }
     },
     "af2d1362501b43419e0f4123c5f7e6f6": {
      "model_module": "@jupyter-widgets/controls",
      "model_module_version": "1.0.0",
      "model_name": "FloatSliderModel",
      "state": {
       "description": "t_y",
       "layout": "IPY_MODEL_54845db54204476cb32b1a91d9a2d234",
       "max": 1,
       "step": 0.01,
       "style": "IPY_MODEL_0834746bdd704544a33d55a73793d37d"
      }
     },
     "b0b4d8a5e6e841f7befbba0e7fd5a827": {
      "model_module": "@jupyter-widgets/controls",
      "model_module_version": "1.0.0",
      "model_name": "IntSliderModel",
      "state": {
       "description": "theta",
       "layout": "IPY_MODEL_4d7aa4db1fa74e0bb3e2e623ff753b34",
       "max": 360,
       "step": 10,
       "style": "IPY_MODEL_25a0cef7571247ff8dee87e5916a79f4",
       "value": 190
      }
     },
     "b0d8fb5068a14c4a9b660e66840645e6": {
      "model_module": "@jupyter-widgets/base",
      "model_module_version": "1.0.0",
      "model_name": "LayoutModel",
      "state": {}
     },
     "b11e10f8c34a46b19dbf565306593e6d": {
      "model_module": "@jupyter-widgets/controls",
      "model_module_version": "1.0.0",
      "model_name": "FloatSliderModel",
      "state": {
       "description": "t_y",
       "layout": "IPY_MODEL_64b1536f0abe432bb5f99b114c19668e",
       "max": 10,
       "min": 1,
       "step": 0.1,
       "style": "IPY_MODEL_f6cf101350c341479c1776b0d665df6f",
       "value": 1
      }
     },
     "b1f3fbba00364669b24bb5735cb1114c": {
      "model_module": "@jupyter-widgets/base",
      "model_module_version": "1.0.0",
      "model_name": "LayoutModel",
      "state": {
       "height": "400px"
      }
     },
     "b3175d9702d749d6ac75c91f4cebce79": {
      "model_module": "@jupyter-widgets/controls",
      "model_module_version": "1.0.0",
      "model_name": "IntSliderModel",
      "state": {
       "layout": "IPY_MODEL_ceca0df8ec394fb287a813612195e4b6",
       "style": "IPY_MODEL_513b7bea41e24b65b10e9d0ed5b95806"
      }
     },
     "b362ce12a0b247ae91d5dc8d92a6e988": {
      "model_module": "@jupyter-widgets/controls",
      "model_module_version": "1.0.0",
      "model_name": "SliderStyleModel",
      "state": {
       "description_width": ""
      }
     },
     "b39c84d13b7a48989cf85d6e918e876f": {
      "model_module": "@jupyter-widgets/controls",
      "model_module_version": "1.0.0",
      "model_name": "FloatSliderModel",
      "state": {
       "description": "t_y",
       "layout": "IPY_MODEL_5f928e29b31c44f887ba6bac7341f412",
       "max": 1,
       "step": 0.01,
       "style": "IPY_MODEL_c519a05c07ad40af88272aacc06aa00f"
      }
     },
     "b3daedcf22ad44c4afb8183bb4a5955e": {
      "model_module": "@jupyter-widgets/base",
      "model_module_version": "1.0.0",
      "model_name": "LayoutModel",
      "state": {}
     },
     "b3dafbc3730744069f7065c0b20ad49c": {
      "model_module": "@jupyter-widgets/base",
      "model_module_version": "1.0.0",
      "model_name": "LayoutModel",
      "state": {}
     },
     "b412d8e579b54255b4f8b768db1a22b6": {
      "model_module": "@jupyter-widgets/base",
      "model_module_version": "1.0.0",
      "model_name": "LayoutModel",
      "state": {}
     },
     "b4c51d3f3e734bbcae379a4b30055930": {
      "model_module": "@jupyter-widgets/base",
      "model_module_version": "1.0.0",
      "model_name": "LayoutModel",
      "state": {}
     },
     "b5c10e961e0c430aa29d4359747c9eea": {
      "model_module": "@jupyter-widgets/base",
      "model_module_version": "1.0.0",
      "model_name": "LayoutModel",
      "state": {
       "height": "400px"
      }
     },
     "b683d48becdb4ca6ab7eb33eddcdd194": {
      "model_module": "@jupyter-widgets/controls",
      "model_module_version": "1.0.0",
      "model_name": "FloatSliderModel",
      "state": {
       "description": "t_x",
       "layout": "IPY_MODEL_edc4f18daaf14f0ca9d3791e289e2938",
       "max": 10,
       "min": 1,
       "step": 0.1,
       "style": "IPY_MODEL_0a0ed3e9033c4caea1624ee909f16608",
       "value": 1
      }
     },
     "b75b34da93274f588bb9f2ad4b5d5d81": {
      "model_module": "@jupyter-widgets/base",
      "model_module_version": "1.0.0",
      "model_name": "LayoutModel",
      "state": {}
     },
     "b7762edbae7e43e7bfc98536518ed6bc": {
      "model_module": "@jupyter-widgets/controls",
      "model_module_version": "1.0.0",
      "model_name": "FloatSliderModel",
      "state": {
       "continuous_update": false,
       "description": "t_x",
       "layout": "IPY_MODEL_b3dafbc3730744069f7065c0b20ad49c",
       "max": 1,
       "step": 0.01,
       "style": "IPY_MODEL_c13a1e0a1dcf44d09414315c963507e3"
      }
     },
     "b814840c72d1458b85b8f39840ffc750": {
      "model_module": "@jupyter-widgets/base",
      "model_module_version": "1.0.0",
      "model_name": "LayoutModel",
      "state": {}
     },
     "b817617452b447e7a2597d782be86ae2": {
      "model_module": "@jupyter-widgets/base",
      "model_module_version": "1.0.0",
      "model_name": "LayoutModel",
      "state": {
       "height": "350px"
      }
     },
     "b83b5878f000423a8d4feac1cb1dc09e": {
      "model_module": "@jupyter-widgets/base",
      "model_module_version": "1.0.0",
      "model_name": "LayoutModel",
      "state": {}
     },
     "b8656d1dd58849cbb7dc6db0f4fd7753": {
      "model_module": "@jupyter-widgets/base",
      "model_module_version": "1.0.0",
      "model_name": "LayoutModel",
      "state": {}
     },
     "b8f22b4dc94f40bc89befa7527aae587": {
      "model_module": "@jupyter-widgets/controls",
      "model_module_version": "1.0.0",
      "model_name": "SliderStyleModel",
      "state": {
       "description_width": ""
      }
     },
     "b91d047cd8884f80aece89ba3bf02504": {
      "model_module": "@jupyter-widgets/controls",
      "model_module_version": "1.0.0",
      "model_name": "DescriptionStyleModel",
      "state": {
       "description_width": ""
      }
     },
     "b9a6f24a6ea649c5902d7afcc4e26e66": {
      "model_module": "@jupyter-widgets/controls",
      "model_module_version": "1.0.0",
      "model_name": "LinkModel",
      "state": {
       "source": [
        "IPY_MODEL_9f871d04883e4b008666fe66b7085148",
        "value"
       ],
       "target": [
        "IPY_MODEL_4462d9e832c546a2b5bd9b11858d7f5b",
        "value"
       ]
      }
     },
     "b9e5c181c81e43f2b9cba734bee7fa81": {
      "model_module": "@jupyter-widgets/controls",
      "model_module_version": "1.0.0",
      "model_name": "SliderStyleModel",
      "state": {
       "description_width": ""
      }
     },
     "b9ebd69677a54818a2356d03bcc40cfe": {
      "model_module": "@jupyter-widgets/base",
      "model_module_version": "1.0.0",
      "model_name": "LayoutModel",
      "state": {}
     },
     "ba3e74e4fb52402d9685b1ecbbaa2f99": {
      "model_module": "@jupyter-widgets/base",
      "model_module_version": "1.0.0",
      "model_name": "LayoutModel",
      "state": {}
     },
     "ba41b76374c54a22a7d74cf7d538afc6": {
      "model_module": "@jupyter-widgets/base",
      "model_module_version": "1.0.0",
      "model_name": "LayoutModel",
      "state": {}
     },
     "bad04632aa6e4eaabc1def77fce48c28": {
      "model_module": "@jupyter-widgets/controls",
      "model_module_version": "1.0.0",
      "model_name": "FloatSliderModel",
      "state": {
       "description": "t_y",
       "layout": "IPY_MODEL_3b61430f0cb74dbab13ac0a7af3eca5d",
       "max": 5,
       "min": -5,
       "step": 0.1,
       "style": "IPY_MODEL_d10f9eeefa734536b36ece98d7da8472",
       "value": -2.3
      }
     },
     "bafa5c7e5b424b04b0d72d58277a2aa1": {
      "model_module": "@jupyter-widgets/controls",
      "model_module_version": "1.0.0",
      "model_name": "FloatSliderModel",
      "state": {
       "continuous_update": false,
       "description": "t_y",
       "layout": "IPY_MODEL_2adcede3783a4afb8e91ed0fd3391f66",
       "max": 1,
       "step": 0.01,
       "style": "IPY_MODEL_2a6c926e8073429f990772d90d2d7bed",
       "value": 0.1
      }
     },
     "bc4c8c6672c843e7ac82df4dd14286a6": {
      "model_module": "@jupyter-widgets/controls",
      "model_module_version": "1.0.0",
      "model_name": "SliderStyleModel",
      "state": {
       "description_width": ""
      }
     },
     "bc6bce2cf71d482a905d758754995d07": {
      "model_module": "@jupyter-widgets/controls",
      "model_module_version": "1.0.0",
      "model_name": "FloatSliderModel",
      "state": {
       "continuous_update": false,
       "description": "t_x",
       "layout": "IPY_MODEL_66d568e4337d4fab94c6d375da4f3092",
       "max": 1,
       "readout_format": ".1f",
       "step": 0.1,
       "style": "IPY_MODEL_84559433dc7f4742b3b3d6a84d700232"
      }
     },
     "bcada339ef94440b812cb925e6ccbd77": {
      "model_module": "@jupyter-widgets/output",
      "model_module_version": "1.0.0",
      "model_name": "OutputModel",
      "state": {
       "layout": "IPY_MODEL_0d90f3d7c8e74460a00596348fbe4814",
       "outputs": [
        {
         "data": {
          "text/plain": "True"
         },
         "metadata": {},
         "output_type": "display_data"
        }
       ]
      }
     },
     "bcc52e744ef04d249f4ce6ca9f30d7ca": {
      "model_module": "@jupyter-widgets/controls",
      "model_module_version": "1.0.0",
      "model_name": "IntSliderModel",
      "state": {
       "description": "theta",
       "layout": "IPY_MODEL_89be65cf4ec841f4a6c6e73c7656b20a",
       "max": 360,
       "step": 10,
       "style": "IPY_MODEL_4bac6f21f11a44e299cb016ef03ee630"
      }
     },
     "bdbebc7670664cafa9680e578708fbe3": {
      "model_module": "@jupyter-widgets/base",
      "model_module_version": "1.0.0",
      "model_name": "LayoutModel",
      "state": {
       "height": "400px"
      }
     },
     "be252192a39841c7b8cd8ff122a83f7e": {
      "model_module": "@jupyter-widgets/controls",
      "model_module_version": "1.0.0",
      "model_name": "DescriptionStyleModel",
      "state": {
       "description_width": ""
      }
     },
     "be85a4d6250c45ab8e76af88dac16168": {
      "model_module": "@jupyter-widgets/controls",
      "model_module_version": "1.0.0",
      "model_name": "DescriptionStyleModel",
      "state": {
       "description_width": ""
      }
     },
     "be8d9740e8c64613becf986e3d74e22d": {
      "model_module": "@jupyter-widgets/controls",
      "model_module_version": "1.0.0",
      "model_name": "SliderStyleModel",
      "state": {
       "description_width": ""
      }
     },
     "bea5667a5175426cbc5ff41b440ca0fe": {
      "model_module": "@jupyter-widgets/controls",
      "model_module_version": "1.0.0",
      "model_name": "IntSliderModel",
      "state": {
       "description": "N",
       "layout": "IPY_MODEL_0912786217dc4a228eeaccb017605710",
       "max": 9,
       "min": -3,
       "style": "IPY_MODEL_6631d18ca76143268001991eefad7500",
       "value": 3
      }
     },
     "bf82094921ec47a79384546381537bf9": {
      "model_module": "@jupyter-widgets/controls",
      "model_module_version": "1.0.0",
      "model_name": "FloatSliderModel",
      "state": {
       "continuous_update": false,
       "description": "t_x",
       "layout": "IPY_MODEL_d3bb26ef17ed4e69aaa62cd82a678b80",
       "max": 1,
       "step": 0.01,
       "style": "IPY_MODEL_6da8536e34fd475689094fc11275de12",
       "value": 0.9
      }
     },
     "bf95aba5951245ff8724fda533c2d638": {
      "model_module": "@jupyter-widgets/controls",
      "model_module_version": "1.0.0",
      "model_name": "IntSliderModel",
      "state": {
       "description": "theta",
       "layout": "IPY_MODEL_4973cd1ba2484aa586b75c410a45b5a9",
       "max": 360,
       "step": 10,
       "style": "IPY_MODEL_8daf7da2df0f4e15a3cfc4bdacfd58d9"
      }
     },
     "bfd90bfdc4c54b8e9b1893289efb2922": {
      "model_module": "@jupyter-widgets/controls",
      "model_module_version": "1.0.0",
      "model_name": "FloatSliderModel",
      "state": {
       "description": "t_x",
       "layout": "IPY_MODEL_ed7f245185d34a168c15f2c6a5f01d64",
       "max": 1,
       "step": 0.01,
       "style": "IPY_MODEL_232998afa6a545609d999d75bfc2d164"
      }
     },
     "c06a511f7d7e4847abd30f847b45a2ff": {
      "model_module": "@jupyter-widgets/controls",
      "model_module_version": "1.0.0",
      "model_name": "VBoxModel",
      "state": {
       "_dom_classes": [
        "widget-interact"
       ],
       "children": [
        "IPY_MODEL_7869a22fba774a0a913f117240715de7",
        "IPY_MODEL_a97b247739fc413e862b350f10653e3c",
        "IPY_MODEL_545197a73fc8429382f87db05ec6d245",
        "IPY_MODEL_4c36538cd3e34067be9d162ef1fbe266",
        "IPY_MODEL_9263e4802a42499eaf89fe65a553df97"
       ],
       "layout": "IPY_MODEL_eb10c285d0b741538e631980dcb79329"
      }
     },
     "c13a1e0a1dcf44d09414315c963507e3": {
      "model_module": "@jupyter-widgets/controls",
      "model_module_version": "1.0.0",
      "model_name": "SliderStyleModel",
      "state": {
       "description_width": ""
      }
     },
     "c17d7d7772f74d26a0db98cfd0764d63": {
      "model_module": "@jupyter-widgets/base",
      "model_module_version": "1.0.0",
      "model_name": "LayoutModel",
      "state": {}
     },
     "c187d820130a49e689ac75feef6ba813": {
      "model_module": "@jupyter-widgets/controls",
      "model_module_version": "1.0.0",
      "model_name": "SliderStyleModel",
      "state": {
       "description_width": ""
      }
     },
     "c1a1568abc17417f9563aed0432bb2fa": {
      "model_module": "@jupyter-widgets/base",
      "model_module_version": "1.0.0",
      "model_name": "LayoutModel",
      "state": {}
     },
     "c21922a9c3214f9b845b967adadcd486": {
      "model_module": "@jupyter-widgets/base",
      "model_module_version": "1.0.0",
      "model_name": "LayoutModel",
      "state": {}
     },
     "c224c018c3a1438cbb6bd2c4d443f00a": {
      "model_module": "@jupyter-widgets/base",
      "model_module_version": "1.0.0",
      "model_name": "LayoutModel",
      "state": {}
     },
     "c2bb19799805415699e450624d83a51c": {
      "model_module": "@jupyter-widgets/controls",
      "model_module_version": "1.0.0",
      "model_name": "SliderStyleModel",
      "state": {
       "description_width": ""
      }
     },
     "c2c35f70b5714a22ae380dd4b063a795": {
      "model_module": "@jupyter-widgets/controls",
      "model_module_version": "1.0.0",
      "model_name": "FloatSliderModel",
      "state": {
       "description": "t_x",
       "layout": "IPY_MODEL_d7464dc5bb634561915d455dcc3fe253",
       "max": 1,
       "step": 0.01,
       "style": "IPY_MODEL_03d93828831b42f391a110afd58298b1",
       "value": 0.34
      }
     },
     "c2daa493d986432fbd0ff764bce041a9": {
      "model_module": "@jupyter-widgets/controls",
      "model_module_version": "1.0.0",
      "model_name": "SliderStyleModel",
      "state": {
       "description_width": ""
      }
     },
     "c3282854bdb649d5b6744dcd9308eb0a": {
      "model_module": "@jupyter-widgets/controls",
      "model_module_version": "1.0.0",
      "model_name": "VBoxModel",
      "state": {
       "_dom_classes": [
        "widget-interact"
       ],
       "children": [
        "IPY_MODEL_947fb6eb053040e794242299d5d01b09",
        "IPY_MODEL_1b1de5e367834c548b23baf1fbb6eefe"
       ],
       "layout": "IPY_MODEL_4829dce10bee419dac8ba7388beb6e60"
      }
     },
     "c3ab3f6efb1f4cdfa458ed8ee35c821f": {
      "model_module": "@jupyter-widgets/controls",
      "model_module_version": "1.0.0",
      "model_name": "FloatSliderModel",
      "state": {
       "description": "t_x",
       "layout": "IPY_MODEL_ad02690a2c7847a3a70f977c1437445a",
       "max": 1,
       "step": 0.01,
       "style": "IPY_MODEL_22d88e54f4d640f5bd3f3fe4fa1c9faf"
      }
     },
     "c3b9820d22b940f2a8720597b791be4b": {
      "model_module": "@jupyter-widgets/base",
      "model_module_version": "1.0.0",
      "model_name": "LayoutModel",
      "state": {}
     },
     "c3cf87954f69441088993f8a5f10d0ec": {
      "model_module": "@jupyter-widgets/controls",
      "model_module_version": "1.0.0",
      "model_name": "CheckboxModel",
      "state": {
       "description": "x",
       "disabled": false,
       "layout": "IPY_MODEL_7da0dc6c4cc14bb5a3b681eabd4944c2",
       "style": "IPY_MODEL_be85a4d6250c45ab8e76af88dac16168",
       "value": true
      }
     },
     "c43d8c49e7c74f13ad3f00a4be696f30": {
      "model_module": "@jupyter-widgets/base",
      "model_module_version": "1.0.0",
      "model_name": "LayoutModel",
      "state": {}
     },
     "c456f805734f423e855cf704cdc9cb33": {
      "model_module": "@jupyter-widgets/base",
      "model_module_version": "1.0.0",
      "model_name": "LayoutModel",
      "state": {}
     },
     "c47c04ad6bb147ff83fdb038b613967c": {
      "model_module": "@jupyter-widgets/base",
      "model_module_version": "1.0.0",
      "model_name": "LayoutModel",
      "state": {}
     },
     "c4f326a72d734859a281bfb9d88bae22": {
      "model_module": "@jupyter-widgets/base",
      "model_module_version": "1.0.0",
      "model_name": "LayoutModel",
      "state": {}
     },
     "c512b37b03cb4d1c931de313a8531bec": {
      "model_module": "@jupyter-widgets/controls",
      "model_module_version": "1.0.0",
      "model_name": "CheckboxModel",
      "state": {
       "description": "x",
       "disabled": false,
       "layout": "IPY_MODEL_26a02e0d6f2547ed9b7b451ebd51cd81",
       "style": "IPY_MODEL_742b0dee59a84171839aa50c4b9c2bbf",
       "value": true
      }
     },
     "c519a05c07ad40af88272aacc06aa00f": {
      "model_module": "@jupyter-widgets/controls",
      "model_module_version": "1.0.0",
      "model_name": "SliderStyleModel",
      "state": {
       "description_width": ""
      }
     },
     "c5eb7ee6b58243aaa704fd9c333c0555": {
      "model_module": "@jupyter-widgets/base",
      "model_module_version": "1.0.0",
      "model_name": "LayoutModel",
      "state": {}
     },
     "c6443c708cd44f2a99673aadda8ff9e2": {
      "model_module": "@jupyter-widgets/base",
      "model_module_version": "1.0.0",
      "model_name": "LayoutModel",
      "state": {
       "height": "500px"
      }
     },
     "c6674b99d0814bc291875eb7cf1c0129": {
      "model_module": "@jupyter-widgets/controls",
      "model_module_version": "1.0.0",
      "model_name": "SliderStyleModel",
      "state": {
       "description_width": ""
      }
     },
     "c6b976458eaa4558a68d13039d761616": {
      "model_module": "@jupyter-widgets/base",
      "model_module_version": "1.0.0",
      "model_name": "LayoutModel",
      "state": {}
     },
     "c6bba8b562814074807303acc1bc2d07": {
      "model_module": "@jupyter-widgets/output",
      "model_module_version": "1.0.0",
      "model_name": "OutputModel",
      "state": {
       "layout": "IPY_MODEL_9b0f490e86e248d2bc4ed23a22b8de61",
       "outputs": [
        {
         "name": "stdout",
         "output_type": "stream",
         "text": "xy_original:\n [[ 0.68950928  0.57797539]\n [ 0.04968657  0.1790961 ]\n [ 0.50718443  0.4092611 ]]\nxy_transformed:\n [[ 0.68950928  0.57797539]\n [ 0.04968657  0.1790961 ]\n [ 0.50718443  0.4092611 ]]\n"
        },
        {
         "data": {
          "image/png": "iVBORw0KGgoAAAANSUhEUgAAAQIAAAD8CAYAAACcoKqNAAAABHNCSVQICAgIfAhkiAAAAAlwSFlz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\nAAAASUVORK5CYII=\n",
          "text/plain": "<matplotlib.figure.Figure at 0x11b353b38>"
         },
         "metadata": {},
         "output_type": "display_data"
        },
        {
         "data": {
          "text/plain": "[<matplotlib.patches.Polygon at 0x11b353a58>]"
         },
         "metadata": {},
         "output_type": "display_data"
        }
       ]
      }
     },
     "c6f33687269c477b8133bcd7f540cdeb": {
      "model_module": "@jupyter-widgets/output",
      "model_module_version": "1.0.0",
      "model_name": "OutputModel",
      "state": {
       "layout": "IPY_MODEL_1a305483a31644a982229427150aea15",
       "outputs": [
        {
         "data": {
          "image/png": "iVBORw0KGgoAAAANSUhEUgAAAXYAAAD8CAYAAABjAo9vAAAABHNCSVQICAgIfAhkiAAAAAlwSFlz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\nTkSuQmCC\n",
          "text/plain": "<matplotlib.figure.Figure at 0x11b6b79b0>"
         },
         "metadata": {},
         "output_type": "display_data"
        }
       ]
      }
     },
     "c7371bd7ece54b7e9b5f1699972fb569": {
      "model_module": "@jupyter-widgets/base",
      "model_module_version": "1.0.0",
      "model_name": "LayoutModel",
      "state": {}
     },
     "c745f685bcdc4220b297173bf96631b5": {
      "model_module": "@jupyter-widgets/base",
      "model_module_version": "1.0.0",
      "model_name": "LayoutModel",
      "state": {}
     },
     "c76faa83f36f4c16994a5d19e5a48397": {
      "model_module": "@jupyter-widgets/controls",
      "model_module_version": "1.0.0",
      "model_name": "IntSliderModel",
      "state": {
       "description": "x",
       "layout": "IPY_MODEL_5ce815f2e3764b63a9c3ec370a14098b",
       "max": 30,
       "min": -10,
       "style": "IPY_MODEL_f1008aa80367494e91b8fef2aa83f2fd",
       "value": 30
      }
     },
     "c7aa679c199749c7ae2aef74a31b160a": {
      "model_module": "@jupyter-widgets/controls",
      "model_module_version": "1.0.0",
      "model_name": "IntSliderModel",
      "state": {
       "description": "theta",
       "layout": "IPY_MODEL_db164567a076426c8fd0debabe337f78",
       "max": 360,
       "step": 10,
       "style": "IPY_MODEL_44a0dac153a94fce82ca8ae5916c6106"
      }
     },
     "c81408f269264b3284c9f1bb076adaad": {
      "model_module": "@jupyter-widgets/controls",
      "model_module_version": "1.0.0",
      "model_name": "SliderStyleModel",
      "state": {
       "description_width": ""
      }
     },
     "c873dfc4f6344be78a48c9817808aa27": {
      "model_module": "@jupyter-widgets/controls",
      "model_module_version": "1.0.0",
      "model_name": "IntSliderModel",
      "state": {
       "description": "N",
       "layout": "IPY_MODEL_6ccbe1f65169429c830207b8a8ee14bf",
       "max": 10,
       "min": 3,
       "style": "IPY_MODEL_090d6e6e78e749c59f4a78590bd11195",
       "value": 3
      }
     },
     "c87ae96d59b4416187298d40dc0dbfef": {
      "model_module": "@jupyter-widgets/base",
      "model_module_version": "1.0.0",
      "model_name": "LayoutModel",
      "state": {
       "height": "350px"
      }
     },
     "c89009503f9846a294193df36177b7bc": {
      "model_module": "@jupyter-widgets/output",
      "model_module_version": "1.0.0",
      "model_name": "OutputModel",
      "state": {
       "layout": "IPY_MODEL_17572929d710480a8fcd747bcc92315d",
       "outputs": [
        {
         "data": {
          "text/plain": "10"
         },
         "metadata": {},
         "output_type": "display_data"
        }
       ]
      }
     },
     "c8ebcb49ac1c453b98ea51640d59e606": {
      "model_module": "@jupyter-widgets/base",
      "model_module_version": "1.0.0",
      "model_name": "LayoutModel",
      "state": {
       "height": "400px"
      }
     },
     "c8f29cfce32a4274a74396cd4c79010a": {
      "model_module": "@jupyter-widgets/base",
      "model_module_version": "1.0.0",
      "model_name": "LayoutModel",
      "state": {}
     },
     "c8f3d45505cd4dfc9df97c8260aaf21f": {
      "model_module": "@jupyter-widgets/base",
      "model_module_version": "1.0.0",
      "model_name": "LayoutModel",
      "state": {}
     },
     "c912beb540a742ab99a4b2dd1044cc5c": {
      "model_module": "@jupyter-widgets/base",
      "model_module_version": "1.0.0",
      "model_name": "LayoutModel",
      "state": {}
     },
     "c933c74685b548e087cc8a7ee30bfe32": {
      "model_module": "@jupyter-widgets/controls",
      "model_module_version": "1.0.0",
      "model_name": "VBoxModel",
      "state": {
       "_dom_classes": [
        "widget-interact"
       ],
       "children": [
        "IPY_MODEL_db861267eaec4d9a94117b881eeba0de",
        "IPY_MODEL_ac1d38b4637043608d511480c746c3ee",
        "IPY_MODEL_2ff7ace81ac549be9bcbbaf11c6b3cc6",
        "IPY_MODEL_989aeca43aa04900924c050a2f04cfe3",
        "IPY_MODEL_7d2989f9b9c24e0297a8edb64846833a"
       ],
       "layout": "IPY_MODEL_c9a4ada7df804fcbbed93964eea4c66b"
      }
     },
     "c93833be289c4792b41983375d3edacc": {
      "model_module": "@jupyter-widgets/controls",
      "model_module_version": "1.0.0",
      "model_name": "SliderStyleModel",
      "state": {
       "description_width": ""
      }
     },
     "c93a0fdfee3c4fb7a49a042f6df0e5d2": {
      "model_module": "@jupyter-widgets/base",
      "model_module_version": "1.0.0",
      "model_name": "LayoutModel",
      "state": {}
     },
     "c978bb6a09ea45108f008d4e59bc6b6b": {
      "model_module": "@jupyter-widgets/controls",
      "model_module_version": "1.0.0",
      "model_name": "VBoxModel",
      "state": {
       "_dom_classes": [
        "widget-interact"
       ],
       "children": [
        "IPY_MODEL_25a4f2dfe3f349e2a52a8a0f49848b5a",
        "IPY_MODEL_3aa02d4dc384414d84b4bde0dbcba143"
       ],
       "layout": "IPY_MODEL_623aba54a4444adda5dddb5f8bc677ee"
      }
     },
     "c9a3e7f7c1224c718614071fd6172b29": {
      "model_module": "@jupyter-widgets/controls",
      "model_module_version": "1.0.0",
      "model_name": "IntSliderModel",
      "state": {
       "description": "theta",
       "layout": "IPY_MODEL_8f9307a404ee43d5be9cf6a78ec52617",
       "max": 360,
       "step": 10,
       "style": "IPY_MODEL_c187d820130a49e689ac75feef6ba813"
      }
     },
     "c9a4ada7df804fcbbed93964eea4c66b": {
      "model_module": "@jupyter-widgets/base",
      "model_module_version": "1.0.0",
      "model_name": "LayoutModel",
      "state": {}
     },
     "c9ffe76e0f3945fba934f75f00895da0": {
      "model_module": "@jupyter-widgets/controls",
      "model_module_version": "1.0.0",
      "model_name": "FloatSliderModel",
      "state": {
       "description": "t_x",
       "layout": "IPY_MODEL_458bd929b6924bc08eda0e5eeb0c2773",
       "max": 1,
       "step": 0.01,
       "style": "IPY_MODEL_224c0426f94d45a3b564f8c768a19b2b"
      }
     },
     "caf4f36ff75645f59f04a45486b1dddb": {
      "model_module": "@jupyter-widgets/controls",
      "model_module_version": "1.0.0",
      "model_name": "SliderStyleModel",
      "state": {
       "description_width": ""
      }
     },
     "cbb9a4c351e84d768059292bac54b1fe": {
      "model_module": "@jupyter-widgets/base",
      "model_module_version": "1.0.0",
      "model_name": "LayoutModel",
      "state": {}
     },
     "cbd1ff7fc2684c8aa0ed727efa60fd60": {
      "model_module": "@jupyter-widgets/controls",
      "model_module_version": "1.0.0",
      "model_name": "IntSliderModel",
      "state": {
       "description": "N",
       "layout": "IPY_MODEL_c6b976458eaa4558a68d13039d761616",
       "max": 9,
       "min": -3,
       "style": "IPY_MODEL_1103407051554f4987e658b70de88014",
       "value": 9
      }
     },
     "cbee76b522d34f4f8c703640c7473f02": {
      "model_module": "@jupyter-widgets/base",
      "model_module_version": "1.0.0",
      "model_name": "LayoutModel",
      "state": {}
     },
     "cc27ca0f71364a00a09d9527e98b58ae": {
      "model_module": "@jupyter-widgets/base",
      "model_module_version": "1.0.0",
      "model_name": "LayoutModel",
      "state": {}
     },
     "ccac6b28c8da436587980771e2f80898": {
      "model_module": "@jupyter-widgets/controls",
      "model_module_version": "1.0.0",
      "model_name": "VBoxModel",
      "state": {
       "_dom_classes": [
        "widget-interact"
       ],
       "children": [
        "IPY_MODEL_50de6dbe255645f890159f192b3839b3",
        "IPY_MODEL_3ee67cf209c9430ab357e674a3807df0",
        "IPY_MODEL_fcb61f844d6242cbac5316db1ece7c1e",
        "IPY_MODEL_e6d071bf822b40ebb3f19e0cb7037d4f",
        "IPY_MODEL_e9e60dd1d0b0486ea48e96586c822edd"
       ],
       "layout": "IPY_MODEL_fd80dba8c9ea4cd5bc1f9c0bc6a415c1"
      }
     },
     "ce3394029f9d45a49a0894a530df025f": {
      "model_module": "@jupyter-widgets/controls",
      "model_module_version": "1.0.0",
      "model_name": "IntSliderModel",
      "state": {
       "description": "N",
       "layout": "IPY_MODEL_c93a0fdfee3c4fb7a49a042f6df0e5d2",
       "max": 10,
       "min": 3,
       "style": "IPY_MODEL_9234f095e48a4cd28dfb02d446043882",
       "value": 3
      }
     },
     "cebb77475e9d4fdb8113f793107a9a27": {
      "model_module": "@jupyter-widgets/controls",
      "model_module_version": "1.0.0",
      "model_name": "FloatSliderModel",
      "state": {
       "description": "t_y",
       "layout": "IPY_MODEL_95381390604f4ee8a485f08b4376169a",
       "max": 5,
       "min": -5,
       "step": 0.1,
       "style": "IPY_MODEL_81fe0ec4af7e4732808ffa14b8ec0a45",
       "value": 5
      }
     },
     "cec3a6bf4f53448dbbfa8c6d65438ec3": {
      "model_module": "@jupyter-widgets/controls",
      "model_module_version": "1.0.0",
      "model_name": "SliderStyleModel",
      "state": {
       "description_width": ""
      }
     },
     "ceca0df8ec394fb287a813612195e4b6": {
      "model_module": "@jupyter-widgets/base",
      "model_module_version": "1.0.0",
      "model_name": "LayoutModel",
      "state": {}
     },
     "cf2a83bb0a7f4337b969217b68bc651b": {
      "model_module": "@jupyter-widgets/base",
      "model_module_version": "1.0.0",
      "model_name": "LayoutModel",
      "state": {}
     },
     "cf319795517f42c5b396c8ec339218d7": {
      "model_module": "@jupyter-widgets/base",
      "model_module_version": "1.0.0",
      "model_name": "LayoutModel",
      "state": {
       "height": "400px"
      }
     },
     "cf554a76e99347b082ec105ab965490f": {
      "model_module": "@jupyter-widgets/base",
      "model_module_version": "1.0.0",
      "model_name": "LayoutModel",
      "state": {}
     },
     "cfc10176ecd943f9bcc4045a0e44953a": {
      "model_module": "@jupyter-widgets/controls",
      "model_module_version": "1.0.0",
      "model_name": "SliderStyleModel",
      "state": {
       "description_width": ""
      }
     },
     "cffb9191667a472a842d595492428ce1": {
      "model_module": "@jupyter-widgets/base",
      "model_module_version": "1.0.0",
      "model_name": "LayoutModel",
      "state": {}
     },
     "d10f9eeefa734536b36ece98d7da8472": {
      "model_module": "@jupyter-widgets/controls",
      "model_module_version": "1.0.0",
      "model_name": "SliderStyleModel",
      "state": {
       "description_width": ""
      }
     },
     "d154382951a347eb8a419dc9253a3cfd": {
      "model_module": "@jupyter-widgets/controls",
      "model_module_version": "1.0.0",
      "model_name": "SliderStyleModel",
      "state": {
       "description_width": ""
      }
     },
     "d197d47a740842809b7fb8da1698cdf2": {
      "model_module": "@jupyter-widgets/controls",
      "model_module_version": "1.0.0",
      "model_name": "SliderStyleModel",
      "state": {
       "description_width": ""
      }
     },
     "d226f5fd315445fdbc3b9dad4e2c0bd3": {
      "model_module": "@jupyter-widgets/base",
      "model_module_version": "1.0.0",
      "model_name": "LayoutModel",
      "state": {}
     },
     "d28fef77edb345a7b858e44945a1781a": {
      "model_module": "@jupyter-widgets/controls",
      "model_module_version": "1.0.0",
      "model_name": "IntSliderModel",
      "state": {
       "layout": "IPY_MODEL_80186b24a45b4ec4bf2bab0b68ad2609",
       "style": "IPY_MODEL_f3dbf2a9d76441338ac34a26cc331a54"
      }
     },
     "d29e56d5fc4640c6bf54d500294d6a5a": {
      "model_module": "@jupyter-widgets/controls",
      "model_module_version": "1.0.0",
      "model_name": "FloatSliderModel",
      "state": {
       "description": "t_x",
       "layout": "IPY_MODEL_419fca4abda64c89bf66582f421703d0",
       "max": 10,
       "min": 1,
       "step": 0.1,
       "style": "IPY_MODEL_3a95a468d5654d5ba800fc0ef9b45d2a",
       "value": 1
      }
     },
     "d2cf2f5e93034744ad95e7c2f5b7b75b": {
      "model_module": "@jupyter-widgets/controls",
      "model_module_version": "1.0.0",
      "model_name": "SliderStyleModel",
      "state": {
       "description_width": ""
      }
     },
     "d34862b83cf0419eb08c4140aee120da": {
      "model_module": "@jupyter-widgets/controls",
      "model_module_version": "1.0.0",
      "model_name": "FloatSliderModel",
      "state": {
       "description": "t_y",
       "layout": "IPY_MODEL_5860404eddd6405dbed2f0089037d22e",
       "max": 1,
       "step": 0.01,
       "style": "IPY_MODEL_7060c259b5e14e4186717df0cdb78c2a"
      }
     },
     "d3bb26ef17ed4e69aaa62cd82a678b80": {
      "model_module": "@jupyter-widgets/base",
      "model_module_version": "1.0.0",
      "model_name": "LayoutModel",
      "state": {}
     },
     "d4b06912e9c44b7aaf729dc31fdf5f4b": {
      "model_module": "@jupyter-widgets/base",
      "model_module_version": "1.0.0",
      "model_name": "LayoutModel",
      "state": {}
     },
     "d4ff46076f9c4b33b56a2bc58fc5941f": {
      "model_module": "@jupyter-widgets/controls",
      "model_module_version": "1.0.0",
      "model_name": "IntSliderModel",
      "state": {
       "layout": "IPY_MODEL_53d9a59aee5a4645a1cefc1d15cfba87",
       "style": "IPY_MODEL_297d353550df4bdaa3efe4ccd4ae1b7e"
      }
     },
     "d5d103f1d2be48ba8a840f1221d08ed3": {
      "model_module": "@jupyter-widgets/controls",
      "model_module_version": "1.0.0",
      "model_name": "FloatSliderModel",
      "state": {
       "description": "t_x",
       "layout": "IPY_MODEL_66569585c17c4af6828fbd83f7de1347",
       "max": 5,
       "min": -5,
       "step": 0.1,
       "style": "IPY_MODEL_4d43b63304b34ca7b43945421416cf58",
       "value": -4.2
      }
     },
     "d5d844e953f84e4b9aeb0ec667ec0864": {
      "model_module": "@jupyter-widgets/output",
      "model_module_version": "1.0.0",
      "model_name": "OutputModel",
      "state": {
       "layout": "IPY_MODEL_7d515cdc9e954d9eaa816b0677f10f0b",
       "outputs": [
        {
         "name": "stdout",
         "output_type": "stream",
         "text": "xy_transformed:\n [[ 0.57051729  0.56452876]\n [ 0.48844183  0.33647775]\n [ 0.37586818  0.53203587]]\n"
        },
        {
         "data": {
          "image/png": "iVBORw0KGgoAAAANSUhEUgAAAQgAAAD8CAYAAACLgjpEAAAABHNCSVQICAgIfAhkiAAAAAlwSFlz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\nEelLASEifSkgRKSv/w+u8MFXtrEzOwAAAABJRU5ErkJggg==\n",
          "text/plain": "<matplotlib.figure.Figure at 0x109b6da20>"
         },
         "metadata": {},
         "output_type": "display_data"
        }
       ]
      }
     },
     "d7464dc5bb634561915d455dcc3fe253": {
      "model_module": "@jupyter-widgets/base",
      "model_module_version": "1.0.0",
      "model_name": "LayoutModel",
      "state": {}
     },
     "d754618e665f447082459cb9b8a54019": {
      "model_module": "@jupyter-widgets/controls",
      "model_module_version": "1.0.0",
      "model_name": "SliderStyleModel",
      "state": {
       "description_width": ""
      }
     },
     "d776c39a3d954d1bbcb7ef7b62c8a1d6": {
      "model_module": "@jupyter-widgets/controls",
      "model_module_version": "1.0.0",
      "model_name": "SliderStyleModel",
      "state": {
       "description_width": ""
      }
     },
     "d7b7da3a22f74d77bccf933092ba5719": {
      "model_module": "@jupyter-widgets/controls",
      "model_module_version": "1.0.0",
      "model_name": "SliderStyleModel",
      "state": {
       "description_width": ""
      }
     },
     "d7e32e6ddbe54b839305af52763b2e93": {
      "model_module": "@jupyter-widgets/base",
      "model_module_version": "1.0.0",
      "model_name": "LayoutModel",
      "state": {
       "height": "400px"
      }
     },
     "d812db643429422dad37feaf37b1645a": {
      "model_module": "@jupyter-widgets/base",
      "model_module_version": "1.0.0",
      "model_name": "LayoutModel",
      "state": {}
     },
     "d8dc636c74614840a220b6b639ecde0e": {
      "model_module": "@jupyter-widgets/base",
      "model_module_version": "1.0.0",
      "model_name": "LayoutModel",
      "state": {}
     },
     "d9a45ca89c224577a5f641e9ad07165b": {
      "model_module": "@jupyter-widgets/controls",
      "model_module_version": "1.0.0",
      "model_name": "IntSliderModel",
      "state": {
       "description": "x",
       "layout": "IPY_MODEL_c456f805734f423e855cf704cdc9cb33",
       "max": 30,
       "min": -10,
       "style": "IPY_MODEL_2914ca00a8cf40dfa5ab3b1595d2b45a",
       "value": 10
      }
     },
     "d9c9cce74d074ca4924445c060d66174": {
      "model_module": "@jupyter-widgets/controls",
      "model_module_version": "1.0.0",
      "model_name": "FloatSliderModel",
      "state": {
       "layout": "IPY_MODEL_34af5e3ec037476097d6a1759b31df00",
       "step": 0.1,
       "style": "IPY_MODEL_0f71e86de53b4349bb3b9faf5d3595b8"
      }
     },
     "da1840d93eb8447782419fbe5b06b863": {
      "model_module": "@jupyter-widgets/controls",
      "model_module_version": "1.0.0",
      "model_name": "VBoxModel",
      "state": {
       "_dom_classes": [
        "widget-interact"
       ],
       "children": [
        "IPY_MODEL_c512b37b03cb4d1c931de313a8531bec",
        "IPY_MODEL_0597622befdb45a28f38581d9a4e4aca"
       ],
       "layout": "IPY_MODEL_e42bfeff101c422b9bfa2b3f35f3627f"
      }
     },
     "da26b11dea0448efa903755d452ed6eb": {
      "model_module": "@jupyter-widgets/base",
      "model_module_version": "1.0.0",
      "model_name": "LayoutModel",
      "state": {}
     },
     "da83337a752b49308092139780a279b4": {
      "model_module": "@jupyter-widgets/controls",
      "model_module_version": "1.0.0",
      "model_name": "FloatSliderModel",
      "state": {
       "continuous_update": false,
       "description": "t_y",
       "layout": "IPY_MODEL_1376701dec1b4c00b127459220a4b964",
       "max": 1,
       "readout_format": ".1f",
       "step": 0.1,
       "style": "IPY_MODEL_ea0c08a5a71a4533bdf67894400a49b9",
       "value": 0.1
      }
     },
     "db164567a076426c8fd0debabe337f78": {
      "model_module": "@jupyter-widgets/base",
      "model_module_version": "1.0.0",
      "model_name": "LayoutModel",
      "state": {}
     },
     "db861267eaec4d9a94117b881eeba0de": {
      "model_module": "@jupyter-widgets/controls",
      "model_module_version": "1.0.0",
      "model_name": "IntSliderModel",
      "state": {
       "description": "N",
       "layout": "IPY_MODEL_c745f685bcdc4220b297173bf96631b5",
       "max": 10,
       "min": 3,
       "style": "IPY_MODEL_a5fad6b666704f25aefa5cfe47bf22b1",
       "value": 3
      }
     },
     "db8ba130512a44aea34f48c9f0fa2fbf": {
      "model_module": "@jupyter-widgets/output",
      "model_module_version": "1.0.0",
      "model_name": "OutputModel",
      "state": {
       "layout": "IPY_MODEL_72513135d0fc47c6aa7d778206714c60",
       "outputs": [
        {
         "data": {
          "text/plain": "10"
         },
         "metadata": {},
         "output_type": "display_data"
        }
       ]
      }
     },
     "dc91b0638407477da72f0b7639a82531": {
      "model_module": "@jupyter-widgets/base",
      "model_module_version": "1.0.0",
      "model_name": "LayoutModel",
      "state": {}
     },
     "dc9f3f76bcad4c439d08f514eceb7770": {
      "model_module": "@jupyter-widgets/controls",
      "model_module_version": "1.0.0",
      "model_name": "IntSliderModel",
      "state": {
       "description": "theta",
       "layout": "IPY_MODEL_9abb68bf63124f55af4a59e048a34152",
       "max": 360,
       "step": 10,
       "style": "IPY_MODEL_ffeb4df158e44f5b945d9fa69ca1706c",
       "value": 180
      }
     },
     "dd3ae3da12674211bc4218e4038d2d4f": {
      "model_module": "@jupyter-widgets/controls",
      "model_module_version": "1.0.0",
      "model_name": "VBoxModel",
      "state": {
       "_dom_classes": [
        "widget-interact"
       ],
       "children": [
        "IPY_MODEL_118c07dfcfec477caf9cee6c59aba916",
        "IPY_MODEL_a9cbc5f04ca441788ca825dfb050ed68"
       ],
       "layout": "IPY_MODEL_249049b49609459fba756d2625de1f1b"
      }
     },
     "dd3e73a827c2416bb2fb54b420e08253": {
      "model_module": "@jupyter-widgets/controls",
      "model_module_version": "1.0.0",
      "model_name": "SliderStyleModel",
      "state": {
       "description_width": ""
      }
     },
     "dd95eea26d224f8ab0c85781bfabf13c": {
      "model_module": "@jupyter-widgets/controls",
      "model_module_version": "1.0.0",
      "model_name": "IntSliderModel",
      "state": {
       "description": "theta",
       "layout": "IPY_MODEL_c21922a9c3214f9b845b967adadcd486",
       "max": 360,
       "step": 10,
       "style": "IPY_MODEL_d754618e665f447082459cb9b8a54019"
      }
     },
     "ddb8ffe91f6c42719a3f20678c2dd05d": {
      "model_module": "@jupyter-widgets/controls",
      "model_module_version": "1.0.0",
      "model_name": "FloatSliderModel",
      "state": {
       "description": "m",
       "layout": "IPY_MODEL_0b37af54e3e648959f44b3579efcfbeb",
       "max": 2,
       "min": -2,
       "step": 0.1,
       "style": "IPY_MODEL_994667823eaa47d7ac76b140b9419c27",
       "value": 2
      }
     },
     "ddf5d1dc49f24fe591efd8c19754c260": {
      "model_module": "@jupyter-widgets/base",
      "model_module_version": "1.0.0",
      "model_name": "LayoutModel",
      "state": {}
     },
     "ddfb0cd1709949729f66d1c7ce779db2": {
      "model_module": "@jupyter-widgets/base",
      "model_module_version": "1.0.0",
      "model_name": "LayoutModel",
      "state": {}
     },
     "de301383f2b2456ba2fbabeb64a69311": {
      "model_module": "@jupyter-widgets/controls",
      "model_module_version": "1.0.0",
      "model_name": "IntSliderModel",
      "state": {
       "description": "theta",
       "layout": "IPY_MODEL_d226f5fd315445fdbc3b9dad4e2c0bd3",
       "max": 360,
       "step": 10,
       "style": "IPY_MODEL_ee7b77eec8dc45668c2f64271d3aea0e"
      }
     },
     "de7d1bf5118240a8bc8ab3923f051d4c": {
      "model_module": "@jupyter-widgets/controls",
      "model_module_version": "1.0.0",
      "model_name": "DescriptionStyleModel",
      "state": {
       "description_width": ""
      }
     },
     "deb66204bfbd4ce58ed41434a2953009": {
      "model_module": "@jupyter-widgets/base",
      "model_module_version": "1.0.0",
      "model_name": "LayoutModel",
      "state": {}
     },
     "defcbc146f1143498c13ae9fe489eb61": {
      "model_module": "@jupyter-widgets/controls",
      "model_module_version": "1.0.0",
      "model_name": "FloatSliderModel",
      "state": {
       "description": "t_y",
       "layout": "IPY_MODEL_da26b11dea0448efa903755d452ed6eb",
       "max": 1,
       "step": 0.01,
       "style": "IPY_MODEL_182bb16978474acc807508a5986fe674",
       "value": 0.76
      }
     },
     "df4c7d427fd346fe8ff64f10b6a21b38": {
      "model_module": "@jupyter-widgets/controls",
      "model_module_version": "1.0.0",
      "model_name": "FloatSliderModel",
      "state": {
       "description": "t_y",
       "layout": "IPY_MODEL_923d1dac547041399645060b5a12af28",
       "max": 1,
       "step": 0.01,
       "style": "IPY_MODEL_b8f22b4dc94f40bc89befa7527aae587",
       "value": 0.63
      }
     },
     "df8016fb114041ceae52ce29a318e8fd": {
      "model_module": "@jupyter-widgets/controls",
      "model_module_version": "1.0.0",
      "model_name": "SliderStyleModel",
      "state": {
       "description_width": ""
      }
     },
     "dfbe1bbcf50d4e419e8ca22d1a884f96": {
      "model_module": "@jupyter-widgets/base",
      "model_module_version": "1.0.0",
      "model_name": "LayoutModel",
      "state": {}
     },
     "e027866d27ff4242a1dbaf035450316b": {
      "model_module": "@jupyter-widgets/controls",
      "model_module_version": "1.0.0",
      "model_name": "VBoxModel",
      "state": {
       "_dom_classes": [
        "widget-interact"
       ],
       "children": [
        "IPY_MODEL_d9a45ca89c224577a5f641e9ad07165b",
        "IPY_MODEL_3ce04161fe9e47abb99a684bd2d0a061"
       ],
       "layout": "IPY_MODEL_f52a7913305045d9a6938674ec01c091"
      }
     },
     "e283a4c4f7eb489fa3f5a5dac441d611": {
      "model_module": "@jupyter-widgets/base",
      "model_module_version": "1.0.0",
      "model_name": "LayoutModel",
      "state": {}
     },
     "e2b798cf4d354442b53d554d7765f348": {
      "model_module": "@jupyter-widgets/base",
      "model_module_version": "1.0.0",
      "model_name": "LayoutModel",
      "state": {}
     },
     "e36c0b1ae340497ebf45ea3509af10a5": {
      "model_module": "@jupyter-widgets/base",
      "model_module_version": "1.0.0",
      "model_name": "LayoutModel",
      "state": {}
     },
     "e3b688d866a1492287fe5caee326cc3a": {
      "model_module": "@jupyter-widgets/controls",
      "model_module_version": "1.0.0",
      "model_name": "SliderStyleModel",
      "state": {
       "description_width": ""
      }
     },
     "e4261cea901c438c81fcd6f20eb6bcdd": {
      "model_module": "@jupyter-widgets/base",
      "model_module_version": "1.0.0",
      "model_name": "LayoutModel",
      "state": {}
     },
     "e42bfeff101c422b9bfa2b3f35f3627f": {
      "model_module": "@jupyter-widgets/base",
      "model_module_version": "1.0.0",
      "model_name": "LayoutModel",
      "state": {}
     },
     "e486d62cc7a84822b21958d43a850b7a": {
      "model_module": "@jupyter-widgets/controls",
      "model_module_version": "1.0.0",
      "model_name": "FloatSliderModel",
      "state": {
       "layout": "IPY_MODEL_ba41b76374c54a22a7d74cf7d538afc6",
       "step": 0.1,
       "style": "IPY_MODEL_c93833be289c4792b41983375d3edacc"
      }
     },
     "e4b78a8071df4368a2baaffe53e19124": {
      "model_module": "@jupyter-widgets/controls",
      "model_module_version": "1.0.0",
      "model_name": "FloatSliderModel",
      "state": {
       "description": "t_x",
       "layout": "IPY_MODEL_30baef8ca6124f3f99b8295d858718d6",
       "max": 1,
       "step": 0.01,
       "style": "IPY_MODEL_df8016fb114041ceae52ce29a318e8fd",
       "value": 0.28
      }
     },
     "e4fa7e2c8f3c4b50b4367aa81f330b7f": {
      "model_module": "@jupyter-widgets/base",
      "model_module_version": "1.0.0",
      "model_name": "LayoutModel",
      "state": {}
     },
     "e501cb46b05644049b550288400baba1": {
      "model_module": "@jupyter-widgets/base",
      "model_module_version": "1.0.0",
      "model_name": "LayoutModel",
      "state": {}
     },
     "e568dc942be34171bd64334004cb041a": {
      "model_module": "@jupyter-widgets/controls",
      "model_module_version": "1.0.0",
      "model_name": "FloatSliderModel",
      "state": {
       "description": "t_x",
       "layout": "IPY_MODEL_7ab1180474914f438a16966fb37a732d",
       "max": 1,
       "step": 0.01,
       "style": "IPY_MODEL_10106b4c8067469cbe560484d2151407"
      }
     },
     "e5720d0be53149dc99cb04afc1a4f96f": {
      "model_module": "@jupyter-widgets/controls",
      "model_module_version": "1.0.0",
      "model_name": "SliderStyleModel",
      "state": {
       "description_width": ""
      }
     },
     "e5a0e4cc205b4c12931e7e1efb2305e7": {
      "model_module": "@jupyter-widgets/base",
      "model_module_version": "1.0.0",
      "model_name": "LayoutModel",
      "state": {}
     },
     "e5acf3cd239a4d5f8dda0b3da19e46f8": {
      "model_module": "@jupyter-widgets/controls",
      "model_module_version": "1.0.0",
      "model_name": "SliderStyleModel",
      "state": {
       "description_width": ""
      }
     },
     "e5dafe576e2848c6a2af538fb82c961f": {
      "model_module": "@jupyter-widgets/controls",
      "model_module_version": "1.0.0",
      "model_name": "IntSliderModel",
      "state": {
       "continuous_update": false,
       "description": "Theta:",
       "layout": "IPY_MODEL_7c4680f45db14280891bb3cba403eb33",
       "max": 360,
       "style": "IPY_MODEL_5939be72b5194efbb553be6515f77cf4",
       "value": 30
      }
     },
     "e65a241bdf5c4a75ab9c0a0c09eef22d": {
      "model_module": "@jupyter-widgets/base",
      "model_module_version": "1.0.0",
      "model_name": "LayoutModel",
      "state": {}
     },
     "e6d071bf822b40ebb3f19e0cb7037d4f": {
      "model_module": "@jupyter-widgets/controls",
      "model_module_version": "1.0.0",
      "model_name": "IntSliderModel",
      "state": {
       "description": "theta",
       "layout": "IPY_MODEL_90ddd7ab46b546149de1ca81ba6e3208",
       "max": 360,
       "step": 10,
       "style": "IPY_MODEL_eabf2ff30718450889c77c84b91143ae",
       "value": 200
      }
     },
     "e7f121ccfa514f95a4910902ce50565a": {
      "model_module": "@jupyter-widgets/base",
      "model_module_version": "1.0.0",
      "model_name": "LayoutModel",
      "state": {}
     },
     "e87327a6fa1e42039c52af16eba1976f": {
      "model_module": "@jupyter-widgets/controls",
      "model_module_version": "1.0.0",
      "model_name": "IntSliderModel",
      "state": {
       "description": "theta",
       "layout": "IPY_MODEL_33bbbdc3c371440aaa49f33bcc692506",
       "max": 360,
       "step": 10,
       "style": "IPY_MODEL_6fa7a4fa9ab940cf8deadf65ae6434d9",
       "value": 80
      }
     },
     "e87e28fa34e14ac2925e9c00e3910287": {
      "model_module": "@jupyter-widgets/controls",
      "model_module_version": "1.0.0",
      "model_name": "SliderStyleModel",
      "state": {
       "description_width": ""
      }
     },
     "e8b0d799f3ce4645829de27a16b81f38": {
      "model_module": "@jupyter-widgets/base",
      "model_module_version": "1.0.0",
      "model_name": "LayoutModel",
      "state": {}
     },
     "e8be6f9b8c73410193d717a7ccee7ebf": {
      "model_module": "@jupyter-widgets/base",
      "model_module_version": "1.0.0",
      "model_name": "LayoutModel",
      "state": {}
     },
     "e8e3ba8021c24aa0b44755616c024c25": {
      "model_module": "@jupyter-widgets/controls",
      "model_module_version": "1.0.0",
      "model_name": "IntSliderModel",
      "state": {
       "continuous_update": false,
       "description": "Theta:",
       "layout": "IPY_MODEL_598eecf3e8814542ac3fbb93f83305e5",
       "max": 360,
       "style": "IPY_MODEL_4b6a83a52e214cdfa6a125f616090b00"
      }
     },
     "e913ed1ed8bf40c0ab607d500e6b1e9f": {
      "model_module": "@jupyter-widgets/controls",
      "model_module_version": "1.0.0",
      "model_name": "FloatSliderModel",
      "state": {
       "layout": "IPY_MODEL_2c30761cc7a54f4cbcc281893d1dafbc",
       "step": 0.1,
       "style": "IPY_MODEL_d7b7da3a22f74d77bccf933092ba5719"
      }
     },
     "e97f7abf561b4c5f805f0d24d98987c7": {
      "model_module": "@jupyter-widgets/base",
      "model_module_version": "1.0.0",
      "model_name": "LayoutModel",
      "state": {}
     },
     "e9b7bc6e8a90480d87c248930d5eef12": {
      "model_module": "@jupyter-widgets/controls",
      "model_module_version": "1.0.0",
      "model_name": "FloatSliderModel",
      "state": {
       "description": "t_y",
       "layout": "IPY_MODEL_8a1d0e32d06d4e4ebb39c143d3e3d928",
       "max": 1,
       "step": 0.01,
       "style": "IPY_MODEL_3bbf9696a9ed429d893ede1afcf45da9"
      }
     },
     "e9e60dd1d0b0486ea48e96586c822edd": {
      "model_module": "@jupyter-widgets/output",
      "model_module_version": "1.0.0",
      "model_name": "OutputModel",
      "state": {
       "layout": "IPY_MODEL_9b4bba53bab2457da7d38e626adcb80a",
       "outputs": [
        {
         "name": "stdout",
         "output_type": "stream",
         "text": "xy_original:\n [[ 0.68950928  0.57797539]\n [ 0.04968657  0.1790961 ]\n [ 0.50718443  0.4092611 ]]\nxy_transformed:\n [[-0.845606   -0.30729315]\n [-0.10794457 -0.15130148]\n [-0.616573   -0.21111235]]\n"
        },
        {
         "data": {
          "image/png": "iVBORw0KGgoAAAANSUhEUgAAAQoAAAD8CAYAAACPd+p5AAAABHNCSVQICAgIfAhkiAAAAAlwSFlz\nAAALEgAACxIB0t1+/AAAADl0RVh0U29mdHdhcmUAbWF0cGxvdGxpYiB2ZXJzaW9uIDIuMS4wLCBo\ndHRwOi8vbWF0cGxvdGxpYi5vcmcvpW3flQAAEo5JREFUeJzt3X1sXfV9x/H39/r62o4vIYkNLBCK\nJ8G6sg7B4tKHCQgFtG7ToJNo121diURVVV21SVWrUa3aH6umsbK101a0FdFuQFXxUJUu6ugozeJt\nlQoiGQxG0sQh4yEkOA8kwdfP9/q7P+6xc5PY/l37nHvuvcefl2TZ1z4+5/dV7E/O+fl3ztfcHRGR\npeSaPQARaX0KChEJUlCISJCCQkSCFBQiEqSgEJEgBYWIBCkoRCRIQSEiQflmD2Ax/f39PjAw0JB9\nj42N0dvb25B9N0sWa4Js1tVKNe3ateuYu18Q2q5lg2JgYICdO3c2ZN9DQ0Ns2bKlIftulizWBNms\nq5VqMrNX69lOlx4iEqSgEJEgBYWIBCkoRCRIQSEiQQoKEQlSUIhIkIJCRIIUFCISpKAQkSAFhYgE\nKShEJEhBISJBCgoRCVJQiEiQgkJEghQUIhKkoBCRIAWFiAQpKEQkSEEhIkGJBIWZfcjM9prZfjO7\na4ntbjczN7PBJI4rIumIHRRm1gHcC/w6cCXwu2Z25QLbnQf8EfBM3GOKSLqSOKO4Ftjv7gfcfRp4\nGLhtge2+DHwFmEzgmCKSoiQaAF0CvF7z+iDw3toNzOwa4FJ3/4GZfX6xHZnZp4BPAVx00UUMDQ0l\nMLxzlUqlhu27WbJYE2SzrnasKYmgsAU+5/NfNMsBXwO2hnbk7vcB9wEMDg56o7optVKnpqRksSbI\nZl3tWFMSlx4HgUtrXm8CDtW8Pg94NzBkZq8A7wO2aUJTpH0kERTPAleY2c+bWQH4GLBt7ovufsrd\n+919wN0HgKeBW929MY1FRSRxsYPC3cvAZ4EngT3Ao+7+kpn9uZndGnf/ItJ8iXQzd/cngCfO+tyf\nLbLtliSOKSLp0cpMEQlSUIhIkIJCRIIUFCISpKAQkSAFhYgEKShEJEhBISJBCgoRCVJQiEiQgkJE\nghQUIhKkoBCRIAWFiAQpKEQkSEEhIkEKChEJSqVTmJl92sxeNLPnzewnCzUIEpHWlVansO+4+y+7\n+9VUmwB9Ne5xRSQ9qXQKc/e3a172UtP3Q0RaXyqdwgDM7A+BzwEF4IMJHFdEUtLwTmHzn3C/F7jX\nzH4P+BJwxzk7UkvBFctiTZDNutqyJneP9Qa8H3iy5vUXgS8usX0OOBXa7+bNm71RduzY0bB9N0sW\na3LPZl2tVBOw0+v4PW94pzAAM7ui5uVvAsMJHFdEUhL70sPdy2Y21ymsA/iWR53CqKbVNuCzZnYz\nMAOcYIHLDhFpXal0CnP3P07iOCLSHFqZKSJBCgoRCVJQiEiQgkJEghQUIhKkoBCRIAWFiAQpKEQk\nSEEhIkEKChEJUlCISJCCQkSCFBQiEqSgEJEgBYWIBCkoRCRIQSEiQQoKEQlKq6Xg58xst5m9YGbb\nzeyyJI4rIulIq6Xgc8Cgu18FfJdqW0ERaRNptRTc4e7j0cungU0JHFdEUpJEUCzUUvCSJba/E/hh\nAscVkZSk1lIQwMw+DgwCNyzydbUUXKEs1gTZrKsta6qnndhSb9TZUhC4GdgDXFjPftVScHmyWJN7\nNutqpZposZaC1wDfAG519yMJHFNEUhQ7KNy9DMy1FNwDPOpRS0EzuzXa7B6gCDxmZs+b2bZFdici\nLSitloI3J3EcEWkOrcwUkSAFhYgEKShEJEhBISJBCgoRCVJQiEiQgkJEghQUIhKkoBCRIAWFiAQp\nKEQkSEEhIkEKChEJUlCISJCCQkSCFBQiEqSgEJEgBYWIBKXVUvB6M/tvMyub2e1JHFNE0pNWS8HX\ngK3Ad+IeT0TSl8TDdedbCgKY2VxLwd1zG7j7K9HXZhM4noikrBktBUWkzaTaUjC4I7UUXLEs1gTZ\nrKsda0oiKA4Cl9a83gQcWsmO3P0+4D6AwcFB37JlS+zBLWRoaIhG7btZslgTZLOudqwplZaCItLe\nUmkpaGbvMbODwEeAb5jZS3GPKyLpSaul4LNUL0lEpA1pZaaIBCkoRCRIQSEiQQoKEQlSUIhIkIJC\nRIIUFCISpKAQkSAFhYgEKShEJEhBISJBCgoRCVJQiEiQgkJEghQUIhKkoBCRIAWFiAQpKEQkKK2W\ngl1m9kj09WfMbCCJ44pIOtJqKXgncMLdLwe+BvxV3OOKSHqSOKOYbyno7tPAXEvBWrcBD0Qffxe4\nycwWahwkIi0oiadwL9RS8L2LbePuZTM7BfQBx2o3UqewlctiTZDNutqxprRaCtbVdlCdwlYuizVB\nNutqx5qSuPSop6Xg/DZmlgfOB95K4NgikoK0WgpuA+6IPr4d+Hd3X1EjYxFJX+xLj2jOYa6lYAfw\nrbmWgsBOd98GfBN4yMz2Uz2T+Fjc44pIetJqKThJte+oiLQhrcwUkSAFhYgEKShEJEhBISJBCgoR\nCVJQiEiQgkJEghQUIhKkoBCRIAWFiAQpKEQkSEEhIkEKChEJUlCISJCCQkSCFBQiEqSgEJEgBYWI\nBMUKCjPbYGZPmdlw9H79Itv9m5mdNLMfxDmeiDRH3DOKu4Dt7n4FsD16vZB7gD+IeSwRaZK4QVHb\nKvAB4MMLbeTu24HRmMcSkSaJ+xTui9z9MIC7HzazC+PsTC0FVy6LNUE262rHmoJBYWY/Bn5ugS/9\nadKDUUvBlctiTZDNutqxpmBQuPvNi33NzEbMbGN0NrEROJLo6ESkJcSdo6htFXgH8C8x9yciLShu\nUNwN3GJmw8At0WvMbNDM7p/byMz+C3gMuMnMDprZr8U8roikKNZkprsfB25a4PM7gU/WvL4uznFE\npLm0MlNEghQUIhKkoBCRIAWFiAQpKEQkSEEhIkEKChEJUlCIZIy7J77PuHePikjKJmcqjE2VGZuq\nMD5TJmdGd76D7kKOns4O1hTydFiyx1RQiLSQcmWWsekK49NRENS+n67g7pzf00lfbxd9xQIDa3vp\n7uxo+LgUFCIpmpiuUJ51Xjs+zth0+ZxAmCrPzm+bzxnrewv0FQtcvK5IX7GLYldzfmUVFCIJCZ0N\nTEyXqcxC98QMP9l/7IzvNYPzezrZtL6HvmKBvt4uzu/pJJdL+BpihRQUInWamK5UzwKmKsGzgZDe\nrg76ervY0Fugv1hgQ2+BfEfr/m1BQSFC/WcDK1HI5+iLLiE29BYYHi9w49WXJFtAgykoZFVI8mxg\nKR05WLdm7iyhOuG4trvzjG32t8bVxLIoKKTtNfJsIGRtT56+3q75y4f1awotM6+QJAWFtLy0zgZC\negq5+T9Lzs0vFPKtO6+QpFhBYWYbgEeAAeAV4KPufuKsba4G/gFYC1SAv3D3R+IcV7IjdDZQGZ/m\n8efeSH1c+Q6L5hW65ucX1hRW7/+rcSuf6xR2t5ndFb3+k7O2GQc+4e7DZnYxsMvMnnT3kzGPLW0g\n7tlAd/Krkc+RM1i3pvN0KPR2sbYnj1n2LiFWKm5Q3AZsiT5+ABjirKBw9301Hx8ysyPABYCCos2F\nzgbGp8rMpvCLvlzF7jz90dnCht7q3EJHBucVkpRqpzAzuxYoAC/HPK6koFXmBuLoyufoKxboj0Kh\nr1igK9/4Jc9Zk1qnsKhB0EPAHe6+4E+YWgqu3EpqqrgzOwuz7tW32o/dWeomRAO6Y424PrnyJN3H\nflbXtmZGPmd05Ix8h5HP5cgZMArHqL61gnb8+bM4t6Sa2V5gS02nsCF3f+cC262lelnyl+7+WD37\nHhwc9J07d654bEtpx5ZuIWfXlIWzAYDuYz9jsv8Xz/n83JLn2gnHdWs622JeoZV+/sxsl7sPhraL\ne+kx1ynsbhbpFGZmBeBx4MF6Q0KWVpl1SlPn/vJv3zPS0nMDccwtee4rRisc17T2kuesiRsUdwOP\nmtmdwGvAR6DaKQz4tLt/EvgocD3QZ2Zbo+/b6u7Pxzz2qjM6OcO+kRIHjpaYqZyZBN3lCqfenmrS\nyJJVu+R5pNTJb/zKJancSi2La3inMHf/NvDtOMdZzdydQ6cm2ffmKIdPTTZ7OImrXfLc19vFhrOW\nPA/tN4VEC1i9K0ha3FS5wstHxhg+MsrYVKXZw0mEGZzXfXrJc1+xi3UtdCu1LE5B0WLeGptm38go\nrx0fp9zmEw1rCh3zf5LsL3axfs3qWfKcNQqKFjA767z61jj7RkY5Xppu9nBWpLPDolDQkucs0r9k\nE41PlxkeKfHy0RKTM+3x50pYYMlzsfo0JskuBUUTjLw9yd43R3nj5MSSi5paRXVeITpbKFZvpdaS\n59VFQZGSmcos/3dsjOGREqcmZpo9nEV1d+aix7N1zT+RSUueRUHRYKcmZhgeGeXAsTHKldY6fah9\nynN/tJipt0lPeZbWpp+KBnB3Dp6YYN/IKCMtsgjKDNb1dM5POPYXC5zf0x5LnqX5FBQJmpypsP9I\ndXKy2WsftORZkqSgSMCx0hT7RkZ5/a3xhj2bcSld+Ryd+RyXX7J2/i8RWs0oSVJQrFBl1nnl+BjD\nI6O8NZbe5GRHDtavKcw/t7GvWOC87k6GhvZz1aZ1qY1DVhcFxTKVpsrVycmjYw2/VdsM1nZ3zjeJ\n0ZJnaRYFRZ0OnaxOTh4+NdmwtQ9rCh3zf5KceyJTp+YVpAUoKJYwXZ7lwLESwyMlRifLie67s8Oi\nUKjOKfQXu+gpaF5BWpOCYgEnx6fZ++YoryZ0Y1Z1yfPpHpNa8iztRkERmZ11Xj8xzr6REkdH4619\nOK87f8Zko5Y8S7tb9UExMV1d+7D/6CgT08ufnOzuzJ1xx6SWPEsWrdqgODI6yb43Sxw8MV738yXz\nOZt/vkKfljzLKpJGS8HLgO8BHUAn8Pfu/o9xjrtS5cosrxwf4+2JGX68+8iS2+bmnvIc/fVBS55l\nNUujpeBh4APuPmVmReB/zWybux+Keey6vT05M7/2YabidC9wCtHb1XFGkxgteRY5LY2WgrWPbOoC\nUvntc3feODnB8EjpnIfS5szYuK6b/uhhrlryLLK0VFoKmtmlwL8ClwNfaOTZxORMhQNHTz+UNp+z\n+VWNcxOOu54+wJZ3Ltn9UERqBDuFBVoKPuDu62q2PeHu65fY18XA94HfcveRBb5e21Jw88MPP1xX\nEVC992KyPEtl1qst5XKn28udrVQqUSwW6953O8hiTZDNulqpphtvvLGuTmG4+4rfgL3AxujjjcDe\nOr7nn4DbQ9tt3rzZ6zFTrvjIqQkfOTXh0+VKXd+zY8eOurZrJ1msyT2bdbVSTcBOr+N3Pe58wVxL\nQVi8peAmM+uJPl4P/GoUMInId+S4cG03F67t1n0RIg0S9zfrbuAWMxsGboleY2aDZnZ/tM27gGfM\n7H+A/wD+2t1fjHlcEUlRrG7mjWRmR4FXG7T7fuBYg/bdLFmsCbJZVyvVdJm7XxDaqGWDopHMbKfX\nM4HTRrJYE2SzrnasSRf1IhKkoBCRoNUaFPc1ewANkMWaIJt1tV1Nq3KOQkSWZ7WeUYjIMqyKoDCz\nDWb2lJkNR+8XXGZuZl8xs5fMbI+Z/Z218D3ly6jpHWb2o6im3WY2kO5Il6feuqJt15rZG2b29TTH\nuFz11GRmV5vZT6OfvxfM7HeaMdbFrIqg4PTt8FcA26PXZzCzD1BdNXoV8G7gPcANaQ5ymYI1RR4E\n7nH3dwHXAks/iKP56q0L4MtUF/G1unpqGgc+4e6/BHwI+Fsza5lGLaslKG6jehs80fsPL7CNA91A\ngert8J3AOTeutZBgTWZ2JZB396cA3L3k7uPpDXFF6vm3wsw2AxcBP0ppXHEEa3L3fe4+HH18iGqg\nBxdCpWW1BMUZt8MD59xj7u4/BXZQfdDOYeBJd9+T6iiXJ1gT8AvASTP7npk9Z2b3mFmrP3gjWJeZ\n5YC/Ab6Q8thWqp5/q3lmdi3V/7BeTmFsdcnMAx8Dt8PX8/2XU70vZVP0qafM7Hp3/8+EhrhscWui\n+u97HXAN8BrVxxZuBb6ZxPhWKoG6PgM84e6vt8o0UgI1ze1nI/AQcIe7N6GT7cIyExTufvNiXzOz\nETPb6NWH62xk4ev03waedvdS9D0/BN4HNC0oEqjpIPCcux+Ivuf7VGtqalAkUNf7gevM7DNAESiY\nWcndl5rPaKgEasLM1lJ9wNOX3P3pBg11RVbLpUfwdniq/+PeYGZ5M+ukOpHZypce9dT0LLDezOau\ndT8I7E5hbHEE63L333f3d7j7APB54MFmhkQd6nkcQwF4nGotj6U4tvrU89CKdn8D+qjONg9H7zdE\nnx8E7o8+7gC+QTUcdgNfbfa449YUvb4FeAF4EfhnoNDssSdRV832W4GvN3vcCfz8fRyYAZ6vebu6\n2WOfe9PKTBEJWi2XHiISg4JCRIIUFCISpKAQkSAFhYgEKShEJEhBISJBCgoRCfp/EmTdokJ7UmAA\nAAAASUVORK5CYII=\n",
          "text/plain": "<matplotlib.figure.Figure at 0x11b9f0400>"
         },
         "metadata": {},
         "output_type": "display_data"
        },
        {
         "data": {
          "text/plain": "[<matplotlib.patches.Polygon at 0x11b9e7eb8>]"
         },
         "metadata": {},
         "output_type": "display_data"
        }
       ]
      }
     },
     "ea0c08a5a71a4533bdf67894400a49b9": {
      "model_module": "@jupyter-widgets/controls",
      "model_module_version": "1.0.0",
      "model_name": "SliderStyleModel",
      "state": {
       "description_width": ""
      }
     },
     "ea1eedcb6b5a452783e0243167d96369": {
      "model_module": "@jupyter-widgets/controls",
      "model_module_version": "1.0.0",
      "model_name": "IntSliderModel",
      "state": {
       "description": "N",
       "layout": "IPY_MODEL_8dfdb1da8b9a4b30bce1c5a298c7373f",
       "max": 10,
       "min": 3,
       "style": "IPY_MODEL_17bf46b64a634be596dce9b4eb414f9f",
       "value": 3
      }
     },
     "eabf2ff30718450889c77c84b91143ae": {
      "model_module": "@jupyter-widgets/controls",
      "model_module_version": "1.0.0",
      "model_name": "SliderStyleModel",
      "state": {
       "description_width": ""
      }
     },
     "eadbb5bd67cb42dcb773e3f5491c4831": {
      "model_module": "@jupyter-widgets/base",
      "model_module_version": "1.0.0",
      "model_name": "LayoutModel",
      "state": {}
     },
     "eb10c285d0b741538e631980dcb79329": {
      "model_module": "@jupyter-widgets/base",
      "model_module_version": "1.0.0",
      "model_name": "LayoutModel",
      "state": {}
     },
     "eb4cfb03ecfb4876b8e421ca366f5cb0": {
      "model_module": "@jupyter-widgets/controls",
      "model_module_version": "1.0.0",
      "model_name": "FloatSliderModel",
      "state": {
       "description": "t_y",
       "layout": "IPY_MODEL_6db7fdb34de4484e9d8450911327157d",
       "max": 1,
       "step": 0.01,
       "style": "IPY_MODEL_0e7a55a43dc84d20b004a4aea3d6d044"
      }
     },
     "eb4d650ff19c4323b8b945f8d7ff2296": {
      "model_module": "@jupyter-widgets/controls",
      "model_module_version": "1.0.0",
      "model_name": "IntSliderModel",
      "state": {
       "description": "theta",
       "layout": "IPY_MODEL_06e61f1cb19045f1a292ec4b144bc986",
       "max": 360,
       "step": 10,
       "style": "IPY_MODEL_23ba1194981d462f9c531bf1b9d47980"
      }
     },
     "eb8fc717a6fb49959a64c5fe138848a9": {
      "model_module": "@jupyter-widgets/controls",
      "model_module_version": "1.0.0",
      "model_name": "SliderStyleModel",
      "state": {
       "description_width": ""
      }
     },
     "eb94e8118ee349c9998c9ff117df9d5f": {
      "model_module": "@jupyter-widgets/output",
      "model_module_version": "1.0.0",
      "model_name": "OutputModel",
      "state": {
       "layout": "IPY_MODEL_cf319795517f42c5b396c8ec339218d7",
       "outputs": [
        {
         "name": "stdout",
         "output_type": "stream",
         "text": "xy_transformed:\n [[ 5.29297323 -6.86863805]\n [ 3.18963181 -5.66434622]\n [ 5.31098539 -4.89529525]]\n"
        },
        {
         "data": {
          "image/png": "iVBORw0KGgoAAAANSUhEUgAAARMAAAD8CAYAAABUzEBbAAAABHNCSVQICAgIfAhkiAAAAAlwSFlz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\n",
          "text/plain": "<matplotlib.figure.Figure at 0x119285be0>"
         },
         "metadata": {},
         "output_type": "display_data"
        }
       ]
      }
     },
     "ece52c8327e644938221521eb4c58372": {
      "model_module": "@jupyter-widgets/controls",
      "model_module_version": "1.0.0",
      "model_name": "IntSliderModel",
      "state": {
       "description": "theta",
       "layout": "IPY_MODEL_340e8921a23448009d56510de5bebc40",
       "max": 360,
       "step": 10,
       "style": "IPY_MODEL_f186cf8e0e9e406fac6c27a946b6765d"
      }
     },
     "ed0fb0c2d3cc4e4bbef3499e8cf0548f": {
      "model_module": "@jupyter-widgets/controls",
      "model_module_version": "1.0.0",
      "model_name": "FloatSliderModel",
      "state": {
       "continuous_update": false,
       "description": "Test:",
       "layout": "IPY_MODEL_99276b5b7ac94690b2fdecb9fd261892",
       "max": 1,
       "readout_format": ".1f",
       "step": 0.1,
       "style": "IPY_MODEL_b362ce12a0b247ae91d5dc8d92a6e988",
       "value": 0.2
      }
     },
     "ed6d6ea447b54566b3d07537e5e9d724": {
      "model_module": "@jupyter-widgets/controls",
      "model_module_version": "1.0.0",
      "model_name": "FloatSliderModel",
      "state": {
       "description": "t_x",
       "layout": "IPY_MODEL_83a771b90ed140ebbab66c7d2ddd9121",
       "max": 1,
       "step": 0.01,
       "style": "IPY_MODEL_92005921395b48d29f8d4e7133139247"
      }
     },
     "ed7f245185d34a168c15f2c6a5f01d64": {
      "model_module": "@jupyter-widgets/base",
      "model_module_version": "1.0.0",
      "model_name": "LayoutModel",
      "state": {}
     },
     "edc4f18daaf14f0ca9d3791e289e2938": {
      "model_module": "@jupyter-widgets/base",
      "model_module_version": "1.0.0",
      "model_name": "LayoutModel",
      "state": {}
     },
     "edd6039b33e74b9d9a76ddefeec5d306": {
      "model_module": "@jupyter-widgets/controls",
      "model_module_version": "1.0.0",
      "model_name": "VBoxModel",
      "state": {
       "_dom_classes": [
        "widget-interact"
       ],
       "children": [
        "IPY_MODEL_9d4e45bdcc14472b8d04b4742f377279",
        "IPY_MODEL_610ba248f81d46d0be071fe3046cd85b",
        "IPY_MODEL_760d9bd3058a486c84d36526437b0c42"
       ],
       "layout": "IPY_MODEL_c4f326a72d734859a281bfb9d88bae22"
      }
     },
     "ee7b77eec8dc45668c2f64271d3aea0e": {
      "model_module": "@jupyter-widgets/controls",
      "model_module_version": "1.0.0",
      "model_name": "SliderStyleModel",
      "state": {
       "description_width": ""
      }
     },
     "ee968f7d780646e3b0c84a3f6506f62e": {
      "model_module": "@jupyter-widgets/controls",
      "model_module_version": "1.0.0",
      "model_name": "FloatSliderModel",
      "state": {
       "description": "t_y",
       "layout": "IPY_MODEL_e8be6f9b8c73410193d717a7ccee7ebf",
       "max": 1,
       "step": 0.01,
       "style": "IPY_MODEL_6608f0bec16d4003a3590bc9cacc9a70",
       "value": 0.12
      }
     },
     "ef5e29eedcfb452b912d30cc241fb49b": {
      "model_module": "@jupyter-widgets/controls",
      "model_module_version": "1.0.0",
      "model_name": "SliderStyleModel",
      "state": {
       "description_width": ""
      }
     },
     "efd2c9737b814360854b5a19ce175ce0": {
      "model_module": "@jupyter-widgets/base",
      "model_module_version": "1.0.0",
      "model_name": "LayoutModel",
      "state": {}
     },
     "eff14b003ca54c399ebe4c54a0587de7": {
      "model_module": "@jupyter-widgets/controls",
      "model_module_version": "1.0.0",
      "model_name": "IntSliderModel",
      "state": {
       "description": "theta",
       "layout": "IPY_MODEL_4d6aeeb6327b4ee09265891a94daa75c",
       "max": 360,
       "step": 10,
       "style": "IPY_MODEL_0e877985479c43229234821dd8286f76",
       "value": 100
      }
     },
     "f01ae03df95f4eaf93c728e2e79a2a9a": {
      "model_module": "@jupyter-widgets/base",
      "model_module_version": "1.0.0",
      "model_name": "LayoutModel",
      "state": {}
     },
     "f05f061cc1774d3388b713ce3354313b": {
      "model_module": "@jupyter-widgets/base",
      "model_module_version": "1.0.0",
      "model_name": "LayoutModel",
      "state": {}
     },
     "f06f06cac06a442da9edecdf6f5a840f": {
      "model_module": "@jupyter-widgets/controls",
      "model_module_version": "1.0.0",
      "model_name": "VBoxModel",
      "state": {
       "_dom_classes": [
        "widget-interact"
       ],
       "children": [
        "IPY_MODEL_6b27388d857d44f2a6316927cb115132",
        "IPY_MODEL_bfd90bfdc4c54b8e9b1893289efb2922",
        "IPY_MODEL_b39c84d13b7a48989cf85d6e918e876f",
        "IPY_MODEL_5a1d7b8310dc40a98a3fa7a7a51301d3",
        "IPY_MODEL_8f23270d2c2e4f9eb6dec78127e5d1f8"
       ],
       "layout": "IPY_MODEL_574601748cbf4cf5a1966bab4541b418"
      }
     },
     "f1008aa80367494e91b8fef2aa83f2fd": {
      "model_module": "@jupyter-widgets/controls",
      "model_module_version": "1.0.0",
      "model_name": "SliderStyleModel",
      "state": {
       "description_width": ""
      }
     },
     "f126396002aa4d9f8465b6900cc8fb86": {
      "model_module": "@jupyter-widgets/controls",
      "model_module_version": "1.0.0",
      "model_name": "FloatSliderModel",
      "state": {
       "description": "t_y",
       "layout": "IPY_MODEL_fbbf5084c1404aa1bced3bd3da275e7a",
       "max": 10,
       "min": 1,
       "step": 0.1,
       "style": "IPY_MODEL_f626e035dfb9446ab48d01c07f96803f",
       "value": 1
      }
     },
     "f133031cc96f4c5f9c55fa7b8b38ed74": {
      "model_module": "@jupyter-widgets/output",
      "model_module_version": "1.0.0",
      "model_name": "OutputModel",
      "state": {
       "layout": "IPY_MODEL_c6443c708cd44f2a99673aadda8ff9e2",
       "outputs": [
        {
         "name": "stdout",
         "output_type": "stream",
         "text": "xy_transformed:\n [[ 0.57051729  0.56452876]\n [ 0.48844183  0.33647775]\n [ 0.37586818  0.53203587]]\n"
        },
        {
         "data": {
          "image/png": "iVBORw0KGgoAAAANSUhEUgAAAQgAAAD8CAYAAACLgjpEAAAABHNCSVQICAgIfAhkiAAAAAlwSFlz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\nEelLASEifSkgRKSv/w+u8MFXtrEzOwAAAABJRU5ErkJggg==\n",
          "text/plain": "<matplotlib.figure.Figure at 0x11ba12dd8>"
         },
         "metadata": {},
         "output_type": "display_data"
        }
       ]
      }
     },
     "f186cf8e0e9e406fac6c27a946b6765d": {
      "model_module": "@jupyter-widgets/controls",
      "model_module_version": "1.0.0",
      "model_name": "SliderStyleModel",
      "state": {
       "description_width": ""
      }
     },
     "f1908298c9e844fb8655eaaeffe2cff2": {
      "model_module": "@jupyter-widgets/controls",
      "model_module_version": "1.0.0",
      "model_name": "IntRangeSliderModel",
      "state": {
       "_model_name": "IntRangeSliderModel",
       "_view_name": "IntRangeSliderView",
       "layout": "IPY_MODEL_107995e3235e4b28b9c3133f63bbc43a",
       "style": "IPY_MODEL_d2cf2f5e93034744ad95e7c2f5b7b75b",
       "value": [
        0,
        100
       ]
      }
     },
     "f1d08acc531a46c38032884c15e3b99a": {
      "model_module": "@jupyter-widgets/controls",
      "model_module_version": "1.0.0",
      "model_name": "VBoxModel",
      "state": {
       "_dom_classes": [
        "widget-interact"
       ],
       "children": [
        "IPY_MODEL_5f3a39da82eb4e6f8b988fc1d1afaf47",
        "IPY_MODEL_e4b78a8071df4368a2baaffe53e19124",
        "IPY_MODEL_5198d233292e4d9b8cf15237dc3f83c1",
        "IPY_MODEL_17bfa3925d5844c99e9a0a2edb40d57f",
        "IPY_MODEL_f8c99536f15f4c869136de73b7d10bd2"
       ],
       "layout": "IPY_MODEL_6f9b71159ab2401691bbdf33b8e9d050"
      }
     },
     "f1d8e9e1b1054b32b4a606241ba6a4a5": {
      "model_module": "@jupyter-widgets/base",
      "model_module_version": "1.0.0",
      "model_name": "LayoutModel",
      "state": {}
     },
     "f216118f6ea1436c9c811e3f615522ce": {
      "model_module": "@jupyter-widgets/base",
      "model_module_version": "1.0.0",
      "model_name": "LayoutModel",
      "state": {}
     },
     "f2686cf157db425fa86374bb24437841": {
      "model_module": "@jupyter-widgets/base",
      "model_module_version": "1.0.0",
      "model_name": "LayoutModel",
      "state": {}
     },
     "f27dc923fbb24b0c8b1a2512d595873e": {
      "model_module": "@jupyter-widgets/controls",
      "model_module_version": "1.0.0",
      "model_name": "VBoxModel",
      "state": {
       "_dom_classes": [
        "widget-interact"
       ],
       "children": [
        "IPY_MODEL_5c0b9681b7a242b6832e330c2a0e3521",
        "IPY_MODEL_5368f1fb3b2043a0aea393bf1d2ff32c",
        "IPY_MODEL_c6f33687269c477b8133bcd7f540cdeb"
       ],
       "layout": "IPY_MODEL_7e59082316c543c39ab4d53c1fdf611f"
      }
     },
     "f347b1d95f6242699b1a72f284548561": {
      "model_module": "@jupyter-widgets/controls",
      "model_module_version": "1.0.0",
      "model_name": "FloatSliderModel",
      "state": {
       "description": "t_y",
       "layout": "IPY_MODEL_637fbbafd39041a699325b24fa44e1c0",
       "max": 1,
       "step": 0.01,
       "style": "IPY_MODEL_7071527f8e184ce1bf9c8ba31d4eefec"
      }
     },
     "f3dbf2a9d76441338ac34a26cc331a54": {
      "model_module": "@jupyter-widgets/controls",
      "model_module_version": "1.0.0",
      "model_name": "SliderStyleModel",
      "state": {
       "description_width": ""
      }
     },
     "f3e3602c8c8e43a3aa83b1b2354737a0": {
      "model_module": "@jupyter-widgets/controls",
      "model_module_version": "1.0.0",
      "model_name": "VBoxModel",
      "state": {
       "_dom_classes": [
        "widget-interact"
       ],
       "children": [
        "IPY_MODEL_78b6cc14615d495f8e3181926b7318a5",
        "IPY_MODEL_93d2a49a27234936ad2ce4781a761e98",
        "IPY_MODEL_ee968f7d780646e3b0c84a3f6506f62e",
        "IPY_MODEL_4179d73e49044c71b796e0edf823e324",
        "IPY_MODEL_3a89c7dee246429d95750a10fcbc25f8"
       ],
       "layout": "IPY_MODEL_72ea085d31ae4cb8b5c9964a30e62951"
      }
     },
     "f3f8331f1d844b35b815acbaae51bfa1": {
      "model_module": "@jupyter-widgets/base",
      "model_module_version": "1.0.0",
      "model_name": "LayoutModel",
      "state": {
       "height": "400px"
      }
     },
     "f4700942676940f7a917b88e962269ae": {
      "model_module": "@jupyter-widgets/controls",
      "model_module_version": "1.0.0",
      "model_name": "VBoxModel",
      "state": {
       "_dom_classes": [
        "widget-interact"
       ],
       "children": [
        "IPY_MODEL_8cf0526456844ac8970d5cbbdc2fc374",
        "IPY_MODEL_d5d103f1d2be48ba8a840f1221d08ed3",
        "IPY_MODEL_bad04632aa6e4eaabc1def77fce48c28",
        "IPY_MODEL_32da22970b084039b306f683c1cb0d37",
        "IPY_MODEL_a6a12fc8dd9a4a37a51c715704186617"
       ],
       "layout": "IPY_MODEL_33aebbe42d064bd5b31a1e508e23818d"
      }
     },
     "f48388689c89442f9f7b2d9121a3a2a3": {
      "model_module": "@jupyter-widgets/controls",
      "model_module_version": "1.0.0",
      "model_name": "SliderStyleModel",
      "state": {
       "description_width": ""
      }
     },
     "f52a7913305045d9a6938674ec01c091": {
      "model_module": "@jupyter-widgets/base",
      "model_module_version": "1.0.0",
      "model_name": "LayoutModel",
      "state": {}
     },
     "f59de0c4def24cff87fd62766722c6ed": {
      "model_module": "@jupyter-widgets/base",
      "model_module_version": "1.0.0",
      "model_name": "LayoutModel",
      "state": {}
     },
     "f5a75af024bf42f0b90bcd7ba1b29289": {
      "model_module": "@jupyter-widgets/controls",
      "model_module_version": "1.0.0",
      "model_name": "FloatSliderModel",
      "state": {
       "description": "t_x",
       "layout": "IPY_MODEL_4a4c11638fd647e3848185881372dbce",
       "max": 1,
       "step": 0.01,
       "style": "IPY_MODEL_e87e28fa34e14ac2925e9c00e3910287"
      }
     },
     "f626e035dfb9446ab48d01c07f96803f": {
      "model_module": "@jupyter-widgets/controls",
      "model_module_version": "1.0.0",
      "model_name": "SliderStyleModel",
      "state": {
       "description_width": ""
      }
     },
     "f661bc8893b24c6cb64619fb42cae8ba": {
      "model_module": "@jupyter-widgets/base",
      "model_module_version": "1.0.0",
      "model_name": "LayoutModel",
      "state": {}
     },
     "f6ac64e2c1874aa4a40cafe470ecc800": {
      "model_module": "@jupyter-widgets/controls",
      "model_module_version": "1.0.0",
      "model_name": "CheckboxModel",
      "state": {
       "description": "x",
       "disabled": false,
       "layout": "IPY_MODEL_c43d8c49e7c74f13ad3f00a4be696f30",
       "style": "IPY_MODEL_be252192a39841c7b8cd8ff122a83f7e",
       "value": true
      }
     },
     "f6cf101350c341479c1776b0d665df6f": {
      "model_module": "@jupyter-widgets/controls",
      "model_module_version": "1.0.0",
      "model_name": "SliderStyleModel",
      "state": {
       "description_width": ""
      }
     },
     "f81f7a14280142368202ffa6d91a85ba": {
      "model_module": "@jupyter-widgets/base",
      "model_module_version": "1.0.0",
      "model_name": "LayoutModel",
      "state": {}
     },
     "f8518f69f186445abbc15fbc8e5d77bb": {
      "model_module": "@jupyter-widgets/controls",
      "model_module_version": "1.0.0",
      "model_name": "SliderStyleModel",
      "state": {
       "description_width": ""
      }
     },
     "f87858ca49ed4d7abc0b7c43fd7faee0": {
      "model_module": "@jupyter-widgets/controls",
      "model_module_version": "1.0.0",
      "model_name": "BoundedFloatTextModel",
      "state": {
       "description": "Text:",
       "layout": "IPY_MODEL_c8f3d45505cd4dfc9df97c8260aaf21f",
       "max": 10,
       "style": "IPY_MODEL_fe3060e0471940d483e10e21a2eb6ba3",
       "value": 10
      }
     },
     "f881731f88924c93b3392f7334f9658b": {
      "model_module": "@jupyter-widgets/controls",
      "model_module_version": "1.0.0",
      "model_name": "IntSliderModel",
      "state": {
       "description": "theta",
       "layout": "IPY_MODEL_cbb9a4c351e84d768059292bac54b1fe",
       "max": 360,
       "step": 10,
       "style": "IPY_MODEL_ac06f3d6f2284e3b9e287cbfee3485f9"
      }
     },
     "f88e1cdb58674fbbbd2f4381190bcaec": {
      "model_module": "@jupyter-widgets/base",
      "model_module_version": "1.0.0",
      "model_name": "LayoutModel",
      "state": {}
     },
     "f8c99536f15f4c869136de73b7d10bd2": {
      "model_module": "@jupyter-widgets/output",
      "model_module_version": "1.0.0",
      "model_name": "OutputModel",
      "state": {
       "layout": "IPY_MODEL_3e2828e0e311412f84baa03842ee8fdb",
       "outputs": [
        {
         "name": "stdout",
         "output_type": "stream",
         "text": "xy_original:\n [[ 0.68950928  0.57797539]\n [ 0.04968657  0.1790961 ]\n [ 0.50718443  0.4092611 ]\n [ 0.75102422  0.51932056]]\nxy_transformed:\n [[ 0.57797539 -0.96950928]\n [ 0.1790961  -0.32968657]\n [ 0.4092611  -0.78718443]\n [ 0.51932056 -1.03102422]]\n"
        },
        {
         "data": {
          "text/plain": "[<matplotlib.patches.Polygon at 0x11b40dac8>]"
         },
         "metadata": {},
         "output_type": "display_data"
        }
       ]
      }
     },
     "f8ef47cc7c034e9d9a2339ff0ddbf1b2": {
      "model_module": "@jupyter-widgets/base",
      "model_module_version": "1.0.0",
      "model_name": "LayoutModel",
      "state": {}
     },
     "f8ff7d42ae3346a7acfab26f71aaaabf": {
      "model_module": "@jupyter-widgets/controls",
      "model_module_version": "1.0.0",
      "model_name": "SliderStyleModel",
      "state": {
       "description_width": ""
      }
     },
     "f941a7abaaf64f25a4ef90aa773f2d6f": {
      "model_module": "@jupyter-widgets/base",
      "model_module_version": "1.0.0",
      "model_name": "LayoutModel",
      "state": {}
     },
     "faafb522bd474b3ba3a8df2547ca7627": {
      "model_module": "@jupyter-widgets/base",
      "model_module_version": "1.0.0",
      "model_name": "LayoutModel",
      "state": {}
     },
     "fb3094f680b148bea60584d6f5571f95": {
      "model_module": "@jupyter-widgets/controls",
      "model_module_version": "1.0.0",
      "model_name": "SliderStyleModel",
      "state": {
       "description_width": ""
      }
     },
     "fb7ea8623f7545249e36391518f94877": {
      "model_module": "@jupyter-widgets/controls",
      "model_module_version": "1.0.0",
      "model_name": "DescriptionStyleModel",
      "state": {
       "description_width": ""
      }
     },
     "fb7f76fa1477418fa039d1558fadce4e": {
      "model_module": "@jupyter-widgets/controls",
      "model_module_version": "1.0.0",
      "model_name": "SliderStyleModel",
      "state": {
       "description_width": ""
      }
     },
     "fb8d292386be4ab7b8730c4370447bcc": {
      "model_module": "@jupyter-widgets/base",
      "model_module_version": "1.0.0",
      "model_name": "LayoutModel",
      "state": {}
     },
     "fbbf5084c1404aa1bced3bd3da275e7a": {
      "model_module": "@jupyter-widgets/base",
      "model_module_version": "1.0.0",
      "model_name": "LayoutModel",
      "state": {}
     },
     "fbc78adbc617465f9e886aa6124ca28e": {
      "model_module": "@jupyter-widgets/controls",
      "model_module_version": "1.0.0",
      "model_name": "DescriptionStyleModel",
      "state": {
       "description_width": ""
      }
     },
     "fc7537027f914eaa995c022d0c7ce305": {
      "model_module": "@jupyter-widgets/base",
      "model_module_version": "1.0.0",
      "model_name": "LayoutModel",
      "state": {}
     },
     "fc8b627ce1144d528cc3f9742aed2053": {
      "model_module": "@jupyter-widgets/base",
      "model_module_version": "1.0.0",
      "model_name": "LayoutModel",
      "state": {}
     },
     "fc92d839d58a47249e87f08b9b1ee809": {
      "model_module": "@jupyter-widgets/base",
      "model_module_version": "1.0.0",
      "model_name": "LayoutModel",
      "state": {}
     },
     "fcb61f844d6242cbac5316db1ece7c1e": {
      "model_module": "@jupyter-widgets/controls",
      "model_module_version": "1.0.0",
      "model_name": "FloatSliderModel",
      "state": {
       "description": "t_y",
       "layout": "IPY_MODEL_8fd2f4663ea3453781cd485157ebc4af",
       "max": 1,
       "step": 0.01,
       "style": "IPY_MODEL_64e62ba6381b41699728b30ff4a4105c"
      }
     },
     "fd3b548c2098438aa7e1214e17e0f82c": {
      "model_module": "@jupyter-widgets/controls",
      "model_module_version": "1.0.0",
      "model_name": "IntSliderModel",
      "state": {
       "layout": "IPY_MODEL_9b11eced03e9452b8681a334cb30c1f5",
       "style": "IPY_MODEL_f8518f69f186445abbc15fbc8e5d77bb"
      }
     },
     "fd430368fc364d1f985460fffa3b24e3": {
      "model_module": "@jupyter-widgets/base",
      "model_module_version": "1.0.0",
      "model_name": "LayoutModel",
      "state": {}
     },
     "fd80dba8c9ea4cd5bc1f9c0bc6a415c1": {
      "model_module": "@jupyter-widgets/base",
      "model_module_version": "1.0.0",
      "model_name": "LayoutModel",
      "state": {}
     },
     "fe3060e0471940d483e10e21a2eb6ba3": {
      "model_module": "@jupyter-widgets/controls",
      "model_module_version": "1.0.0",
      "model_name": "DescriptionStyleModel",
      "state": {
       "description_width": ""
      }
     },
     "fea499e6fd8c400eb10aa46a1e18395e": {
      "model_module": "@jupyter-widgets/base",
      "model_module_version": "1.0.0",
      "model_name": "LayoutModel",
      "state": {
       "height": "350px"
      }
     },
     "feb103516848483e82a654c09215d488": {
      "model_module": "@jupyter-widgets/controls",
      "model_module_version": "1.0.0",
      "model_name": "SliderStyleModel",
      "state": {
       "description_width": ""
      }
     },
     "ff46435d50eb42f2aa014c0f37ea7d3e": {
      "model_module": "@jupyter-widgets/base",
      "model_module_version": "1.0.0",
      "model_name": "LayoutModel",
      "state": {}
     },
     "ff49c6078c24404bbe53593939afc719": {
      "model_module": "@jupyter-widgets/controls",
      "model_module_version": "1.0.0",
      "model_name": "DescriptionStyleModel",
      "state": {
       "description_width": ""
      }
     },
     "ffa2e5509d414b78be93b610486068ff": {
      "model_module": "@jupyter-widgets/controls",
      "model_module_version": "1.0.0",
      "model_name": "FloatSliderModel",
      "state": {
       "description": "t_y",
       "layout": "IPY_MODEL_2c54c8ba1a1f448ca5d806e288244f09",
       "max": 1,
       "step": 0.01,
       "style": "IPY_MODEL_5f13dc854ae043a1ab1ec8f536f47290"
      }
     },
     "ffeb4df158e44f5b945d9fa69ca1706c": {
      "model_module": "@jupyter-widgets/controls",
      "model_module_version": "1.0.0",
      "model_name": "SliderStyleModel",
      "state": {
       "description_width": ""
      }
     }
    },
    "version_major": 2,
    "version_minor": 0
   }
  }
 },
 "nbformat": 4,
 "nbformat_minor": 2
}
